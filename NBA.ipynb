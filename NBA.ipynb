{
  "cells": [
    {
      "cell_type": "markdown",
      "metadata": {
        "id": "view-in-github",
        "colab_type": "text"
      },
      "source": [
        "<a href=\"https://colab.research.google.com/github/Elliot-CRT/103-Final-Game/blob/main/NBA.ipynb\" target=\"_parent\"><img src=\"https://colab.research.google.com/assets/colab-badge.svg\" alt=\"Open In Colab\"/></a>"
      ]
    },
    {
      "cell_type": "markdown",
      "metadata": {
        "id": "9sb0ASRwPigD"
      },
      "source": [
        "#Get Data"
      ]
    },
    {
      "cell_type": "code",
      "execution_count": 65,
      "metadata": {
        "id": "BoiC9EhFOCTm",
        "colab": {
          "base_uri": "https://localhost:8080/"
        },
        "outputId": "0f511e2c-4855-4fdb-86e6-b02780464a7f"
      },
      "outputs": [
        {
          "output_type": "stream",
          "name": "stdout",
          "text": [
            "Using device: cuda\n"
          ]
        }
      ],
      "source": [
        "from __future__ import print_function\n",
        "import argparse\n",
        "import torch\n",
        "import torch.nn as nn\n",
        "import torch.nn.functional as F\n",
        "import torch.optim as optim\n",
        "from torchvision import datasets, transforms\n",
        "from torch.optim.lr_scheduler import StepLR\n",
        "import sys\n",
        "import os\n",
        "import copy\n",
        "import numpy as np\n",
        "import pandas as pd\n",
        "\n",
        "import joblib\n",
        "\n",
        "from sklearn.model_selection import KFold\n",
        "from sklearn.metrics import accuracy_score\n",
        "\n",
        "class TeamAuxMLP(nn.Module):\n",
        "    def __init__(self, vocab_size, embedding_dim=32, hidden_dim=64):\n",
        "        super().__init__()\n",
        "        self.embedding = nn.Embedding(vocab_size, embedding_dim)\n",
        "        self.encoder = nn.Sequential(\n",
        "            nn.Linear(embedding_dim * num_players_per_team, hidden_dim),\n",
        "            nn.ReLU(),\n",
        "            nn.Linear(hidden_dim, hidden_dim // 2),\n",
        "            nn.ReLU()\n",
        "        )\n",
        "\n",
        "    def forward(self, x):\n",
        "        x = self.embedding(x)\n",
        "        x = x.view(x.size(0), -1)\n",
        "        return self.encoder(x)\n",
        "\n",
        "class SiameseAuxModel(nn.Module):\n",
        "    def __init__(self, vocab_size, embedding_dim=32, hidden_dim=64):\n",
        "        super().__init__()\n",
        "        self.team_net = TeamAuxMLP(vocab_size, embedding_dim, hidden_dim)\n",
        "        self.classifier = nn.Sequential(\n",
        "            nn.Linear(hidden_dim, hidden_dim // 2),\n",
        "            nn.ReLU(),\n",
        "            nn.Linear(hidden_dim // 2, 1)\n",
        "        )\n",
        "\n",
        "    def forward(self, x):\n",
        "        mid = x.size(1) // 2\n",
        "        team1 = x[:, :mid]\n",
        "        team2 = x[:, mid:]\n",
        "        t1 = self.team_net(team1)\n",
        "        t2 = self.team_net(team2)\n",
        "        combined = torch.cat([t1, t2], dim=1)\n",
        "        return torch.sigmoid(self.classifier(combined))\n",
        "\n",
        "\n",
        "# for reproducibility\n",
        "seed = 23\n",
        "np.random.seed(seed)\n",
        "torch.manual_seed(seed)\n",
        "torch.cuda.manual_seed_all(seed)\n",
        "\n",
        "colab = True\n",
        "device = torch.device(\"cuda\" if torch.cuda.is_available() else \"cpu\")\n",
        "print(\"Using device:\", device)"
      ]
    },
    {
      "cell_type": "code",
      "execution_count": 66,
      "metadata": {
        "id": "pVci9B6FQJuf",
        "colab": {
          "base_uri": "https://localhost:8080/"
        },
        "outputId": "7bca3209-1298-4d2d-8e7b-fb67146dbff3"
      },
      "outputs": [
        {
          "output_type": "stream",
          "name": "stdout",
          "text": [
            "Drive already mounted at /content/gdrive; to attempt to forcibly remount, call drive.mount(\"/content/gdrive\", force_remount=True).\n"
          ]
        }
      ],
      "source": [
        "if colab:\n",
        "    from google.colab import drive\n",
        "    drive.mount('/content/gdrive')"
      ]
    },
    {
      "cell_type": "code",
      "execution_count": 67,
      "metadata": {
        "id": "eAmo5FRI2xfF"
      },
      "outputs": [],
      "source": [
        "load_saved_data = True # False\n",
        "colab_folder_path = \"/content/gdrive/MyDrive/NBA/\"\n",
        "\n",
        "# data_file_name_X = \"NBA_X.pt\"\n",
        "# data_file_name_y = \"NBA_y.pt\"\n",
        "# num_players_per_team = 6\n",
        "# encoder_name = \"nba_encoder.joblib\"\n",
        "# model_name = \"nba_model\"\n",
        "\n",
        "data_file_name_X = \"LOL_X.pt\"\n",
        "data_file_name_y = \"LOL_y.pt\"\n",
        "num_players_per_team = 5\n",
        "encoder_name = \"lol_encoder.joblib\"\n",
        "model_name = \"lol_model\"\n",
        "\n",
        "\n",
        "# data_file_name_X = \"amateurX.pt\"\n",
        "# data_file_name_y = \"amateury.pt\"\n",
        "# num_players_per_team = 5\n",
        "# encoder_name = \"amateur_encoder.joblib\"\n",
        "# model_name = \"amateur_model\"\n",
        "\n",
        "# data_file_name_X = \"hero_games_X.pt\"\n",
        "# data_file_name_y = \"hero_games_y.pt\"\n",
        "# num_players_per_team = 3\n",
        "# encoder_name = \"hero_games_encoder.joblib\"\n",
        "# model_name = \"hero_games_model\"\n",
        "\n",
        "# data_file_name_X = \"hero_games_X_10.pt\"\n",
        "# data_file_name_y = \"hero_games_y_10.pt\"\n",
        "# num_players_per_team = 10\n",
        "# encoder_name = \"hero_games_encoder_10.joblib\"\n",
        "# model_name = \"hero_games_model_10\""
      ]
    },
    {
      "cell_type": "code",
      "execution_count": 68,
      "metadata": {
        "id": "7D8ZxHlQkfYb",
        "colab": {
          "base_uri": "https://localhost:8080/",
          "height": 737
        },
        "outputId": "23e21397-8638-444d-b067-0ece3329d1e8"
      },
      "outputs": [
        {
          "output_type": "stream",
          "name": "stdout",
          "text": [
            "IMPORTANT, certain values missing after downsampling in data preprocessing\n",
            "168\n",
            "Missing numbers: []\n",
            "Original X: tensor([[ 38, 140,   2,  31,  87,  46,  42, 127,   8,  57],\n",
            "        [115, 151, 149,  53,  74, 136, 112,  67,  31,  83],\n",
            "        [109,  69,  68, 154, 101,   0, 147,   2,  73,  80],\n",
            "        [ 63, 147, 144,   8, 134,  54, 148,   7, 142,  87],\n",
            "        [ 50, 115,  94,  19,  75,  82,  40,  12,  52,  83],\n",
            "        [117,  64,  23, 142, 167,  36,  49,  94,  52,  57],\n",
            "        [ 20,  40, 130,   9,  57,  34,  47,  94,  19,  16],\n",
            "        [  0, 130,  34, 143,  87,  63,  49,   2, 154, 101],\n",
            "        [106,  93,  12, 135, 101, 151, 140, 110,  55,   4],\n",
            "        [ 33,  78,  51, 142, 101,  76,  69,  39, 154,  70]], dtype=torch.int32)\n",
            "Rearranged X: [[ 38 140   2  31  87  46  42 127   8  57]\n",
            " [115 151 149  53  74 136 112  67  31  83]\n",
            " [109  69  68 154 101   0 147   2  73  80]\n",
            " [ 63 147 144   8 134  54 148   7 142  87]\n",
            " [ 50 115  94  19  75  82  40  12  52  83]\n",
            " [117  64  23 142 167  36  49  94  52  57]\n",
            " [ 20  40 130   9  57  34  47  94  19  16]\n",
            " [  0 130  34 143  87  63  49   2 154 101]\n",
            " [106  93  12 135 101 151 140 110  55   4]\n",
            " [ 33  78  51 142 101  76  69  39 154  70]]\n"
          ]
        },
        {
          "output_type": "stream",
          "name": "stderr",
          "text": [
            "<ipython-input-68-0306e3ae0867>:5: UserWarning: To copy construct from a tensor, it is recommended to use sourceTensor.clone().detach() or sourceTensor.clone().detach().requires_grad_(True), rather than torch.tensor(sourceTensor).\n",
            "  X = torch.tensor(X).type(torch.int32)\n"
          ]
        },
        {
          "output_type": "error",
          "ename": "FileNotFoundError",
          "evalue": "[Errno 2] No such file or directory: '/content/gdrive/MyDrive/NBA/lol_encoder.joblib'",
          "traceback": [
            "\u001b[0;31m---------------------------------------------------------------------------\u001b[0m",
            "\u001b[0;31mFileNotFoundError\u001b[0m                         Traceback (most recent call last)",
            "\u001b[0;32m<ipython-input-68-0306e3ae0867>\u001b[0m in \u001b[0;36m<cell line: 0>\u001b[0;34m()\u001b[0m\n\u001b[1;32m     28\u001b[0m \u001b[0;34m\u001b[0m\u001b[0m\n\u001b[1;32m     29\u001b[0m     \u001b[0;31m# Load the encoder\u001b[0m\u001b[0;34m\u001b[0m\u001b[0;34m\u001b[0m\u001b[0m\n\u001b[0;32m---> 30\u001b[0;31m     \u001b[0mencoder\u001b[0m \u001b[0;34m=\u001b[0m \u001b[0mjoblib\u001b[0m\u001b[0;34m.\u001b[0m\u001b[0mload\u001b[0m\u001b[0;34m(\u001b[0m\u001b[0mcolab_folder_path\u001b[0m \u001b[0;34m+\u001b[0m \u001b[0mencoder_name\u001b[0m\u001b[0;34m)\u001b[0m\u001b[0;34m\u001b[0m\u001b[0;34m\u001b[0m\u001b[0m\n\u001b[0m",
            "\u001b[0;32m/usr/local/lib/python3.11/dist-packages/joblib/numpy_pickle.py\u001b[0m in \u001b[0;36mload\u001b[0;34m(filename, mmap_mode, ensure_native_byte_order)\u001b[0m\n\u001b[1;32m    733\u001b[0m             \u001b[0mobj\u001b[0m \u001b[0;34m=\u001b[0m \u001b[0m_unpickle\u001b[0m\u001b[0;34m(\u001b[0m\u001b[0mfobj\u001b[0m\u001b[0;34m,\u001b[0m \u001b[0mensure_native_byte_order\u001b[0m\u001b[0;34m=\u001b[0m\u001b[0mensure_native_byte_order\u001b[0m\u001b[0;34m)\u001b[0m\u001b[0;34m\u001b[0m\u001b[0;34m\u001b[0m\u001b[0m\n\u001b[1;32m    734\u001b[0m     \u001b[0;32melse\u001b[0m\u001b[0;34m:\u001b[0m\u001b[0;34m\u001b[0m\u001b[0;34m\u001b[0m\u001b[0m\n\u001b[0;32m--> 735\u001b[0;31m         \u001b[0;32mwith\u001b[0m \u001b[0mopen\u001b[0m\u001b[0;34m(\u001b[0m\u001b[0mfilename\u001b[0m\u001b[0;34m,\u001b[0m \u001b[0;34m\"rb\"\u001b[0m\u001b[0;34m)\u001b[0m \u001b[0;32mas\u001b[0m \u001b[0mf\u001b[0m\u001b[0;34m:\u001b[0m\u001b[0;34m\u001b[0m\u001b[0;34m\u001b[0m\u001b[0m\n\u001b[0m\u001b[1;32m    736\u001b[0m             with _validate_fileobject_and_memmap(f, filename, mmap_mode) as (\n\u001b[1;32m    737\u001b[0m                 \u001b[0mfobj\u001b[0m\u001b[0;34m,\u001b[0m\u001b[0;34m\u001b[0m\u001b[0;34m\u001b[0m\u001b[0m\n",
            "\u001b[0;31mFileNotFoundError\u001b[0m: [Errno 2] No such file or directory: '/content/gdrive/MyDrive/NBA/lol_encoder.joblib'"
          ]
        }
      ],
      "source": [
        "if(load_saved_data):\n",
        "    ##TODO needs rework for lol\n",
        "    X = torch.load(colab_folder_path + data_file_name_X)\n",
        "    true_y = torch.load(colab_folder_path + data_file_name_y)\n",
        "    X = torch.tensor(X).type(torch.int32)\n",
        "    unique_values_in_X = np.unique(X)\n",
        "\n",
        "    print(\"IMPORTANT, certain values missing after downsampling in data preprocessing\")\n",
        "    print(len(unique_values_in_X))\n",
        "\n",
        "    # prompt: which numbers are missing in unique_values_in_X\n",
        "    all_possible_numbers = np.arange(np.min(unique_values_in_X), np.max(unique_values_in_X) + 1)\n",
        "    missing_numbers = np.setdiff1d(all_possible_numbers, unique_values_in_X)\n",
        "    print(\"Missing numbers:\", missing_numbers)\n",
        "\n",
        "    # prompt: rearrange values in X so there is no gap\n",
        "    mapping = {old_val: new_val for new_val, old_val in enumerate(np.unique(X))}\n",
        "    X_rearranged = np.vectorize(mapping.get)(X)\n",
        "\n",
        "    print(\"Original X:\", X[:10])\n",
        "    print(\"Rearranged X:\", X_rearranged[:10])\n",
        "\n",
        "    X = torch.tensor(X_rearranged).type(torch.int32)\n",
        "    # y = torch.from_numpy(true_y)\n",
        "    y = true_y\n",
        "\n",
        "    # prompt: load the encoder\n",
        "\n",
        "    # Load the encoder\n",
        "    encoder = joblib.load(colab_folder_path + encoder_name)\n"
      ]
    },
    {
      "cell_type": "code",
      "execution_count": 69,
      "metadata": {
        "colab": {
          "base_uri": "https://localhost:8080/"
        },
        "id": "OHFaftHUtX9R",
        "outputId": "1f6264cf-1a1b-4ea8-fb0d-b16190e6bfe0"
      },
      "outputs": [
        {
          "output_type": "stream",
          "name": "stdout",
          "text": [
            "Shape of X: torch.Size([76318, 10])\n",
            "Number of rows in X: 76318\n",
            "Dimension of X: 10\n",
            "Number of unique values in y: 2\n"
          ]
        }
      ],
      "source": [
        "# prompt: generate statistics about X, how many rows, dimension,\n",
        "\n",
        "print(\"Shape of X:\", X.shape)\n",
        "print(\"Number of rows in X:\", X.shape[0])\n",
        "print(\"Dimension of X:\", X.shape[1])\n",
        "print(\"Number of unique values in y:\", len(np.unique(y)))"
      ]
    },
    {
      "cell_type": "code",
      "execution_count": 70,
      "metadata": {
        "id": "a6k6OHziXfdP"
      },
      "outputs": [],
      "source": [
        "def prep_player_names(df):\n",
        "  names = df.values.flatten()\n",
        "  names = np.unique(names)\n",
        "  names.sort()\n",
        "  return names"
      ]
    },
    {
      "cell_type": "markdown",
      "metadata": {
        "id": "LPqGhNvLydbD"
      },
      "source": [
        "##Data Checking"
      ]
    },
    {
      "cell_type": "code",
      "execution_count": 71,
      "metadata": {
        "colab": {
          "base_uri": "https://localhost:8080/"
        },
        "id": "QBOxXWWGyc5N",
        "outputId": "717ec103-ae3d-4c3c-df1e-cbe2a1d7554e"
      },
      "outputs": [
        {
          "output_type": "execute_result",
          "data": {
            "text/plain": [
              "50.0"
            ]
          },
          "metadata": {},
          "execution_count": 71
        }
      ],
      "source": [
        "def percent_wins(y_list):\n",
        "  count_ones = sum(1 for outcome in y_list if outcome == 1)\n",
        "\n",
        "  # Calculate the percentage\n",
        "  percentage = (count_ones / len(y_list)) * 100\n",
        "\n",
        "  return percentage\n",
        "  # print(f\"Percentage of tensors with value 1: {percentage:.2f}%\")\n",
        "\n",
        "percent_wins(y)"
      ]
    },
    {
      "cell_type": "markdown",
      "metadata": {
        "id": "mhm1zhFK_64D"
      },
      "source": [
        "#Preprocessing  NBA"
      ]
    },
    {
      "cell_type": "markdown",
      "metadata": {
        "id": "3Wbt4KgiNjff"
      },
      "source": [
        "IMPORTANT:: If load_saved_data is true, don't need to run this section"
      ]
    },
    {
      "cell_type": "markdown",
      "metadata": {
        "id": "ZjuSjJlll2mK"
      },
      "source": [
        "Old: Using team information to build our X"
      ]
    },
    {
      "cell_type": "code",
      "execution_count": 72,
      "metadata": {
        "colab": {
          "base_uri": "https://localhost:8080/"
        },
        "id": "2Uzn6OfScw-O",
        "outputId": "5b6d4fb3-5d3b-4deb-c6a4-52bcd73dc886"
      },
      "outputs": [
        {
          "output_type": "stream",
          "name": "stdout",
          "text": [
            "['a', 'b', 'c', 'g', 'h', 'i']\n",
            "['d', 'e', 'f', 'j', 'k', 'l']\n"
          ]
        }
      ],
      "source": [
        "# Example 2D lists\n",
        "list1 = [\n",
        "    ['a', 'b', 'c'],\n",
        "    ['d', 'e', 'f']\n",
        "]\n",
        "\n",
        "list2 = [\n",
        "    ['g', 'h', 'i'],\n",
        "    ['j', 'k', 'l']\n",
        "]\n",
        "\n",
        "# Ensure both lists have the same number of rows\n",
        "if len(list1) != len(list2):\n",
        "    raise ValueError(\"Both 2D lists must have the same number of rows\")\n",
        "\n",
        "# Concatenate the 2D lists column-wise\n",
        "concatenated_list = [row1 + row2 for row1, row2 in zip(list1, list2)]\n",
        "\n",
        "# Print the concatenated list\n",
        "for row in concatenated_list:\n",
        "    print(row)\n"
      ]
    },
    {
      "cell_type": "code",
      "execution_count": null,
      "metadata": {
        "id": "KB3BZ2vtPeaK"
      },
      "outputs": [],
      "source": [
        "# if(load_saved_data):\n",
        "#     X = torch.load(colab_folder_path + data_file_name_X)\n",
        "#     true_y = torch.load(colab_folder_path + data_file_name_y)\n",
        "\n",
        "# else:\n",
        "#     colab_folder_path = \"/content/gdrive/MyDrive/2023 research/NBA/\"\n",
        "#     games_df = pd.read_csv(colab_folder_path + \"NBA_Games_History.csv\") #, dtype = str, delimiter = \",\", skip_header=1)\n",
        "#     teams_df = pd.read_csv(colab_folder_path + \"NBA_Teams_Training0515.csv\") #, dtype = str, delimiter = \",\", skip_header=1)\n",
        "#     #drop irrelevant columns or columns with data leakage issue\n",
        "#     teams_df = teams_df.drop(columns=['GP', 'MPG'])\n",
        "#     print(games_df.loc[0][\"SEASON\"].dtype)\n",
        "#     teams_df[\"Season\"] = teams_df[\"Season\"].astype(int)\n",
        "#     list_X = []\n",
        "#     for index, row in games_df.iterrows():\n",
        "#         ti1 = teams_df[ (teams_df[\"Season\"]==row['SEASON'] ) &  (teams_df[\"Team\"]==row['HOME_TEAM'] ) ]\n",
        "#         ti2 = teams_df[ (teams_df[\"Season\"]==row['SEASON'] ) &  (teams_df[\"Team\"]==row['AWAY_TEAM'] ) ]\n",
        "#         #concatenate the two into x.\n",
        "#         #drop everything except team\n",
        "#         ti1 = ti1.drop(columns=['Season', 'Team'])\n",
        "#         ti1 = torch.tensor(ti1.values)\n",
        "#         # do the same thing with ti2\n",
        "#         ti2 = ti2.drop(columns=['Season', 'Team'])\n",
        "#         ti2 = torch.tensor(ti2.values)\n",
        "#         # concatenate ti1 and ti2 as a row\n",
        "#         list_X.append(torch.cat((ti1, ti2), dim = 1))\n",
        "#     ##return all the rows of concatenated ti1 ti2\n",
        "#     X = torch.cat(list_X, dim=0)\n",
        "#     print(X[0])\n",
        "\n",
        "#     true_y = games_df.drop(columns=['GAME_DATE','HOME_TEAM','AWAY_TEAM','SEASON','PTS_HOME','PTS_AWAY'])\n",
        "#     # drops all columns but 'HOME_TEAM_WINS'\n",
        "\n",
        "#     true_y = torch.tensor(true_y.values)\n",
        "\n",
        "#     # save the X so we don't have to recompute it every time\n",
        "#     torch.save(X, colab_folder_path + data_file_name_X)\n",
        "#     # save the y so we don't have to recompute it every time\n",
        "#     torch.save(true_y, colab_folder_path + data_file_name_y)\n"
      ]
    },
    {
      "cell_type": "markdown",
      "metadata": {
        "id": "zYrRzpfRl5vA"
      },
      "source": [
        "New: supposed to work with lineup"
      ]
    },
    {
      "cell_type": "code",
      "execution_count": null,
      "metadata": {
        "id": "C4BT0ECbeadT"
      },
      "outputs": [],
      "source": [
        "# prompt: create a dictionary that maps the all caps abbreviated NBA city names to their respective capitilized city names. For example \"GSW\" should map to \"Golden State\"\n",
        "\n",
        "nba_teams_short2long_dict = {\n",
        "    \"ATL\": \"Atlanta\",\n",
        "    \"BOS\": \"Boston\",\n",
        "    \"BRK\": \"Brooklyn\",\n",
        "    \"CHA\": \"Charlotte\",\n",
        "    \"CHO\": \"Charlotte\",\n",
        "    \"CHI\": \"Chicago\",\n",
        "    \"CLE\": \"Cleveland\",\n",
        "    \"DAL\": \"Dallas\",\n",
        "    \"DEN\": \"Denver\",\n",
        "    \"DET\": \"Detroit\",\n",
        "    \"GSW\": \"Golden State\",\n",
        "    \"HOU\": \"Houston\",\n",
        "    \"IND\": \"Indiana\",\n",
        "    \"LAC\": \"L.A. Clippers\",\n",
        "    \"LAL\": \"L.A. Lakers\",\n",
        "    \"MEM\": \"Memphis\",\n",
        "    \"MIA\": \"Miami\",\n",
        "    \"MIL\": \"Milwaukee\",\n",
        "    \"MIN\": \"Minnesota\",\n",
        "    \"NOP\": \"New Orleans\",\n",
        "    \"NOH\": \"New Orleans\",\n",
        "    \"NOK\": \"New Orleans\",\n",
        "    \"NYK\": \"New York\",\n",
        "    \"OKC\": \"Oklahoma City\",\n",
        "    \"ORL\": \"Orlando\",\n",
        "    \"PHI\": \"Philadelphia\",\n",
        "    \"PHO\": \"Phoenix\",\n",
        "    \"POR\": \"Portland\",\n",
        "    \"SAC\": \"Sacramento\",\n",
        "    \"SAS\": \"San Antonio\",\n",
        "    \"TOR\": \"Toronto\",\n",
        "    \"UTA\": \"Utah\",\n",
        "    \"WAS\": \"Washington\",\n",
        "    \"NJN\": \"Brooklyn\",\n",
        "    \"SEA\": \"Oklahoma City\"\n",
        "}\n"
      ]
    },
    {
      "cell_type": "code",
      "execution_count": null,
      "metadata": {
        "id": "98UpgqR9pakF"
      },
      "outputs": [],
      "source": [
        "def prep_city_names(df):\n",
        "\n",
        "  box_df.iloc[:,1]"
      ]
    },
    {
      "cell_type": "code",
      "execution_count": null,
      "metadata": {
        "id": "ublSv87QpyER"
      },
      "outputs": [],
      "source": [
        "# prompt: write a function that iterates over the second column of each row in a dataframe and converts it from a key in a dictionary to its corresponding value in that dictionary\n",
        "\n",
        "def convert_dict_values(df, dict_to_use):\n",
        "  \"\"\"\n",
        "  This function iterates over the second column of each row in a dataframe and converts it from a key in a dictionary to its corresponding value in that dictionary.\n",
        "\n",
        "  Args:\n",
        "      df: The dataframe to process.\n",
        "      dict_to_use: The dictionary to use for conversion.\n",
        "\n",
        "  Returns:\n",
        "      A new dataframe with the converted values.\n",
        "  \"\"\"\n",
        "\n",
        "  new_df = df.copy()\n",
        "  for index, row in df.iterrows():\n",
        "    new_df.iloc[index, 1] = dict_to_use[row[1]]\n",
        "  return new_df\n",
        "\n",
        "# Example usage\n",
        "#new_df = convert_dict_values(box_df, nba_teams_short2long_dict)\n"
      ]
    },
    {
      "cell_type": "code",
      "execution_count": null,
      "metadata": {
        "id": "Mmyke6YFkCqe"
      },
      "outputs": [],
      "source": [
        "def prep_player_names(box_df):\n",
        "  names = box_df.iloc[:, 2:].values.flatten()\n",
        "  names = np.unique(names)\n",
        "  names.sort()\n",
        "  return names"
      ]
    },
    {
      "cell_type": "code",
      "execution_count": null,
      "metadata": {
        "id": "vc3pQNRUj8pF"
      },
      "outputs": [],
      "source": [
        "def one_hot_encoding(name, names):\n",
        "  one_hot_encoding = np.zeros(len(names))\n",
        "  index = np.where(names == name)[0]\n",
        "  one_hot_encoding[index] = 1\n",
        "  return one_hot_encoding\n",
        "\n",
        "\n",
        "def multi_one_hot_encoding(name, names):\n",
        "  one_hot_encoding = np.zeros(len(names))\n",
        "  indices = np.where(np.isin(names, name))[0]\n",
        "  one_hot_encoding[indices] = 1\n",
        "  return one_hot_encoding\n"
      ]
    },
    {
      "cell_type": "code",
      "execution_count": null,
      "metadata": {
        "colab": {
          "base_uri": "https://localhost:8080/",
          "height": 360
        },
        "id": "dlPH0Px_uMai",
        "outputId": "25d36c9d-727c-4163-9741-1f220a65df0f"
      },
      "outputs": [
        {
          "output_type": "stream",
          "name": "stderr",
          "text": [
            "<ipython-input-15-a038cfeb244e>:4: UserWarning: This pattern is interpreted as a regular expression, and has match groups. To actually get the groups, use str.extract.\n",
            "  games_df = games_df[~games_df['GAME_DATE'].str.contains(pattern)]\n"
          ]
        },
        {
          "output_type": "execute_result",
          "data": {
            "text/plain": [
              "          0    1              2             3              4   \\\n",
              "0  11/1/2005  PHI  Allen Iverson  Chris Webber    Kyle Korver   \n",
              "1  11/1/2005  NOK     Chris Paul    P.J. Brown     J.R. Smith   \n",
              "2  11/1/2005  SAS     Tim Duncan   Tony Parker  Manu Ginóbili   \n",
              "3  11/1/2005  PHO      Raja Bell  Shawn Marion    James Jones   \n",
              "4  11/2/2005  CLE   LeBron James  Larry Hughes    Drew Gooden   \n",
              "\n",
              "                   5                 6               7                8   \\\n",
              "0      Andre Iguodala     Steven Hunter    John Salmons     Michael Redd   \n",
              "1          David West   Boštjan Nachbar  Chris Andersen  Peja Stojaković   \n",
              "2         Bruce Bowen  Rasho Nesterović  Michael Finley     Andre Miller   \n",
              "3          Steve Nash       Kurt Thomas     Jim Jackson      Josh Howard   \n",
              "4  Zydrunas Ilgauskas         Eric Snow     Damon Jones       Chris Paul   \n",
              "\n",
              "                    9                10             11               12  \\\n",
              "0        Bobby Simmons  Jamaal Magloire   Andrew Bogut        T.J. Ford   \n",
              "1  Shareef Abdur-Rahim      Bonzi Wells     Mike Bibby      Brad Miller   \n",
              "2        Voshon Lenard  Carmelo Anthony  Kenyon Martin     Marcus Camby   \n",
              "3        Dirk Nowitzki      Jason Terry  Doug Christie    Erick Dampier   \n",
              "4           P.J. Brown       David West     J.R. Smith  Boštjan Nachbar   \n",
              "\n",
              "               13  \n",
              "0     Mo Williams  \n",
              "1    Kevin Martin  \n",
              "2    Earl Boykins  \n",
              "3  Keith Van Horn  \n",
              "4  Chris Andersen  "
            ],
            "text/html": [
              "\n",
              "  <div id=\"df-f9dc1b31-4736-4a19-8484-a8c14eaadb29\" class=\"colab-df-container\">\n",
              "    <div>\n",
              "<style scoped>\n",
              "    .dataframe tbody tr th:only-of-type {\n",
              "        vertical-align: middle;\n",
              "    }\n",
              "\n",
              "    .dataframe tbody tr th {\n",
              "        vertical-align: top;\n",
              "    }\n",
              "\n",
              "    .dataframe thead th {\n",
              "        text-align: right;\n",
              "    }\n",
              "</style>\n",
              "<table border=\"1\" class=\"dataframe\">\n",
              "  <thead>\n",
              "    <tr style=\"text-align: right;\">\n",
              "      <th></th>\n",
              "      <th>0</th>\n",
              "      <th>1</th>\n",
              "      <th>2</th>\n",
              "      <th>3</th>\n",
              "      <th>4</th>\n",
              "      <th>5</th>\n",
              "      <th>6</th>\n",
              "      <th>7</th>\n",
              "      <th>8</th>\n",
              "      <th>9</th>\n",
              "      <th>10</th>\n",
              "      <th>11</th>\n",
              "      <th>12</th>\n",
              "      <th>13</th>\n",
              "    </tr>\n",
              "  </thead>\n",
              "  <tbody>\n",
              "    <tr>\n",
              "      <th>0</th>\n",
              "      <td>11/1/2005</td>\n",
              "      <td>PHI</td>\n",
              "      <td>Allen Iverson</td>\n",
              "      <td>Chris Webber</td>\n",
              "      <td>Kyle Korver</td>\n",
              "      <td>Andre Iguodala</td>\n",
              "      <td>Steven Hunter</td>\n",
              "      <td>John Salmons</td>\n",
              "      <td>Michael Redd</td>\n",
              "      <td>Bobby Simmons</td>\n",
              "      <td>Jamaal Magloire</td>\n",
              "      <td>Andrew Bogut</td>\n",
              "      <td>T.J. Ford</td>\n",
              "      <td>Mo Williams</td>\n",
              "    </tr>\n",
              "    <tr>\n",
              "      <th>1</th>\n",
              "      <td>11/1/2005</td>\n",
              "      <td>NOK</td>\n",
              "      <td>Chris Paul</td>\n",
              "      <td>P.J. Brown</td>\n",
              "      <td>J.R. Smith</td>\n",
              "      <td>David West</td>\n",
              "      <td>Boštjan Nachbar</td>\n",
              "      <td>Chris Andersen</td>\n",
              "      <td>Peja Stojaković</td>\n",
              "      <td>Shareef Abdur-Rahim</td>\n",
              "      <td>Bonzi Wells</td>\n",
              "      <td>Mike Bibby</td>\n",
              "      <td>Brad Miller</td>\n",
              "      <td>Kevin Martin</td>\n",
              "    </tr>\n",
              "    <tr>\n",
              "      <th>2</th>\n",
              "      <td>11/1/2005</td>\n",
              "      <td>SAS</td>\n",
              "      <td>Tim Duncan</td>\n",
              "      <td>Tony Parker</td>\n",
              "      <td>Manu Ginóbili</td>\n",
              "      <td>Bruce Bowen</td>\n",
              "      <td>Rasho Nesterović</td>\n",
              "      <td>Michael Finley</td>\n",
              "      <td>Andre Miller</td>\n",
              "      <td>Voshon Lenard</td>\n",
              "      <td>Carmelo Anthony</td>\n",
              "      <td>Kenyon Martin</td>\n",
              "      <td>Marcus Camby</td>\n",
              "      <td>Earl Boykins</td>\n",
              "    </tr>\n",
              "    <tr>\n",
              "      <th>3</th>\n",
              "      <td>11/1/2005</td>\n",
              "      <td>PHO</td>\n",
              "      <td>Raja Bell</td>\n",
              "      <td>Shawn Marion</td>\n",
              "      <td>James Jones</td>\n",
              "      <td>Steve Nash</td>\n",
              "      <td>Kurt Thomas</td>\n",
              "      <td>Jim Jackson</td>\n",
              "      <td>Josh Howard</td>\n",
              "      <td>Dirk Nowitzki</td>\n",
              "      <td>Jason Terry</td>\n",
              "      <td>Doug Christie</td>\n",
              "      <td>Erick Dampier</td>\n",
              "      <td>Keith Van Horn</td>\n",
              "    </tr>\n",
              "    <tr>\n",
              "      <th>4</th>\n",
              "      <td>11/2/2005</td>\n",
              "      <td>CLE</td>\n",
              "      <td>LeBron James</td>\n",
              "      <td>Larry Hughes</td>\n",
              "      <td>Drew Gooden</td>\n",
              "      <td>Zydrunas Ilgauskas</td>\n",
              "      <td>Eric Snow</td>\n",
              "      <td>Damon Jones</td>\n",
              "      <td>Chris Paul</td>\n",
              "      <td>P.J. Brown</td>\n",
              "      <td>David West</td>\n",
              "      <td>J.R. Smith</td>\n",
              "      <td>Boštjan Nachbar</td>\n",
              "      <td>Chris Andersen</td>\n",
              "    </tr>\n",
              "  </tbody>\n",
              "</table>\n",
              "</div>\n",
              "    <div class=\"colab-df-buttons\">\n",
              "\n",
              "  <div class=\"colab-df-container\">\n",
              "    <button class=\"colab-df-convert\" onclick=\"convertToInteractive('df-f9dc1b31-4736-4a19-8484-a8c14eaadb29')\"\n",
              "            title=\"Convert this dataframe to an interactive table.\"\n",
              "            style=\"display:none;\">\n",
              "\n",
              "  <svg xmlns=\"http://www.w3.org/2000/svg\" height=\"24px\" viewBox=\"0 -960 960 960\">\n",
              "    <path d=\"M120-120v-720h720v720H120Zm60-500h600v-160H180v160Zm220 220h160v-160H400v160Zm0 220h160v-160H400v160ZM180-400h160v-160H180v160Zm440 0h160v-160H620v160ZM180-180h160v-160H180v160Zm440 0h160v-160H620v160Z\"/>\n",
              "  </svg>\n",
              "    </button>\n",
              "\n",
              "  <style>\n",
              "    .colab-df-container {\n",
              "      display:flex;\n",
              "      gap: 12px;\n",
              "    }\n",
              "\n",
              "    .colab-df-convert {\n",
              "      background-color: #E8F0FE;\n",
              "      border: none;\n",
              "      border-radius: 50%;\n",
              "      cursor: pointer;\n",
              "      display: none;\n",
              "      fill: #1967D2;\n",
              "      height: 32px;\n",
              "      padding: 0 0 0 0;\n",
              "      width: 32px;\n",
              "    }\n",
              "\n",
              "    .colab-df-convert:hover {\n",
              "      background-color: #E2EBFA;\n",
              "      box-shadow: 0px 1px 2px rgba(60, 64, 67, 0.3), 0px 1px 3px 1px rgba(60, 64, 67, 0.15);\n",
              "      fill: #174EA6;\n",
              "    }\n",
              "\n",
              "    .colab-df-buttons div {\n",
              "      margin-bottom: 4px;\n",
              "    }\n",
              "\n",
              "    [theme=dark] .colab-df-convert {\n",
              "      background-color: #3B4455;\n",
              "      fill: #D2E3FC;\n",
              "    }\n",
              "\n",
              "    [theme=dark] .colab-df-convert:hover {\n",
              "      background-color: #434B5C;\n",
              "      box-shadow: 0px 1px 3px 1px rgba(0, 0, 0, 0.15);\n",
              "      filter: drop-shadow(0px 1px 2px rgba(0, 0, 0, 0.3));\n",
              "      fill: #FFFFFF;\n",
              "    }\n",
              "  </style>\n",
              "\n",
              "    <script>\n",
              "      const buttonEl =\n",
              "        document.querySelector('#df-f9dc1b31-4736-4a19-8484-a8c14eaadb29 button.colab-df-convert');\n",
              "      buttonEl.style.display =\n",
              "        google.colab.kernel.accessAllowed ? 'block' : 'none';\n",
              "\n",
              "      async function convertToInteractive(key) {\n",
              "        const element = document.querySelector('#df-f9dc1b31-4736-4a19-8484-a8c14eaadb29');\n",
              "        const dataTable =\n",
              "          await google.colab.kernel.invokeFunction('convertToInteractive',\n",
              "                                                    [key], {});\n",
              "        if (!dataTable) return;\n",
              "\n",
              "        const docLinkHtml = 'Like what you see? Visit the ' +\n",
              "          '<a target=\"_blank\" href=https://colab.research.google.com/notebooks/data_table.ipynb>data table notebook</a>'\n",
              "          + ' to learn more about interactive tables.';\n",
              "        element.innerHTML = '';\n",
              "        dataTable['output_type'] = 'display_data';\n",
              "        await google.colab.output.renderOutput(dataTable, element);\n",
              "        const docLink = document.createElement('div');\n",
              "        docLink.innerHTML = docLinkHtml;\n",
              "        element.appendChild(docLink);\n",
              "      }\n",
              "    </script>\n",
              "  </div>\n",
              "\n",
              "\n",
              "    <div id=\"df-80355a7b-b13c-4ae9-9d8a-3e4f059170c5\">\n",
              "      <button class=\"colab-df-quickchart\" onclick=\"quickchart('df-80355a7b-b13c-4ae9-9d8a-3e4f059170c5')\"\n",
              "                title=\"Suggest charts\"\n",
              "                style=\"display:none;\">\n",
              "\n",
              "<svg xmlns=\"http://www.w3.org/2000/svg\" height=\"24px\"viewBox=\"0 0 24 24\"\n",
              "     width=\"24px\">\n",
              "    <g>\n",
              "        <path d=\"M19 3H5c-1.1 0-2 .9-2 2v14c0 1.1.9 2 2 2h14c1.1 0 2-.9 2-2V5c0-1.1-.9-2-2-2zM9 17H7v-7h2v7zm4 0h-2V7h2v10zm4 0h-2v-4h2v4z\"/>\n",
              "    </g>\n",
              "</svg>\n",
              "      </button>\n",
              "\n",
              "<style>\n",
              "  .colab-df-quickchart {\n",
              "      --bg-color: #E8F0FE;\n",
              "      --fill-color: #1967D2;\n",
              "      --hover-bg-color: #E2EBFA;\n",
              "      --hover-fill-color: #174EA6;\n",
              "      --disabled-fill-color: #AAA;\n",
              "      --disabled-bg-color: #DDD;\n",
              "  }\n",
              "\n",
              "  [theme=dark] .colab-df-quickchart {\n",
              "      --bg-color: #3B4455;\n",
              "      --fill-color: #D2E3FC;\n",
              "      --hover-bg-color: #434B5C;\n",
              "      --hover-fill-color: #FFFFFF;\n",
              "      --disabled-bg-color: #3B4455;\n",
              "      --disabled-fill-color: #666;\n",
              "  }\n",
              "\n",
              "  .colab-df-quickchart {\n",
              "    background-color: var(--bg-color);\n",
              "    border: none;\n",
              "    border-radius: 50%;\n",
              "    cursor: pointer;\n",
              "    display: none;\n",
              "    fill: var(--fill-color);\n",
              "    height: 32px;\n",
              "    padding: 0;\n",
              "    width: 32px;\n",
              "  }\n",
              "\n",
              "  .colab-df-quickchart:hover {\n",
              "    background-color: var(--hover-bg-color);\n",
              "    box-shadow: 0 1px 2px rgba(60, 64, 67, 0.3), 0 1px 3px 1px rgba(60, 64, 67, 0.15);\n",
              "    fill: var(--button-hover-fill-color);\n",
              "  }\n",
              "\n",
              "  .colab-df-quickchart-complete:disabled,\n",
              "  .colab-df-quickchart-complete:disabled:hover {\n",
              "    background-color: var(--disabled-bg-color);\n",
              "    fill: var(--disabled-fill-color);\n",
              "    box-shadow: none;\n",
              "  }\n",
              "\n",
              "  .colab-df-spinner {\n",
              "    border: 2px solid var(--fill-color);\n",
              "    border-color: transparent;\n",
              "    border-bottom-color: var(--fill-color);\n",
              "    animation:\n",
              "      spin 1s steps(1) infinite;\n",
              "  }\n",
              "\n",
              "  @keyframes spin {\n",
              "    0% {\n",
              "      border-color: transparent;\n",
              "      border-bottom-color: var(--fill-color);\n",
              "      border-left-color: var(--fill-color);\n",
              "    }\n",
              "    20% {\n",
              "      border-color: transparent;\n",
              "      border-left-color: var(--fill-color);\n",
              "      border-top-color: var(--fill-color);\n",
              "    }\n",
              "    30% {\n",
              "      border-color: transparent;\n",
              "      border-left-color: var(--fill-color);\n",
              "      border-top-color: var(--fill-color);\n",
              "      border-right-color: var(--fill-color);\n",
              "    }\n",
              "    40% {\n",
              "      border-color: transparent;\n",
              "      border-right-color: var(--fill-color);\n",
              "      border-top-color: var(--fill-color);\n",
              "    }\n",
              "    60% {\n",
              "      border-color: transparent;\n",
              "      border-right-color: var(--fill-color);\n",
              "    }\n",
              "    80% {\n",
              "      border-color: transparent;\n",
              "      border-right-color: var(--fill-color);\n",
              "      border-bottom-color: var(--fill-color);\n",
              "    }\n",
              "    90% {\n",
              "      border-color: transparent;\n",
              "      border-bottom-color: var(--fill-color);\n",
              "    }\n",
              "  }\n",
              "</style>\n",
              "\n",
              "      <script>\n",
              "        async function quickchart(key) {\n",
              "          const quickchartButtonEl =\n",
              "            document.querySelector('#' + key + ' button');\n",
              "          quickchartButtonEl.disabled = true;  // To prevent multiple clicks.\n",
              "          quickchartButtonEl.classList.add('colab-df-spinner');\n",
              "          try {\n",
              "            const charts = await google.colab.kernel.invokeFunction(\n",
              "                'suggestCharts', [key], {});\n",
              "          } catch (error) {\n",
              "            console.error('Error during call to suggestCharts:', error);\n",
              "          }\n",
              "          quickchartButtonEl.classList.remove('colab-df-spinner');\n",
              "          quickchartButtonEl.classList.add('colab-df-quickchart-complete');\n",
              "        }\n",
              "        (() => {\n",
              "          let quickchartButtonEl =\n",
              "            document.querySelector('#df-80355a7b-b13c-4ae9-9d8a-3e4f059170c5 button');\n",
              "          quickchartButtonEl.style.display =\n",
              "            google.colab.kernel.accessAllowed ? 'block' : 'none';\n",
              "        })();\n",
              "      </script>\n",
              "    </div>\n",
              "\n",
              "    </div>\n",
              "  </div>\n"
            ],
            "application/vnd.google.colaboratory.intrinsic+json": {
              "type": "dataframe",
              "variable_name": "box_df",
              "summary": "{\n  \"name\": \"box_df\",\n  \"rows\": 16925,\n  \"fields\": [\n    {\n      \"column\": 0,\n      \"properties\": {\n        \"dtype\": \"object\",\n        \"num_unique_values\": 2681,\n        \"samples\": [\n          \"2/28/2009\",\n          \"12/30/2012\",\n          \"3/4/2013\"\n        ],\n        \"semantic_type\": \"\",\n        \"description\": \"\"\n      }\n    },\n    {\n      \"column\": 1,\n      \"properties\": {\n        \"dtype\": \"category\",\n        \"num_unique_values\": 35,\n        \"samples\": [\n          \"MIL\",\n          \"HOU\",\n          \"IND\"\n        ],\n        \"semantic_type\": \"\",\n        \"description\": \"\"\n      }\n    },\n    {\n      \"column\": 2,\n      \"properties\": {\n        \"dtype\": \"category\",\n        \"num_unique_values\": 749,\n        \"samples\": [\n          \"Malcolm Brogdon\",\n          \"Tobias Harris\",\n          \"John Salmons\"\n        ],\n        \"semantic_type\": \"\",\n        \"description\": \"\"\n      }\n    },\n    {\n      \"column\": 3,\n      \"properties\": {\n        \"dtype\": \"category\",\n        \"num_unique_values\": 777,\n        \"samples\": [\n          \"Gustavo Ay\\u00f3n\",\n          \"Gerald Henderson\",\n          \"T.J. Warren\"\n        ],\n        \"semantic_type\": \"\",\n        \"description\": \"\"\n      }\n    },\n    {\n      \"column\": 4,\n      \"properties\": {\n        \"dtype\": \"category\",\n        \"num_unique_values\": 844,\n        \"samples\": [\n          \"Lou Williams\",\n          \"Jamal Crawford\",\n          \"Tyler Zeller\"\n        ],\n        \"semantic_type\": \"\",\n        \"description\": \"\"\n      }\n    },\n    {\n      \"column\": 5,\n      \"properties\": {\n        \"dtype\": \"category\",\n        \"num_unique_values\": 920,\n        \"samples\": [\n          \"Maurice Evans\",\n          \"Luis Scola\",\n          \"Jon Leuer\"\n        ],\n        \"semantic_type\": \"\",\n        \"description\": \"\"\n      }\n    },\n    {\n      \"column\": 6,\n      \"properties\": {\n        \"dtype\": \"category\",\n        \"num_unique_values\": 969,\n        \"samples\": [\n          \"Jerami Grant\",\n          \"Jermaine O'Neal\",\n          \"Jeff Green\"\n        ],\n        \"semantic_type\": \"\",\n        \"description\": \"\"\n      }\n    },\n    {\n      \"column\": 7,\n      \"properties\": {\n        \"dtype\": \"category\",\n        \"num_unique_values\": 993,\n        \"samples\": [\n          \"Kentavious Caldwell-Pope\",\n          \"Frank Kaminsky\",\n          \"Harrison Barnes\"\n        ],\n        \"semantic_type\": \"\",\n        \"description\": \"\"\n      }\n    },\n    {\n      \"column\": 8,\n      \"properties\": {\n        \"dtype\": \"category\",\n        \"num_unique_values\": 771,\n        \"samples\": [\n          \"Domantas Sabonis\",\n          \"Michael Beasley\",\n          \"JaVale McGee\"\n        ],\n        \"semantic_type\": \"\",\n        \"description\": \"\"\n      }\n    },\n    {\n      \"column\": 9,\n      \"properties\": {\n        \"dtype\": \"category\",\n        \"num_unique_values\": 802,\n        \"samples\": [\n          \"Marcus Banks\",\n          \"Kurt Thomas\",\n          \"Ben Gordon\"\n        ],\n        \"semantic_type\": \"\",\n        \"description\": \"\"\n      }\n    },\n    {\n      \"column\": 10,\n      \"properties\": {\n        \"dtype\": \"category\",\n        \"num_unique_values\": 856,\n        \"samples\": [\n          \"Ben Simmons\",\n          \"Henry Walker\",\n          \"Samuel Dalembert\"\n        ],\n        \"semantic_type\": \"\",\n        \"description\": \"\"\n      }\n    },\n    {\n      \"column\": 11,\n      \"properties\": {\n        \"dtype\": \"category\",\n        \"num_unique_values\": 918,\n        \"samples\": [\n          \"Anthony Tolliver\",\n          \"Joey Graham\",\n          \"Randy Foye\"\n        ],\n        \"semantic_type\": \"\",\n        \"description\": \"\"\n      }\n    },\n    {\n      \"column\": 12,\n      \"properties\": {\n        \"dtype\": \"category\",\n        \"num_unique_values\": 992,\n        \"samples\": [\n          \"Steve Nash\",\n          \"Micka\\u00ebl Gelabale\",\n          \"T.J. McConnell\"\n        ],\n        \"semantic_type\": \"\",\n        \"description\": \"\"\n      }\n    },\n    {\n      \"column\": 13,\n      \"properties\": {\n        \"dtype\": \"category\",\n        \"num_unique_values\": 1026,\n        \"samples\": [\n          \"Brandan Wright\",\n          \"Ryan Hollins\",\n          \"Chris Quinn\"\n        ],\n        \"semantic_type\": \"\",\n        \"description\": \"\"\n      }\n    }\n  ]\n}"
            }
          },
          "metadata": {},
          "execution_count": 15
        }
      ],
      "source": [
        "box_df = pd.read_csv(colab_folder_path + \"/lineup data/combined_data.csv\", header=None)\n",
        "games_df = pd.read_csv(colab_folder_path + \"/NBA_Games_History.csv\") #, dtype = str, delimiter = \",\", skip_header=1)\n",
        "pattern = r'(?P<month>10)/(?P<day>\\d{1,2})/(?P<year>2005)'\n",
        "games_df = games_df[~games_df['GAME_DATE'].str.contains(pattern)]\n",
        "box_df.head()"
      ]
    },
    {
      "cell_type": "code",
      "execution_count": null,
      "metadata": {
        "colab": {
          "base_uri": "https://localhost:8080/"
        },
        "id": "ceqZJixKu3ob",
        "outputId": "617a209d-f32e-4efa-9960-98a4dcebea3f"
      },
      "outputs": [
        {
          "output_type": "stream",
          "name": "stdout",
          "text": [
            "14159\n",
            "16452\n"
          ]
        },
        {
          "output_type": "stream",
          "name": "stderr",
          "text": [
            "<ipython-input-16-f7d4fe9d8c32>:5: UserWarning: This pattern is interpreted as a regular expression, and has match groups. To actually get the groups, use str.extract.\n",
            "  test_game_df = games_df[~games_df['GAME_DATE'].str.contains(pattern)]\n",
            "<ipython-input-16-f7d4fe9d8c32>:7: UserWarning: This pattern is interpreted as a regular expression, and has match groups. To actually get the groups, use str.extract.\n",
            "  test_box_df = box_df[~box_df[0].str.contains(pattern)]\n"
          ]
        }
      ],
      "source": [
        "# prompt: drop all games in games_df that were played in October. Use a regular expression\n",
        "\n",
        "#pattern = r'(?P<month>10)/(?P<day>\\d{1,2})/(?P<year>2005)'\n",
        "pattern = r'(^\\d{4}-10-\\d{2}$)|(^10/\\d{2}/\\d{4}$)|(^\\d{2}-10-\\d{4}$)'\n",
        "test_game_df = games_df[~games_df['GAME_DATE'].str.contains(pattern)]\n",
        "\n",
        "test_box_df = box_df[~box_df[0].str.contains(pattern)]\n",
        "\n",
        "print(len(test_game_df))\n",
        "print(len(test_box_df))"
      ]
    },
    {
      "cell_type": "code",
      "execution_count": null,
      "metadata": {
        "id": "i2fCtZ-lRVDk"
      },
      "outputs": [],
      "source": [
        "colab_folder_path = \"/content/gdrive/MyDrive/NBA/\"\n",
        "games_df = pd.read_csv(colab_folder_path + \"NBA_Games_History.csv\") #, dtype = str, delimiter = \",\", skip_header=1)\n",
        "\n",
        "box_df = pd.read_csv(colab_folder_path + \"lineup data/combined_data.csv\", header=None)\n",
        "player_names = prep_player_names(box_df)"
      ]
    },
    {
      "cell_type": "code",
      "execution_count": null,
      "metadata": {
        "colab": {
          "base_uri": "https://localhost:8080/"
        },
        "id": "TGwe0Ux8Rtaq",
        "outputId": "d9a3667c-d4a1-4fe9-cee7-3a2f96bd16f8"
      },
      "outputs": [
        {
          "output_type": "execute_result",
          "data": {
            "text/plain": [
              "1229"
            ]
          },
          "metadata": {},
          "execution_count": 18
        }
      ],
      "source": [
        "len(player_names)"
      ]
    },
    {
      "cell_type": "markdown",
      "metadata": {
        "id": "8aZNEqDdXbTh"
      },
      "source": [
        "Extract relevant information"
      ]
    },
    {
      "cell_type": "code",
      "execution_count": null,
      "metadata": {
        "id": "N2eG1xrdl5CA"
      },
      "outputs": [],
      "source": [
        "from sklearn.preprocessing import LabelEncoder\n",
        "\n",
        "\n",
        "if(load_saved_data):\n",
        "    X = torch.load(colab_folder_path + data_file_name_X)\n",
        "    true_y = torch.load(colab_folder_path + data_file_name_y)\n",
        "\n",
        "else:\n",
        "    colab_folder_path = \"/content/gdrive/MyDrive/NBA/\"\n",
        "    games_df = pd.read_csv(colab_folder_path + \"NBA_Games_History.csv\") #, dtype = str, delimiter = \",\", skip_header=1)\n",
        "\n",
        "    box_df = pd.read_csv(colab_folder_path + \"lineup data/combined_data.csv\", header=None)\n",
        "    player_names = prep_player_names(box_df)\n",
        "\n",
        "    # prompt: convert by box_df so that the second column's values are converted to long names using the dictionary above\n",
        "\n",
        "    #box_df.iloc[:,1] = box_df.iloc[:,1].map(nba_teams_short2long_dict)\n",
        "\n",
        "    #drop irrelevant columns or columns with data leakage issue\n",
        "    pattern = r'(?P<month>10)/(?P<day>\\d{1,2})/(?P<year>2005)'\n",
        "    games_df = games_df[~games_df['GAME_DATE'].str.contains(pattern)]\n",
        "\n",
        "    games_df.head()\n",
        "\n",
        "\n",
        "    # print(box_df.iloc[:, 1].unique())\n",
        "    # for key, value in nba_teams_dict.items():\n",
        "    #   print(f\"Key: {key}, Value: {value}\")\n",
        "    # print(games_df['HOME_TEAM'].unique())\n",
        "\n",
        "\n",
        "    # converts box_df home_team abbreviations to games_df home_team city name\n",
        "    unique_box_teams = set()\n",
        "    for index, row in games_df.iterrows():\n",
        "      # Check if the value exists as a key in nba_teams_dict\n",
        "      team_value = nba_teams_short2long_dict.get(box_df.iloc[index, 1])\n",
        "      if team_value is not None:\n",
        "          unique_box_teams.add(team_value)\n",
        "\n",
        "    print(len(unique_box_teams))\n",
        "    box_df = convert_dict_values(box_df, nba_teams_short2long_dict)\n",
        "\n",
        "    list_X = []\n",
        "\n",
        "    # create separate lists for home and away team for Siamese Network training\n",
        "    list_hometeam = []\n",
        "    list_awayteam = []\n",
        "\n",
        "    true_y = games_df.drop(columns=['GAME_DATE','HOME_TEAM','AWAY_TEAM','SEASON','PTS_HOME','PTS_AWAY'])\n",
        "    # drops all columns but 'HOME_TEAM_WINS'\n",
        "    true_y = torch.tensor(true_y.values)\n",
        "    list_true_y = []\n",
        "\n",
        "    for index, row in games_df.iterrows():\n",
        "        # print(sum(box_df.iloc[:, 0] == row['GAME_DATE'] )) #\"06/19/2016\")) #row['GAME_DATE'] ))\n",
        "        # print(sum(box_df.iloc[:, 1] == row['HOME_TEAM'] )) #nba_teams_dict.get(row['HOME_TEAM']) ))\n",
        "        box_row = box_df[ (box_df.iloc[:, 0] ==row['GAME_DATE'] ) &\n",
        "                          (box_df.iloc[:, 1] ==row['HOME_TEAM'] ) ]\n",
        "        ##bandit fix for now. some game does not have a corresponding box\n",
        "        ##TODO:: investigate.\n",
        "        if box_row.shape[0] == 0:\n",
        "          #TODO debug here\n",
        "          continue\n",
        "        #get values from column 2 to column 7 in box_row\n",
        "        # print(\"the box_row\")\n",
        "        # print(box_row)\n",
        "        # print(\"the box_row end\")\n",
        "        #+ home team, - away team.\n",
        "        # ti1_one_hot = multi_one_hot_encoding(box_row.iloc[:, 2:8].values, player_names)\n",
        "        # ti2_one_hot = multi_one_hot_encoding(box_row.iloc[:, 8:].values, player_names)\n",
        "        ti1_string = box_row.iloc[:, 2:8].values\n",
        "        ti2_string = box_row.iloc[:, 8:].values\n",
        "\n",
        "\n",
        "        # Ensure both lists have the same number of rows\n",
        "        if len(ti1_string) != len(ti2_string):\n",
        "            raise ValueError(\"Both 2D lists must have the same number of rows\")\n",
        "\n",
        "        # Concatenate the 2D lists column-wise\n",
        "        concatenated_array = np.concatenate((ti1_string, ti2_string), axis=1)\n",
        "\n",
        "        list_X.append(concatenated_array.tolist()[0])\n",
        "        list_true_y.append(true_y[index])\n",
        "\n",
        "        # print(box_row.iloc[:, 2:8].values)\n",
        "        # print(ti1_one_hot)\n",
        "        # print(box_row.iloc[:, 8:].values)\n",
        "        # print(ti2_one_hot)\n",
        "        # ti1 = torch.tensor(ti1_one_hot)\n",
        "        # ti2 = torch.tensor(ti2_one_hot)\n",
        "\n",
        "        # list_hometeam.append(ti1)\n",
        "        # list_awayteam.append(ti2)\n",
        "\n",
        "        # print(ti1)\n",
        "        # print(ti2)\n",
        "        # ti1 = teams_df[ (teams_df[\"Season\"]==row['SEASON'] ) &  (teams_df[\"Team\"]==row['HOME_TEAM'] ) ]\n",
        "        ## ti2 = teams_df[ (teams_df[\"Season\"]==row['SEASON'] ) &  (teams_df[\"Team\"]==row['AWAY_TEAM'] ) ]\n",
        "        # bs = box_df[ (box_df.iloc[:, 1]==row['SEASON'] )]\n",
        "        # #concatenate the two into x.\n",
        "        # #drop everything except team\n",
        "        # ti1 = ti1.drop(columns=['Season', 'Team'])\n",
        "        # ti1 = torch.tensor(ti1.values)\n",
        "        # # do the same thing with ti2\n",
        "        # ti2 = ti2.drop(columns=['Season', 'Team'])\n",
        "        # ti2 = torch.tensor(ti2.values)\n",
        "        # concatenate ti1 and ti2 as a row\n",
        "        # list_X.append(torch.cat((ti1, ti2), dim = 1))\n",
        "\n",
        "\n",
        "        # list_X.append(ti1-ti2)\n",
        "\n",
        "\n"
      ]
    },
    {
      "cell_type": "code",
      "execution_count": null,
      "metadata": {
        "colab": {
          "base_uri": "https://localhost:8080/",
          "height": 156
        },
        "id": "7NMA-l2PGQCp",
        "outputId": "b950d0fa-a6df-4784-9fb2-2303007f8a1a"
      },
      "outputs": [
        {
          "output_type": "error",
          "ename": "NameError",
          "evalue": "name 'list_X' is not defined",
          "traceback": [
            "\u001b[0;31m---------------------------------------------------------------------------\u001b[0m",
            "\u001b[0;31mNameError\u001b[0m                                 Traceback (most recent call last)",
            "\u001b[0;32m<ipython-input-20-acc51d7b60d8>\u001b[0m in \u001b[0;36m<cell line: 0>\u001b[0;34m()\u001b[0m\n\u001b[0;32m----> 1\u001b[0;31m \u001b[0mX\u001b[0m \u001b[0;34m=\u001b[0m \u001b[0mlist_X\u001b[0m\u001b[0;34m\u001b[0m\u001b[0;34m\u001b[0m\u001b[0m\n\u001b[0m\u001b[1;32m      2\u001b[0m \u001b[0my\u001b[0m \u001b[0;34m=\u001b[0m \u001b[0mlist_true_y\u001b[0m\u001b[0;34m\u001b[0m\u001b[0;34m\u001b[0m\u001b[0m\n",
            "\u001b[0;31mNameError\u001b[0m: name 'list_X' is not defined"
          ]
        }
      ],
      "source": [
        "X = list_X\n",
        "y = list_true_y"
      ]
    },
    {
      "cell_type": "markdown",
      "metadata": {
        "id": "ozLw094WWnrW"
      },
      "source": [
        "#Preprocessing casual LOL"
      ]
    },
    {
      "cell_type": "markdown",
      "metadata": {
        "id": "LJDrYA-hE8f8"
      },
      "source": [
        "https://www.kaggle.com/code/adityadesai13/visualisation-analysis-champions-overall-game\n",
        "\n",
        "\n",
        "the list of champion IDs\n",
        "https://www.kaggle.com/code/adityadesai13/visualisation-analysis-champions-overall-game/input"
      ]
    },
    {
      "cell_type": "code",
      "execution_count": 85,
      "metadata": {
        "colab": {
          "base_uri": "https://localhost:8080/"
        },
        "id": "-__tst2ZvnFU",
        "outputId": "7bfefc8a-8ccc-42d7-d561-d35f0449f12d"
      },
      "outputs": [
        {
          "output_type": "stream",
          "name": "stderr",
          "text": [
            "<ipython-input-85-25c846559941>:11: DtypeWarning: Columns (52) have mixed types. Specify dtype option on import or set low_memory=False.\n",
            "  stats2 = pd.read_csv(filepath)\n"
          ]
        }
      ],
      "source": [
        "colab_path = \"/content/gdrive/MyDrive/NBA/Public Games\"\n",
        "filepath = f\"{colab_path}/matches.csv\"\n",
        "matches = pd.read_csv(filepath)\n",
        "filepath = f\"{colab_path}/champs.csv\"\n",
        "champs = pd.read_csv(filepath)\n",
        "filepath = f\"{colab_path}/participants.csv\"\n",
        "participants = pd.read_csv(filepath)\n",
        "filepath = f\"{colab_path}/stats1.csv\"\n",
        "stats1 = pd.read_csv(filepath)\n",
        "filepath = f\"{colab_path}/stats2.csv\"\n",
        "stats2 = pd.read_csv(filepath)\n",
        "stats = pd.concat([stats1, stats2], ignore_index=True)\n",
        "filepath = f\"{colab_path}/teamstats.csv\"\n",
        "teamstats = pd.read_csv(filepath)"
      ]
    },
    {
      "cell_type": "code",
      "execution_count": 86,
      "metadata": {
        "colab": {
          "base_uri": "https://localhost:8080/",
          "height": 204
        },
        "id": "It-QlSbTKehd",
        "outputId": "8565fb9a-f4be-45dc-b104-4ae28a92fb4f"
      },
      "outputs": [
        {
          "output_type": "execute_result",
          "data": {
            "text/plain": [
              "   id      gameid platformid  queueid  seasonid  duration       creation  \\\n",
              "0  10  3187427022       EUW1      420         8      1909  1495068946860   \n",
              "1  11  3187425281       EUW1      420         8      1693  1495066760778   \n",
              "2  12  3187269801       EUW1      420         8      1482  1495053375889   \n",
              "3  13  3187252065       EUW1      420         8      1954  1495050993613   \n",
              "4  14  3187201038       EUW1      420         8      2067  1495047893400   \n",
              "\n",
              "         version  \n",
              "0  7.10.187.9675  \n",
              "1  7.10.187.9675  \n",
              "2  7.10.187.9675  \n",
              "3  7.10.187.9675  \n",
              "4  7.10.187.9675  "
            ],
            "text/html": [
              "\n",
              "  <div id=\"df-15710960-2f1f-4468-a192-66bb99a84b9a\" class=\"colab-df-container\">\n",
              "    <div>\n",
              "<style scoped>\n",
              "    .dataframe tbody tr th:only-of-type {\n",
              "        vertical-align: middle;\n",
              "    }\n",
              "\n",
              "    .dataframe tbody tr th {\n",
              "        vertical-align: top;\n",
              "    }\n",
              "\n",
              "    .dataframe thead th {\n",
              "        text-align: right;\n",
              "    }\n",
              "</style>\n",
              "<table border=\"1\" class=\"dataframe\">\n",
              "  <thead>\n",
              "    <tr style=\"text-align: right;\">\n",
              "      <th></th>\n",
              "      <th>id</th>\n",
              "      <th>gameid</th>\n",
              "      <th>platformid</th>\n",
              "      <th>queueid</th>\n",
              "      <th>seasonid</th>\n",
              "      <th>duration</th>\n",
              "      <th>creation</th>\n",
              "      <th>version</th>\n",
              "    </tr>\n",
              "  </thead>\n",
              "  <tbody>\n",
              "    <tr>\n",
              "      <th>0</th>\n",
              "      <td>10</td>\n",
              "      <td>3187427022</td>\n",
              "      <td>EUW1</td>\n",
              "      <td>420</td>\n",
              "      <td>8</td>\n",
              "      <td>1909</td>\n",
              "      <td>1495068946860</td>\n",
              "      <td>7.10.187.9675</td>\n",
              "    </tr>\n",
              "    <tr>\n",
              "      <th>1</th>\n",
              "      <td>11</td>\n",
              "      <td>3187425281</td>\n",
              "      <td>EUW1</td>\n",
              "      <td>420</td>\n",
              "      <td>8</td>\n",
              "      <td>1693</td>\n",
              "      <td>1495066760778</td>\n",
              "      <td>7.10.187.9675</td>\n",
              "    </tr>\n",
              "    <tr>\n",
              "      <th>2</th>\n",
              "      <td>12</td>\n",
              "      <td>3187269801</td>\n",
              "      <td>EUW1</td>\n",
              "      <td>420</td>\n",
              "      <td>8</td>\n",
              "      <td>1482</td>\n",
              "      <td>1495053375889</td>\n",
              "      <td>7.10.187.9675</td>\n",
              "    </tr>\n",
              "    <tr>\n",
              "      <th>3</th>\n",
              "      <td>13</td>\n",
              "      <td>3187252065</td>\n",
              "      <td>EUW1</td>\n",
              "      <td>420</td>\n",
              "      <td>8</td>\n",
              "      <td>1954</td>\n",
              "      <td>1495050993613</td>\n",
              "      <td>7.10.187.9675</td>\n",
              "    </tr>\n",
              "    <tr>\n",
              "      <th>4</th>\n",
              "      <td>14</td>\n",
              "      <td>3187201038</td>\n",
              "      <td>EUW1</td>\n",
              "      <td>420</td>\n",
              "      <td>8</td>\n",
              "      <td>2067</td>\n",
              "      <td>1495047893400</td>\n",
              "      <td>7.10.187.9675</td>\n",
              "    </tr>\n",
              "  </tbody>\n",
              "</table>\n",
              "</div>\n",
              "    <div class=\"colab-df-buttons\">\n",
              "\n",
              "  <div class=\"colab-df-container\">\n",
              "    <button class=\"colab-df-convert\" onclick=\"convertToInteractive('df-15710960-2f1f-4468-a192-66bb99a84b9a')\"\n",
              "            title=\"Convert this dataframe to an interactive table.\"\n",
              "            style=\"display:none;\">\n",
              "\n",
              "  <svg xmlns=\"http://www.w3.org/2000/svg\" height=\"24px\" viewBox=\"0 -960 960 960\">\n",
              "    <path d=\"M120-120v-720h720v720H120Zm60-500h600v-160H180v160Zm220 220h160v-160H400v160Zm0 220h160v-160H400v160ZM180-400h160v-160H180v160Zm440 0h160v-160H620v160ZM180-180h160v-160H180v160Zm440 0h160v-160H620v160Z\"/>\n",
              "  </svg>\n",
              "    </button>\n",
              "\n",
              "  <style>\n",
              "    .colab-df-container {\n",
              "      display:flex;\n",
              "      gap: 12px;\n",
              "    }\n",
              "\n",
              "    .colab-df-convert {\n",
              "      background-color: #E8F0FE;\n",
              "      border: none;\n",
              "      border-radius: 50%;\n",
              "      cursor: pointer;\n",
              "      display: none;\n",
              "      fill: #1967D2;\n",
              "      height: 32px;\n",
              "      padding: 0 0 0 0;\n",
              "      width: 32px;\n",
              "    }\n",
              "\n",
              "    .colab-df-convert:hover {\n",
              "      background-color: #E2EBFA;\n",
              "      box-shadow: 0px 1px 2px rgba(60, 64, 67, 0.3), 0px 1px 3px 1px rgba(60, 64, 67, 0.15);\n",
              "      fill: #174EA6;\n",
              "    }\n",
              "\n",
              "    .colab-df-buttons div {\n",
              "      margin-bottom: 4px;\n",
              "    }\n",
              "\n",
              "    [theme=dark] .colab-df-convert {\n",
              "      background-color: #3B4455;\n",
              "      fill: #D2E3FC;\n",
              "    }\n",
              "\n",
              "    [theme=dark] .colab-df-convert:hover {\n",
              "      background-color: #434B5C;\n",
              "      box-shadow: 0px 1px 3px 1px rgba(0, 0, 0, 0.15);\n",
              "      filter: drop-shadow(0px 1px 2px rgba(0, 0, 0, 0.3));\n",
              "      fill: #FFFFFF;\n",
              "    }\n",
              "  </style>\n",
              "\n",
              "    <script>\n",
              "      const buttonEl =\n",
              "        document.querySelector('#df-15710960-2f1f-4468-a192-66bb99a84b9a button.colab-df-convert');\n",
              "      buttonEl.style.display =\n",
              "        google.colab.kernel.accessAllowed ? 'block' : 'none';\n",
              "\n",
              "      async function convertToInteractive(key) {\n",
              "        const element = document.querySelector('#df-15710960-2f1f-4468-a192-66bb99a84b9a');\n",
              "        const dataTable =\n",
              "          await google.colab.kernel.invokeFunction('convertToInteractive',\n",
              "                                                    [key], {});\n",
              "        if (!dataTable) return;\n",
              "\n",
              "        const docLinkHtml = 'Like what you see? Visit the ' +\n",
              "          '<a target=\"_blank\" href=https://colab.research.google.com/notebooks/data_table.ipynb>data table notebook</a>'\n",
              "          + ' to learn more about interactive tables.';\n",
              "        element.innerHTML = '';\n",
              "        dataTable['output_type'] = 'display_data';\n",
              "        await google.colab.output.renderOutput(dataTable, element);\n",
              "        const docLink = document.createElement('div');\n",
              "        docLink.innerHTML = docLinkHtml;\n",
              "        element.appendChild(docLink);\n",
              "      }\n",
              "    </script>\n",
              "  </div>\n",
              "\n",
              "\n",
              "    <div id=\"df-15b883b0-aeaa-4efc-afea-eae882eaacea\">\n",
              "      <button class=\"colab-df-quickchart\" onclick=\"quickchart('df-15b883b0-aeaa-4efc-afea-eae882eaacea')\"\n",
              "                title=\"Suggest charts\"\n",
              "                style=\"display:none;\">\n",
              "\n",
              "<svg xmlns=\"http://www.w3.org/2000/svg\" height=\"24px\"viewBox=\"0 0 24 24\"\n",
              "     width=\"24px\">\n",
              "    <g>\n",
              "        <path d=\"M19 3H5c-1.1 0-2 .9-2 2v14c0 1.1.9 2 2 2h14c1.1 0 2-.9 2-2V5c0-1.1-.9-2-2-2zM9 17H7v-7h2v7zm4 0h-2V7h2v10zm4 0h-2v-4h2v4z\"/>\n",
              "    </g>\n",
              "</svg>\n",
              "      </button>\n",
              "\n",
              "<style>\n",
              "  .colab-df-quickchart {\n",
              "      --bg-color: #E8F0FE;\n",
              "      --fill-color: #1967D2;\n",
              "      --hover-bg-color: #E2EBFA;\n",
              "      --hover-fill-color: #174EA6;\n",
              "      --disabled-fill-color: #AAA;\n",
              "      --disabled-bg-color: #DDD;\n",
              "  }\n",
              "\n",
              "  [theme=dark] .colab-df-quickchart {\n",
              "      --bg-color: #3B4455;\n",
              "      --fill-color: #D2E3FC;\n",
              "      --hover-bg-color: #434B5C;\n",
              "      --hover-fill-color: #FFFFFF;\n",
              "      --disabled-bg-color: #3B4455;\n",
              "      --disabled-fill-color: #666;\n",
              "  }\n",
              "\n",
              "  .colab-df-quickchart {\n",
              "    background-color: var(--bg-color);\n",
              "    border: none;\n",
              "    border-radius: 50%;\n",
              "    cursor: pointer;\n",
              "    display: none;\n",
              "    fill: var(--fill-color);\n",
              "    height: 32px;\n",
              "    padding: 0;\n",
              "    width: 32px;\n",
              "  }\n",
              "\n",
              "  .colab-df-quickchart:hover {\n",
              "    background-color: var(--hover-bg-color);\n",
              "    box-shadow: 0 1px 2px rgba(60, 64, 67, 0.3), 0 1px 3px 1px rgba(60, 64, 67, 0.15);\n",
              "    fill: var(--button-hover-fill-color);\n",
              "  }\n",
              "\n",
              "  .colab-df-quickchart-complete:disabled,\n",
              "  .colab-df-quickchart-complete:disabled:hover {\n",
              "    background-color: var(--disabled-bg-color);\n",
              "    fill: var(--disabled-fill-color);\n",
              "    box-shadow: none;\n",
              "  }\n",
              "\n",
              "  .colab-df-spinner {\n",
              "    border: 2px solid var(--fill-color);\n",
              "    border-color: transparent;\n",
              "    border-bottom-color: var(--fill-color);\n",
              "    animation:\n",
              "      spin 1s steps(1) infinite;\n",
              "  }\n",
              "\n",
              "  @keyframes spin {\n",
              "    0% {\n",
              "      border-color: transparent;\n",
              "      border-bottom-color: var(--fill-color);\n",
              "      border-left-color: var(--fill-color);\n",
              "    }\n",
              "    20% {\n",
              "      border-color: transparent;\n",
              "      border-left-color: var(--fill-color);\n",
              "      border-top-color: var(--fill-color);\n",
              "    }\n",
              "    30% {\n",
              "      border-color: transparent;\n",
              "      border-left-color: var(--fill-color);\n",
              "      border-top-color: var(--fill-color);\n",
              "      border-right-color: var(--fill-color);\n",
              "    }\n",
              "    40% {\n",
              "      border-color: transparent;\n",
              "      border-right-color: var(--fill-color);\n",
              "      border-top-color: var(--fill-color);\n",
              "    }\n",
              "    60% {\n",
              "      border-color: transparent;\n",
              "      border-right-color: var(--fill-color);\n",
              "    }\n",
              "    80% {\n",
              "      border-color: transparent;\n",
              "      border-right-color: var(--fill-color);\n",
              "      border-bottom-color: var(--fill-color);\n",
              "    }\n",
              "    90% {\n",
              "      border-color: transparent;\n",
              "      border-bottom-color: var(--fill-color);\n",
              "    }\n",
              "  }\n",
              "</style>\n",
              "\n",
              "      <script>\n",
              "        async function quickchart(key) {\n",
              "          const quickchartButtonEl =\n",
              "            document.querySelector('#' + key + ' button');\n",
              "          quickchartButtonEl.disabled = true;  // To prevent multiple clicks.\n",
              "          quickchartButtonEl.classList.add('colab-df-spinner');\n",
              "          try {\n",
              "            const charts = await google.colab.kernel.invokeFunction(\n",
              "                'suggestCharts', [key], {});\n",
              "          } catch (error) {\n",
              "            console.error('Error during call to suggestCharts:', error);\n",
              "          }\n",
              "          quickchartButtonEl.classList.remove('colab-df-spinner');\n",
              "          quickchartButtonEl.classList.add('colab-df-quickchart-complete');\n",
              "        }\n",
              "        (() => {\n",
              "          let quickchartButtonEl =\n",
              "            document.querySelector('#df-15b883b0-aeaa-4efc-afea-eae882eaacea button');\n",
              "          quickchartButtonEl.style.display =\n",
              "            google.colab.kernel.accessAllowed ? 'block' : 'none';\n",
              "        })();\n",
              "      </script>\n",
              "    </div>\n",
              "\n",
              "    </div>\n",
              "  </div>\n"
            ],
            "application/vnd.google.colaboratory.intrinsic+json": {
              "type": "dataframe",
              "variable_name": "matches"
            }
          },
          "metadata": {},
          "execution_count": 86
        }
      ],
      "source": [
        "matches.head()"
      ]
    },
    {
      "cell_type": "code",
      "execution_count": 87,
      "metadata": {
        "colab": {
          "base_uri": "https://localhost:8080/",
          "height": 253
        },
        "id": "rq1HhJXyxUzW",
        "outputId": "3fff5d4c-e726-4d5c-e5b5-37d48282bbc6"
      },
      "outputs": [
        {
          "output_type": "execute_result",
          "data": {
            "text/plain": [
              "   id  matchid  player  championid  ss1  ss2         role position  win  \\\n",
              "0   9       10       1          19    4   11         NONE   JUNGLE  0.0   \n",
              "1  10       10       2         267    3    4  DUO_SUPPORT      BOT  0.0   \n",
              "2  11       10       3         119    7    4    DUO_CARRY      BOT  0.0   \n",
              "3  12       10       4         114   12    4         SOLO      TOP  0.0   \n",
              "4  13       10       5         112    4    3         SOLO      MID  0.0   \n",
              "\n",
              "    item1  ...     name  id_y  id_y      gameid  platformid  queueid  \\\n",
              "0  3748.0  ...  Warwick    19    10  3187427022        EUW1      420   \n",
              "1  2301.0  ...     Nami   267    10  3187427022        EUW1      420   \n",
              "2  1055.0  ...   Draven   119    10  3187427022        EUW1      420   \n",
              "3  1029.0  ...    Fiora   114    10  3187427022        EUW1      420   \n",
              "4  3020.0  ...   Viktor   112    10  3187427022        EUW1      420   \n",
              "\n",
              "   seasonid  duration       creation        version  \n",
              "0         8      1909  1495068946860  7.10.187.9675  \n",
              "1         8      1909  1495068946860  7.10.187.9675  \n",
              "2         8      1909  1495068946860  7.10.187.9675  \n",
              "3         8      1909  1495068946860  7.10.187.9675  \n",
              "4         8      1909  1495068946860  7.10.187.9675  \n",
              "\n",
              "[5 rows x 73 columns]"
            ],
            "text/html": [
              "\n",
              "  <div id=\"df-73ba39e3-65f1-458d-95db-528ed38fff11\" class=\"colab-df-container\">\n",
              "    <div>\n",
              "<style scoped>\n",
              "    .dataframe tbody tr th:only-of-type {\n",
              "        vertical-align: middle;\n",
              "    }\n",
              "\n",
              "    .dataframe tbody tr th {\n",
              "        vertical-align: top;\n",
              "    }\n",
              "\n",
              "    .dataframe thead th {\n",
              "        text-align: right;\n",
              "    }\n",
              "</style>\n",
              "<table border=\"1\" class=\"dataframe\">\n",
              "  <thead>\n",
              "    <tr style=\"text-align: right;\">\n",
              "      <th></th>\n",
              "      <th>id</th>\n",
              "      <th>matchid</th>\n",
              "      <th>player</th>\n",
              "      <th>championid</th>\n",
              "      <th>ss1</th>\n",
              "      <th>ss2</th>\n",
              "      <th>role</th>\n",
              "      <th>position</th>\n",
              "      <th>win</th>\n",
              "      <th>item1</th>\n",
              "      <th>...</th>\n",
              "      <th>name</th>\n",
              "      <th>id_y</th>\n",
              "      <th>id_y</th>\n",
              "      <th>gameid</th>\n",
              "      <th>platformid</th>\n",
              "      <th>queueid</th>\n",
              "      <th>seasonid</th>\n",
              "      <th>duration</th>\n",
              "      <th>creation</th>\n",
              "      <th>version</th>\n",
              "    </tr>\n",
              "  </thead>\n",
              "  <tbody>\n",
              "    <tr>\n",
              "      <th>0</th>\n",
              "      <td>9</td>\n",
              "      <td>10</td>\n",
              "      <td>1</td>\n",
              "      <td>19</td>\n",
              "      <td>4</td>\n",
              "      <td>11</td>\n",
              "      <td>NONE</td>\n",
              "      <td>JUNGLE</td>\n",
              "      <td>0.0</td>\n",
              "      <td>3748.0</td>\n",
              "      <td>...</td>\n",
              "      <td>Warwick</td>\n",
              "      <td>19</td>\n",
              "      <td>10</td>\n",
              "      <td>3187427022</td>\n",
              "      <td>EUW1</td>\n",
              "      <td>420</td>\n",
              "      <td>8</td>\n",
              "      <td>1909</td>\n",
              "      <td>1495068946860</td>\n",
              "      <td>7.10.187.9675</td>\n",
              "    </tr>\n",
              "    <tr>\n",
              "      <th>1</th>\n",
              "      <td>10</td>\n",
              "      <td>10</td>\n",
              "      <td>2</td>\n",
              "      <td>267</td>\n",
              "      <td>3</td>\n",
              "      <td>4</td>\n",
              "      <td>DUO_SUPPORT</td>\n",
              "      <td>BOT</td>\n",
              "      <td>0.0</td>\n",
              "      <td>2301.0</td>\n",
              "      <td>...</td>\n",
              "      <td>Nami</td>\n",
              "      <td>267</td>\n",
              "      <td>10</td>\n",
              "      <td>3187427022</td>\n",
              "      <td>EUW1</td>\n",
              "      <td>420</td>\n",
              "      <td>8</td>\n",
              "      <td>1909</td>\n",
              "      <td>1495068946860</td>\n",
              "      <td>7.10.187.9675</td>\n",
              "    </tr>\n",
              "    <tr>\n",
              "      <th>2</th>\n",
              "      <td>11</td>\n",
              "      <td>10</td>\n",
              "      <td>3</td>\n",
              "      <td>119</td>\n",
              "      <td>7</td>\n",
              "      <td>4</td>\n",
              "      <td>DUO_CARRY</td>\n",
              "      <td>BOT</td>\n",
              "      <td>0.0</td>\n",
              "      <td>1055.0</td>\n",
              "      <td>...</td>\n",
              "      <td>Draven</td>\n",
              "      <td>119</td>\n",
              "      <td>10</td>\n",
              "      <td>3187427022</td>\n",
              "      <td>EUW1</td>\n",
              "      <td>420</td>\n",
              "      <td>8</td>\n",
              "      <td>1909</td>\n",
              "      <td>1495068946860</td>\n",
              "      <td>7.10.187.9675</td>\n",
              "    </tr>\n",
              "    <tr>\n",
              "      <th>3</th>\n",
              "      <td>12</td>\n",
              "      <td>10</td>\n",
              "      <td>4</td>\n",
              "      <td>114</td>\n",
              "      <td>12</td>\n",
              "      <td>4</td>\n",
              "      <td>SOLO</td>\n",
              "      <td>TOP</td>\n",
              "      <td>0.0</td>\n",
              "      <td>1029.0</td>\n",
              "      <td>...</td>\n",
              "      <td>Fiora</td>\n",
              "      <td>114</td>\n",
              "      <td>10</td>\n",
              "      <td>3187427022</td>\n",
              "      <td>EUW1</td>\n",
              "      <td>420</td>\n",
              "      <td>8</td>\n",
              "      <td>1909</td>\n",
              "      <td>1495068946860</td>\n",
              "      <td>7.10.187.9675</td>\n",
              "    </tr>\n",
              "    <tr>\n",
              "      <th>4</th>\n",
              "      <td>13</td>\n",
              "      <td>10</td>\n",
              "      <td>5</td>\n",
              "      <td>112</td>\n",
              "      <td>4</td>\n",
              "      <td>3</td>\n",
              "      <td>SOLO</td>\n",
              "      <td>MID</td>\n",
              "      <td>0.0</td>\n",
              "      <td>3020.0</td>\n",
              "      <td>...</td>\n",
              "      <td>Viktor</td>\n",
              "      <td>112</td>\n",
              "      <td>10</td>\n",
              "      <td>3187427022</td>\n",
              "      <td>EUW1</td>\n",
              "      <td>420</td>\n",
              "      <td>8</td>\n",
              "      <td>1909</td>\n",
              "      <td>1495068946860</td>\n",
              "      <td>7.10.187.9675</td>\n",
              "    </tr>\n",
              "  </tbody>\n",
              "</table>\n",
              "<p>5 rows × 73 columns</p>\n",
              "</div>\n",
              "    <div class=\"colab-df-buttons\">\n",
              "\n",
              "  <div class=\"colab-df-container\">\n",
              "    <button class=\"colab-df-convert\" onclick=\"convertToInteractive('df-73ba39e3-65f1-458d-95db-528ed38fff11')\"\n",
              "            title=\"Convert this dataframe to an interactive table.\"\n",
              "            style=\"display:none;\">\n",
              "\n",
              "  <svg xmlns=\"http://www.w3.org/2000/svg\" height=\"24px\" viewBox=\"0 -960 960 960\">\n",
              "    <path d=\"M120-120v-720h720v720H120Zm60-500h600v-160H180v160Zm220 220h160v-160H400v160Zm0 220h160v-160H400v160ZM180-400h160v-160H180v160Zm440 0h160v-160H620v160ZM180-180h160v-160H180v160Zm440 0h160v-160H620v160Z\"/>\n",
              "  </svg>\n",
              "    </button>\n",
              "\n",
              "  <style>\n",
              "    .colab-df-container {\n",
              "      display:flex;\n",
              "      gap: 12px;\n",
              "    }\n",
              "\n",
              "    .colab-df-convert {\n",
              "      background-color: #E8F0FE;\n",
              "      border: none;\n",
              "      border-radius: 50%;\n",
              "      cursor: pointer;\n",
              "      display: none;\n",
              "      fill: #1967D2;\n",
              "      height: 32px;\n",
              "      padding: 0 0 0 0;\n",
              "      width: 32px;\n",
              "    }\n",
              "\n",
              "    .colab-df-convert:hover {\n",
              "      background-color: #E2EBFA;\n",
              "      box-shadow: 0px 1px 2px rgba(60, 64, 67, 0.3), 0px 1px 3px 1px rgba(60, 64, 67, 0.15);\n",
              "      fill: #174EA6;\n",
              "    }\n",
              "\n",
              "    .colab-df-buttons div {\n",
              "      margin-bottom: 4px;\n",
              "    }\n",
              "\n",
              "    [theme=dark] .colab-df-convert {\n",
              "      background-color: #3B4455;\n",
              "      fill: #D2E3FC;\n",
              "    }\n",
              "\n",
              "    [theme=dark] .colab-df-convert:hover {\n",
              "      background-color: #434B5C;\n",
              "      box-shadow: 0px 1px 3px 1px rgba(0, 0, 0, 0.15);\n",
              "      filter: drop-shadow(0px 1px 2px rgba(0, 0, 0, 0.3));\n",
              "      fill: #FFFFFF;\n",
              "    }\n",
              "  </style>\n",
              "\n",
              "    <script>\n",
              "      const buttonEl =\n",
              "        document.querySelector('#df-73ba39e3-65f1-458d-95db-528ed38fff11 button.colab-df-convert');\n",
              "      buttonEl.style.display =\n",
              "        google.colab.kernel.accessAllowed ? 'block' : 'none';\n",
              "\n",
              "      async function convertToInteractive(key) {\n",
              "        const element = document.querySelector('#df-73ba39e3-65f1-458d-95db-528ed38fff11');\n",
              "        const dataTable =\n",
              "          await google.colab.kernel.invokeFunction('convertToInteractive',\n",
              "                                                    [key], {});\n",
              "        if (!dataTable) return;\n",
              "\n",
              "        const docLinkHtml = 'Like what you see? Visit the ' +\n",
              "          '<a target=\"_blank\" href=https://colab.research.google.com/notebooks/data_table.ipynb>data table notebook</a>'\n",
              "          + ' to learn more about interactive tables.';\n",
              "        element.innerHTML = '';\n",
              "        dataTable['output_type'] = 'display_data';\n",
              "        await google.colab.output.renderOutput(dataTable, element);\n",
              "        const docLink = document.createElement('div');\n",
              "        docLink.innerHTML = docLinkHtml;\n",
              "        element.appendChild(docLink);\n",
              "      }\n",
              "    </script>\n",
              "  </div>\n",
              "\n",
              "\n",
              "    <div id=\"df-168f1fed-2d58-441e-9af3-2112b04b68a2\">\n",
              "      <button class=\"colab-df-quickchart\" onclick=\"quickchart('df-168f1fed-2d58-441e-9af3-2112b04b68a2')\"\n",
              "                title=\"Suggest charts\"\n",
              "                style=\"display:none;\">\n",
              "\n",
              "<svg xmlns=\"http://www.w3.org/2000/svg\" height=\"24px\"viewBox=\"0 0 24 24\"\n",
              "     width=\"24px\">\n",
              "    <g>\n",
              "        <path d=\"M19 3H5c-1.1 0-2 .9-2 2v14c0 1.1.9 2 2 2h14c1.1 0 2-.9 2-2V5c0-1.1-.9-2-2-2zM9 17H7v-7h2v7zm4 0h-2V7h2v10zm4 0h-2v-4h2v4z\"/>\n",
              "    </g>\n",
              "</svg>\n",
              "      </button>\n",
              "\n",
              "<style>\n",
              "  .colab-df-quickchart {\n",
              "      --bg-color: #E8F0FE;\n",
              "      --fill-color: #1967D2;\n",
              "      --hover-bg-color: #E2EBFA;\n",
              "      --hover-fill-color: #174EA6;\n",
              "      --disabled-fill-color: #AAA;\n",
              "      --disabled-bg-color: #DDD;\n",
              "  }\n",
              "\n",
              "  [theme=dark] .colab-df-quickchart {\n",
              "      --bg-color: #3B4455;\n",
              "      --fill-color: #D2E3FC;\n",
              "      --hover-bg-color: #434B5C;\n",
              "      --hover-fill-color: #FFFFFF;\n",
              "      --disabled-bg-color: #3B4455;\n",
              "      --disabled-fill-color: #666;\n",
              "  }\n",
              "\n",
              "  .colab-df-quickchart {\n",
              "    background-color: var(--bg-color);\n",
              "    border: none;\n",
              "    border-radius: 50%;\n",
              "    cursor: pointer;\n",
              "    display: none;\n",
              "    fill: var(--fill-color);\n",
              "    height: 32px;\n",
              "    padding: 0;\n",
              "    width: 32px;\n",
              "  }\n",
              "\n",
              "  .colab-df-quickchart:hover {\n",
              "    background-color: var(--hover-bg-color);\n",
              "    box-shadow: 0 1px 2px rgba(60, 64, 67, 0.3), 0 1px 3px 1px rgba(60, 64, 67, 0.15);\n",
              "    fill: var(--button-hover-fill-color);\n",
              "  }\n",
              "\n",
              "  .colab-df-quickchart-complete:disabled,\n",
              "  .colab-df-quickchart-complete:disabled:hover {\n",
              "    background-color: var(--disabled-bg-color);\n",
              "    fill: var(--disabled-fill-color);\n",
              "    box-shadow: none;\n",
              "  }\n",
              "\n",
              "  .colab-df-spinner {\n",
              "    border: 2px solid var(--fill-color);\n",
              "    border-color: transparent;\n",
              "    border-bottom-color: var(--fill-color);\n",
              "    animation:\n",
              "      spin 1s steps(1) infinite;\n",
              "  }\n",
              "\n",
              "  @keyframes spin {\n",
              "    0% {\n",
              "      border-color: transparent;\n",
              "      border-bottom-color: var(--fill-color);\n",
              "      border-left-color: var(--fill-color);\n",
              "    }\n",
              "    20% {\n",
              "      border-color: transparent;\n",
              "      border-left-color: var(--fill-color);\n",
              "      border-top-color: var(--fill-color);\n",
              "    }\n",
              "    30% {\n",
              "      border-color: transparent;\n",
              "      border-left-color: var(--fill-color);\n",
              "      border-top-color: var(--fill-color);\n",
              "      border-right-color: var(--fill-color);\n",
              "    }\n",
              "    40% {\n",
              "      border-color: transparent;\n",
              "      border-right-color: var(--fill-color);\n",
              "      border-top-color: var(--fill-color);\n",
              "    }\n",
              "    60% {\n",
              "      border-color: transparent;\n",
              "      border-right-color: var(--fill-color);\n",
              "    }\n",
              "    80% {\n",
              "      border-color: transparent;\n",
              "      border-right-color: var(--fill-color);\n",
              "      border-bottom-color: var(--fill-color);\n",
              "    }\n",
              "    90% {\n",
              "      border-color: transparent;\n",
              "      border-bottom-color: var(--fill-color);\n",
              "    }\n",
              "  }\n",
              "</style>\n",
              "\n",
              "      <script>\n",
              "        async function quickchart(key) {\n",
              "          const quickchartButtonEl =\n",
              "            document.querySelector('#' + key + ' button');\n",
              "          quickchartButtonEl.disabled = true;  // To prevent multiple clicks.\n",
              "          quickchartButtonEl.classList.add('colab-df-spinner');\n",
              "          try {\n",
              "            const charts = await google.colab.kernel.invokeFunction(\n",
              "                'suggestCharts', [key], {});\n",
              "          } catch (error) {\n",
              "            console.error('Error during call to suggestCharts:', error);\n",
              "          }\n",
              "          quickchartButtonEl.classList.remove('colab-df-spinner');\n",
              "          quickchartButtonEl.classList.add('colab-df-quickchart-complete');\n",
              "        }\n",
              "        (() => {\n",
              "          let quickchartButtonEl =\n",
              "            document.querySelector('#df-168f1fed-2d58-441e-9af3-2112b04b68a2 button');\n",
              "          quickchartButtonEl.style.display =\n",
              "            google.colab.kernel.accessAllowed ? 'block' : 'none';\n",
              "        })();\n",
              "      </script>\n",
              "    </div>\n",
              "\n",
              "    </div>\n",
              "  </div>\n"
            ],
            "application/vnd.google.colaboratory.intrinsic+json": {
              "type": "dataframe",
              "variable_name": "df"
            }
          },
          "metadata": {},
          "execution_count": 87
        }
      ],
      "source": [
        "df = pd.merge(participants, stats, how = 'left', on = ['id'], suffixes=('', '_y'))\n",
        "df = pd.merge(df, champs, how = 'left', left_on = 'championid', right_on = 'id', suffixes=('', '_y'))\n",
        "df = pd.merge(df, matches, how = 'left', left_on = 'matchid', right_on = 'id', suffixes=('', '_y'))\n",
        "df.head()"
      ]
    },
    {
      "cell_type": "code",
      "execution_count": 88,
      "metadata": {
        "colab": {
          "base_uri": "https://localhost:8080/"
        },
        "id": "880O83PMvmsh",
        "outputId": "7c4fbbdc-5f4b-4b40-8b79-bc45f218f449"
      },
      "outputs": [
        {
          "output_type": "execute_result",
          "data": {
            "text/plain": [
              "Index(['id', 'matchid', 'player', 'championid', 'ss1', 'ss2', 'role',\n",
              "       'position', 'win', 'item1', 'item2', 'item3', 'item4', 'item5', 'item6',\n",
              "       'trinket', 'kills', 'deaths', 'assists', 'largestkillingspree',\n",
              "       'largestmultikill', 'killingsprees', 'longesttimespentliving',\n",
              "       'doublekills', 'triplekills', 'quadrakills', 'pentakills',\n",
              "       'legendarykills', 'totdmgdealt', 'magicdmgdealt', 'physicaldmgdealt',\n",
              "       'truedmgdealt', 'largestcrit', 'totdmgtochamp', 'magicdmgtochamp',\n",
              "       'physdmgtochamp', 'truedmgtochamp', 'totheal', 'totunitshealed',\n",
              "       'dmgselfmit', 'dmgtoobj', 'dmgtoturrets', 'visionscore', 'timecc',\n",
              "       'totdmgtaken', 'magicdmgtaken', 'physdmgtaken', 'truedmgtaken',\n",
              "       'goldearned', 'goldspent', 'turretkills', 'inhibkills',\n",
              "       'totminionskilled', 'neutralminionskilled', 'ownjunglekills',\n",
              "       'enemyjunglekills', 'totcctimedealt', 'champlvl', 'pinksbought',\n",
              "       'wardsbought', 'wardsplaced', 'wardskilled', 'firstblood', 'name',\n",
              "       'id_y', 'id_y', 'gameid', 'platformid', 'queueid', 'seasonid',\n",
              "       'duration', 'creation', 'version'],\n",
              "      dtype='object')"
            ]
          },
          "metadata": {},
          "execution_count": 88
        }
      ],
      "source": [
        "df.columns"
      ]
    },
    {
      "cell_type": "code",
      "execution_count": 89,
      "metadata": {
        "id": "zAhrYGDrxb11"
      },
      "outputs": [],
      "source": [
        "df = df[[\"matchid\", \"championid\", \"win\", \"gameid\", \"queueid\"]] ## TODO, add more info\n",
        "df = df[df[\"queueid\"] == 420]\n",
        "df = df.drop(columns=[\"queueid\"])"
      ]
    },
    {
      "cell_type": "code",
      "execution_count": 90,
      "metadata": {
        "colab": {
          "base_uri": "https://localhost:8080/",
          "height": 731
        },
        "id": "y7XZOd6fyr8f",
        "outputId": "39906aff-6c06-4a67-c8b0-46b9990d9062"
      },
      "outputs": [
        {
          "output_type": "execute_result",
          "data": {
            "text/plain": [
              "    matchid  championid  win      gameid\n",
              "0        10          19  0.0  3187427022\n",
              "1        10         267  0.0  3187427022\n",
              "2        10         119  0.0  3187427022\n",
              "3        10         114  0.0  3187427022\n",
              "4        10         112  0.0  3187427022\n",
              "5        10          72  1.0  3187427022\n",
              "6        10           3  1.0  3187427022\n",
              "7        10         103  1.0  3187427022\n",
              "8        10         222  1.0  3187427022\n",
              "9        10         161  1.0  3187427022\n",
              "10       11         115  0.0  3187425281\n",
              "11       11          69  0.0  3187425281\n",
              "12       11         157  0.0  3187425281\n",
              "13       11           4  0.0  3187425281\n",
              "14       11          28  0.0  3187425281\n",
              "15       11          51  1.0  3187425281\n",
              "16       11          62  1.0  3187425281\n",
              "17       11         134  1.0  3187425281\n",
              "18       11          43  1.0  3187425281\n",
              "19       11          19  1.0  3187425281\n",
              "20       12         119  0.0  3187269801\n",
              "21       12          40  0.0  3187269801"
            ],
            "text/html": [
              "\n",
              "  <div id=\"df-d68120c7-e283-4064-8584-c3ac6e828894\" class=\"colab-df-container\">\n",
              "    <div>\n",
              "<style scoped>\n",
              "    .dataframe tbody tr th:only-of-type {\n",
              "        vertical-align: middle;\n",
              "    }\n",
              "\n",
              "    .dataframe tbody tr th {\n",
              "        vertical-align: top;\n",
              "    }\n",
              "\n",
              "    .dataframe thead th {\n",
              "        text-align: right;\n",
              "    }\n",
              "</style>\n",
              "<table border=\"1\" class=\"dataframe\">\n",
              "  <thead>\n",
              "    <tr style=\"text-align: right;\">\n",
              "      <th></th>\n",
              "      <th>matchid</th>\n",
              "      <th>championid</th>\n",
              "      <th>win</th>\n",
              "      <th>gameid</th>\n",
              "    </tr>\n",
              "  </thead>\n",
              "  <tbody>\n",
              "    <tr>\n",
              "      <th>0</th>\n",
              "      <td>10</td>\n",
              "      <td>19</td>\n",
              "      <td>0.0</td>\n",
              "      <td>3187427022</td>\n",
              "    </tr>\n",
              "    <tr>\n",
              "      <th>1</th>\n",
              "      <td>10</td>\n",
              "      <td>267</td>\n",
              "      <td>0.0</td>\n",
              "      <td>3187427022</td>\n",
              "    </tr>\n",
              "    <tr>\n",
              "      <th>2</th>\n",
              "      <td>10</td>\n",
              "      <td>119</td>\n",
              "      <td>0.0</td>\n",
              "      <td>3187427022</td>\n",
              "    </tr>\n",
              "    <tr>\n",
              "      <th>3</th>\n",
              "      <td>10</td>\n",
              "      <td>114</td>\n",
              "      <td>0.0</td>\n",
              "      <td>3187427022</td>\n",
              "    </tr>\n",
              "    <tr>\n",
              "      <th>4</th>\n",
              "      <td>10</td>\n",
              "      <td>112</td>\n",
              "      <td>0.0</td>\n",
              "      <td>3187427022</td>\n",
              "    </tr>\n",
              "    <tr>\n",
              "      <th>5</th>\n",
              "      <td>10</td>\n",
              "      <td>72</td>\n",
              "      <td>1.0</td>\n",
              "      <td>3187427022</td>\n",
              "    </tr>\n",
              "    <tr>\n",
              "      <th>6</th>\n",
              "      <td>10</td>\n",
              "      <td>3</td>\n",
              "      <td>1.0</td>\n",
              "      <td>3187427022</td>\n",
              "    </tr>\n",
              "    <tr>\n",
              "      <th>7</th>\n",
              "      <td>10</td>\n",
              "      <td>103</td>\n",
              "      <td>1.0</td>\n",
              "      <td>3187427022</td>\n",
              "    </tr>\n",
              "    <tr>\n",
              "      <th>8</th>\n",
              "      <td>10</td>\n",
              "      <td>222</td>\n",
              "      <td>1.0</td>\n",
              "      <td>3187427022</td>\n",
              "    </tr>\n",
              "    <tr>\n",
              "      <th>9</th>\n",
              "      <td>10</td>\n",
              "      <td>161</td>\n",
              "      <td>1.0</td>\n",
              "      <td>3187427022</td>\n",
              "    </tr>\n",
              "    <tr>\n",
              "      <th>10</th>\n",
              "      <td>11</td>\n",
              "      <td>115</td>\n",
              "      <td>0.0</td>\n",
              "      <td>3187425281</td>\n",
              "    </tr>\n",
              "    <tr>\n",
              "      <th>11</th>\n",
              "      <td>11</td>\n",
              "      <td>69</td>\n",
              "      <td>0.0</td>\n",
              "      <td>3187425281</td>\n",
              "    </tr>\n",
              "    <tr>\n",
              "      <th>12</th>\n",
              "      <td>11</td>\n",
              "      <td>157</td>\n",
              "      <td>0.0</td>\n",
              "      <td>3187425281</td>\n",
              "    </tr>\n",
              "    <tr>\n",
              "      <th>13</th>\n",
              "      <td>11</td>\n",
              "      <td>4</td>\n",
              "      <td>0.0</td>\n",
              "      <td>3187425281</td>\n",
              "    </tr>\n",
              "    <tr>\n",
              "      <th>14</th>\n",
              "      <td>11</td>\n",
              "      <td>28</td>\n",
              "      <td>0.0</td>\n",
              "      <td>3187425281</td>\n",
              "    </tr>\n",
              "    <tr>\n",
              "      <th>15</th>\n",
              "      <td>11</td>\n",
              "      <td>51</td>\n",
              "      <td>1.0</td>\n",
              "      <td>3187425281</td>\n",
              "    </tr>\n",
              "    <tr>\n",
              "      <th>16</th>\n",
              "      <td>11</td>\n",
              "      <td>62</td>\n",
              "      <td>1.0</td>\n",
              "      <td>3187425281</td>\n",
              "    </tr>\n",
              "    <tr>\n",
              "      <th>17</th>\n",
              "      <td>11</td>\n",
              "      <td>134</td>\n",
              "      <td>1.0</td>\n",
              "      <td>3187425281</td>\n",
              "    </tr>\n",
              "    <tr>\n",
              "      <th>18</th>\n",
              "      <td>11</td>\n",
              "      <td>43</td>\n",
              "      <td>1.0</td>\n",
              "      <td>3187425281</td>\n",
              "    </tr>\n",
              "    <tr>\n",
              "      <th>19</th>\n",
              "      <td>11</td>\n",
              "      <td>19</td>\n",
              "      <td>1.0</td>\n",
              "      <td>3187425281</td>\n",
              "    </tr>\n",
              "    <tr>\n",
              "      <th>20</th>\n",
              "      <td>12</td>\n",
              "      <td>119</td>\n",
              "      <td>0.0</td>\n",
              "      <td>3187269801</td>\n",
              "    </tr>\n",
              "    <tr>\n",
              "      <th>21</th>\n",
              "      <td>12</td>\n",
              "      <td>40</td>\n",
              "      <td>0.0</td>\n",
              "      <td>3187269801</td>\n",
              "    </tr>\n",
              "  </tbody>\n",
              "</table>\n",
              "</div>\n",
              "    <div class=\"colab-df-buttons\">\n",
              "\n",
              "  <div class=\"colab-df-container\">\n",
              "    <button class=\"colab-df-convert\" onclick=\"convertToInteractive('df-d68120c7-e283-4064-8584-c3ac6e828894')\"\n",
              "            title=\"Convert this dataframe to an interactive table.\"\n",
              "            style=\"display:none;\">\n",
              "\n",
              "  <svg xmlns=\"http://www.w3.org/2000/svg\" height=\"24px\" viewBox=\"0 -960 960 960\">\n",
              "    <path d=\"M120-120v-720h720v720H120Zm60-500h600v-160H180v160Zm220 220h160v-160H400v160Zm0 220h160v-160H400v160ZM180-400h160v-160H180v160Zm440 0h160v-160H620v160ZM180-180h160v-160H180v160Zm440 0h160v-160H620v160Z\"/>\n",
              "  </svg>\n",
              "    </button>\n",
              "\n",
              "  <style>\n",
              "    .colab-df-container {\n",
              "      display:flex;\n",
              "      gap: 12px;\n",
              "    }\n",
              "\n",
              "    .colab-df-convert {\n",
              "      background-color: #E8F0FE;\n",
              "      border: none;\n",
              "      border-radius: 50%;\n",
              "      cursor: pointer;\n",
              "      display: none;\n",
              "      fill: #1967D2;\n",
              "      height: 32px;\n",
              "      padding: 0 0 0 0;\n",
              "      width: 32px;\n",
              "    }\n",
              "\n",
              "    .colab-df-convert:hover {\n",
              "      background-color: #E2EBFA;\n",
              "      box-shadow: 0px 1px 2px rgba(60, 64, 67, 0.3), 0px 1px 3px 1px rgba(60, 64, 67, 0.15);\n",
              "      fill: #174EA6;\n",
              "    }\n",
              "\n",
              "    .colab-df-buttons div {\n",
              "      margin-bottom: 4px;\n",
              "    }\n",
              "\n",
              "    [theme=dark] .colab-df-convert {\n",
              "      background-color: #3B4455;\n",
              "      fill: #D2E3FC;\n",
              "    }\n",
              "\n",
              "    [theme=dark] .colab-df-convert:hover {\n",
              "      background-color: #434B5C;\n",
              "      box-shadow: 0px 1px 3px 1px rgba(0, 0, 0, 0.15);\n",
              "      filter: drop-shadow(0px 1px 2px rgba(0, 0, 0, 0.3));\n",
              "      fill: #FFFFFF;\n",
              "    }\n",
              "  </style>\n",
              "\n",
              "    <script>\n",
              "      const buttonEl =\n",
              "        document.querySelector('#df-d68120c7-e283-4064-8584-c3ac6e828894 button.colab-df-convert');\n",
              "      buttonEl.style.display =\n",
              "        google.colab.kernel.accessAllowed ? 'block' : 'none';\n",
              "\n",
              "      async function convertToInteractive(key) {\n",
              "        const element = document.querySelector('#df-d68120c7-e283-4064-8584-c3ac6e828894');\n",
              "        const dataTable =\n",
              "          await google.colab.kernel.invokeFunction('convertToInteractive',\n",
              "                                                    [key], {});\n",
              "        if (!dataTable) return;\n",
              "\n",
              "        const docLinkHtml = 'Like what you see? Visit the ' +\n",
              "          '<a target=\"_blank\" href=https://colab.research.google.com/notebooks/data_table.ipynb>data table notebook</a>'\n",
              "          + ' to learn more about interactive tables.';\n",
              "        element.innerHTML = '';\n",
              "        dataTable['output_type'] = 'display_data';\n",
              "        await google.colab.output.renderOutput(dataTable, element);\n",
              "        const docLink = document.createElement('div');\n",
              "        docLink.innerHTML = docLinkHtml;\n",
              "        element.appendChild(docLink);\n",
              "      }\n",
              "    </script>\n",
              "  </div>\n",
              "\n",
              "\n",
              "    <div id=\"df-e453a6e6-9bf2-4b71-b4e7-6e02795ab3e9\">\n",
              "      <button class=\"colab-df-quickchart\" onclick=\"quickchart('df-e453a6e6-9bf2-4b71-b4e7-6e02795ab3e9')\"\n",
              "                title=\"Suggest charts\"\n",
              "                style=\"display:none;\">\n",
              "\n",
              "<svg xmlns=\"http://www.w3.org/2000/svg\" height=\"24px\"viewBox=\"0 0 24 24\"\n",
              "     width=\"24px\">\n",
              "    <g>\n",
              "        <path d=\"M19 3H5c-1.1 0-2 .9-2 2v14c0 1.1.9 2 2 2h14c1.1 0 2-.9 2-2V5c0-1.1-.9-2-2-2zM9 17H7v-7h2v7zm4 0h-2V7h2v10zm4 0h-2v-4h2v4z\"/>\n",
              "    </g>\n",
              "</svg>\n",
              "      </button>\n",
              "\n",
              "<style>\n",
              "  .colab-df-quickchart {\n",
              "      --bg-color: #E8F0FE;\n",
              "      --fill-color: #1967D2;\n",
              "      --hover-bg-color: #E2EBFA;\n",
              "      --hover-fill-color: #174EA6;\n",
              "      --disabled-fill-color: #AAA;\n",
              "      --disabled-bg-color: #DDD;\n",
              "  }\n",
              "\n",
              "  [theme=dark] .colab-df-quickchart {\n",
              "      --bg-color: #3B4455;\n",
              "      --fill-color: #D2E3FC;\n",
              "      --hover-bg-color: #434B5C;\n",
              "      --hover-fill-color: #FFFFFF;\n",
              "      --disabled-bg-color: #3B4455;\n",
              "      --disabled-fill-color: #666;\n",
              "  }\n",
              "\n",
              "  .colab-df-quickchart {\n",
              "    background-color: var(--bg-color);\n",
              "    border: none;\n",
              "    border-radius: 50%;\n",
              "    cursor: pointer;\n",
              "    display: none;\n",
              "    fill: var(--fill-color);\n",
              "    height: 32px;\n",
              "    padding: 0;\n",
              "    width: 32px;\n",
              "  }\n",
              "\n",
              "  .colab-df-quickchart:hover {\n",
              "    background-color: var(--hover-bg-color);\n",
              "    box-shadow: 0 1px 2px rgba(60, 64, 67, 0.3), 0 1px 3px 1px rgba(60, 64, 67, 0.15);\n",
              "    fill: var(--button-hover-fill-color);\n",
              "  }\n",
              "\n",
              "  .colab-df-quickchart-complete:disabled,\n",
              "  .colab-df-quickchart-complete:disabled:hover {\n",
              "    background-color: var(--disabled-bg-color);\n",
              "    fill: var(--disabled-fill-color);\n",
              "    box-shadow: none;\n",
              "  }\n",
              "\n",
              "  .colab-df-spinner {\n",
              "    border: 2px solid var(--fill-color);\n",
              "    border-color: transparent;\n",
              "    border-bottom-color: var(--fill-color);\n",
              "    animation:\n",
              "      spin 1s steps(1) infinite;\n",
              "  }\n",
              "\n",
              "  @keyframes spin {\n",
              "    0% {\n",
              "      border-color: transparent;\n",
              "      border-bottom-color: var(--fill-color);\n",
              "      border-left-color: var(--fill-color);\n",
              "    }\n",
              "    20% {\n",
              "      border-color: transparent;\n",
              "      border-left-color: var(--fill-color);\n",
              "      border-top-color: var(--fill-color);\n",
              "    }\n",
              "    30% {\n",
              "      border-color: transparent;\n",
              "      border-left-color: var(--fill-color);\n",
              "      border-top-color: var(--fill-color);\n",
              "      border-right-color: var(--fill-color);\n",
              "    }\n",
              "    40% {\n",
              "      border-color: transparent;\n",
              "      border-right-color: var(--fill-color);\n",
              "      border-top-color: var(--fill-color);\n",
              "    }\n",
              "    60% {\n",
              "      border-color: transparent;\n",
              "      border-right-color: var(--fill-color);\n",
              "    }\n",
              "    80% {\n",
              "      border-color: transparent;\n",
              "      border-right-color: var(--fill-color);\n",
              "      border-bottom-color: var(--fill-color);\n",
              "    }\n",
              "    90% {\n",
              "      border-color: transparent;\n",
              "      border-bottom-color: var(--fill-color);\n",
              "    }\n",
              "  }\n",
              "</style>\n",
              "\n",
              "      <script>\n",
              "        async function quickchart(key) {\n",
              "          const quickchartButtonEl =\n",
              "            document.querySelector('#' + key + ' button');\n",
              "          quickchartButtonEl.disabled = true;  // To prevent multiple clicks.\n",
              "          quickchartButtonEl.classList.add('colab-df-spinner');\n",
              "          try {\n",
              "            const charts = await google.colab.kernel.invokeFunction(\n",
              "                'suggestCharts', [key], {});\n",
              "          } catch (error) {\n",
              "            console.error('Error during call to suggestCharts:', error);\n",
              "          }\n",
              "          quickchartButtonEl.classList.remove('colab-df-spinner');\n",
              "          quickchartButtonEl.classList.add('colab-df-quickchart-complete');\n",
              "        }\n",
              "        (() => {\n",
              "          let quickchartButtonEl =\n",
              "            document.querySelector('#df-e453a6e6-9bf2-4b71-b4e7-6e02795ab3e9 button');\n",
              "          quickchartButtonEl.style.display =\n",
              "            google.colab.kernel.accessAllowed ? 'block' : 'none';\n",
              "        })();\n",
              "      </script>\n",
              "    </div>\n",
              "\n",
              "    </div>\n",
              "  </div>\n"
            ],
            "application/vnd.google.colaboratory.intrinsic+json": {
              "type": "dataframe",
              "variable_name": "df"
            }
          },
          "metadata": {},
          "execution_count": 90
        }
      ],
      "source": [
        "df.head(22)"
      ]
    },
    {
      "cell_type": "code",
      "execution_count": 91,
      "metadata": {
        "id": "7xblBhBg41Sd"
      },
      "outputs": [],
      "source": [
        "from sklearn.preprocessing import LabelEncoder\n",
        "\n",
        "load_saved_data = False\n",
        "if(not load_saved_data):\n",
        "  X = []\n",
        "  y = []\n",
        "  list_X = []\n",
        "  prev_row = df.iloc[0]\n",
        "  prev_match_id = prev_row[\"matchid\"]\n",
        "  for i, row in df.iterrows():\n",
        "    match_id = row[\"matchid\"]\n",
        "    if match_id != prev_match_id:\n",
        "      if len(list_X) == 10:\n",
        "        y.append(prev_row[\"win\"])\n",
        "        X.append(list_X)\n",
        "      prev_match_id = match_id\n",
        "      prev_row = row\n",
        "      list_X = []\n",
        "    list_X.append(row[\"championid\"])\n",
        "\n",
        "  flattened_data = [item for sublist in X for item in sublist]\n",
        "  # encoder = LabelEncoder()\n",
        "  # integer_encoded = encoder.fit_transform(flattened_data)\n",
        "\n",
        "  num_rows = len(X)\n",
        "  num_columns = len(X[0])\n",
        "  flattened_data = np.array(flattened_data).reshape(num_rows, num_columns)\n",
        "\n",
        "  X = flattened_data\n",
        "  y = np.array(y)\n",
        "\n",
        "  colab_folder_path = \"/content/gdrive/MyDrive/NBA\"\n",
        "  data_file_name_X = \"amateurX.pt\"\n",
        "  data_file_name_y = \"amateury.pt\"\n",
        "  # save the X so we don't have to recompute it every time\n",
        "  torch.save(X, colab_folder_path + data_file_name_X)\n",
        "  # save the y so we don't have to recompute it every time\n",
        "  torch.save(y, colab_folder_path + data_file_name_y)"
      ]
    },
    {
      "cell_type": "code",
      "execution_count": 92,
      "metadata": {
        "colab": {
          "base_uri": "https://localhost:8080/",
          "height": 35
        },
        "id": "mZMfK9LSxyNg",
        "outputId": "c8a5cd29-70bb-4f99-b52d-098209c48159"
      },
      "outputs": [
        {
          "output_type": "execute_result",
          "data": {
            "text/plain": [
              "'amateurX.pt'"
            ],
            "application/vnd.google.colaboratory.intrinsic+json": {
              "type": "string"
            }
          },
          "metadata": {},
          "execution_count": 92
        }
      ],
      "source": [
        "data_file_name_X"
      ]
    },
    {
      "cell_type": "code",
      "execution_count": 93,
      "metadata": {
        "colab": {
          "base_uri": "https://localhost:8080/"
        },
        "id": "xhzPZtJo-EIn",
        "outputId": "cfda097d-cf0d-4303-bc11-fcd68e8cd7a6"
      },
      "outputs": [
        {
          "output_type": "stream",
          "name": "stdout",
          "text": [
            "161064\n",
            "161064\n"
          ]
        },
        {
          "output_type": "execute_result",
          "data": {
            "text/plain": [
              "array([ 19., 267., 119., 114., 112.,  72.,   3., 103., 222., 161.])"
            ]
          },
          "metadata": {},
          "execution_count": 93
        }
      ],
      "source": [
        "print(len(X))\n",
        "print(len(y))\n",
        "X[0]"
      ]
    },
    {
      "cell_type": "code",
      "source": [
        "X_stats = stats[['totdmgdealt']].values.astype('float32')\n",
        "y_stats = stats['win'].values.astype('float32')\n",
        "\n",
        "aux_info = torch.tensor(np.concatenate((X_stats, y_stats.reshape(-1, 1)), axis=1))\n",
        "\n",
        "print(aux_info.shape)"
      ],
      "metadata": {
        "colab": {
          "base_uri": "https://localhost:8080/"
        },
        "id": "nVm_nFMUHWqb",
        "outputId": "4fc7077a-14fc-48fa-cc1b-079408b2ecc9"
      },
      "execution_count": 135,
      "outputs": [
        {
          "output_type": "stream",
          "name": "stdout",
          "text": [
            "torch.Size([1834517, 2])\n"
          ]
        }
      ]
    },
    {
      "cell_type": "markdown",
      "metadata": {
        "id": "l0uGR3pvzsXE"
      },
      "source": [
        "#Preprocessing Artificial Dataset"
      ]
    },
    {
      "cell_type": "code",
      "execution_count": 84,
      "metadata": {
        "colab": {
          "base_uri": "https://localhost:8080/"
        },
        "id": "nttXFmiP0XMu",
        "outputId": "5ef5cfca-d733-42c1-c8f4-68c10d793bb5"
      },
      "outputs": [
        {
          "output_type": "stream",
          "name": "stdout",
          "text": [
            "X shape: torch.Size([1000, 10])\n",
            "y shape: torch.Size([1000])\n"
          ]
        },
        {
          "output_type": "stream",
          "name": "stderr",
          "text": [
            "<ipython-input-84-d60c0792877b>:29: UserWarning: Creating a tensor from a list of numpy.ndarrays is extremely slow. Please consider converting the list to a single numpy.ndarray with numpy.array() before converting to a tensor. (Triggered internally at /pytorch/torch/csrc/utils/tensor_new.cpp:254.)\n",
            "  X_tensor = torch.tensor(X, dtype=torch.float32)\n"
          ]
        }
      ],
      "source": [
        "# Parameters\n",
        "num_samples = 1000  # Number of games in the dataset\n",
        "\n",
        "# Initialize lists for X and y\n",
        "X = []\n",
        "y = []\n",
        "\n",
        "# Generate the dataset\n",
        "for _ in range(num_samples):\n",
        "    # Generate random numbers for home and away teams\n",
        "    home_team = np.random.randint(1, 100, size=5)\n",
        "    away_team = np.random.randint(1, 100, size=5)\n",
        "\n",
        "    # Calculate variances\n",
        "    home_variance = np.var(home_team)\n",
        "    away_variance = np.var(away_team)\n",
        "\n",
        "    # Determine the winner\n",
        "    if home_variance > away_variance:\n",
        "        label = 0  # Away team wins\n",
        "    else:\n",
        "        label = 1  # Home team wins\n",
        "\n",
        "    # Append the data\n",
        "    X.append(np.concatenate([home_team, away_team]))\n",
        "    y.append(label)\n",
        "\n",
        "# Convert lists to PyTorch tensors\n",
        "X_tensor = torch.tensor(X, dtype=torch.float32)\n",
        "y_tensor = torch.tensor(y, dtype=torch.long)\n",
        "\n",
        "# Print the shape of the tensors\n",
        "print(f\"X shape: {X_tensor.shape}\")  # Should be [num_samples, 10]\n",
        "print(f\"y shape: {y_tensor.shape}\")  # Should be [num_samples]\n"
      ]
    },
    {
      "cell_type": "markdown",
      "metadata": {
        "id": "ymDRfHp20wJz"
      },
      "source": [
        "#Preprocessing Pro LOL"
      ]
    },
    {
      "cell_type": "code",
      "execution_count": null,
      "metadata": {
        "id": "5ArVH7uUWpo2"
      },
      "outputs": [],
      "source": [
        "from sklearn.preprocessing import LabelEncoder\n",
        "\n",
        "if(not load_saved_data):\n",
        "    df_updated = torch.load(\"/content/gdrive/MyDrive/2023 research/LoL/merged_df\")\n",
        "\n",
        "    selected_rows = df_updated.loc[[i for n in range(len(df_updated) // 12 + 1) for i in [n * 12 + 10, n * 12 + 11] if i < len(df_updated)]]\n",
        "\n",
        "    y = selected_rows['result']\n",
        "    X = selected_rows[['pick1', 'pick2', 'pick3', 'pick4', 'pick5']]\n",
        "    t1 = []\n",
        "    t2 = []\n",
        "    listX = []\n",
        "    list_true_y = []\n",
        "    for i, (index, row) in enumerate(X.iterrows()):\n",
        "      if index % 2 == 0:\n",
        "        t1_team = X.iloc[i].tolist()\n",
        "      else:\n",
        "        t2_team = X.iloc[i].tolist()\n",
        "\n",
        "        concat_arr = np.concatenate((t1_team, t2_team))\n",
        "        listX.append(concat_arr.tolist())\n",
        "        list_true_y.append(y[index])\n",
        "\n",
        "    flattened_data = [item for sublist in listX for item in sublist]\n",
        "    # encoder = LabelEncoder()\n",
        "    # integer_encoded = encoder.fit_transform(flattened_data)\n",
        "\n",
        "    num_rows = len(listX)\n",
        "    num_columns = len(listX[0])\n",
        "    flattened_data = np.array(flattened_data).reshape(num_rows, num_columns)\n",
        "\n",
        "    X = flattened_data\n",
        "    true_y = np.array(list_true_y)\n",
        "\n",
        "    # save the X so we don't have to recompute it every time\n",
        "    torch.save(X, colab_folder_path + data_file_name_X)\n",
        "    # save the y so we don't have to recompute it every time\n",
        "    torch.save(true_y, colab_folder_path + data_file_name_y)\n"
      ]
    },
    {
      "cell_type": "code",
      "execution_count": null,
      "metadata": {
        "id": "R9d3SuTvFPIv"
      },
      "outputs": [],
      "source": [
        "joblib.dump(encoder, colab_folder_path + encoder_name)"
      ]
    },
    {
      "cell_type": "code",
      "execution_count": null,
      "metadata": {
        "id": "Mykxo051VFE9"
      },
      "outputs": [],
      "source": [
        "lolX = X\n",
        "loly = y"
      ]
    },
    {
      "cell_type": "code",
      "execution_count": null,
      "metadata": {
        "id": "a6ZLeY5T07l9"
      },
      "outputs": [],
      "source": [
        "print(lolX.shape)\n",
        "print(loly.shape)"
      ]
    },
    {
      "cell_type": "code",
      "execution_count": null,
      "metadata": {
        "id": "Ekm1PyILlmWu"
      },
      "outputs": [],
      "source": [
        "lolX[0]"
      ]
    },
    {
      "cell_type": "code",
      "execution_count": null,
      "metadata": {
        "id": "dGLBqGRSdISb"
      },
      "outputs": [],
      "source": [
        "X[0][:5]\n",
        "X[0][5:]"
      ]
    },
    {
      "cell_type": "code",
      "execution_count": null,
      "metadata": {
        "id": "GszlKemsloDN"
      },
      "outputs": [],
      "source": [
        "loly[1]"
      ]
    },
    {
      "cell_type": "markdown",
      "metadata": {
        "id": "PigsYTQj61hz"
      },
      "source": [
        "#Preprocessing Hero Games"
      ]
    },
    {
      "cell_type": "code",
      "execution_count": null,
      "metadata": {
        "colab": {
          "base_uri": "https://localhost:8080/"
        },
        "id": "8IDyUQYU60Gi",
        "outputId": "7bb5b91a-ded5-43ef-aa88-10cf75119c07"
      },
      "outputs": [
        {
          "output_type": "stream",
          "name": "stdout",
          "text": [
            "                                 team1                                 team2  \\\n",
            "0   [16, 0, 7, 1, 19, 6, 2, 13, 15, 8]   [19, 5, 6, 17, 15, 8, 10, 4, 18, 9]   \n",
            "1  [13, 1, 17, 3, 9, 5, 12, 11, 15, 6]   [3, 5, 9, 12, 16, 19, 6, 14, 13, 7]   \n",
            "2  [3, 18, 12, 16, 10, 7, 0, 2, 8, 11]    [3, 1, 13, 18, 11, 6, 19, 7, 5, 9]   \n",
            "3  [5, 0, 6, 3, 18, 11, 10, 15, 9, 13]    [15, 2, 1, 7, 4, 11, 19, 18, 6, 9]   \n",
            "4  [16, 17, 1, 2, 13, 7, 0, 3, 19, 12]  [13, 18, 5, 8, 7, 4, 10, 11, 19, 14]   \n",
            "\n",
            "   outcome  \n",
            "0        1  \n",
            "1        2  \n",
            "2        2  \n",
            "3        1  \n",
            "4        2  \n"
          ]
        }
      ],
      "source": [
        "# prompt: read in the CSV file hero_games_fixed_heroes.csv\n",
        "\n",
        "import pandas as pd\n",
        "\n",
        "# Assuming 'hero_games_fixed_heroes.csv' is in the current working directory\n",
        "# If not, provide the correct file path\n",
        "# file_path = '/content/gdrive/MyDrive/2023 research/NBA/hero_game_dataset.csv'\n",
        "# file_path = '/content/gdrive/MyDrive/2023 research/NBA/game_dataset_of10.csv'\n",
        "file_path = '/content/gdrive/MyDrive/NBA/game_dataset_of10.csv'\n",
        "\n",
        "try:\n",
        "  df = pd.read_csv(file_path)\n",
        "  print(df.head())  # Display the first few rows of the DataFrame\n",
        "except FileNotFoundError:\n",
        "  print(f\"Error: File '{file_path}' not found.\")\n",
        "except pd.errors.ParserError:\n",
        "    print(f\"Error: Could not parse the CSV file '{file_path}'. Check its format.\")\n",
        "except Exception as e:\n",
        "    print(f\"An unexpected error occurred: {e}\")"
      ]
    },
    {
      "cell_type": "code",
      "execution_count": null,
      "metadata": {
        "colab": {
          "base_uri": "https://localhost:8080/",
          "height": 453
        },
        "id": "LjfumNIo89Nx",
        "outputId": "bfeffd65-cd9c-4f2c-ed17-0d2f3c3aae1c"
      },
      "outputs": [
        {
          "output_type": "execute_result",
          "data": {
            "text/plain": [
              "0        [16, 0, 7, 1, 19, 6, 2, 13, 15, 8]\n",
              "1       [13, 1, 17, 3, 9, 5, 12, 11, 15, 6]\n",
              "2       [3, 18, 12, 16, 10, 7, 0, 2, 8, 11]\n",
              "3       [5, 0, 6, 3, 18, 11, 10, 15, 9, 13]\n",
              "4       [16, 17, 1, 2, 13, 7, 0, 3, 19, 12]\n",
              "                       ...                 \n",
              "995       [8, 7, 5, 4, 14, 6, 3, 19, 0, 10]\n",
              "996    [16, 8, 13, 11, 15, 9, 6, 12, 1, 19]\n",
              "997    [18, 16, 14, 0, 15, 9, 13, 17, 8, 4]\n",
              "998      [16, 7, 0, 8, 19, 3, 9, 2, 13, 17]\n",
              "999      [16, 3, 19, 5, 0, 18, 15, 6, 7, 1]\n",
              "Name: team1, Length: 1000, dtype: object"
            ],
            "text/html": [
              "<div>\n",
              "<style scoped>\n",
              "    .dataframe tbody tr th:only-of-type {\n",
              "        vertical-align: middle;\n",
              "    }\n",
              "\n",
              "    .dataframe tbody tr th {\n",
              "        vertical-align: top;\n",
              "    }\n",
              "\n",
              "    .dataframe thead th {\n",
              "        text-align: right;\n",
              "    }\n",
              "</style>\n",
              "<table border=\"1\" class=\"dataframe\">\n",
              "  <thead>\n",
              "    <tr style=\"text-align: right;\">\n",
              "      <th></th>\n",
              "      <th>team1</th>\n",
              "    </tr>\n",
              "  </thead>\n",
              "  <tbody>\n",
              "    <tr>\n",
              "      <th>0</th>\n",
              "      <td>[16, 0, 7, 1, 19, 6, 2, 13, 15, 8]</td>\n",
              "    </tr>\n",
              "    <tr>\n",
              "      <th>1</th>\n",
              "      <td>[13, 1, 17, 3, 9, 5, 12, 11, 15, 6]</td>\n",
              "    </tr>\n",
              "    <tr>\n",
              "      <th>2</th>\n",
              "      <td>[3, 18, 12, 16, 10, 7, 0, 2, 8, 11]</td>\n",
              "    </tr>\n",
              "    <tr>\n",
              "      <th>3</th>\n",
              "      <td>[5, 0, 6, 3, 18, 11, 10, 15, 9, 13]</td>\n",
              "    </tr>\n",
              "    <tr>\n",
              "      <th>4</th>\n",
              "      <td>[16, 17, 1, 2, 13, 7, 0, 3, 19, 12]</td>\n",
              "    </tr>\n",
              "    <tr>\n",
              "      <th>...</th>\n",
              "      <td>...</td>\n",
              "    </tr>\n",
              "    <tr>\n",
              "      <th>995</th>\n",
              "      <td>[8, 7, 5, 4, 14, 6, 3, 19, 0, 10]</td>\n",
              "    </tr>\n",
              "    <tr>\n",
              "      <th>996</th>\n",
              "      <td>[16, 8, 13, 11, 15, 9, 6, 12, 1, 19]</td>\n",
              "    </tr>\n",
              "    <tr>\n",
              "      <th>997</th>\n",
              "      <td>[18, 16, 14, 0, 15, 9, 13, 17, 8, 4]</td>\n",
              "    </tr>\n",
              "    <tr>\n",
              "      <th>998</th>\n",
              "      <td>[16, 7, 0, 8, 19, 3, 9, 2, 13, 17]</td>\n",
              "    </tr>\n",
              "    <tr>\n",
              "      <th>999</th>\n",
              "      <td>[16, 3, 19, 5, 0, 18, 15, 6, 7, 1]</td>\n",
              "    </tr>\n",
              "  </tbody>\n",
              "</table>\n",
              "<p>1000 rows × 1 columns</p>\n",
              "</div><br><label><b>dtype:</b> object</label>"
            ]
          },
          "metadata": {},
          "execution_count": 23
        }
      ],
      "source": [
        "df[\"team1\"]"
      ]
    },
    {
      "cell_type": "code",
      "execution_count": null,
      "metadata": {
        "id": "BJGl_k-78RIw"
      },
      "outputs": [],
      "source": [
        "import pandas as pd\n",
        "import numpy as np\n",
        "\n",
        "def combine_teams_no_ast(row):\n",
        "    team1_str = row['team1'].replace('[', '').replace(']', '').split(',')\n",
        "    team2_str = row['team2'].replace('[', '').replace(']', '').split(',')\n",
        "\n",
        "    team1 = [int(x.strip()) for x in team1_str if x.strip()]\n",
        "    team2 = [int(x.strip()) for x in team2_str if x.strip()]\n",
        "\n",
        "    return np.concatenate((team1, team2))\n",
        "\n",
        "X = df.apply(combine_teams_no_ast, axis=1).to_numpy()"
      ]
    },
    {
      "cell_type": "code",
      "execution_count": null,
      "metadata": {
        "id": "I1uWZK4u984T"
      },
      "outputs": [],
      "source": [
        "num_players_per_team = 10"
      ]
    },
    {
      "cell_type": "code",
      "execution_count": null,
      "metadata": {
        "id": "cPSx6tRiFVdL",
        "colab": {
          "base_uri": "https://localhost:8080/"
        },
        "outputId": "82ebf9f7-b124-42f7-b8af-256e1e0a2e8a"
      },
      "outputs": [
        {
          "output_type": "execute_result",
          "data": {
            "text/plain": [
              "array([array([16,  0,  7,  1, 19,  6,  2, 13, 15,  8, 19,  5,  6, 17, 15,  8, 10,\n",
              "               4, 18,  9])                                                       ,\n",
              "       array([13,  1, 17,  3,  9,  5, 12, 11, 15,  6,  3,  5,  9, 12, 16, 19,  6,\n",
              "              14, 13,  7])                                                       ,\n",
              "       array([ 3, 18, 12, 16, 10,  7,  0,  2,  8, 11,  3,  1, 13, 18, 11,  6, 19,\n",
              "               7,  5,  9])                                                       ,\n",
              "       array([ 5,  0,  6,  3, 18, 11, 10, 15,  9, 13, 15,  2,  1,  7,  4, 11, 19,\n",
              "              18,  6,  9])                                                       ,\n",
              "       array([16, 17,  1,  2, 13,  7,  0,  3, 19, 12, 13, 18,  5,  8,  7,  4, 10,\n",
              "              11, 19, 14])                                                       ,\n",
              "       array([ 8,  6, 14, 11,  7, 15,  3, 19,  1, 18, 13,  2, 16,  8, 18, 11,  4,\n",
              "              14,  3, 15])                                                       ,\n",
              "       array([12, 17,  0, 19, 18, 11, 10,  3, 14,  4,  7,  0, 14,  5, 12, 17, 11,\n",
              "               1, 13,  9])                                                       ,\n",
              "       array([ 7, 17,  9, 11, 15,  2,  4,  1, 18,  0, 15, 17, 16,  2, 14, 18,  0,\n",
              "              10, 11,  5])                                                       ,\n",
              "       array([ 6, 12, 17,  0, 15, 16, 11, 19, 18,  7,  2, 16, 19, 10,  7, 18,  0,\n",
              "              17,  1,  6])                                                       ,\n",
              "       array([ 2, 14,  9, 16,  1,  5,  4, 12, 11, 15,  6, 11, 10,  4, 15,  9, 16,\n",
              "               8,  2, 14])                                                       ,\n",
              "       array([ 1, 16,  0,  9, 14, 12, 13, 15,  6, 19,  7,  9,  2, 18, 10,  8,  4,\n",
              "              13,  5,  1])                                                       ,\n",
              "       array([17, 10, 15, 13,  7, 19, 16,  0,  1, 18,  7,  1,  3,  8, 16, 14, 12,\n",
              "               6, 15,  2])                                                       ,\n",
              "       array([19, 14,  1,  7, 13, 16,  5,  2,  4,  3, 11,  4,  0, 19, 15, 13, 14,\n",
              "               2, 10, 18])                                                       ,\n",
              "       array([ 8,  2, 13,  1,  6, 10, 12,  4,  0, 16,  2, 17, 19, 10, 14,  9, 16,\n",
              "              15,  1,  4])                                                       ,\n",
              "       array([11, 14, 16, 17,  2,  4, 12,  5, 13,  8,  8, 16,  3,  1,  7,  0,  4,\n",
              "              14, 12,  9])                                                       ,\n",
              "       array([ 0,  1, 17, 18, 13,  7,  3,  6,  8,  9, 15,  0,  9,  7,  4, 19, 13,\n",
              "              17,  6, 14])                                                       ,\n",
              "       array([18, 16,  2,  1, 15, 17,  4, 12, 19,  3,  1,  2, 14, 16, 11,  9, 15,\n",
              "               3,  0,  4])                                                       ,\n",
              "       array([ 1, 16,  0, 14,  8, 13, 12,  3,  4,  6, 19,  9,  0, 17,  5,  1, 13,\n",
              "              12,  7,  3])                                                       ,\n",
              "       array([17,  0, 11,  8,  9,  4,  6,  1,  5, 12,  5, 10,  4, 17,  3, 11,  8,\n",
              "               1,  7, 16])                                                       ,\n",
              "       array([10, 13, 14, 15, 17,  3,  8,  6, 12,  1, 10, 17,  6,  5, 11, 15,  1,\n",
              "              19, 16, 12])                                                       ,\n",
              "       array([17,  7,  3,  4,  6,  8, 18,  5,  0, 19, 12, 19, 16, 10, 17,  4,  8,\n",
              "               5,  6,  7])                                                       ,\n",
              "       array([13, 15,  1, 18,  8, 19,  0, 11, 10,  2,  3,  1, 15,  0,  6,  2, 13,\n",
              "              10,  5, 18])                                                       ,\n",
              "       array([ 1,  3, 14, 10,  7, 15, 16, 18,  6,  0, 10, 17, 18,  5,  7,  3, 19,\n",
              "               0,  8,  1])                                                       ,\n",
              "       array([ 8, 12,  3, 11, 14,  9,  1,  2, 19,  7,  5,  7,  1,  4, 14,  2,  9,\n",
              "               0, 12,  3])                                                       ,\n",
              "       array([15, 17,  7,  4,  1,  9,  8,  0, 14, 19,  2,  0, 14, 19, 11, 12, 18,\n",
              "               9,  1,  4])                                                       ,\n",
              "       array([14,  5, 15,  0,  1,  8, 11,  3, 10, 19,  6, 11, 16, 13, 15,  0, 19,\n",
              "               9,  5,  7])                                                       ,\n",
              "       array([17, 11, 18,  4,  3, 10,  2,  1, 14,  7,  5, 17,  4,  2, 11, 10, 18,\n",
              "               6,  3, 19])                                                       ,\n",
              "       array([ 3, 18, 12, 13, 16,  2, 15, 19, 17, 14,  1,  4,  6,  2, 14, 17, 15,\n",
              "              18,  9,  7])                                                       ,\n",
              "       array([12,  1, 13, 19, 11,  0, 10,  9, 15, 14, 16,  7, 19,  2, 17, 18, 15,\n",
              "              11,  6,  0])                                                       ,\n",
              "       array([10,  4, 19,  2, 12,  8,  3, 16,  5, 14,  8,  5, 13,  6,  2,  1,  3,\n",
              "               7, 16, 11])                                                       ,\n",
              "       array([ 3, 16,  6, 17,  4, 15, 14, 18, 10, 13,  9,  5, 15,  0,  6,  2,  4,\n",
              "              12, 13, 11])                                                       ,\n",
              "       array([ 9, 16, 10, 18, 14,  8,  3,  2,  7,  4, 13,  8,  7,  9, 11,  2,  5,\n",
              "              10, 19,  3])                                                       ,\n",
              "       array([14, 17, 18, 11, 19, 10, 12, 13,  4,  9, 16,  2, 14, 19,  8,  5,  3,\n",
              "              15,  4,  1])                                                       ,\n",
              "       array([ 6,  4,  7, 18, 11, 17, 12, 14, 19,  8, 19, 16,  3, 15,  6, 13,  4,\n",
              "              18,  2, 12])                                                       ,\n",
              "       array([ 8, 16, 11,  1,  2,  5,  3, 18,  0, 19,  1, 19,  7, 13, 14,  6, 11,\n",
              "               0, 15,  9])                                                       ,\n",
              "       array([14,  2,  7,  8,  0, 11, 10,  3,  6, 16, 11,  9,  4,  6, 19,  7, 16,\n",
              "               1, 14, 12])                                                       ,\n",
              "       array([11, 14, 19, 16,  1, 18,  7,  5,  3, 15, 14,  5,  6, 10,  8, 16,  2,\n",
              "               1, 19, 18])                                                       ,\n",
              "       array([ 5, 17,  1, 14, 10,  4,  6,  7, 16, 13, 16,  8, 19,  1,  9, 17,  3,\n",
              "              13,  2,  7])                                                       ,\n",
              "       array([ 0, 11, 17,  3,  8,  9, 15, 10, 18,  5, 13,  3,  7, 18, 16,  4, 11,\n",
              "              10,  6,  2])                                                       ,\n",
              "       array([ 5, 10,  6,  1,  9, 16,  8, 19,  4,  7, 17,  6, 15, 12, 16, 14,  1,\n",
              "               9,  8, 18])                                                       ,\n",
              "       array([ 0, 11,  4, 15, 14, 10, 16, 13,  2, 12, 16, 10,  9, 14, 15,  6,  8,\n",
              "               3,  5,  0])                                                       ,\n",
              "       array([12, 16,  2, 18, 10, 19,  7,  5,  1, 13,  3,  9, 11,  8,  2,  7,  5,\n",
              "               6, 10,  0])                                                       ,\n",
              "       array([19,  8, 10, 15,  5,  9, 14,  4,  3, 12, 13,  0,  6,  9, 18, 15, 17,\n",
              "              16,  2,  3])                                                       ,\n",
              "       array([ 2,  8, 15,  7,  6, 10, 12,  9,  3,  1,  7,  5, 16, 10, 12,  2,  0,\n",
              "              14, 18, 19])                                                       ,\n",
              "       array([ 7, 11, 18,  3,  8,  4, 19, 16, 17,  6, 12, 16, 10, 19,  3, 15,  5,\n",
              "               1, 11,  7])                                                       ,\n",
              "       array([ 5,  8, 13,  3, 11, 19,  1,  6,  7, 10, 18,  6,  1, 19, 10,  3, 11,\n",
              "              13,  8, 14])                                                       ,\n",
              "       array([17,  5, 11,  4, 18, 16, 10,  3, 15,  2, 19,  5,  2, 17,  6,  4,  0,\n",
              "              12,  3,  1])                                                       ,\n",
              "       array([ 5, 14, 10,  4, 13,  2,  0,  9, 11, 19, 12, 14,  3,  1,  0, 17, 13,\n",
              "               9, 15, 18])                                                       ,\n",
              "       array([ 8,  5, 13,  9,  0,  1, 11,  2, 19,  6, 14, 11, 19,  2, 12, 15,  4,\n",
              "              10,  6, 16])                                                       ,\n",
              "       array([17,  6, 11,  3, 10,  0,  9, 14,  7, 12,  9, 12,  7,  1, 13, 14, 17,\n",
              "              16,  5, 19])                                                       ,\n",
              "       array([13, 10, 11, 15,  8,  7,  4, 14, 16, 17, 19,  1,  9, 18, 17, 10,  7,\n",
              "              11, 15,  8])                                                       ,\n",
              "       array([11, 13, 17,  4,  6, 10, 18, 15, 16, 12, 15, 10,  4, 11,  9, 18, 19,\n",
              "               1,  0, 12])                                                       ,\n",
              "       array([17,  9, 13,  2,  3, 10, 11,  1, 18,  4, 10, 13,  4,  1,  7,  9,  2,\n",
              "               8, 17, 18])                                                       ,\n",
              "       array([19, 11, 18,  0,  3,  4,  6, 15,  1,  8,  7,  6, 19,  8, 18, 17, 12,\n",
              "              10,  9, 13])                                                       ,\n",
              "       array([17,  2, 19,  9, 11, 12, 16, 14,  0,  4,  1,  7,  9,  4, 17, 15, 14,\n",
              "              16,  2,  0])                                                       ,\n",
              "       array([ 5,  8, 14, 13,  7, 19,  1,  4, 16,  9,  0, 18, 10, 14,  8,  7, 16,\n",
              "              15,  6,  1])                                                       ,\n",
              "       array([16, 19, 12,  2,  4,  7,  0,  9, 11, 13, 11, 12, 14,  8, 19,  3,  5,\n",
              "              17,  4,  2])                                                       ,\n",
              "       array([ 3,  9,  5,  2,  8, 10, 15, 19, 11, 13,  0,  3,  1,  7, 11, 15, 14,\n",
              "               9,  2, 13])                                                       ,\n",
              "       array([13, 11,  3,  4,  1,  7,  9, 14,  6,  0,  0, 15,  2, 14, 11,  9, 18,\n",
              "               4,  6,  7])                                                       ,\n",
              "       array([ 3,  5,  6, 15, 13, 10, 14,  8, 16,  0, 14, 13, 17, 15,  4, 12, 19,\n",
              "               9, 18, 16])                                                       ,\n",
              "       array([14,  4, 16,  7,  2, 12, 11, 17, 10, 18,  6, 19,  9, 18,  4,  2,  7,\n",
              "              17, 16, 13])                                                       ,\n",
              "       array([16,  6, 14,  1, 13, 10, 17,  9,  7, 12,  6,  9,  4,  3,  0, 12, 17,\n",
              "              10, 11,  8])                                                       ,\n",
              "       array([16,  4,  1,  9,  8, 14, 10,  0,  6,  2,  5, 10, 14, 17,  6, 19,  8,\n",
              "              13,  9, 16])                                                       ,\n",
              "       array([ 7,  0,  5, 19, 10, 18, 11, 16, 14,  3, 13, 14,  0,  9,  2,  3,  6,\n",
              "              16, 19,  4])                                                       ,\n",
              "       array([ 5, 16, 10, 17, 15, 18,  1, 12, 14,  2, 15,  3, 16,  6, 17, 11, 12,\n",
              "               2, 13, 10])                                                       ,\n",
              "       array([14, 10, 16,  3, 15,  8, 18,  1,  4, 11, 14,  2,  1,  0, 13,  3, 17,\n",
              "              19,  8,  7])                                                       ,\n",
              "       array([ 9, 13, 19,  8,  2, 12, 18, 10, 11, 15,  3,  7,  1, 19, 13,  2,  9,\n",
              "               5, 18, 12])                                                       ,\n",
              "       array([ 1,  0, 12,  6, 11,  3, 15, 14, 16,  9,  7, 12, 16, 14,  3, 15,  8,\n",
              "               5, 13, 19])                                                       ,\n",
              "       array([19,  0,  8, 15, 18,  2, 11, 12,  9,  7,  0,  8,  9, 19, 15, 14, 13,\n",
              "               7,  1,  2])                                                       ,\n",
              "       array([ 9,  8,  2, 10, 15,  0, 17, 19,  4,  3, 17,  0, 19,  1,  3, 10, 18,\n",
              "               9, 16,  5])                                                       ,\n",
              "       array([14, 11, 13, 19,  0,  4, 10,  2,  3,  7,  1, 12, 10,  2,  7, 17,  0,\n",
              "              18,  4, 13])                                                       ,\n",
              "       array([17, 18,  3, 19,  5, 12,  6, 10,  9,  7, 18, 15,  6, 14, 17,  1,  2,\n",
              "               8, 10,  4])                                                       ,\n",
              "       array([ 9, 13,  3, 14, 10, 17, 12,  5, 11,  8, 15, 11,  9, 19,  5, 10, 16,\n",
              "               0,  8,  2])                                                       ,\n",
              "       array([17, 13,  8, 10,  4,  1, 16,  3,  7,  5, 10, 12,  1, 13,  4,  3, 15,\n",
              "              11,  0, 17])                                                       ,\n",
              "       array([17,  7, 10,  9, 18,  1, 12, 16, 14,  2,  6,  4,  1, 19, 12,  5,  9,\n",
              "              18,  2,  7])                                                       ,\n",
              "       array([18, 10, 13,  6,  0,  4,  2, 15,  8, 11,  7,  8, 15, 17,  2, 13,  3,\n",
              "              18, 14,  5])                                                       ,\n",
              "       array([19, 10,  5, 14, 16,  2,  1,  9, 11, 17, 17,  6, 14,  2,  0, 11, 12,\n",
              "              10, 19, 13])                                                       ,\n",
              "       array([ 0,  1,  3, 12, 17, 16, 11,  5,  7, 15, 11,  6, 16,  7,  2, 15,  1,\n",
              "               9, 13, 19])                                                       ,\n",
              "       array([19,  3,  4, 18,  8,  2, 12,  7,  1,  6, 14,  4,  2, 12, 10,  0,  5,\n",
              "               8,  7, 15])                                                       ,\n",
              "       array([17,  3, 19,  8, 10, 13,  1,  6,  4, 12,  1, 19, 11, 15,  3, 12, 18,\n",
              "               2, 16,  8])                                                       ,\n",
              "       array([ 3,  0,  5, 19,  8,  6, 15,  9,  7, 13, 14,  7,  9, 19, 13,  2,  1,\n",
              "               5, 15,  8])                                                       ,\n",
              "       array([ 5,  3, 12,  4,  9,  1, 17,  6,  7, 18,  0, 12, 18,  1, 13, 11,  6,\n",
              "               8,  9,  7])                                                       ,\n",
              "       array([17,  3,  8, 12,  5,  1,  0, 10,  9,  7, 16,  1,  7,  3, 17,  5, 15,\n",
              "              11, 12,  9])                                                       ,\n",
              "       array([ 0,  8, 11,  3,  5, 12, 14, 13, 10,  2,  5,  0,  4,  2,  8, 16, 19,\n",
              "               3, 18, 17])                                                       ,\n",
              "       array([13,  1, 10,  7,  8, 17,  9, 12,  0, 15, 10,  5, 16,  2,  7,  6,  3,\n",
              "              18, 11, 15])                                                       ,\n",
              "       array([12, 16,  2, 10,  4,  8,  5, 18,  1, 11, 11,  1, 13, 15, 19,  4,  2,\n",
              "              10,  5,  6])                                                       ,\n",
              "       array([16,  8,  2,  1,  9,  5, 12,  4,  0,  3,  0, 19,  5, 11,  3,  2, 17,\n",
              "               6,  1, 13])                                                       ,\n",
              "       array([ 7, 10, 17,  9, 16, 18,  8, 12,  6,  3, 13, 12,  2,  1, 16,  5,  3,\n",
              "              11, 17,  9])                                                       ,\n",
              "       array([15, 11,  5,  4, 19, 16,  9, 17,  1, 18, 15,  2, 18,  8,  4, 12,  5,\n",
              "               9,  7, 10])                                                       ,\n",
              "       array([13,  6,  3, 16, 14,  5, 17,  4,  9, 19, 16, 19, 13,  5, 10,  0,  2,\n",
              "               7, 15, 18])                                                       ,\n",
              "       array([15, 19,  9,  6,  2,  4,  1,  0, 18,  7,  4,  1, 19,  9,  7, 12, 10,\n",
              "              15,  0, 17])                                                       ,\n",
              "       array([17,  6, 14, 18,  9,  4, 15, 10,  1,  7,  4, 10, 17, 11,  1,  6, 14,\n",
              "               5,  9, 18])                                                       ,\n",
              "       array([12, 11, 16,  1,  9, 15,  3, 17, 18,  8, 11,  4, 13,  0, 10, 15, 19,\n",
              "               9,  3,  6])                                                       ,\n",
              "       array([ 7,  3, 15,  0,  1,  9, 12, 17, 11, 18,  8, 19,  2, 17, 11,  4, 10,\n",
              "              18, 16, 12])                                                       ,\n",
              "       array([19, 16,  1, 11, 12,  2,  4, 18,  7,  8, 16, 15,  5,  9, 18, 11, 12,\n",
              "              14,  6, 17])                                                       ,\n",
              "       array([ 7,  1,  8, 12, 13, 10, 17,  4, 16, 19, 16,  5, 15,  3, 12,  2, 10,\n",
              "              18, 17, 11])                                                       ,\n",
              "       array([ 0, 19,  2, 14,  3, 18,  8,  9, 17,  1, 11,  0, 19,  4,  3,  5, 17,\n",
              "               7, 13, 10])                                                       ,\n",
              "       array([ 1, 19,  3,  9,  0, 15,  5, 13, 12, 16, 19, 10, 13,  5,  8,  7, 11,\n",
              "              14,  1, 17])                                                       ,\n",
              "       array([ 2, 10,  5, 16, 18, 13,  3,  1,  7, 17,  9,  5, 18, 13, 16, 15, 14,\n",
              "              12, 11,  2])                                                       ,\n",
              "       array([ 1, 12, 14, 10, 19,  9, 16,  7,  3,  4, 10,  3,  8,  1,  2, 18, 12,\n",
              "              19,  4,  7])                                                       ,\n",
              "       array([ 0, 12, 19,  3,  9,  2, 15,  8, 13, 17, 17, 11,  1, 19,  4,  5, 14,\n",
              "               6,  0,  2])                                                       ,\n",
              "       array([12, 14,  7, 18, 10, 13,  5,  1, 16,  9,  0,  4, 15, 13,  1,  9,  7,\n",
              "               8,  6,  3])                                                       ,\n",
              "       array([10,  0, 19, 18,  3,  6,  8, 14, 12,  9, 14,  1,  0,  9, 15,  2,  8,\n",
              "              13,  6, 17])                                                       ,\n",
              "       array([ 9,  2, 19, 16,  6, 11,  1,  3, 13,  7,  9, 15,  6, 11, 17,  4,  7,\n",
              "               5, 10, 12])                                                       ,\n",
              "       array([ 0,  3,  4,  1, 10, 18, 19,  2, 13,  9,  5, 14,  6,  4, 13, 17, 10,\n",
              "              18,  3,  8])                                                       ,\n",
              "       array([ 5, 16, 18, 11,  0, 17,  7, 15, 10,  2, 18,  5,  1,  9, 16, 13, 11,\n",
              "              10,  0, 15])                                                       ,\n",
              "       array([ 2,  8, 12, 14, 16,  7,  6,  4, 11, 15, 14,  7,  9, 10, 12,  8,  3,\n",
              "               5,  4,  2])                                                       ,\n",
              "       array([14, 12, 16, 18,  5,  2, 17,  8,  3,  9, 13, 14, 17, 11,  1, 16, 15,\n",
              "              19, 10,  4])                                                       ,\n",
              "       array([ 9,  4, 11,  2,  3, 12, 16, 13, 14, 19,  4, 10,  2, 15,  5, 14,  8,\n",
              "               7, 16,  3])                                                       ,\n",
              "       array([ 5, 13, 15, 11, 14,  2, 17, 10,  0, 12, 13,  6, 18,  4,  5, 11, 15,\n",
              "              16, 19,  1])                                                       ,\n",
              "       array([18,  4,  6, 16,  5, 13, 19, 10, 11,  9, 16,  0, 19, 18, 13,  4,  1,\n",
              "              12,  3, 10])                                                       ,\n",
              "       array([ 4,  0,  8,  2,  7, 19, 14, 15,  5, 13,  0,  6,  2,  4,  9, 11, 10,\n",
              "              13, 17, 12])                                                       ,\n",
              "       array([12,  0, 17, 16, 15,  5, 14, 18,  7,  8,  9,  4, 17, 18, 12,  0, 11,\n",
              "              14,  5, 13])                                                       ,\n",
              "       array([10,  9, 14,  2, 11,  1,  8,  6,  7, 19, 19,  8, 10,  6,  1,  7,  5,\n",
              "               4, 17, 14])                                                       ,\n",
              "       array([ 5,  0,  7,  3, 13,  1,  2, 12, 18, 14, 17, 18,  0, 13,  9, 15,  2,\n",
              "               1, 19, 16])                                                       ,\n",
              "       array([14,  0, 11, 17,  9, 12,  6,  8, 18,  5,  6,  3, 10, 18,  5, 16, 13,\n",
              "               9,  4,  7])                                                       ,\n",
              "       array([13, 14, 10,  9, 19, 18,  7, 16,  1, 15, 12,  3, 19,  7,  4,  1, 17,\n",
              "              13,  8, 14])                                                       ,\n",
              "       array([13, 16, 14, 11,  2,  1,  7, 10,  6,  0,  8,  4, 13, 16,  3, 19,  0,\n",
              "              18,  7, 12])                                                       ,\n",
              "       array([13, 18,  8, 12,  4, 14,  7, 17,  6,  0, 11, 14, 17, 16,  3, 19,  0,\n",
              "              12,  6,  2])                                                       ,\n",
              "       array([12, 15, 14,  4,  0, 18,  2, 13,  1,  7, 14, 10, 15,  4, 16,  9, 18,\n",
              "              17,  0,  5])                                                       ,\n",
              "       array([ 8, 10, 19, 13, 14,  6,  2, 18, 16,  9, 13,  0, 15, 19, 16, 17, 12,\n",
              "               1, 11,  6])                                                       ,\n",
              "       array([12, 18,  3,  9, 17, 15,  2, 19,  8, 16,  7,  5,  0, 16,  1,  6, 12,\n",
              "               2, 14, 13])                                                       ,\n",
              "       array([12, 15, 17, 16, 18, 13,  5,  7,  4, 11, 17,  9,  0, 11, 16,  4,  5,\n",
              "              19, 10,  2])                                                       ,\n",
              "       array([11, 13, 16,  4, 18, 19,  8, 10,  9,  2, 16,  8, 17, 18,  6,  3, 10,\n",
              "               2, 19,  9])                                                       ,\n",
              "       array([19,  2, 10, 13,  9,  1,  4,  6,  0, 17, 11, 16,  0, 19, 15,  2,  1,\n",
              "              17,  7,  3])                                                       ,\n",
              "       array([15,  1,  0, 19,  4, 14,  3,  6, 13,  7, 16,  6,  7,  8,  9, 10, 17,\n",
              "              13, 14,  0])                                                       ,\n",
              "       array([14, 17,  6, 11,  8,  5,  0, 10,  2,  3, 11, 10,  2,  7, 16,  9,  0,\n",
              "               6, 13, 12])                                                       ,\n",
              "       array([10,  4,  9,  0,  5,  1, 14, 18,  2, 15, 12,  2, 14,  1, 11,  4, 17,\n",
              "               6,  9,  7])                                                       ,\n",
              "       array([17, 19, 11,  1, 15, 10, 13,  9, 14,  4,  6,  2, 14,  7, 13, 15, 10,\n",
              "              12,  3, 11])                                                       ,\n",
              "       array([14,  1, 16, 10,  3, 12, 18, 17,  2,  9,  5, 10,  6, 18,  9,  1, 17,\n",
              "               4, 11,  7])                                                       ,\n",
              "       array([18,  4,  0, 14,  1, 11, 12, 15,  5, 19, 16,  7,  3, 14, 19, 17,  8,\n",
              "               5,  0, 10])                                                       ,\n",
              "       array([15, 11, 13, 19,  0,  2,  9, 14,  4,  8, 13, 19, 10, 12, 15,  0, 18,\n",
              "              16, 14,  6])                                                       ,\n",
              "       array([13, 17, 10,  2,  6,  3,  4, 16, 12,  9, 15, 18,  4,  5,  2,  3, 14,\n",
              "              11, 10,  6])                                                       ,\n",
              "       array([ 2,  9,  6,  3, 17,  4,  0, 16, 14,  8, 16,  6, 14,  2,  7,  9,  0,\n",
              "               3, 17, 12])                                                       ,\n",
              "       array([ 3, 13,  6,  0, 18, 12,  1,  7, 16, 14, 12,  6, 14, 10,  1,  9, 13,\n",
              "              11, 17, 18])                                                       ,\n",
              "       array([11,  8, 18,  1,  0, 10, 15, 14,  4, 12,  0,  2,  9,  8,  3,  5, 15,\n",
              "               1, 13, 18])                                                       ,\n",
              "       array([ 1,  8,  4,  2, 18,  0, 13,  6, 17,  3,  7,  2,  1, 10,  4, 12, 17,\n",
              "               0, 18, 19])                                                       ,\n",
              "       array([16,  4,  5,  0, 15, 10,  1,  7,  3, 12,  2,  7,  0,  3, 14, 17,  4,\n",
              "              15,  8, 16])                                                       ,\n",
              "       array([ 8, 18, 12,  4,  9, 19,  7, 11,  0, 17,  3, 17,  2, 11, 15,  6,  9,\n",
              "              14,  0,  5])                                                       ,\n",
              "       array([16,  9,  1,  3, 15,  8, 17,  2, 19,  6, 18,  4, 12,  8, 16, 13,  6,\n",
              "               9, 14, 11])                                                       ,\n",
              "       array([ 3,  5,  4, 11, 13, 18, 14,  9, 19,  8, 18, 11,  7,  2, 15, 13,  4,\n",
              "               9,  3, 14])                                                       ,\n",
              "       array([ 5,  1,  6,  3, 18,  4, 13, 19, 17, 12, 19,  8, 17, 12, 11,  1, 13,\n",
              "               5,  6, 14])                                                       ,\n",
              "       array([15, 17, 10, 16,  9,  2, 19,  6,  0, 12, 16,  3,  1, 15,  8, 17,  2,\n",
              "              13,  9, 14])                                                       ,\n",
              "       array([12,  0, 13,  5,  9,  7, 17, 14,  2,  3,  8,  9, 19, 10,  1,  7,  3,\n",
              "               4, 17, 18])                                                       ,\n",
              "       array([ 2, 12, 15, 18, 16, 11, 10,  4,  0, 19, 12, 18,  6, 10, 11,  0, 17,\n",
              "              19,  9,  1])                                                       ,\n",
              "       array([ 7,  3,  5, 13, 16,  2, 10,  6, 17, 12,  5, 14,  7, 13, 10, 18,  8,\n",
              "               3,  4,  0])                                                       ,\n",
              "       array([17, 16,  8,  6,  7, 13, 12, 10, 19,  4, 10, 18, 12,  8, 17,  7,  4,\n",
              "               3,  5, 14])                                                       ,\n",
              "       array([ 4, 13,  9, 16, 11,  5, 17,  6, 18,  1,  9, 18, 12, 13, 16, 11,  0,\n",
              "               8, 14, 10])                                                       ,\n",
              "       array([14, 12,  7, 13,  2,  0, 15,  8, 19, 17,  9,  8,  5, 17, 15,  4, 11,\n",
              "               6,  2,  0])                                                       ,\n",
              "       array([10, 11, 19, 13, 14, 17,  6,  1,  2, 16,  6,  4, 10, 18, 16, 15, 14,\n",
              "              19, 11, 12])                                                       ,\n",
              "       array([ 4, 16, 14,  7, 18,  6,  1, 13, 10,  3, 11,  2, 14,  9, 19, 10,  1,\n",
              "              12,  0,  5])                                                       ,\n",
              "       array([ 4,  7, 19,  1, 13, 15,  6,  8,  3, 10,  6,  5, 10,  3, 14,  0,  4,\n",
              "              13, 11, 18])                                                       ,\n",
              "       array([10,  2, 12,  1, 16, 14,  5, 11,  4, 13,  7,  8,  9, 11,  1,  5,  6,\n",
              "              16, 17, 13])                                                       ,\n",
              "       array([17, 18, 10, 11, 19,  6,  1,  8,  3, 16, 16, 14,  5,  3, 17,  9,  0,\n",
              "               4, 18,  1])                                                       ,\n",
              "       array([11,  5, 12, 16,  3,  1, 19,  8, 13, 15,  0,  6, 13,  3, 14, 10,  1,\n",
              "               4,  8, 19])                                                       ,\n",
              "       array([14, 11,  7, 13,  0, 18, 10, 16, 12,  2, 14, 11,  4,  2, 18,  3,  7,\n",
              "              12,  5, 19])                                                       ,\n",
              "       array([ 3,  0,  8,  7, 15, 17,  5, 19,  2, 18,  1,  4, 12,  7,  3, 10,  0,\n",
              "              13, 17,  6])                                                       ,\n",
              "       array([17, 19,  8,  7,  9,  1,  4, 15, 11,  2,  3, 16, 18,  8,  2, 12,  4,\n",
              "              17, 15,  7])                                                       ,\n",
              "       array([14,  8, 17, 10,  6,  2,  9,  0,  1, 11, 19, 18,  1,  9, 12,  5,  2,\n",
              "              14,  3, 13])                                                       ,\n",
              "       array([14, 18, 16, 11,  1, 17,  0, 12,  5,  6,  4,  3, 13, 18, 15,  9,  6,\n",
              "               0, 17, 14])                                                       ,\n",
              "       array([19, 10,  9, 13, 18,  6,  3,  0,  7, 11,  3,  9,  5,  8,  2, 14,  6,\n",
              "              15, 18, 10])                                                       ,\n",
              "       array([13,  6,  7, 14,  1,  3,  4, 15,  8, 11,  2,  9, 11,  6,  7, 14,  4,\n",
              "              16,  3, 18])                                                       ,\n",
              "       array([15, 18, 14,  0,  3,  5, 13, 10,  9,  4,  9,  4, 10, 13, 12,  2, 17,\n",
              "               6,  7, 19])                                                       ,\n",
              "       array([12,  5, 11, 16,  8,  6,  0, 19, 17, 10,  1, 16,  6, 15,  3, 14,  7,\n",
              "              19, 13, 18])                                                       ,\n",
              "       array([ 7, 15,  3, 12,  5,  2, 16,  4,  1, 14, 11, 17, 18,  0, 12, 10,  4,\n",
              "               1, 13,  2])                                                       ,\n",
              "       array([ 3, 17, 10,  4, 15,  0,  2, 19,  1,  5, 16, 18, 13,  9, 10,  8, 15,\n",
              "               2, 14,  7])                                                       ,\n",
              "       array([ 2, 13,  8,  9,  6, 19, 18, 11, 12, 15, 13, 10, 12,  0, 14,  8,  7,\n",
              "               4, 17, 18])                                                       ,\n",
              "       array([13,  2,  7, 19,  0, 17, 10, 15,  6,  8, 10,  6,  5,  3,  9, 12, 19,\n",
              "               2, 17,  7])                                                       ,\n",
              "       array([ 7, 10,  4,  1, 12, 14, 18, 17, 13,  6, 18, 11,  2,  3,  4, 14, 15,\n",
              "              16,  1,  0])                                                       ,\n",
              "       array([10, 19, 11,  5,  9, 13,  7, 14,  8,  1,  0,  8, 10,  6, 12, 19,  2,\n",
              "              11, 18,  9])                                                       ,\n",
              "       array([11,  5, 10,  1, 19,  6,  8,  0, 13, 16, 12, 18, 19, 14,  5, 15, 16,\n",
              "               1, 17, 13])                                                       ,\n",
              "       array([ 6, 10,  0, 16,  9, 13,  7, 11,  8, 12,  2,  6,  5, 17, 14,  4, 16,\n",
              "               0, 11,  7])                                                       ,\n",
              "       array([16,  0,  3, 10,  2,  4, 17,  9, 19, 12, 15, 12,  5,  1,  3, 16, 14,\n",
              "              10, 19, 11])                                                       ,\n",
              "       array([ 2,  6, 11,  5,  1,  7, 15,  0, 18,  3, 16, 19, 12, 18,  4, 11, 14,\n",
              "               1,  3, 10])                                                       ,\n",
              "       array([15, 11,  2,  9,  6, 10, 19,  8,  1,  7, 13,  2,  3,  0, 18, 15,  1,\n",
              "               9, 16, 19])                                                       ,\n",
              "       array([19, 16,  3,  8,  0, 18, 15, 13,  4, 10,  1, 12,  8,  7,  9, 14,  4,\n",
              "              19, 10,  2])                                                       ,\n",
              "       array([17, 16, 14, 19,  4,  7, 11, 18,  0,  5,  3, 11, 14, 18, 10,  4, 15,\n",
              "               0, 19, 17])                                                       ,\n",
              "       array([ 8, 14, 15, 18,  2,  1,  7, 10, 11,  3, 18, 19,  3,  8,  1, 16, 13,\n",
              "               2,  4, 17])                                                       ,\n",
              "       array([ 9, 15,  3, 10, 17,  7,  2, 11, 13, 19, 10, 17, 15,  8,  0, 18,  7,\n",
              "               5,  2, 13])                                                       ,\n",
              "       array([ 6,  0,  1, 13,  3,  5,  8, 10,  2,  7,  4, 11, 10, 13,  0,  5,  7,\n",
              "               1, 17,  2])                                                       ,\n",
              "       array([14, 17, 13,  6,  0,  2, 11,  9, 19, 18, 18, 15, 19, 14,  3, 16,  2,\n",
              "               8,  5,  4])                                                       ,\n",
              "       array([15,  0, 12,  3,  8, 17, 14,  5,  6, 16,  1, 19, 14,  2, 11,  4,  5,\n",
              "               3,  0, 13])                                                       ,\n",
              "       array([ 8,  7,  5,  1, 10, 15,  3, 18,  4, 11, 12,  8, 10, 14,  0,  4,  5,\n",
              "               7, 13,  1])                                                       ,\n",
              "       array([ 6,  9, 13, 16,  2,  3,  5, 14, 15, 10,  1, 13,  0, 11, 12, 15,  4,\n",
              "               2,  3,  7])                                                       ,\n",
              "       array([ 7, 17,  1, 15,  5, 10, 11, 14,  9, 16, 17, 11,  9, 19,  4, 16, 15,\n",
              "               0,  2, 14])                                                       ,\n",
              "       array([ 6,  8, 18, 14,  1, 15, 19, 11, 12,  4, 19,  9,  7, 15,  2,  1,  3,\n",
              "              11, 10,  4])                                                       ,\n",
              "       array([17,  6, 13, 12, 10,  8, 16,  4,  7,  3,  7,  6, 12, 17, 15, 10,  1,\n",
              "              18, 19,  4])                                                       ,\n",
              "       array([10, 19,  8,  3, 15, 11,  5,  7, 18,  1,  9, 16, 13, 10,  8, 14, 18,\n",
              "               2, 11,  3])                                                       ,\n",
              "       array([18, 10,  1,  6, 14, 15, 17, 19,  2, 12,  9, 15, 18,  4, 16, 19, 10,\n",
              "               6, 11, 12])                                                       ,\n",
              "       array([ 6,  1, 11,  2, 18, 17, 16, 19, 12,  3,  3,  0, 13,  4,  1,  6, 11,\n",
              "              16, 15,  7])                                                       ,\n",
              "       array([11, 10,  1,  4, 15, 17, 13,  7, 16,  6,  1,  0, 15, 10,  2, 11,  5,\n",
              "               3, 12,  8])                                                       ,\n",
              "       array([ 4,  3, 14, 18,  7, 13,  2,  0,  8,  1,  9,  5, 19, 11, 10,  8, 13,\n",
              "               6, 12,  4])                                                       ,\n",
              "       array([ 7, 19,  3,  8, 12,  5, 18, 11, 14,  4, 10, 19, 12,  2, 16,  6, 11,\n",
              "              17,  9,  3])                                                       ,\n",
              "       array([16,  8, 10,  5,  2, 14, 17, 19,  6,  9,  2, 17, 11, 14,  6,  1, 13,\n",
              "               0, 12, 18])                                                       ,\n",
              "       array([11,  6, 16,  0, 18, 10,  5,  8,  3,  2,  7,  4, 11, 15,  9, 18,  8,\n",
              "               2, 10,  1])                                                       ,\n",
              "       array([ 8, 18, 14, 12,  7,  0, 15,  9,  5,  1,  2, 18, 13, 15,  3,  8, 19,\n",
              "              12,  4, 10])                                                       ,\n",
              "       array([ 8,  0,  1, 18,  6,  5,  2, 19, 12,  3,  1,  4, 10,  9, 14, 18, 17,\n",
              "              15, 11, 16])                                                       ,\n",
              "       array([ 1,  2, 19, 17,  8, 10, 12, 13,  7,  0,  0, 12, 14,  1,  8,  5, 19,\n",
              "              10, 16, 13])                                                       ,\n",
              "       array([17,  1, 13,  8, 12, 19,  3,  5,  7, 15,  2,  8, 11,  6, 15, 16, 19,\n",
              "               5, 13,  9])                                                       ,\n",
              "       array([ 4,  2, 11,  9, 17,  3, 10,  5,  6, 15,  7,  2,  5, 19, 14,  4, 16,\n",
              "              12, 15, 10])                                                       ,\n",
              "       array([19,  4,  5, 11,  0, 18,  3, 14,  8,  6,  3, 13, 10, 18,  7,  1, 16,\n",
              "              19,  9, 14])                                                       ,\n",
              "       array([17,  6,  2,  0,  8, 16,  5, 15, 18, 12, 18,  7, 14,  8, 10,  3,  6,\n",
              "              12, 13, 16])                                                       ,\n",
              "       array([ 9, 11, 15, 10,  1,  2,  7, 12, 16, 14,  1, 15, 17,  0, 19,  3,  6,\n",
              "               5,  2, 10])                                                       ,\n",
              "       array([16,  5, 17, 19,  8,  3,  9, 14,  1, 15, 16,  6, 10, 11,  8, 18,  3,\n",
              "              13,  7,  4])                                                       ,\n",
              "       array([13,  7, 17,  5,  0,  9,  3, 10, 12, 18,  9, 16,  5,  7,  6,  4, 14,\n",
              "               0, 12, 18])                                                       ,\n",
              "       array([13,  4, 16,  9, 10, 15,  7, 19, 11,  2,  7,  0, 10, 15, 18,  6, 19,\n",
              "              14,  3, 17])                                                       ,\n",
              "       array([ 8, 10,  9,  5, 17,  7, 19,  2,  4, 12,  4,  3,  9,  1, 16,  5, 17,\n",
              "              15, 14, 13])                                                       ,\n",
              "       array([ 2, 19,  3, 15,  8,  5,  1, 17,  4, 11,  8,  4, 16, 10,  5,  7,  3,\n",
              "              19,  9,  6])                                                       ,\n",
              "       array([ 1, 11, 16, 10, 14, 17, 13,  5, 15,  8,  9, 16,  1,  3, 14, 13,  6,\n",
              "              18, 10, 15])                                                       ,\n",
              "       array([ 1,  8, 11, 17, 18,  6,  3,  2, 19, 10,  8, 14, 11,  4, 12, 18, 19,\n",
              "               5,  9, 10])                                                       ,\n",
              "       array([ 2, 12,  8, 15,  6,  1,  7,  5, 16,  3, 14,  9,  7, 16, 17,  4, 18,\n",
              "              12,  2, 11])                                                       ,\n",
              "       array([18,  0,  4,  5,  7,  3,  8, 10, 15, 17, 11, 19,  6,  2, 10,  8,  0,\n",
              "              13, 12,  5])                                                       ,\n",
              "       array([18, 12,  6, 15, 11,  5,  1,  7, 17,  3, 10, 14,  4,  9, 12,  7,  6,\n",
              "              18,  1, 15])                                                       ,\n",
              "       array([ 3, 16,  4, 15,  0,  9,  5,  7,  2, 10,  7, 18, 17,  5, 14,  4,  1,\n",
              "              16,  6,  0])                                                       ,\n",
              "       array([ 8,  1, 14, 17, 13,  5, 18,  6,  4,  7, 14,  5, 15, 17, 13,  7,  3,\n",
              "               2, 10,  1])                                                       ,\n",
              "       array([12,  7,  0, 19, 11, 14,  9, 17, 15, 13, 19,  7, 13,  5, 16, 18, 11,\n",
              "               8,  0,  6])                                                       ,\n",
              "       array([ 7,  2,  3, 19, 16, 14, 12,  8, 17, 18,  9, 10,  5,  2, 16, 15, 11,\n",
              "               7,  4, 14])                                                       ,\n",
              "       array([ 7, 10,  8, 13,  3, 11,  4, 17,  0, 12, 14,  7, 18, 13, 17, 12,  4,\n",
              "               1,  3, 16])                                                       ,\n",
              "       array([ 2, 13, 15,  1,  6,  4, 14,  5, 12, 18, 18, 14, 17,  3, 13, 10,  8,\n",
              "               5, 16, 12])                                                       ,\n",
              "       array([10,  3,  6, 16, 14, 17,  2, 18,  0,  8,  5,  3, 11, 19, 15, 17,  9,\n",
              "              13,  8, 14])                                                       ,\n",
              "       array([11, 12, 10,  4, 18,  8, 17,  5, 16, 14, 11, 19,  7, 12,  4,  0,  2,\n",
              "              17, 14,  6])                                                       ,\n",
              "       array([10,  6, 14,  2, 16,  9,  7,  8, 17, 18,  8, 15, 19, 18,  6, 14,  5,\n",
              "               4,  9,  1])                                                       ,\n",
              "       array([18,  4,  8,  0, 19,  6, 10, 12, 16, 14, 10,  0, 12,  9,  5,  4,  8,\n",
              "              18,  1, 11])                                                       ,\n",
              "       array([10,  0,  2, 13, 11, 17, 16,  6, 12, 18,  8,  2,  1, 16,  5, 18, 19,\n",
              "               3,  6, 12])                                                       ,\n",
              "       array([18, 13, 10,  8,  2,  3, 15, 11, 19,  7,  6,  0,  3,  7, 12, 11, 18,\n",
              "              13, 16, 19])                                                       ,\n",
              "       array([11, 16,  8,  1, 17, 18,  0, 12, 15,  5,  5, 17, 16,  3,  1,  0, 13,\n",
              "              11,  2, 14])                                                       ,\n",
              "       array([ 2, 19, 14,  9,  4, 12,  3, 10, 18, 15,  0, 15,  5,  2,  4, 17,  7,\n",
              "               1, 10,  6])                                                       ,\n",
              "       array([19,  7, 12, 15,  2, 14, 17,  3,  9, 11,  6, 18, 10,  8, 13,  2, 17,\n",
              "               3,  4,  9])                                                       ,\n",
              "       array([19,  9, 11,  8, 18,  6,  3,  2, 12,  4, 11, 13,  6,  8,  4, 15,  7,\n",
              "               0,  5, 19])                                                       ,\n",
              "       array([ 3,  8,  2, 13,  7, 12, 15,  4, 10, 18,  9,  3, 16, 11, 13, 12,  2,\n",
              "               0,  1, 19])                                                       ,\n",
              "       array([17,  2,  6,  5, 11, 12,  0, 14,  9, 19,  4,  0,  9, 18, 15,  8, 10,\n",
              "              14, 19, 16])                                                       ,\n",
              "       array([11,  9,  3, 19, 18, 15, 13,  0, 14,  2, 13,  6,  0,  3,  5, 19, 17,\n",
              "               2, 12,  7])                                                       ,\n",
              "       array([ 2, 18, 11,  8, 10,  6,  5,  4, 16,  9, 18,  6, 14,  9,  4,  5, 19,\n",
              "              12, 17,  1])                                                       ,\n",
              "       array([17,  6,  1,  3,  8, 16, 18,  9,  7, 14,  0,  4, 16,  6, 10,  2,  3,\n",
              "              19, 17, 13])                                                       ,\n",
              "       array([13,  2,  5,  4,  6,  7, 10, 17, 15, 14,  4,  3,  6, 12, 19, 16, 10,\n",
              "               0,  7, 11])                                                       ,\n",
              "       array([ 3, 18, 13,  9,  1, 10, 15, 11, 12,  2,  1,  8,  2, 14,  5, 18,  7,\n",
              "               0,  3,  6])                                                       ,\n",
              "       array([ 8, 18,  3,  7,  1, 15,  0,  2, 19, 12, 11, 16,  0, 15,  3, 14,  8,\n",
              "               4, 12,  9])                                                       ,\n",
              "       array([19, 14,  8, 11,  7,  5,  2,  9,  1,  6, 17,  0, 13, 12,  4, 14, 10,\n",
              "              11,  5,  3])                                                       ,\n",
              "       array([14,  4, 12,  1,  7,  8, 16, 17,  5, 13,  1,  7,  9, 19,  4,  3, 13,\n",
              "               0, 16, 10])                                                       ,\n",
              "       array([10, 18, 16, 12,  4,  9,  8,  7,  0, 14,  7, 11,  0,  8,  9, 16,  5,\n",
              "              18,  2, 14])                                                       ,\n",
              "       array([ 8,  5,  9, 12, 10, 18, 11, 13,  7, 17, 13,  4,  0,  9,  8, 15, 16,\n",
              "              10,  2,  3])                                                       ,\n",
              "       array([ 5, 19, 11, 17, 10, 12,  1,  8,  0, 18,  7, 10, 15,  6,  1, 19, 14,\n",
              "               4, 13, 16])                                                       ,\n",
              "       array([ 8, 18, 17, 13,  0,  9, 12,  4, 10,  5,  6,  9, 15, 18, 11, 16,  2,\n",
              "              19,  4, 14])                                                       ,\n",
              "       array([ 0, 18, 10, 15,  8,  1,  2,  3, 19,  4,  0,  7, 18,  6, 17, 12, 16,\n",
              "               5,  2, 19])                                                       ,\n",
              "       array([14, 11, 16,  0,  3,  5, 13,  4, 18, 19,  6,  7,  4, 13,  5, 15,  8,\n",
              "              16, 10,  2])                                                       ,\n",
              "       array([10, 17, 16,  1,  9,  3, 13,  2,  4,  0, 15,  4, 17, 18,  5,  9,  1,\n",
              "               3, 13, 10])                                                       ,\n",
              "       array([ 4,  8, 13,  6, 18,  1,  2, 10,  5,  3, 14,  3, 10, 17, 12,  4,  7,\n",
              "              13,  0, 11])                                                       ,\n",
              "       array([16,  5, 12,  6, 14, 17,  0,  3,  2,  1,  1,  3,  6,  8, 16,  5, 17,\n",
              "              12, 15, 14])                                                       ,\n",
              "       array([ 6, 17, 15, 16, 13,  8,  4,  7, 11, 12, 10,  7,  5, 12,  8, 11,  4,\n",
              "              17,  3, 19])                                                       ,\n",
              "       array([ 0,  1,  6, 16,  9, 19, 15, 12, 18,  4, 16, 13,  9,  2,  1, 12, 19,\n",
              "              14,  3,  6])                                                       ,\n",
              "       array([19,  3,  1, 15, 16, 17,  9,  2,  6, 18, 10,  8, 12,  2,  3,  1, 17,\n",
              "               6,  9,  7])                                                       ,\n",
              "       array([ 9, 12, 11, 13,  6, 18, 14, 17,  5, 16, 15, 16, 14, 13, 12,  2, 18,\n",
              "               5, 19,  1])                                                       ,\n",
              "       array([ 5, 19, 11, 17, 13,  0,  2, 18, 14, 16, 19, 14,  0, 17,  6,  2, 11,\n",
              "              16, 12,  4])                                                       ,\n",
              "       array([ 4,  2,  9, 16, 12,  5,  1,  7, 11, 18,  0, 15, 10, 12,  2, 19,  6,\n",
              "              11,  4, 13])                                                       ,\n",
              "       array([19, 13,  6,  8,  7, 11,  9,  4, 18,  2, 13, 15, 14, 18,  7, 16, 11,\n",
              "               4, 12, 19])                                                       ,\n",
              "       array([ 8, 19,  9,  6, 16, 14,  5,  4,  7, 18,  4,  5, 17, 12,  6, 13, 16,\n",
              "               1, 18, 14])                                                       ,\n",
              "       array([ 2,  8, 13,  9, 18,  3, 15,  6, 10, 11,  9,  8,  6, 12, 15, 18,  0,\n",
              "               2, 14, 10])                                                       ,\n",
              "       array([ 0, 12,  8,  7, 13, 10,  9,  6, 11, 15,  0,  8,  9, 12, 19, 18,  2,\n",
              "              10, 11, 14])                                                       ,\n",
              "       array([ 9, 10,  0, 19,  6, 14,  1, 11,  4, 17, 17, 15, 19,  1,  5,  7,  3,\n",
              "               6, 13,  9])                                                       ,\n",
              "       array([16, 17, 19, 12,  6,  4,  0,  3,  8,  7, 16,  0, 19, 11, 14, 15, 17,\n",
              "               9,  2,  1])                                                       ,\n",
              "       array([12,  8,  1, 13,  6,  4,  0, 17,  2, 15,  2,  9,  1,  6, 10, 17, 14,\n",
              "               7, 19, 15])                                                       ,\n",
              "       array([13,  1, 16, 19,  5, 17, 14,  4, 12,  7, 14,  2,  0,  1,  5, 16,  4,\n",
              "               7, 15,  8])                                                       ,\n",
              "       array([ 8,  3,  9, 11, 17, 12, 14, 19,  4,  5,  1,  8,  5, 10, 12, 17, 18,\n",
              "               6, 14,  3])                                                       ,\n",
              "       array([19,  6,  0, 17,  2,  1, 13, 12,  3, 16, 16, 10, 18, 11,  4,  1,  5,\n",
              "              17,  9, 14])                                                       ,\n",
              "       array([ 5, 11, 19,  1, 12,  2, 14,  7, 10,  0, 14,  7, 15,  2,  1,  6, 19,\n",
              "              11,  4, 12])                                                       ,\n",
              "       array([11,  6,  2, 19, 10, 15, 17,  0,  9,  4, 15,  2, 12,  5,  4, 16,  3,\n",
              "              13,  7,  9])                                                       ,\n",
              "       array([ 5, 17,  6, 16, 19, 12, 10,  2,  3, 11, 19,  4,  6, 12,  1, 10, 15,\n",
              "              16,  9, 14])                                                       ,\n",
              "       array([ 3,  5, 12, 14, 17, 11,  2,  9, 15,  8, 17,  5,  7, 11,  3,  2,  9,\n",
              "              15,  4, 18])                                                       ,\n",
              "       array([12,  4, 19, 11, 10, 14,  8,  9, 16,  5, 18, 12,  2,  1, 10,  8,  0,\n",
              "               3, 15,  7])                                                       ,\n",
              "       array([18, 15,  8, 10,  0,  1, 13, 16,  6, 11, 18,  2, 17, 12,  9,  3,  1,\n",
              "               7, 11,  4])                                                       ,\n",
              "       array([14,  4,  6, 13, 10, 18, 19, 15,  5,  0,  2, 10,  4, 18,  3,  1,  5,\n",
              "               9, 19, 11])                                                       ,\n",
              "       array([11,  1, 12, 14,  5, 16,  6,  8, 13,  3, 15, 19,  9,  8,  3, 17, 10,\n",
              "               2,  5,  6])                                                       ,\n",
              "       array([ 0,  9,  5,  8, 16, 15, 13,  4, 18, 12, 12,  1,  2, 15,  5, 17, 13,\n",
              "               4,  0, 14])                                                       ,\n",
              "       array([15, 17,  3, 10,  4,  5, 19, 16, 11,  9, 19,  8,  1, 16,  2,  3,  5,\n",
              "              13, 18, 14])                                                       ,\n",
              "       array([13, 11, 17,  2, 12, 10,  1,  7, 18,  6, 11,  5, 18,  7, 13,  3, 15,\n",
              "               0, 17, 10])                                                       ,\n",
              "       array([ 9, 15, 10,  5,  8,  0,  7, 19,  4, 13,  1, 18, 12, 17, 15,  4,  0,\n",
              "               9, 10, 14])                                                       ,\n",
              "       array([11, 12,  8,  2,  7, 17,  0, 16,  5, 10,  2,  9,  0,  3, 17, 12, 11,\n",
              "               6, 18,  4])                                                       ,\n",
              "       array([ 2, 18, 11,  7,  9, 14,  4, 10,  1, 12,  7,  5,  6, 12,  1,  4, 17,\n",
              "              15, 11,  8])                                                       ,\n",
              "       array([16, 13,  7, 17,  6, 12,  2, 18,  4,  0, 14, 13, 19,  4,  7, 18,  6,\n",
              "               3,  2,  0])                                                       ,\n",
              "       array([ 7,  3,  8, 10,  5, 15, 17, 12, 14, 19,  3, 18,  8,  6,  9,  0, 13,\n",
              "              12, 19,  7])                                                       ,\n",
              "       array([ 9, 10, 14,  6, 13, 16, 19,  5, 17,  2, 19, 16, 18,  3,  6, 10,  5,\n",
              "               1, 15,  4])                                                       ,\n",
              "       array([15,  1, 18,  7,  6, 14,  4, 11,  9, 13, 14, 10, 12,  4,  1, 15,  5,\n",
              "               0,  6,  7])                                                       ,\n",
              "       array([19,  3, 11,  5, 16,  9,  8,  2, 17, 13, 10,  0, 13,  4, 15,  3, 18,\n",
              "              19,  6,  8])                                                       ,\n",
              "       array([17, 10, 18,  8,  0, 12,  6,  7,  4, 16,  6, 18,  3,  9, 15,  4, 16,\n",
              "               5, 10,  2])                                                       ,\n",
              "       array([18,  9,  6,  7, 15, 11, 13, 12,  4, 17, 12,  4, 17,  1, 13,  6,  3,\n",
              "               0,  9,  5])                                                       ,\n",
              "       array([19, 15, 11, 17,  7,  3,  8,  1, 18,  0, 17, 19, 13, 15, 14, 11,  6,\n",
              "               9, 16,  4])                                                       ,\n",
              "       array([ 8,  1,  9, 17, 14, 10, 16, 18, 15,  7,  2, 16, 12, 11, 14,  0, 19,\n",
              "               7, 17, 13])                                                       ,\n",
              "       array([17,  5,  2, 18, 13, 15, 14,  0,  1,  3,  5, 17, 15, 14, 16, 18, 12,\n",
              "               8, 19,  2])                                                       ,\n",
              "       array([ 8,  1, 17,  2, 11, 10,  0,  9, 19, 14, 11, 12,  3,  9,  8, 16,  7,\n",
              "              19,  1, 17])                                                       ,\n",
              "       array([ 9,  1, 13,  6,  4, 16,  7, 17,  0, 12, 15,  9,  0, 12,  5,  1, 13,\n",
              "               4,  7, 14])                                                       ,\n",
              "       array([ 4, 18,  9,  2,  3,  8, 17,  6, 10, 15, 14,  6,  1, 12,  8, 16, 13,\n",
              "              17,  0,  2])                                                       ,\n",
              "       array([ 4,  8,  3, 10, 19, 13, 14, 12, 15,  9, 18,  6,  0, 16, 12, 14, 15,\n",
              "               7,  2,  4])                                                       ,\n",
              "       array([ 5, 16,  1,  4, 14,  3, 18,  8,  0, 15, 17,  2, 14,  7,  4,  1, 11,\n",
              "              13,  0,  8])                                                       ,\n",
              "       array([18,  6, 13,  1,  9, 11, 17, 15,  7, 14,  9, 15,  3,  6,  2, 11, 19,\n",
              "              17, 10, 16])                                                       ,\n",
              "       array([10, 12, 15, 19,  4,  5,  2,  7,  1, 17,  6, 14,  9, 13, 15, 11,  8,\n",
              "              19,  2,  1])                                                       ,\n",
              "       array([10, 13, 14, 12,  5,  3,  8,  9,  2, 15, 17, 16, 14, 12,  6,  7, 18,\n",
              "               5, 15, 10])                                                       ,\n",
              "       array([11,  7,  5, 18, 14,  2,  6,  4,  9, 10,  8,  9, 14,  2, 18,  1,  0,\n",
              "               6,  7, 17])                                                       ,\n",
              "       array([ 9,  0, 15,  3, 18,  2, 16, 14,  1, 10,  0, 17,  8, 15,  7, 16,  9,\n",
              "               2, 11,  4])                                                       ,\n",
              "       array([ 9, 18, 15, 17, 11, 14,  8, 10,  6,  1, 17, 12,  0, 19, 13, 16,  1,\n",
              "              11, 18,  4])                                                       ,\n",
              "       array([16, 19,  2, 11,  4,  9,  7,  6, 14,  3,  2,  5, 18,  7,  6, 19, 15,\n",
              "              14, 16, 13])                                                       ,\n",
              "       array([ 2,  4, 12, 16, 18, 19, 17, 11,  6, 14,  5, 13, 19,  7,  0,  2,  9,\n",
              "               4, 12, 10])                                                       ,\n",
              "       array([15, 14,  7, 17,  2, 10, 18,  3,  9, 13,  8, 12,  4, 15, 14,  0, 17,\n",
              "               7, 13, 18])                                                       ,\n",
              "       array([18,  1, 11, 14, 13,  2,  6, 19,  7,  5, 17,  8, 11, 10,  4,  7,  5,\n",
              "               6,  1, 13])                                                       ,\n",
              "       array([11, 15, 10,  0, 16,  2, 13, 19,  6,  5, 12,  4, 10, 13, 11, 17,  9,\n",
              "               0, 14,  8])                                                       ,\n",
              "       array([13,  0,  9, 14,  3,  2, 16,  7, 12, 19, 19, 10,  6,  9,  4,  8, 13,\n",
              "              16, 11,  0])                                                       ,\n",
              "       array([13,  7,  9, 16,  2, 19, 12,  4, 17,  3, 15,  6,  5, 18, 12, 17,  3,\n",
              "              16,  7, 19])                                                       ,\n",
              "       array([ 5, 14,  2,  9, 10, 11,  7,  6,  3, 16, 16, 17,  8, 11, 13,  0,  2,\n",
              "              18,  1, 19])                                                       ,\n",
              "       array([12,  7, 17, 11,  6, 10,  4,  2, 15,  5, 17, 18, 15,  4,  6, 11,  3,\n",
              "              16,  5,  9])                                                       ,\n",
              "       array([18,  9, 19,  7,  4,  8,  1,  6, 15,  3,  6,  2,  9,  5,  7, 10, 19,\n",
              "               8,  4, 17])                                                       ,\n",
              "       array([ 8, 16, 13, 17,  5, 14,  0,  2,  6, 10, 16, 13,  0,  5, 12,  4,  3,\n",
              "               2,  8, 15])                                                       ,\n",
              "       array([19,  2,  8,  0,  4, 15, 16,  6,  7,  1, 16, 11, 15,  8,  1,  4,  5,\n",
              "              10, 12, 14])                                                       ,\n",
              "       array([ 2,  6, 19,  5, 14,  1, 12, 17,  9, 15, 12, 11, 19, 13, 16, 10,  4,\n",
              "              17,  8, 18])                                                       ,\n",
              "       array([ 3,  0, 19,  8,  5, 14,  7,  6, 15, 13, 12,  3,  2, 16, 10, 17, 14,\n",
              "               9, 13, 15])                                                       ,\n",
              "       array([14, 18, 11,  2,  4,  0, 19, 16,  1,  6,  0, 14,  9,  6,  1, 15, 13,\n",
              "               5, 11, 12])                                                       ,\n",
              "       array([17, 16, 14, 10,  8,  4,  3, 12,  0, 13, 16, 10,  0, 11,  5,  2, 12,\n",
              "               4,  8,  3])                                                       ,\n",
              "       array([ 8,  9,  0, 14,  1,  2, 11,  6,  5, 13,  8, 14,  4,  1,  0,  3, 13,\n",
              "               6, 11, 18])                                                       ,\n",
              "       array([ 1,  7,  0, 11, 19,  6,  2, 15,  8,  4,  3, 16,  7,  5,  8,  0, 17,\n",
              "              14, 10, 11])                                                       ,\n",
              "       array([ 5,  1, 16, 13, 15, 14, 18, 10,  9, 17, 12, 18,  1,  2,  4,  9,  6,\n",
              "              10, 17, 14])                                                       ,\n",
              "       array([ 4,  3,  8,  2, 12,  9, 14, 11,  0,  5,  3, 12,  8,  7, 17, 18, 19,\n",
              "               0, 13,  9])                                                       ,\n",
              "       array([ 7,  3, 13, 10,  5,  2, 17,  1,  9, 19,  1, 11,  9, 19,  4, 15,  3,\n",
              "               0, 10, 18])                                                       ,\n",
              "       array([ 6, 16, 18, 17,  1, 15, 19, 10, 14,  9, 19, 15,  7,  2,  4, 10, 18,\n",
              "               1, 11, 14])                                                       ,\n",
              "       array([ 1,  8, 16, 13, 18, 17, 11,  9,  4,  0, 11, 12, 18,  5, 10, 17,  2,\n",
              "              15,  3, 16])                                                       ,\n",
              "       array([18, 13,  3, 16, 17, 14, 11, 19,  4,  7, 17, 13,  4,  9, 19,  6,  0,\n",
              "              18,  7,  3])                                                       ,\n",
              "       array([ 1,  4, 18,  3, 16,  9, 13, 14, 15, 11, 11,  9, 10,  8, 19, 17,  0,\n",
              "              18,  2, 13])                                                       ,\n",
              "       array([ 6, 11, 10, 15,  1, 13, 19, 18,  8,  5,  2,  1,  8, 12, 17, 16, 10,\n",
              "              13,  3, 11])                                                       ,\n",
              "       array([ 4, 11,  1,  6,  2,  5, 18, 14,  8, 16, 14, 16,  7, 11,  4,  3,  8,\n",
              "               5, 15, 19])                                                       ,\n",
              "       array([ 1, 18,  7, 11, 17, 14,  6,  3,  4,  0,  6,  1,  5, 10, 19,  2,  0,\n",
              "               8, 17, 12])                                                       ,\n",
              "       array([15, 19, 17,  6, 10, 13, 16,  2,  9,  7,  9, 11,  7,  2, 13, 10,  5,\n",
              "               1, 12,  3])                                                       ,\n",
              "       array([ 9, 11, 13,  2, 12, 14, 10,  0, 16,  1,  1,  6, 10, 14,  3, 12,  4,\n",
              "               2, 16, 17])                                                       ,\n",
              "       array([ 8,  2,  6,  1, 19,  7,  5,  3, 10,  9, 16,  0, 12, 15, 19, 17,  4,\n",
              "               9, 14,  2])                                                       ,\n",
              "       array([ 6,  0,  3,  8,  9, 11, 14,  5, 17, 13, 17,  8,  0,  9, 12, 11, 14,\n",
              "               7, 19,  1])                                                       ,\n",
              "       array([ 1,  5, 17, 11,  0,  7, 19, 12, 16,  2, 19,  6,  3,  9,  8, 17,  4,\n",
              "              10, 14,  2])                                                       ,\n",
              "       array([10, 14,  2, 17,  0, 18,  1, 13,  5,  7, 13, 14, 10, 11,  8, 18,  1,\n",
              "               3,  9,  4])                                                       ,\n",
              "       array([ 5, 15, 18,  8, 14, 11,  4,  6, 17, 12, 11,  4, 14, 12, 17,  5, 19,\n",
              "               6,  9, 18])                                                       ,\n",
              "       array([ 3,  0,  5, 13, 11,  6, 18,  2,  7,  9,  8, 11,  6,  7, 15, 16, 12,\n",
              "              13, 14,  1])                                                       ,\n",
              "       array([15,  1,  4, 17, 12, 13,  2, 19,  6, 18, 10,  0, 17,  1, 11, 12,  5,\n",
              "               6,  2, 16])                                                       ,\n",
              "       array([10,  9, 16,  8,  5, 19, 14,  7, 15,  1,  4, 14, 18,  5, 15, 17,  6,\n",
              "               8, 10, 12])                                                       ,\n",
              "       array([16, 18, 13,  2,  1, 17, 12, 19,  9,  6,  4, 19, 18,  6, 15,  1, 16,\n",
              "               9, 17,  2])                                                       ,\n",
              "       array([13, 10,  4,  7, 12,  6,  8,  3, 14, 15, 13, 15,  0,  2,  3, 11,  4,\n",
              "               6, 14,  9])                                                       ,\n",
              "       array([17,  0, 18, 14,  2,  5, 15, 10,  9,  6, 19,  5, 10,  3,  0,  7,  4,\n",
              "               6,  1, 14])                                                       ,\n",
              "       array([14, 11,  8, 10, 19, 13, 16,  4,  9, 18,  2,  9, 19,  0, 12, 14,  6,\n",
              "               3,  5, 18])                                                       ,\n",
              "       array([14,  9,  3,  7,  1, 15, 17, 11, 10, 12,  2, 12, 11, 15, 18,  9, 19,\n",
              "               8, 16, 14])                                                       ,\n",
              "       array([ 4,  3, 15,  8, 19, 18,  2,  0, 13,  5,  8,  2,  9,  3,  7, 14, 19,\n",
              "              11, 15,  0])                                                       ,\n",
              "       array([13,  4, 18, 14, 12,  2, 17, 10, 19,  7,  9,  3, 10, 16,  6,  1,  0,\n",
              "              15,  5,  2])                                                       ,\n",
              "       array([14, 17,  6, 18, 12,  4,  1,  5, 15,  9,  0,  8, 17, 10, 11, 13, 19,\n",
              "              15,  7, 18])                                                       ,\n",
              "       array([ 0,  8,  5, 15,  4,  2,  3, 16, 10, 18,  2, 18, 13,  6,  8, 12, 19,\n",
              "               5,  1, 10])                                                       ,\n",
              "       array([12, 14, 13,  1,  3, 15,  6,  2, 19, 11, 16,  7,  5,  2,  0, 13,  6,\n",
              "              18, 11, 14])                                                       ,\n",
              "       array([10,  6, 19, 12, 11,  3, 14, 15, 16, 17, 15,  4,  8,  2, 10, 11,  1,\n",
              "               7,  6,  9])                                                       ,\n",
              "       array([10,  7, 18, 15,  1,  9,  3,  4, 12, 13,  6,  7,  0,  8, 12,  4,  1,\n",
              "              18, 10, 15])                                                       ,\n",
              "       array([10,  7, 16,  0, 19, 11,  4, 13, 14, 17,  0, 16,  6,  9,  1,  2, 10,\n",
              "               3,  4, 17])                                                       ,\n",
              "       array([ 7, 11,  3,  1, 10,  9,  2, 15,  6,  8,  1,  4,  0, 11, 18, 16,  5,\n",
              "              17,  6,  7])                                                       ,\n",
              "       array([ 3,  5, 17,  6, 13, 14,  9,  0, 11, 15, 10,  9, 19,  0, 13,  8,  2,\n",
              "               5, 17, 14])                                                       ,\n",
              "       array([ 8, 19,  4, 14, 12,  7, 17,  5,  9, 16,  2,  5, 17, 15, 14,  9,  4,\n",
              "               1, 16, 18])                                                       ,\n",
              "       array([10, 12,  0,  1,  7,  3,  9,  8, 13, 11, 17,  7,  9,  4,  5,  2,  3,\n",
              "               8, 18, 11])                                                       ,\n",
              "       array([11, 12,  4,  3, 10, 13,  9,  0,  5,  8,  3,  1,  0,  8,  4, 17,  5,\n",
              "              11, 14, 16])                                                       ,\n",
              "       array([ 7,  0,  9,  6,  5,  1, 16, 12, 10, 17,  3, 14, 15,  0, 12,  4,  2,\n",
              "              19,  9,  6])                                                       ,\n",
              "       array([ 7,  0,  3, 17,  2,  5,  8, 15, 13, 16, 17,  2,  3, 11, 18, 19,  0,\n",
              "              10,  7, 14])                                                       ,\n",
              "       array([15, 19,  2,  1, 16,  8, 12,  0,  4,  9,  0,  5, 14,  1,  2, 16,  9,\n",
              "               7, 17,  6])                                                       ,\n",
              "       array([18,  6,  8, 10, 15,  0, 13,  1,  4, 17,  2,  7,  9,  6, 11, 17, 16,\n",
              "               3, 15, 13])                                                       ,\n",
              "       array([ 2,  5, 19,  6, 13, 11, 18,  7, 12, 16, 14, 16,  0, 11, 17,  2,  9,\n",
              "               3,  7, 10])                                                       ,\n",
              "       array([14,  7, 13,  9,  2,  3, 17,  0, 18, 12, 19,  4, 14, 18,  2,  1,  3,\n",
              "              10, 12,  5])                                                       ,\n",
              "       array([ 8,  0,  3, 12, 16,  9, 11,  4,  7,  5,  8, 18, 11,  4, 19, 17,  1,\n",
              "               7,  6,  0])                                                       ,\n",
              "       array([ 1,  6, 13, 12, 14, 15,  8,  9,  2, 10,  6,  3, 19, 17, 16,  8, 14,\n",
              "              12,  9,  5])                                                       ,\n",
              "       array([11,  4, 19,  9,  2,  5,  8, 17, 12,  7,  1, 10,  3, 14,  6,  4,  9,\n",
              "              17, 16, 19])                                                       ,\n",
              "       array([15, 13,  2, 16,  8,  4,  6,  3,  5, 12, 10, 19, 12,  4, 16, 18,  9,\n",
              "               0,  6, 11])                                                       ,\n",
              "       array([15, 17,  0, 12,  9, 14,  5, 10, 13,  2,  4,  3, 17, 15, 10,  0,  5,\n",
              "              19, 12, 14])                                                       ,\n",
              "       array([13, 11,  6, 16,  0, 12,  5,  1,  3,  2, 16,  1, 12,  8,  9, 19,  7,\n",
              "              18, 11,  0])                                                       ,\n",
              "       array([18,  1,  7, 10, 13,  8,  2, 11,  6,  3,  3,  0,  7, 17,  1,  4,  2,\n",
              "              12,  5,  6])                                                       ,\n",
              "       array([ 3,  5, 10,  8, 14,  2, 12,  9, 11,  0, 10,  7,  8, 16, 15,  9,  1,\n",
              "              12,  0,  2])                                                       ,\n",
              "       array([11, 14,  3, 16, 18,  6, 19,  0,  7,  1, 10,  9,  6,  8, 19,  3,  2,\n",
              "              16,  1, 15])                                                       ,\n",
              "       array([10,  3, 19, 13,  8,  6,  2, 18,  0, 16,  3, 19, 16,  9, 10,  0,  1,\n",
              "               6,  4, 18])                                                       ,\n",
              "       array([ 5, 10,  6, 15,  1, 17,  8,  9,  7, 13,  9,  2, 16, 15, 12, 13, 11,\n",
              "               1,  5, 10])                                                       ,\n",
              "       array([ 4, 12, 17,  0, 18, 11,  1, 13, 14,  7,  8,  1, 19,  5,  4, 11, 10,\n",
              "               7, 18, 17])                                                       ,\n",
              "       array([17, 13,  1, 18, 10,  3,  0,  5, 14, 12, 15,  4, 12, 18, 13, 11,  2,\n",
              "               6, 19,  9])                                                       ,\n",
              "       array([19,  3,  6,  0, 11, 16, 13,  8,  5, 17,  8,  2, 14, 13,  9, 11, 17,\n",
              "               0, 12,  3])                                                       ,\n",
              "       array([ 1, 19,  9, 18, 12,  3,  4, 15,  2,  6,  2,  3, 17, 16,  7, 12,  9,\n",
              "               0,  4, 18])                                                       ,\n",
              "       array([15,  3, 16,  7, 11,  8,  0,  5, 10,  6,  8,  7,  9, 10,  1, 11, 16,\n",
              "              14, 18,  3])                                                       ,\n",
              "       array([19, 11,  1, 12,  0,  6, 10, 15,  2,  7, 10,  1, 14,  2,  9,  8,  0,\n",
              "               7, 15, 17])                                                       ,\n",
              "       array([16,  1, 19, 10,  2, 15, 11,  4,  7,  3, 12,  1,  8,  9, 13, 10,  4,\n",
              "              16, 11, 14])                                                       ,\n",
              "       array([13, 16,  9, 18,  5,  1, 10,  4,  8,  0,  0,  5,  3, 12,  9, 16,  1,\n",
              "              11,  4, 17])                                                       ,\n",
              "       array([11,  4,  3, 16,  1,  8, 13, 17, 10,  7, 14,  3,  8, 13, 19, 15,  9,\n",
              "               2, 18,  1])                                                       ,\n",
              "       array([11,  1,  2, 15,  7, 13,  5,  0,  3,  4,  3, 12, 13, 17,  1, 19,  0,\n",
              "              16, 10,  5])                                                       ,\n",
              "       array([ 7, 18,  8, 15, 12,  9,  4,  2, 13, 16,  1,  6,  8, 19,  4,  2,  3,\n",
              "              15,  9, 12])                                                       ,\n",
              "       array([16, 18,  2, 15, 17,  3,  1,  9, 11, 19,  3,  1,  7, 11,  4,  5, 10,\n",
              "               6,  9, 18])                                                       ,\n",
              "       array([ 4,  8,  0, 10, 13,  9,  7,  6, 16,  3, 15,  4,  8, 16,  7,  0, 14,\n",
              "              13, 12, 19])                                                       ,\n",
              "       array([ 3,  7,  8,  2, 16, 11, 13,  0, 18, 17, 11, 14,  9,  7,  1, 13,  0,\n",
              "              10,  5,  4])                                                       ,\n",
              "       array([ 2, 18,  5, 14, 11,  0, 10,  7,  6, 16,  6,  1, 13, 17,  2,  9,  3,\n",
              "              11,  7, 14])                                                       ,\n",
              "       array([ 2, 19, 15,  0,  1,  7,  3,  8, 11, 16, 12,  3,  6, 10, 13,  1,  2,\n",
              "              19,  7, 18])                                                       ,\n",
              "       array([ 1, 14,  2, 11, 10,  0,  6, 19,  3, 18,  9, 18, 14, 17, 11,  7, 13,\n",
              "              12,  2, 10])                                                       ,\n",
              "       array([ 6, 18,  5, 16, 19,  7, 13,  1,  8,  0, 19,  8, 11, 10,  0,  4,  2,\n",
              "              12,  3,  9])                                                       ,\n",
              "       array([12,  2, 16, 17,  1,  5,  7,  3, 19, 14,  0,  8, 17, 12,  1, 10,  7,\n",
              "               5,  9, 14])                                                       ,\n",
              "       array([12, 13,  3, 11,  6,  4, 18, 10,  2,  1, 10,  5,  8,  0, 11, 13, 15,\n",
              "               4,  1,  2])                                                       ,\n",
              "       array([10, 17,  4,  9,  2, 11,  8, 15, 18,  0, 11, 14, 16, 13,  6,  5, 10,\n",
              "               9, 12,  8])                                                       ,\n",
              "       array([ 1, 10,  5,  6, 18, 12, 17, 15,  7,  4, 15, 12,  5, 11,  6,  0, 10,\n",
              "              19,  8,  4])                                                       ,\n",
              "       array([ 3, 12,  6, 15,  0,  5, 17,  9, 18, 13, 19, 16, 12, 10,  7,  9, 14,\n",
              "              13, 15,  0])                                                       ,\n",
              "       array([ 1,  9,  8,  6,  2, 13,  0, 15, 16, 17, 19,  2,  4, 11, 14, 12, 13,\n",
              "               8, 18,  0])                                                       ,\n",
              "       array([13,  8, 10, 15,  3, 16,  4, 19, 12,  0, 11,  1, 12, 13, 14,  8, 18,\n",
              "               7, 15,  3])                                                       ,\n",
              "       array([13, 14,  1, 17,  4,  6,  0, 12, 11, 18,  9, 14, 12, 19,  2,  8, 16,\n",
              "               1, 11,  6])                                                       ,\n",
              "       array([ 9, 15,  4,  5,  2,  3, 11, 17, 16, 12,  4,  0,  1, 12, 15,  3, 16,\n",
              "              14,  8, 18])                                                       ,\n",
              "       array([18, 10, 14, 12,  1,  5,  3, 17,  8,  4, 13,  2,  1,  4,  6,  0,  5,\n",
              "              15,  9,  7])                                                       ,\n",
              "       array([ 5, 11, 19,  1, 14, 16,  6, 18,  7,  9, 18, 17, 15, 11,  6, 19,  7,\n",
              "              14,  1,  5])                                                       ,\n",
              "       array([17,  7,  2, 12,  6, 10,  5,  8, 13, 16, 19, 13,  7, 17, 12,  0, 14,\n",
              "               8,  9, 11])                                                       ,\n",
              "       array([14,  4, 11, 18, 13,  6,  5,  8, 19,  2, 19,  8, 13,  0, 17,  1,  3,\n",
              "               6,  9, 14])                                                       ,\n",
              "       array([ 6, 13,  3, 18, 19, 14,  8,  2, 15, 17,  4, 16,  3, 19, 15,  0, 11,\n",
              "              14,  8, 12])                                                       ,\n",
              "       array([11, 13,  4, 14, 12, 15,  6,  9, 16,  5,  2, 17,  5, 11,  4,  3, 15,\n",
              "              14,  1,  9])                                                       ,\n",
              "       array([18, 15,  5,  4,  2,  1,  0,  9, 12,  7,  8,  6, 11, 15,  4, 10, 13,\n",
              "               5, 14, 19])                                                       ,\n",
              "       array([ 2,  6, 17,  7, 14,  1,  3,  8, 15,  5, 17,  4, 18, 15, 11,  3,  8,\n",
              "               6, 14, 19])                                                       ,\n",
              "       array([13, 18,  7,  4,  0,  5, 10, 19,  9, 11,  4,  2,  6, 10,  8,  9, 13,\n",
              "              16,  0,  3])                                                       ,\n",
              "       array([14, 19,  1, 10, 13, 15, 17,  6,  5,  9,  7, 19, 14, 17,  2,  4, 13,\n",
              "               8,  0, 18])                                                       ,\n",
              "       array([10, 19, 17, 18, 11, 13, 15,  4,  3,  6,  7,  3,  8, 18,  4, 15, 12,\n",
              "              16,  6,  0])                                                       ,\n",
              "       array([ 6,  7, 19, 18,  5, 10,  4, 13,  1, 11,  5, 15,  7,  4, 19, 11, 13,\n",
              "               0, 10, 14])                                                       ,\n",
              "       array([ 5,  6,  7, 12, 15, 17,  3, 18,  8, 11, 12, 16, 14, 18, 17,  7,  6,\n",
              "               9,  1,  2])                                                       ,\n",
              "       array([ 6,  2,  5,  1,  9, 14,  3, 11,  7, 15,  2, 13,  5, 18,  8,  7,  3,\n",
              "              10, 12,  9])                                                       ,\n",
              "       array([ 8, 15,  3,  4, 13,  2, 19, 10,  1, 18,  2, 19,  7,  5, 13, 16,  4,\n",
              "              18,  3,  8])                                                       ,\n",
              "       array([ 7, 17, 14,  2,  1, 11,  0, 18,  3,  4,  9,  3, 10, 11,  5,  7, 17,\n",
              "               1, 19, 14])                                                       ,\n",
              "       array([11, 15, 19,  9,  8, 13, 12,  1,  7,  5, 18, 12,  4, 10, 15,  3,  6,\n",
              "              11,  9,  5])                                                       ,\n",
              "       array([ 8,  9, 10,  5, 16,  3, 12, 14,  4,  6,  6, 15, 10,  7, 12,  0,  2,\n",
              "              16,  3,  5])                                                       ,\n",
              "       array([ 3, 13, 14,  8,  1, 16, 12, 15,  7,  0,  3, 18, 14,  2,  7, 16, 17,\n",
              "               1, 19, 11])                                                       ,\n",
              "       array([17, 15,  5, 12,  4,  0,  2,  9, 18,  6,  6, 13, 12, 17, 19,  2, 10,\n",
              "               7, 18,  8])                                                       ,\n",
              "       array([15,  9, 18, 12,  2, 13,  5, 14,  6, 19, 17, 15, 10, 11, 14,  1,  2,\n",
              "               5, 19, 16])                                                       ,\n",
              "       array([ 0,  6, 15,  8,  5,  1, 14, 10,  2, 17, 14,  7, 15, 12,  4, 18, 10,\n",
              "              19,  6,  9])                                                       ,\n",
              "       array([11, 15,  2,  1, 12,  6,  0, 17,  5,  9,  0, 14, 19,  1, 10,  9, 18,\n",
              "              17, 15,  4])                                                       ,\n",
              "       array([10,  9,  2, 19,  7, 12, 11,  1, 18,  6,  8, 19, 11, 17,  3,  5, 12,\n",
              "              15, 14,  4])                                                       ,\n",
              "       array([ 6,  2,  5, 14,  3, 17,  0, 18,  1,  7, 13,  2, 19, 17,  6,  9, 18,\n",
              "               7,  3,  1])                                                       ,\n",
              "       array([17, 16, 15,  7, 12,  1, 18,  6,  3, 13,  1, 18,  0,  4, 12, 13,  7,\n",
              "               2, 19,  3])                                                       ,\n",
              "       array([ 6, 15, 19, 14, 13, 18,  0, 10,  8,  9, 10, 18, 17,  4, 14, 15,  3,\n",
              "              12,  0,  1])                                                       ,\n",
              "       array([19,  4, 16, 14,  7,  2,  0,  1, 11, 15,  7, 18, 11, 12,  6,  8, 15,\n",
              "               2,  5, 13])                                                       ,\n",
              "       array([14,  2, 11,  9, 16,  7,  3,  6, 10,  8,  3,  2,  0, 15,  5, 18, 12,\n",
              "               9, 11,  8])                                                       ,\n",
              "       array([15,  8,  4,  0,  1, 16,  5, 17, 18, 14, 15,  6,  3, 18, 16,  1, 11,\n",
              "               7, 17, 14])                                                       ,\n",
              "       array([ 2, 14, 15,  5,  8,  3,  0, 17,  9,  6, 17, 11, 13,  8, 19, 12,  7,\n",
              "              10,  1, 16])                                                       ,\n",
              "       array([12, 13,  3,  6,  5,  8,  9,  2,  7, 10, 17,  5, 14,  6, 13,  3,  7,\n",
              "               1,  4,  2])                                                       ,\n",
              "       array([15,  2,  9,  4,  5, 13, 18,  7, 19, 17, 19, 12,  8, 16,  3, 15,  5,\n",
              "               4, 14, 18])                                                       ,\n",
              "       array([18,  8, 13,  0, 10,  2, 19,  3,  1, 16,  0, 16,  5, 18, 14, 19,  3,\n",
              "              12,  6, 10])                                                       ,\n",
              "       array([15,  3,  6, 16, 17,  0, 12, 14, 13,  4,  3, 13, 16, 14, 19,  9,  4,\n",
              "               5, 10,  1])                                                       ,\n",
              "       array([11,  5,  0,  2,  9,  3, 19, 13, 14, 15, 17,  3,  2, 18,  5, 11,  8,\n",
              "              19, 13, 15])                                                       ,\n",
              "       array([19, 12, 17,  1,  8, 14, 15,  2, 18, 13,  9,  4, 17, 11, 16,  0,  8,\n",
              "               6,  1,  5])                                                       ,\n",
              "       array([ 2,  9,  3, 13,  4,  0, 11,  6, 14, 10, 19,  8,  0, 16, 15, 14, 10,\n",
              "              18,  4,  6])                                                       ,\n",
              "       array([ 8,  2, 15, 14, 16, 13,  5,  7,  0,  6,  3,  8,  4, 12,  7, 13,  0,\n",
              "               2, 14,  6])                                                       ,\n",
              "       array([10,  1,  9, 17, 11,  4, 14,  2,  0, 12,  4,  9, 18, 15, 14, 16,  3,\n",
              "              19, 13,  2])                                                       ,\n",
              "       array([ 1,  8, 10, 12,  2,  0, 17,  7, 16, 15, 14, 10,  6, 16, 15,  7, 19,\n",
              "               5, 17,  1])                                                       ,\n",
              "       array([18, 19, 15,  5, 10,  1,  3,  6, 16,  0, 13, 18, 12,  9,  5,  7,  3,\n",
              "               8, 10,  2])                                                       ,\n",
              "       array([12,  0, 14, 18,  8, 16,  6,  5, 11,  7,  4, 10, 11,  2,  5,  8, 13,\n",
              "              18,  1, 16])                                                       ,\n",
              "       array([18, 19,  4, 16,  7,  5, 15,  0,  3,  9, 15,  0, 13, 14,  8, 18, 16,\n",
              "              12,  9,  1])                                                       ,\n",
              "       array([ 9, 11,  4,  7,  2, 10,  6,  0,  8,  5, 12, 11, 19, 17,  0,  8,  7,\n",
              "              13,  3,  5])                                                       ,\n",
              "       array([ 9, 16, 15,  2,  7, 19,  8, 18,  5, 14,  8, 12, 11,  0, 10,  4,  6,\n",
              "              16, 13,  1])                                                       ,\n",
              "       array([16, 10,  4, 12,  0, 11,  3,  7, 17, 15, 13,  5,  1,  7, 16, 10, 17,\n",
              "              12,  9, 18])                                                       ,\n",
              "       array([ 6,  1, 11,  8,  3,  4,  0, 17, 14, 16, 14, 15, 16,  2,  4,  5, 10,\n",
              "              12,  3,  9])                                                       ,\n",
              "       array([12,  9,  6, 18, 10,  7,  5,  3, 15,  1, 12, 14, 18,  9,  3, 15,  2,\n",
              "              13,  8, 16])                                                       ,\n",
              "       array([ 5, 16,  3,  9, 13,  2,  7, 17, 10,  4, 14,  6, 16, 10,  0, 11,  4,\n",
              "               1, 15, 18])                                                       ,\n",
              "       array([ 0, 17, 15,  6, 16,  1, 19, 11, 14,  5, 13, 16,  2,  5,  4, 18,  6,\n",
              "               1,  0,  3])                                                       ,\n",
              "       array([19, 10,  3,  6, 16, 18,  7, 13,  5,  0, 19, 15, 18, 14, 11, 13,  5,\n",
              "               2, 17,  4])                                                       ,\n",
              "       array([ 9,  5,  3, 17, 16, 13,  2, 14, 10,  0,  8, 17, 11, 15, 18,  6,  1,\n",
              "              13,  9,  4])                                                       ,\n",
              "       array([ 1,  2,  9, 12, 10,  0,  8,  6, 14, 18,  0, 17,  8,  4, 12,  1, 15,\n",
              "              13,  3, 16])                                                       ,\n",
              "       array([11,  6,  4,  1, 17, 15,  9, 16, 14,  5, 17, 15, 11,  5, 18, 12,  9,\n",
              "               6,  7, 13])                                                       ,\n",
              "       array([ 0,  2,  1,  8, 10,  3,  7,  6, 16, 11, 13,  5, 14, 16, 17, 11,  8,\n",
              "               2, 18,  0])                                                       ,\n",
              "       array([ 8,  0,  6, 15,  3,  1,  5, 12, 16,  7, 16,  8, 19,  9, 10,  7, 12,\n",
              "               0, 14,  5])                                                       ,\n",
              "       array([ 2,  9,  0,  6,  3, 13,  8,  1, 10, 14,  2,  5, 16, 13,  8, 11,  0,\n",
              "               3, 19, 12])                                                       ,\n",
              "       array([ 4,  0, 12, 16, 18, 19,  7,  3, 10,  9,  4, 16,  9, 19, 10,  8, 13,\n",
              "               5, 12, 15])                                                       ,\n",
              "       array([19, 16, 18,  4, 15,  5,  1,  8,  0, 14, 13,  1, 19, 12,  2, 16,  3,\n",
              "               8,  4,  6])                                                       ,\n",
              "       array([17, 16, 13,  2,  8, 19,  4,  1,  3, 12,  4,  7, 13,  1, 17,  3,  9,\n",
              "               2, 18,  6])                                                       ,\n",
              "       array([15, 14, 11,  4,  9,  1, 12, 10,  3,  0, 13, 15, 18,  0, 12,  5,  1,\n",
              "              19,  4, 11])                                                       ,\n",
              "       array([11, 16,  1, 10, 17,  0,  2, 12, 19,  5, 10, 15,  9,  7, 18,  0, 19,\n",
              "               3,  1, 14])                                                       ,\n",
              "       array([17, 14, 15,  6,  8,  5,  9, 13,  4,  1, 18, 16,  8,  4,  3, 13, 19,\n",
              "              17,  1, 12])                                                       ,\n",
              "       array([11,  7,  0,  6, 14, 13,  3,  8,  9, 15, 12, 13,  4,  1,  8,  3, 15,\n",
              "               0, 17, 16])                                                       ,\n",
              "       array([12, 13, 18, 19,  3, 17, 11, 10, 15,  5,  4,  0, 10, 13,  3, 14, 11,\n",
              "              18,  5,  8])                                                       ,\n",
              "       array([ 6, 11,  3,  2, 10, 15,  5,  8,  7,  1,  7,  9,  3,  5,  4, 12, 16,\n",
              "               8, 19, 14])                                                       ,\n",
              "       array([ 5, 14,  1, 15, 12,  9,  8,  7, 19, 16,  9, 16, 10, 18,  7,  4, 13,\n",
              "              14,  2,  5])                                                       ,\n",
              "       array([ 7, 19,  5, 12,  6,  4,  9, 18,  0, 14,  8,  6, 11,  1, 12,  9,  4,\n",
              "               5,  3, 19])                                                       ,\n",
              "       array([19, 17, 14,  8, 11, 10,  1,  6, 12,  2, 15, 14,  4, 11, 18,  9,  5,\n",
              "              10,  3,  1])                                                       ,\n",
              "       array([ 3,  5,  2, 19, 13, 10,  1, 14,  8,  4,  2,  1, 14,  6, 11, 17,  9,\n",
              "              15, 13,  0])                                                       ,\n",
              "       array([17,  1, 13, 19,  4,  8,  2,  0, 15, 12,  6,  1, 11, 19, 10,  8, 16,\n",
              "              17, 18,  9])                                                       ,\n",
              "       array([ 6, 15, 10,  1, 19,  0,  2,  3,  7, 17, 16,  2,  4,  5,  0,  7, 10,\n",
              "               6, 17, 19])                                                       ,\n",
              "       array([19,  6,  0, 15, 18, 14, 13, 16, 11,  1,  2, 19, 12, 13, 14,  6, 11,\n",
              "               1, 15,  3])                                                       ,\n",
              "       array([ 1,  6, 19,  4,  3,  9, 13, 11,  0, 16, 16, 11,  1,  9,  8, 14, 13,\n",
              "              18,  2, 19])                                                       ,\n",
              "       array([ 7, 13, 19, 17,  2, 14, 12, 15, 18,  4,  6,  9, 18, 16,  5,  3, 19,\n",
              "              11,  2, 12])                                                       ,\n",
              "       array([19,  6, 10,  1,  7, 13,  5,  4,  3, 17, 19,  1,  3, 13,  6, 10, 12,\n",
              "               5,  2,  7])                                                       ,\n",
              "       array([ 8, 18, 14,  6,  5,  3,  2, 19,  9,  1,  4, 16, 15, 12,  1,  5, 13,\n",
              "               3,  0, 17])                                                       ,\n",
              "       array([ 4,  8, 14, 12, 17, 15, 18,  1,  7,  2, 18, 12, 19,  6,  1,  4,  9,\n",
              "              15,  3, 10])                                                       ,\n",
              "       array([13, 19, 16, 11,  3,  4, 12, 17, 15,  8,  5, 12,  3, 10,  8,  4, 16,\n",
              "               0, 17, 14])                                                       ,\n",
              "       array([ 2, 19,  9,  0, 12,  7, 16, 14,  1,  6,  0,  8, 12, 13,  6,  5,  4,\n",
              "               1,  2, 16])                                                       ,\n",
              "       array([ 3, 17, 14,  5,  1, 15,  2, 16,  9,  8,  6, 15,  7,  2,  4, 16, 13,\n",
              "               3,  5,  1])                                                       ,\n",
              "       array([13, 14,  0,  2, 10, 18, 17, 19,  8, 16,  7, 17,  5,  3, 14,  2,  6,\n",
              "              18, 15,  1])                                                       ,\n",
              "       array([15, 17,  7,  6,  5, 11,  9, 13,  3, 18, 11, 12, 10,  5,  0, 18,  6,\n",
              "              13,  1,  3])                                                       ,\n",
              "       array([ 5, 13, 16, 12,  0, 15, 18, 11,  6, 10,  4,  1, 14, 12,  5,  3, 18,\n",
              "               9, 15, 17])                                                       ,\n",
              "       array([ 6, 11, 14,  5,  7,  0,  2, 10,  9, 16, 11,  1, 16, 14, 12,  3,  2,\n",
              "               9, 18, 10])                                                       ,\n",
              "       array([12,  3,  1,  9,  2,  8,  4,  5, 17, 19, 19,  0, 16,  7,  5, 13, 12,\n",
              "              11, 15, 14])                                                       ,\n",
              "       array([ 3, 13, 10, 14,  0,  6,  4, 16,  1,  9,  5, 14,  1,  2, 10,  6, 19,\n",
              "              13, 18, 15])                                                       ,\n",
              "       array([ 8,  1, 11, 15, 18,  3, 13,  6, 17,  4, 14,  3, 13,  0,  7, 17, 19,\n",
              "               9,  4,  2])                                                       ,\n",
              "       array([16,  5,  6, 12,  1,  4, 15,  0, 14,  3,  9,  5, 18,  6,  2, 11,  0,\n",
              "               1, 16, 10])                                                       ,\n",
              "       array([17,  6, 15, 14,  4, 18,  3, 11, 12,  8,  1, 17, 14,  9,  8, 18, 13,\n",
              "               5,  7,  6])                                                       ,\n",
              "       array([ 5,  9,  4, 18, 16, 14, 13,  2, 15, 11, 10,  2, 16, 15,  4,  0,  7,\n",
              "               3,  9,  1])                                                       ,\n",
              "       array([ 2, 17, 18, 11, 16,  6,  1, 12,  3,  5, 16,  2,  1, 13,  8,  4,  0,\n",
              "               9,  5, 19])                                                       ,\n",
              "       array([ 0, 13, 16,  7,  5,  3, 19,  2, 11,  9, 14,  5, 10,  1,  6,  0,  2,\n",
              "               4, 13, 17])                                                       ,\n",
              "       array([19,  5, 11,  1, 18,  7, 12, 14, 10, 16,  2, 18,  0, 14, 12,  4, 10,\n",
              "              11,  3, 16])                                                       ,\n",
              "       array([12, 13, 14,  0,  4, 17, 16,  5,  9,  6,  9,  5,  2,  8, 11, 13,  4,\n",
              "              12,  3, 15])                                                       ,\n",
              "       array([11,  9,  1,  5, 18,  0,  2, 19,  7, 12,  4, 17, 18, 16,  0,  2,  1,\n",
              "              19,  7,  5])                                                       ,\n",
              "       array([ 8,  2,  7, 18,  6, 15,  3,  4, 10,  9,  2,  4,  6,  5, 16,  8, 15,\n",
              "               3, 13, 12])                                                       ,\n",
              "       array([10,  8, 17,  9,  1,  4, 11, 15, 18,  3, 14, 16,  5,  7,  6, 19, 17,\n",
              "               8, 13,  9])                                                       ,\n",
              "       array([13,  5, 16,  6, 18,  1, 11, 10, 17,  2, 14, 16,  0, 15,  8, 17,  2,\n",
              "              10, 13,  5])                                                       ,\n",
              "       array([10, 17,  9,  7, 16,  6, 14,  0, 12,  3, 17,  8, 12,  6, 16,  0, 15,\n",
              "              19,  4,  2])                                                       ,\n",
              "       array([ 1,  4,  0,  7, 10, 15,  5,  9, 19, 11,  2, 10,  4, 17, 13,  1,  9,\n",
              "               0,  8,  5])                                                       ,\n",
              "       array([ 2,  6,  8,  9, 11,  7,  1, 15,  0, 19, 19,  5, 10,  7,  6,  1, 18,\n",
              "               9,  0, 15])                                                       ,\n",
              "       array([12, 14, 19, 11, 13, 18,  7,  1, 17, 15,  1, 18, 17, 15,  0, 10,  3,\n",
              "              12,  4,  5])                                                       ,\n",
              "       array([ 2, 13, 14,  8,  9, 16,  3, 10,  6, 18,  5,  3, 18,  8, 15, 14, 10,\n",
              "              11,  0, 13])                                                       ,\n",
              "       array([17,  2, 13,  5, 19,  0, 11,  8,  7, 18,  6, 12,  0, 13, 15,  9,  1,\n",
              "               3, 11,  7])                                                       ,\n",
              "       array([ 7,  6, 13,  2, 12, 16, 17,  5,  3, 19, 10,  2, 15, 14,  6, 11, 19,\n",
              "               5, 12,  1])                                                       ,\n",
              "       array([ 3, 14,  9, 10,  7, 19, 12, 17,  4, 13, 17,  9, 16, 13, 10, 12,  7,\n",
              "               4,  3, 15])                                                       ,\n",
              "       array([12, 15, 14,  3, 13, 10, 17,  5,  6, 16, 18,  8,  6, 12,  3,  9,  0,\n",
              "               5, 10,  2])                                                       ,\n",
              "       array([ 1,  5,  0, 14,  3, 18,  8,  7,  4, 10, 11, 18, 14,  9, 15, 17, 19,\n",
              "               2,  5,  7])                                                       ,\n",
              "       array([14, 11, 15, 17,  7, 13, 12,  3,  5, 18, 17,  7,  5,  9, 10,  3,  1,\n",
              "              19,  8,  4])                                                       ,\n",
              "       array([ 4, 10, 14,  3, 12, 13, 16, 19,  6,  2,  2, 17, 11,  3, 16, 13,  7,\n",
              "              15,  9,  0])                                                       ,\n",
              "       array([17,  7, 19,  0,  8,  6, 12,  3, 16,  4,  8, 16,  6, 15,  7,  3, 13,\n",
              "               9, 10,  4])                                                       ,\n",
              "       array([16,  8, 11,  7, 10, 19, 12, 13,  5,  6,  1, 16, 12,  4,  3, 11,  5,\n",
              "               6, 17, 14])                                                       ,\n",
              "       array([14,  3, 17,  7,  2, 13, 12,  5, 11,  4, 16, 10, 15,  6, 12,  1,  4,\n",
              "               3, 17, 18])                                                       ,\n",
              "       array([19,  5, 17, 15,  0,  1,  3,  7, 18,  6, 12,  5, 15, 13, 14,  0,  9,\n",
              "               4, 18, 17])                                                       ,\n",
              "       array([ 9,  8,  2, 16,  0, 15, 14,  4,  5, 11,  8, 12, 17,  2,  5,  4, 10,\n",
              "              13,  9, 19])                                                       ,\n",
              "       array([16,  1,  5, 15,  7,  3, 18,  2,  0, 19,  2,  3,  7,  1,  8,  4, 16,\n",
              "              11, 14,  5])                                                       ,\n",
              "       array([16,  0, 10, 14,  3, 19,  6, 15,  1,  2, 14,  5,  9, 16, 19,  7, 13,\n",
              "               6, 15,  4])                                                       ,\n",
              "       array([15, 13,  0, 17, 19,  9,  3,  6,  8, 11, 18,  6,  1,  3,  9, 17,  8,\n",
              "              19, 10,  2])                                                       ,\n",
              "       array([ 7, 12, 13, 11,  9, 14, 10,  8,  1, 15,  7, 15,  3, 14,  0,  6,  5,\n",
              "              10, 18, 11])                                                       ,\n",
              "       array([ 2, 12, 11,  5, 19,  6,  3,  1,  7, 16, 14,  1,  0,  4,  2,  8, 15,\n",
              "               5, 17, 18])                                                       ,\n",
              "       array([16,  6, 13, 19,  7, 15,  5, 14, 11,  8, 18, 13,  6,  1, 19,  3,  9,\n",
              "              15, 17, 12])                                                       ,\n",
              "       array([16,  6, 17, 18,  7, 11,  1,  4,  2, 13,  5,  7,  1, 10, 16,  9, 19,\n",
              "              17, 14, 12])                                                       ,\n",
              "       array([19,  6,  2, 11, 17,  1,  5, 16,  0,  9, 13, 10,  3, 12,  1,  2,  5,\n",
              "              15, 16, 11])                                                       ,\n",
              "       array([ 0,  9, 17,  8, 19, 11, 18,  7, 14,  6,  5, 17,  4,  0,  7, 12,  8,\n",
              "              16,  1,  2])                                                       ,\n",
              "       array([12,  6, 14, 17,  1, 18,  7,  0,  9,  2, 18,  2,  7, 19, 12,  3,  6,\n",
              "               5, 15,  9])                                                       ,\n",
              "       array([14, 17, 18, 19, 11,  9, 15,  8,  4,  0,  2, 17, 19,  6, 10,  3,  4,\n",
              "               9, 16,  0])                                                       ,\n",
              "       array([ 3,  0,  5,  8, 13, 11,  2, 17, 12, 16, 16, 19, 18,  3, 15,  7,  5,\n",
              "               9, 17,  6])                                                       ,\n",
              "       array([ 4,  6,  3, 12, 18, 16,  1, 11,  5,  7,  8, 19, 10,  9,  1,  3, 11,\n",
              "               0, 13,  5])                                                       ,\n",
              "       array([ 0,  6, 10,  9, 12, 13,  1, 14,  4, 16,  4, 18,  0,  7,  3,  9,  2,\n",
              "              15, 14, 10])                                                       ,\n",
              "       array([ 7,  3,  6, 17,  2, 16,  4, 15,  8, 12, 11,  6,  3,  7, 10, 16, 13,\n",
              "              15,  5,  8])                                                       ,\n",
              "       array([ 9,  6, 19, 17, 15, 13,  5,  4, 18,  7,  2,  3, 10,  7,  0, 15,  9,\n",
              "              12, 16, 11])                                                       ,\n",
              "       array([18,  2,  1, 15,  6,  8, 13,  4,  7, 17, 10, 13,  2, 17,  3, 15, 14,\n",
              "              16,  8, 11])                                                       ,\n",
              "       array([11,  7,  9,  1, 13, 10, 18,  8,  5,  6, 18,  6,  7,  3, 16,  5, 10,\n",
              "               0, 14,  9])                                                       ,\n",
              "       array([ 7,  5,  1, 17, 10,  3,  0, 13,  2,  9,  0,  3, 17, 16, 15,  2, 11,\n",
              "              18, 19, 12])                                                       ,\n",
              "       array([18, 12,  2, 15,  1,  9, 13,  6,  5,  7, 12,  0, 11, 18,  3,  6,  5,\n",
              "              16, 19,  9])                                                       ,\n",
              "       array([ 5, 12, 14,  2, 15,  6, 19,  4,  3, 10,  7, 11, 15, 13, 12, 14, 19,\n",
              "              17,  3,  1])                                                       ,\n",
              "       array([ 1,  4, 15,  0, 18, 13, 12,  6, 16, 10, 17,  2,  6, 10, 11,  0, 19,\n",
              "               3, 13,  8])                                                       ,\n",
              "       array([10,  5,  2,  1,  8, 14,  7, 12, 19,  9,  3,  1,  5,  0, 15, 16,  4,\n",
              "              10, 18,  9])                                                       ,\n",
              "       array([ 7, 10,  4, 18, 13,  6,  3, 12, 17, 11, 15, 17,  6,  3,  0,  5, 10,\n",
              "              14, 13,  2])                                                       ,\n",
              "       array([14,  7,  5, 17,  1, 10, 13,  0,  4,  8,  9,  7, 18, 17, 10, 13,  2,\n",
              "               1, 19, 15])                                                       ,\n",
              "       array([16, 10, 13,  4, 11, 15,  9, 17, 14, 19, 13,  3, 11,  1, 17, 18,  4,\n",
              "               7, 10, 14])                                                       ,\n",
              "       array([ 1, 11, 16, 18,  0, 13,  5,  6,  8,  3, 12, 18,  2,  5,  0, 13,  8,\n",
              "              19, 15, 10])                                                       ,\n",
              "       array([15,  4,  7, 16, 17, 14, 10, 12,  8,  1, 19,  3,  1,  9, 11,  8, 13,\n",
              "               4, 10, 15])                                                       ,\n",
              "       array([16,  1,  7, 12,  4, 10,  9,  3, 13,  6, 13,  1,  4, 17, 19, 10, 14,\n",
              "               8,  3,  9])                                                       ,\n",
              "       array([ 0,  1, 15, 12,  8, 11,  4, 19,  9,  2,  9,  6,  2, 14,  5,  1, 11,\n",
              "               4, 16,  0])                                                       ,\n",
              "       array([ 6, 12, 15, 14,  9,  2, 16,  0,  5, 11,  9,  2, 18, 15, 14,  0,  8,\n",
              "              10,  6,  3])                                                       ,\n",
              "       array([18,  3,  8,  1,  2, 13, 11,  9, 15,  4, 15,  5, 10, 13, 12, 17, 11,\n",
              "              16,  4,  0])                                                       ,\n",
              "       array([18,  3,  9,  1, 17,  8,  7, 19,  5,  2,  1, 11, 19, 17, 13,  0,  7,\n",
              "              18, 14,  8])                                                       ,\n",
              "       array([14,  4, 19, 16,  8, 17,  7, 15, 18, 12,  0,  2, 10,  6,  8, 12,  3,\n",
              "              14, 19,  4])                                                       ,\n",
              "       array([ 4, 13, 12, 14,  7,  9,  8,  2, 11, 15,  2,  5,  0,  3, 10,  4, 17,\n",
              "              14, 16, 15])                                                       ,\n",
              "       array([12, 19,  1,  2,  5,  9,  7, 13,  0, 10, 17,  2, 19, 18, 12,  9, 14,\n",
              "               0, 10, 11])                                                       ,\n",
              "       array([ 8, 16,  4, 15, 10,  3,  6, 13, 11, 14,  6,  9, 14, 17, 15,  3,  2,\n",
              "              16, 18,  8])                                                       ,\n",
              "       array([17,  3,  9,  8, 14,  2, 19, 10, 16,  1, 15, 16,  5, 10, 13,  8,  6,\n",
              "               3, 18,  4])                                                       ,\n",
              "       array([ 4, 10,  6, 17,  3,  5,  2, 16, 12, 19, 11, 14, 19,  2,  5,  0,  4,\n",
              "              17,  7, 12])                                                       ,\n",
              "       array([12, 19,  3,  8,  0,  1, 13, 11,  4, 15,  1, 18,  5, 12, 19,  9,  6,\n",
              "               0, 14, 15])                                                       ,\n",
              "       array([16,  7, 12,  0,  3,  5,  6,  8,  2,  9, 19, 12, 17, 13, 11,  7,  1,\n",
              "               3,  2, 16])                                                       ,\n",
              "       array([13,  8, 12, 10, 11, 18,  1,  7, 14, 16,  2,  0, 12, 17,  9, 13, 10,\n",
              "              14, 15,  6])                                                       ,\n",
              "       array([ 0, 16, 14,  7,  8, 17, 10,  2,  9,  4, 15, 12,  8, 11,  3, 10, 17,\n",
              "              14,  1,  6])                                                       ,\n",
              "       array([ 5, 17, 12, 18, 19,  0,  1,  2,  6, 13, 16, 10,  3,  1, 15, 12, 17,\n",
              "              14,  7, 19])                                                       ,\n",
              "       array([ 6, 10, 11,  0,  8,  7, 19,  5,  3, 16,  7,  0, 18, 12, 19,  3,  4,\n",
              "              15,  6, 14])                                                       ,\n",
              "       array([ 4, 17,  3,  7,  5,  0, 15,  8, 11, 13, 13, 12,  3,  6,  5,  8,  2,\n",
              "              18, 17, 11])                                                       ,\n",
              "       array([ 6, 16, 15,  8, 14,  0, 18,  9,  7, 12,  4,  1,  9, 16,  6, 11,  0,\n",
              "               7, 10, 18])                                                       ,\n",
              "       array([ 5,  3,  9,  2,  0, 14, 10, 13,  7, 15,  8,  9,  3, 12,  6, 17,  0,\n",
              "              19,  4, 14])                                                       ,\n",
              "       array([ 0, 18,  4, 10, 11,  2, 19, 15,  8, 16, 19,  6,  3, 16, 13,  8, 14,\n",
              "               5, 17,  0])                                                       ,\n",
              "       array([17,  9, 13, 11,  5,  0,  7,  4, 12, 14, 19,  1, 15,  7, 14,  3,  6,\n",
              "               0, 16, 10])                                                       ,\n",
              "       array([ 3,  5, 15, 11, 19, 18,  8,  1,  7,  9, 15, 14,  9, 10,  3,  2,  7,\n",
              "               4, 11, 16])                                                       ,\n",
              "       array([ 2, 13,  1,  7,  4,  8,  5, 12, 10, 17,  2,  8,  0,  6, 11, 13,  7,\n",
              "              17, 18,  3])                                                       ,\n",
              "       array([18,  7,  4, 13, 12, 15,  0,  2, 10,  5,  2, 12,  5, 10,  6, 11,  0,\n",
              "               3, 17,  1])                                                       ,\n",
              "       array([13,  2, 15, 14,  0, 17, 19, 18, 12, 16,  1,  3, 15,  9,  6, 16, 12,\n",
              "              14,  8,  5])                                                       ,\n",
              "       array([ 1, 10,  6,  7, 12,  2, 11,  5,  0,  9, 15,  7, 19, 13, 11,  9,  2,\n",
              "              12,  0,  5])                                                       ,\n",
              "       array([18, 10, 15,  8, 11,  2, 17, 16,  1,  6, 11, 13,  1,  6, 12,  0, 14,\n",
              "              16,  4, 15])                                                       ,\n",
              "       array([ 4, 15, 10,  7, 13, 14,  1, 11,  3,  2,  2, 18,  8, 11, 10,  1,  0,\n",
              "               4, 15, 13])                                                       ,\n",
              "       array([ 8, 17,  2,  7, 12,  3,  5,  4, 15, 14, 13,  2, 15,  3,  6,  5, 14,\n",
              "               4, 12, 10])                                                       ,\n",
              "       array([ 3,  1, 11, 16, 13,  6,  2, 18,  9, 17,  3,  8,  7, 11, 10,  5, 17,\n",
              "               6, 13,  2])                                                       ,\n",
              "       array([ 4, 13,  2, 12,  3, 18, 19, 14, 10, 16,  0, 12,  2, 19, 16,  7,  6,\n",
              "              11,  8, 14])                                                       ,\n",
              "       array([11,  0,  5, 19, 16, 15, 13,  3, 12,  9,  4,  9, 11, 18,  8, 17, 14,\n",
              "               7,  2, 15])                                                       ,\n",
              "       array([13, 12, 14, 11,  4,  3,  7, 19,  8,  6,  7,  0,  9,  5, 10, 17, 14,\n",
              "               1,  4, 18])                                                       ,\n",
              "       array([ 1, 16, 17, 10,  3, 12,  5,  8,  4, 18, 11,  8,  3, 15,  2,  6, 17,\n",
              "               9,  7,  4])                                                       ,\n",
              "       array([11,  2,  1, 14,  6, 13,  0, 18,  8, 12, 16, 12,  8,  1,  0,  7,  4,\n",
              "              19,  3, 10])                                                       ,\n",
              "       array([15, 17, 13,  4,  1, 16,  2,  5, 12,  7,  1,  9, 16,  0, 18,  6,  7,\n",
              "              11,  5,  8])                                                       ,\n",
              "       array([18, 11, 15, 12,  3, 10, 19,  1,  0, 17, 12, 15, 16,  1, 19,  6,  5,\n",
              "              14, 18,  0])                                                       ,\n",
              "       array([10,  4,  5, 13, 14, 15, 19,  1,  7,  9,  7, 15, 16,  3,  5,  9,  2,\n",
              "              14, 10, 18])                                                       ,\n",
              "       array([13,  6, 19,  4,  5, 16, 15, 12, 18,  0,  3,  0,  6,  7, 18,  9, 15,\n",
              "              17, 16, 12])                                                       ,\n",
              "       array([ 7,  2,  8,  1,  3,  9, 19,  6, 13,  5,  8, 18, 14,  7,  6, 10, 15,\n",
              "              17,  3,  4])                                                       ,\n",
              "       array([ 5, 19,  6,  0,  1,  2, 11,  4,  9, 18, 16,  4,  7, 11,  8,  2, 10,\n",
              "              18,  1,  0])                                                       ,\n",
              "       array([ 4, 17, 18, 13,  2,  5,  7, 16,  6, 15, 16,  1,  3,  2, 19, 10,  4,\n",
              "              11, 14,  0])                                                       ,\n",
              "       array([13, 19,  5, 12, 17,  1, 10,  8,  6, 18, 12, 11, 18, 15,  6, 13,  0,\n",
              "               9, 10, 17])                                                       ,\n",
              "       array([10,  5, 16,  6,  2, 17,  0,  9,  3, 19, 13,  2,  0, 11, 16, 19, 10,\n",
              "               9,  1,  3])                                                       ,\n",
              "       array([16,  6, 11,  7, 18,  2, 12, 15, 14,  3,  6,  2, 12, 15,  7, 19,  0,\n",
              "              14, 11, 16])                                                       ,\n",
              "       array([ 3, 10,  1, 12,  6, 13, 15, 14,  7,  2,  5, 18, 16,  2,  6, 13,  1,\n",
              "               8, 17,  0])                                                       ,\n",
              "       array([ 1, 19,  6, 13, 18, 10, 17,  2,  9,  4, 19,  9,  5, 14, 15,  2, 12,\n",
              "               4,  8, 18])                                                       ,\n",
              "       array([ 3, 16, 15, 13, 10,  5,  2,  6,  0, 17,  9,  8, 15,  4, 13, 18,  1,\n",
              "               2, 14,  5])                                                       ,\n",
              "       array([ 5, 12,  8, 18, 15,  9, 14,  1,  7, 11, 10,  2, 13,  0, 15, 12,  3,\n",
              "               7, 14,  4])                                                       ,\n",
              "       array([ 7,  3, 12,  1, 18,  4, 10,  2, 16,  8,  5,  1,  8,  4, 15,  6, 19,\n",
              "               2, 13,  3])                                                       ,\n",
              "       array([ 9,  7,  3,  4, 16,  6, 18,  0, 14, 17, 16,  8, 19,  0, 13,  1, 17,\n",
              "               7,  9, 15])                                                       ,\n",
              "       array([ 0, 10,  2,  1,  5,  7,  9, 11, 12, 14, 17, 10, 16,  0,  2, 15, 12,\n",
              "               3,  4, 11])                                                       ,\n",
              "       array([11,  6, 14,  9, 18,  4, 12,  8, 10,  5,  7,  2, 18,  6, 14,  3,  4,\n",
              "              15, 13, 12])                                                       ,\n",
              "       array([16,  4, 15, 19,  7,  6, 17,  1, 11, 18, 16, 11, 18,  7, 13,  3,  6,\n",
              "               0, 17,  1])                                                       ,\n",
              "       array([14,  8, 10, 15,  3, 12,  2, 16, 17, 11, 13,  9, 18, 17,  3,  5, 16,\n",
              "               0,  6, 15])                                                       ,\n",
              "       array([ 5, 12,  9,  1, 11,  7, 14,  8, 18, 13,  1, 17,  4,  7, 14,  3,  2,\n",
              "              10,  5,  9])                                                       ,\n",
              "       array([ 7, 12,  1, 17,  6, 14, 16, 18, 13, 15, 13, 15, 19,  3, 17,  5, 14,\n",
              "               2, 18, 16])                                                       ,\n",
              "       array([11,  1,  6,  0,  9, 16,  5, 17,  4,  3, 16, 18,  7,  4,  9, 13,  8,\n",
              "               1, 17,  6])                                                       ,\n",
              "       array([13,  2, 19,  1,  7,  8,  5, 11, 18,  6, 15,  0, 17,  2, 16, 13, 19,\n",
              "               6,  8,  7])                                                       ,\n",
              "       array([ 2,  5, 17, 14, 15,  9, 10, 18,  4,  0,  6, 16,  1, 18, 13,  3,  4,\n",
              "               2,  5, 11])                                                       ,\n",
              "       array([ 2,  0, 10,  1, 18,  7,  8, 13, 15,  6,  0,  7, 10, 18, 14, 16, 15,\n",
              "              17,  3,  9])                                                       ,\n",
              "       array([ 5, 19,  2,  0,  8,  4, 16, 13,  9, 18,  6, 19, 15, 14, 16,  0,  7,\n",
              "               1, 10,  8])                                                       ,\n",
              "       array([14,  0, 18, 10, 12, 16, 11,  1,  3,  7, 14,  4, 12,  2, 18,  8,  7,\n",
              "               0, 15, 13])                                                       ,\n",
              "       array([12,  3, 18,  2, 17, 19,  7, 11,  8,  0, 18,  2,  6, 19,  5, 13, 10,\n",
              "               0,  7, 15])                                                       ,\n",
              "       array([ 5,  6, 11, 17,  8, 16, 15, 14,  1,  4,  1, 17,  5, 16,  8, 15, 13,\n",
              "               6,  2, 14])                                                       ,\n",
              "       array([17,  5, 14, 11,  2, 16,  0, 12,  6, 15, 14,  8, 16, 13, 10,  9, 17,\n",
              "              19,  1,  6])                                                       ,\n",
              "       array([ 1,  4, 19,  0, 14,  3,  2, 18, 15,  9, 10, 17,  4,  3, 13, 16,  2,\n",
              "               0, 15, 12])                                                       ,\n",
              "       array([10,  6,  1, 12, 17, 15,  9, 19, 18,  3, 11, 10, 16, 13,  0, 19, 15,\n",
              "               6, 12,  3])                                                       ,\n",
              "       array([ 5, 16, 18, 14,  3, 19,  1,  2,  4, 17, 18,  1, 12, 17, 11, 14,  9,\n",
              "               6,  5, 15])                                                       ,\n",
              "       array([17, 11,  4,  6,  7, 12,  2, 15, 19,  9, 13,  5, 15,  8, 18,  1,  4,\n",
              "              16,  7, 14])                                                       ,\n",
              "       array([ 6, 10, 17,  2,  3,  9, 16, 12,  0, 19, 10,  9,  3, 15, 12, 17,  1,\n",
              "               6,  2,  7])                                                       ,\n",
              "       array([ 3, 17, 15, 10,  7, 12,  5,  6,  1,  8,  4,  3,  9,  5, 16,  6, 15,\n",
              "              12, 10, 11])                                                       ,\n",
              "       array([ 8,  6, 16, 11,  7,  4,  2,  9,  1, 10, 15, 19,  0,  3, 14,  1,  7,\n",
              "               9, 13, 12])                                                       ,\n",
              "       array([18,  6,  9, 17, 16,  5,  7,  8,  0, 10,  7, 18,  3,  1, 13,  4, 12,\n",
              "               0, 11, 16])                                                       ,\n",
              "       array([14,  6,  0,  1,  3, 11, 12, 17,  4,  8,  4, 15, 11, 10, 18,  5,  1,\n",
              "               9,  2,  0])                                                       ,\n",
              "       array([10,  2, 15, 11,  3, 13, 19,  7,  8,  9, 18,  0,  7, 12, 11, 16, 13,\n",
              "               4,  3, 17])                                                       ,\n",
              "       array([17, 14,  7, 19,  4,  8,  9,  2, 15, 12,  4, 18, 14, 10,  6, 13, 16,\n",
              "              11,  3,  0])                                                       ,\n",
              "       array([17,  4, 16, 19,  7,  0,  6, 12, 11, 10,  8, 11,  0, 18, 16, 15, 12,\n",
              "               5, 13,  3])                                                       ,\n",
              "       array([ 4,  5,  6,  9, 13,  7,  0, 11, 10, 19, 12, 18,  4, 14, 13,  3,  7,\n",
              "              10,  0,  5])                                                       ,\n",
              "       array([15,  5, 18, 12,  2, 19,  8,  1, 17,  9, 13,  8,  9,  3, 14, 11,  0,\n",
              "               2,  1, 15])                                                       ,\n",
              "       array([ 1,  6,  2,  8, 16, 10,  3, 12, 19, 14, 11,  3, 17,  9, 18, 15,  2,\n",
              "               4, 14, 19])                                                       ,\n",
              "       array([ 2,  3,  4, 12, 19, 11,  6, 17,  9, 13, 14, 11,  6, 19, 18, 12,  5,\n",
              "               9,  7, 10])                                                       ,\n",
              "       array([ 4, 13, 15,  2,  7, 14, 16,  5,  8, 10,  6,  2,  8, 14, 19,  1, 10,\n",
              "               7,  3,  0])                                                       ,\n",
              "       array([ 3,  7,  5, 17, 12, 18,  0, 11,  4,  9,  6, 10,  3, 16, 19, 18, 12,\n",
              "               4, 14,  2])                                                       ,\n",
              "       array([18, 19, 10,  0,  2, 13,  1,  8, 15, 12,  9,  3, 14,  0,  5,  6, 18,\n",
              "              17, 10, 16])                                                       ,\n",
              "       array([ 5,  4, 13, 18,  8, 15,  3,  1, 19,  2, 19,  8,  9, 10, 18,  3, 11,\n",
              "               6,  4, 13])                                                       ,\n",
              "       array([18, 16,  1,  0, 12, 11, 19,  6, 14, 13,  9,  8, 10, 11, 12,  2,  3,\n",
              "              18,  6, 14])                                                       ,\n",
              "       array([15,  5,  2, 17, 18,  9, 13,  4,  8, 12,  1, 18, 13, 14, 16, 17,  2,\n",
              "               0,  6, 11])                                                       ,\n",
              "       array([18,  1,  7,  3, 17,  4, 14,  9, 13,  5, 18, 11,  6, 15,  1,  5, 16,\n",
              "               3,  8,  9])                                                       ,\n",
              "       array([16,  7, 10,  5,  3, 19,  1, 12,  4,  8,  7, 11, 18, 13, 19,  4,  0,\n",
              "              10,  1,  5])                                                       ,\n",
              "       array([ 8,  2, 14, 18,  3,  6,  4,  5, 16, 12, 10,  5, 13, 12,  3, 19, 18,\n",
              "              17,  1,  6])                                                       ,\n",
              "       array([12,  5, 13,  3,  1,  6,  8,  7, 17,  2, 15, 17,  6,  0,  3, 11, 16,\n",
              "               7, 13,  4])                                                       ,\n",
              "       array([ 8,  9, 19, 13,  2,  1,  5, 10,  7, 16, 10,  2, 15,  7, 17, 18,  5,\n",
              "              12,  0, 11])                                                       ,\n",
              "       array([12,  0, 16,  7, 13, 14, 17, 18, 15,  6,  6,  5, 16, 14, 15,  2, 18,\n",
              "              11,  3,  4])                                                       ,\n",
              "       array([16, 13,  4,  6,  2,  1,  5, 14, 12,  8, 12, 15, 10,  2, 13,  8,  0,\n",
              "              18,  4, 14])                                                       ,\n",
              "       array([ 0, 10, 12,  9,  4,  2, 17,  5, 11, 13, 18, 17, 12, 11, 10,  7,  4,\n",
              "               5,  9,  6])                                                       ,\n",
              "       array([15,  7, 16, 10, 19,  6,  8, 12,  1, 13,  2, 17, 11,  9,  1,  3, 10,\n",
              "              19,  7, 14])                                                       ,\n",
              "       array([ 1,  6, 16,  4, 14, 15,  7,  2,  8, 10,  7,  4,  0, 13, 17, 12, 14,\n",
              "              16, 10,  9])                                                       ,\n",
              "       array([18,  4, 10, 19, 15,  6, 13,  7, 17, 12, 17,  0, 18, 11,  5,  6, 12,\n",
              "              13,  9, 19])                                                       ,\n",
              "       array([ 0,  7,  1, 14, 13, 16, 17,  2,  3, 11,  4, 16, 18, 15,  9,  2, 12,\n",
              "              17, 14, 19])                                                       ,\n",
              "       array([ 7, 16, 10, 12,  1,  3, 17, 11, 13, 15, 16,  5,  0, 17, 12, 18,  9,\n",
              "              14, 10,  4])                                                       ,\n",
              "       array([ 2, 13, 11, 10, 16, 15,  3,  7, 18, 19,  4, 16, 18,  7, 13, 17,  8,\n",
              "              15, 19,  2])                                                       ,\n",
              "       array([15,  0,  7,  9,  8,  4, 19, 16,  2, 12, 13,  6,  1,  3, 19,  4, 12,\n",
              "              18,  5, 15])                                                       ,\n",
              "       array([ 7,  6, 18, 13, 11,  0,  9,  2,  5, 10, 11, 17,  2,  3, 19,  9, 16,\n",
              "              10, 13, 14])                                                       ,\n",
              "       array([14, 10,  7,  8,  6,  0,  3, 19,  2,  5,  6,  2, 17,  5, 19,  0, 16,\n",
              "               4,  1, 18])                                                       ,\n",
              "       array([ 8,  9, 10,  5, 13, 15,  2,  7,  1, 17, 12, 14,  1, 13, 10,  0,  7,\n",
              "               6,  3,  9])                                                       ,\n",
              "       array([ 6,  4, 16,  9, 19,  2, 15, 11, 10, 12,  6, 11,  4,  9, 15,  8, 18,\n",
              "               0, 17,  3])                                                       ,\n",
              "       array([16, 15, 17,  0,  2, 10, 14,  5,  1, 12, 18,  2, 13, 10,  4,  8, 14,\n",
              "              19,  3,  0])                                                       ,\n",
              "       array([11, 10, 17,  2,  8, 13,  0,  1, 18, 16, 18,  9, 17,  3, 16, 11, 13,\n",
              "               2,  8,  5])                                                       ,\n",
              "       array([16,  4,  8, 14,  5,  9,  6, 12, 11, 19,  8,  3,  2,  0, 17, 12,  9,\n",
              "              11, 14,  6])                                                       ,\n",
              "       array([ 7, 10, 15, 12, 13,  1,  2, 11, 16,  3,  7, 15, 13,  1,  2,  4,  5,\n",
              "              12,  8,  0])                                                       ,\n",
              "       array([13, 19,  0, 14,  4, 11,  6,  5, 12,  7,  6,  9,  1, 16, 11, 10, 12,\n",
              "               0, 13,  7])                                                       ,\n",
              "       array([ 8, 13, 17,  3,  1, 14, 10, 19,  7, 12,  5,  8, 13, 10, 14, 17,  9,\n",
              "               6,  3, 15])                                                       ,\n",
              "       array([ 4,  9, 12,  8, 13,  0, 11,  2, 19,  5,  3, 10,  0,  9,  5, 16, 15,\n",
              "              18,  6, 13])                                                       ,\n",
              "       array([ 7, 14, 18,  4, 19,  9,  2,  6, 13, 11, 11, 10, 18, 17,  5,  9,  3,\n",
              "              19,  0,  6])                                                       ,\n",
              "       array([ 4,  3, 16, 10,  1,  5,  7,  2, 17, 19, 16, 10, 13, 17,  1,  9,  3,\n",
              "               5, 15,  6])                                                       ,\n",
              "       array([ 6, 12, 16,  4,  1, 15, 19, 13,  5,  2,  8, 12, 18, 14, 15,  0,  9,\n",
              "              10, 13,  7])                                                       ,\n",
              "       array([17,  3, 14,  4, 19, 16, 11,  0, 12,  6,  8,  2,  6,  9, 19, 12,  3,\n",
              "              18,  0, 17])                                                       ,\n",
              "       array([ 8, 18,  9, 15, 17, 16, 11,  1,  6,  2, 10,  0, 18, 11, 19, 12,  4,\n",
              "               9,  7, 15])                                                       ,\n",
              "       array([ 7,  4, 17,  5,  8, 16,  3, 18, 11, 12,  5, 11, 10, 19,  0,  3,  4,\n",
              "               1,  2,  9])                                                       ,\n",
              "       array([12,  5, 14,  9, 11, 18,  4,  7,  0, 15, 13, 16, 17, 19,  2,  9,  1,\n",
              "               7,  5, 12])                                                       ,\n",
              "       array([13, 18, 10,  2,  7, 17, 15,  6,  0,  1,  0,  2, 14, 10, 15,  7,  5,\n",
              "               9, 18, 19])                                                       ,\n",
              "       array([19,  0, 10,  9, 12, 13,  3, 11,  2, 18,  4, 12,  7, 16, 11, 17,  6,\n",
              "               1,  5, 13])                                                       ,\n",
              "       array([ 8,  2,  7, 11,  0, 18,  4,  3, 17,  6, 11, 17,  2, 12,  6,  7,  1,\n",
              "              19,  8, 18])                                                       ,\n",
              "       array([ 7,  2, 12, 11, 17,  6,  1,  8, 13, 19,  2, 13, 16,  6,  8,  9, 19,\n",
              "               1, 10, 11])                                                       ,\n",
              "       array([ 2,  9,  5, 17, 11, 13,  4,  6,  1,  0,  7, 14,  9,  0, 15,  1, 16,\n",
              "              19,  6, 18])                                                       ,\n",
              "       array([15,  1, 17,  3, 19,  2,  0, 10,  8, 11, 17,  4,  9,  3, 13, 12, 10,\n",
              "              18,  1,  6])                                                       ,\n",
              "       array([11, 15,  0,  2, 16,  6, 10, 12,  4, 18,  8, 10,  2,  7, 14, 18,  0,\n",
              "              11,  6, 17])                                                       ,\n",
              "       array([19, 10, 11, 14,  1,  2, 18,  8,  9,  7,  0,  9,  1, 15,  6, 19,  4,\n",
              "              16, 17,  3])                                                       ,\n",
              "       array([16, 14,  5, 10,  1,  0,  4, 11, 18,  7,  1, 14,  5, 16,  6,  3,  9,\n",
              "               2, 11,  8])                                                       ,\n",
              "       array([ 6,  2,  0,  3, 10, 18, 12, 16,  8, 17,  5,  6, 13,  3,  1, 16,  7,\n",
              "               4, 19,  9])                                                       ,\n",
              "       array([ 2, 12, 14,  9,  0, 16, 11, 13,  1, 18, 16,  1, 15, 14,  7, 12, 18,\n",
              "               2,  4, 17])                                                       ,\n",
              "       array([17,  9, 15,  5, 10, 12,  6,  2, 14, 11, 11, 14,  1,  9, 12,  4, 16,\n",
              "               8,  7, 19])                                                       ,\n",
              "       array([13,  5, 14, 11,  4, 16,  6,  7,  1, 12, 12,  5, 18,  7,  0, 15,  1,\n",
              "               9, 17, 14])                                                       ,\n",
              "       array([18, 12,  5, 17,  2,  1, 11,  7, 19, 13, 11, 14,  9, 12,  4, 19, 16,\n",
              "              17,  6, 15])                                                       ,\n",
              "       array([11,  2,  5, 14,  8, 17, 18, 16, 13, 19, 17, 14,  6, 10,  1, 18,  0,\n",
              "              15, 19, 11])                                                       ,\n",
              "       array([16, 10, 13,  8, 14,  3,  9, 17,  7, 11, 18, 11,  6, 17, 10, 16,  2,\n",
              "               5,  4,  3])                                                       ,\n",
              "       array([ 7, 13, 11, 16,  9,  6,  4,  2, 18,  3,  4, 10,  0,  8, 13,  5, 17,\n",
              "              14, 15,  7])                                                       ,\n",
              "       array([18, 16, 15,  9, 12,  1,  5,  0, 14,  6, 15,  1,  2, 14,  7, 19, 12,\n",
              "              10, 17, 13])                                                       ,\n",
              "       array([15, 16,  6,  4,  3, 18,  8, 13, 19, 17, 15, 17,  7, 12,  5,  1, 11,\n",
              "               8,  4, 19])                                                       ,\n",
              "       array([ 4,  2, 19, 16,  8,  6,  3,  9, 15, 17, 14, 18, 13,  2,  1, 15, 10,\n",
              "               9,  7,  5])                                                       ,\n",
              "       array([ 9, 19, 13,  5,  8,  2, 10, 14, 18,  1, 16, 18,  7, 11, 15, 13,  4,\n",
              "               5, 12,  6])                                                       ,\n",
              "       array([18,  1,  6, 16, 19,  0, 17,  8, 14, 11, 19, 18, 11,  0, 12,  4,  3,\n",
              "              14,  6, 13])                                                       ,\n",
              "       array([ 6, 18, 12,  5, 13, 14,  1,  4, 11,  7,  7, 16,  1,  3, 15, 10, 17,\n",
              "               9, 14, 18])                                                       ,\n",
              "       array([ 8, 17, 13, 14, 19, 11,  6, 18,  4, 10,  7,  1,  3,  6,  9,  0,  8,\n",
              "              15,  4, 11])                                                       ,\n",
              "       array([ 2, 13, 10, 18,  5, 14,  3,  8,  4, 19,  2,  8, 16, 17, 15,  7, 19,\n",
              "              10,  3,  0])                                                       ,\n",
              "       array([13, 11,  0,  9,  8, 19, 18, 10, 17,  2, 12,  7, 11, 19, 10,  5,  0,\n",
              "              14, 17, 18])                                                       ,\n",
              "       array([17, 19, 10, 13,  4,  2, 12,  9,  6, 11, 17,  4, 15,  6, 18, 10,  0,\n",
              "              19,  2,  3])                                                       ,\n",
              "       array([ 2, 13,  0, 19,  1, 17, 12,  9, 14, 15,  7,  8, 19, 18, 14,  5,  6,\n",
              "              15, 16,  0])                                                       ,\n",
              "       array([10, 11,  5, 13, 18, 15, 17,  0, 12,  4, 13,  2, 17, 15,  7,  4,  0,\n",
              "               6,  1,  9])                                                       ,\n",
              "       array([ 5,  8, 16, 10, 14, 12,  7,  4,  1,  2, 19, 18,  3, 12, 17,  2, 10,\n",
              "               8, 13,  6])                                                       ,\n",
              "       array([15, 17, 12,  9,  6,  5,  1, 18, 16, 13, 15, 12,  3, 13,  4,  1,  9,\n",
              "               7, 17, 19])                                                       ,\n",
              "       array([ 9,  8,  4, 14,  6, 19,  2, 13, 10, 18, 14,  5,  2, 11, 12,  1,  7,\n",
              "              10, 15,  3])                                                       ,\n",
              "       array([ 5, 14,  9,  3, 17,  2, 19,  4,  7, 16,  4, 13, 17,  6, 18,  5, 12,\n",
              "               1, 11,  9])                                                       ,\n",
              "       array([ 8,  6,  7, 16, 13,  0,  1,  5, 19, 18,  1, 11, 13, 18, 16,  8, 14,\n",
              "               2,  3,  7])                                                       ,\n",
              "       array([18, 14,  2, 19,  5, 10,  8, 16,  3,  7,  6, 14,  1, 15,  3, 11,  9,\n",
              "               0, 10, 12])                                                       ,\n",
              "       array([ 2,  4,  0, 14, 11, 12, 17, 19, 16, 15,  7, 13,  5, 16, 18, 19,  3,\n",
              "              15, 12, 14])                                                       ,\n",
              "       array([13, 19,  4, 15, 18,  0, 11,  2, 17,  6, 13,  0,  5,  6, 17,  2, 16,\n",
              "               7,  4, 14])                                                       ,\n",
              "       array([ 6, 11, 17,  5,  1, 14,  9,  7, 16,  3, 12, 14,  1, 11,  6, 19,  3,\n",
              "               9,  7,  2])                                                       ,\n",
              "       array([17,  5,  3, 13, 18,  0,  9, 10,  6, 19,  3, 10,  8, 12,  6, 13, 11,\n",
              "               4, 14,  0])                                                       ,\n",
              "       array([ 6,  8, 15,  1,  4,  9, 17, 14, 16,  3, 15, 11,  2,  3, 17, 13,  1,\n",
              "              19,  7,  5])                                                       ,\n",
              "       array([16, 13,  4, 11,  5, 19, 17, 10,  8,  6, 10, 13, 18, 14,  0,  4, 15,\n",
              "              12,  5,  2])                                                       ,\n",
              "       array([ 3, 13,  4, 17,  2, 11,  5, 10,  6, 12,  0,  7, 11, 18, 16,  6,  1,\n",
              "              19,  8, 12])                                                       ,\n",
              "       array([ 7,  9, 16,  3, 13, 14, 10, 17,  8,  6, 11, 15, 10, 13,  9, 17, 14,\n",
              "              18, 12,  8])                                                       ,\n",
              "       array([ 2, 18,  4, 13, 11, 16,  5, 15,  1, 12,  6, 15,  2,  1, 11,  8, 12,\n",
              "               3,  5,  9])                                                       ,\n",
              "       array([18, 13,  4, 11, 10,  1,  7, 17,  6,  5, 16,  1,  6, 17, 15,  8, 19,\n",
              "               3, 18,  7])                                                       ,\n",
              "       array([ 2, 10, 19,  9,  1, 15, 18, 11, 12,  7, 11,  4, 19, 13,  7, 12,  5,\n",
              "               9,  1, 16])                                                       ,\n",
              "       array([ 8, 15,  9,  5,  1, 16,  0, 12, 11,  4,  2, 18,  4, 16,  0, 13,  3,\n",
              "               8,  7, 19])                                                       ,\n",
              "       array([17, 16, 14,  3,  9, 10, 19, 18, 12, 15,  0, 15,  9, 16,  8, 19, 13,\n",
              "               4, 14,  6])                                                       ,\n",
              "       array([15, 17,  3, 10,  4,  0, 16,  6,  9,  7, 12, 16, 10, 18, 15, 13, 17,\n",
              "               3,  4, 14])                                                       ,\n",
              "       array([ 3, 15,  5,  6,  0, 10, 16, 19,  4, 17,  9,  5,  4, 15, 16,  1,  2,\n",
              "              12, 18,  3])                                                       ,\n",
              "       array([18, 11, 14,  8, 16, 15, 17,  5, 10, 12, 12,  2, 19,  0, 18, 15, 16,\n",
              "               3,  7, 14])                                                       ,\n",
              "       array([ 6,  2,  9, 15,  7, 16, 14, 19,  1, 10,  0,  4, 12, 10,  8, 16, 15,\n",
              "              11, 13,  5])                                                       ,\n",
              "       array([15, 19,  0,  6, 10,  5, 18, 12,  1, 11, 11, 10,  7, 14,  4, 17,  6,\n",
              "               3,  5, 19])                                                       ,\n",
              "       array([ 4, 19, 11, 15, 17,  3,  0, 10,  7, 13, 11, 19, 17,  9, 12,  0,  1,\n",
              "               7, 16,  6])                                                       ,\n",
              "       array([18,  1,  3,  0, 16,  5, 10,  4,  9, 15, 12, 17, 14,  2, 13,  4,  6,\n",
              "               3,  0, 19])                                                       ,\n",
              "       array([ 8, 19,  2, 17, 15,  9,  6, 16,  3,  5,  2, 16,  7, 17, 18,  6,  0,\n",
              "               3,  1,  9])                                                       ,\n",
              "       array([ 3, 11, 13,  8,  1, 17, 19, 16,  7,  2,  9, 13, 10, 11, 19,  4,  1,\n",
              "               5,  3, 16])                                                       ,\n",
              "       array([12,  2,  1, 16, 15,  9, 13,  7, 17, 10,  6, 11,  7, 13, 12, 14, 19,\n",
              "               9, 16,  2])                                                       ,\n",
              "       array([ 6,  3,  7,  5,  1, 17,  2, 18, 13, 10,  7,  2,  9,  5, 14, 10, 15,\n",
              "               8,  6,  0])                                                       ,\n",
              "       array([ 7,  2, 13,  6, 16, 19,  0,  3, 18, 12, 17, 11,  7,  4,  2,  5,  8,\n",
              "              16, 13,  9])                                                       ,\n",
              "       array([ 4, 19, 13, 12,  8, 18,  7, 16, 15,  1,  5, 11,  4,  2, 18, 12,  6,\n",
              "               1,  9,  7])                                                       ,\n",
              "       array([18,  8, 16,  4,  7,  5, 12, 14, 11,  2,  8, 17, 15,  0, 16,  6, 13,\n",
              "               5, 12, 18])                                                       ,\n",
              "       array([19, 12,  9,  1, 16, 13, 15, 14,  3,  6, 14,  7, 19, 17,  6,  3, 16,\n",
              "               4, 11,  1])                                                       ,\n",
              "       array([16,  7,  4,  2,  8,  5,  1, 15, 17, 11,  6, 19,  9, 12, 15, 10,  0,\n",
              "              17, 13, 18])                                                       ,\n",
              "       array([ 2, 17,  6, 18,  5, 16, 19, 12,  7,  3,  0,  9, 18, 10,  6, 19, 12,\n",
              "              13, 16,  5])                                                       ,\n",
              "       array([19,  2,  0, 18, 14,  9, 12,  8, 15,  4, 19, 18, 14,  0,  6,  8, 10,\n",
              "              13, 12,  2])                                                       ,\n",
              "       array([ 4,  7,  0,  1, 10, 18, 15,  2, 16, 14,  3, 10, 11, 19, 17, 12,  1,\n",
              "               9, 18, 14])                                                       ,\n",
              "       array([ 5, 15,  4,  0, 11, 10,  1, 19,  6, 18,  5, 19, 14, 15, 16, 18, 11,\n",
              "              13,  0, 12])                                                       ,\n",
              "       array([16,  8, 17,  0,  5,  2, 12,  1, 10,  7, 16, 18, 15, 12, 19,  7, 14,\n",
              "               1,  3,  9])                                                       ,\n",
              "       array([ 6, 14,  9,  0,  1, 13,  8, 10, 16, 17,  7,  4, 13, 18,  3,  2, 11,\n",
              "              19,  0,  5])                                                       ,\n",
              "       array([10,  3, 15,  5,  1, 12,  4, 11, 19,  0,  3, 12, 18,  9,  7, 10,  0,\n",
              "               8, 19, 15])                                                       ,\n",
              "       array([ 3, 18,  5,  7, 12, 16, 14, 11,  0, 17,  4, 10, 11, 19, 17,  9,  0,\n",
              "              16, 18, 15])                                                       ,\n",
              "       array([ 6, 12, 19,  5,  9,  4, 16,  0, 11, 15, 17,  3,  8, 19, 18,  0, 13,\n",
              "               6,  9, 15])                                                       ,\n",
              "       array([ 5, 10, 17, 12, 11,  9,  8,  7,  2, 13,  5,  4, 17,  8, 18, 12, 16,\n",
              "              13,  9,  1])                                                       ,\n",
              "       array([16,  2, 17,  1,  9, 15,  6, 11, 14,  8, 19, 12, 15, 10, 18,  7,  9,\n",
              "               1,  6,  5])                                                       ,\n",
              "       array([ 2, 18,  9, 10,  5,  3,  8,  0,  7, 14, 19,  9, 10, 13, 12, 16, 11,\n",
              "               4,  0,  2])                                                       ,\n",
              "       array([ 2,  6,  8,  3,  7, 18, 12,  5, 11, 13,  5,  2, 17,  0,  7,  3, 12,\n",
              "               8, 18, 16])                                                       ,\n",
              "       array([15,  1, 12, 14,  2, 13, 11,  7,  8,  0, 11,  2, 14,  9, 12,  6,  5,\n",
              "               3, 19,  4])                                                       ,\n",
              "       array([ 0,  3, 14,  5, 13,  2, 16, 12, 19,  8, 18, 10,  5, 14,  3,  1, 16,\n",
              "              11,  4, 19])                                                       ,\n",
              "       array([ 7,  2,  4,  3, 16, 13, 12,  6, 14,  0, 18, 12,  4,  2,  9,  6,  0,\n",
              "              16,  7,  8])                                                       ,\n",
              "       array([15, 18, 17,  3, 11,  1,  2,  0, 12,  5,  0,  6, 12, 13, 14, 18,  9,\n",
              "               5, 19,  7])                                                       ,\n",
              "       array([ 7,  2, 10,  3, 15,  0, 16,  6,  8,  9,  1, 12,  7, 11,  2,  8, 14,\n",
              "              17,  6,  4])                                                       ,\n",
              "       array([17, 14, 13, 10,  4,  0,  7, 18,  2,  1,  4,  5,  2,  7, 16,  8,  1,\n",
              "              14, 12, 18])                                                       ,\n",
              "       array([17,  1, 11, 16,  6,  5, 12,  7,  2, 10,  1,  9, 18, 15, 16,  6, 13,\n",
              "              14,  0, 12])                                                       ,\n",
              "       array([ 9,  7,  0, 18,  8,  4,  2,  5, 17, 16, 18, 14,  0,  4,  6,  2, 15,\n",
              "               9,  1, 10])                                                       ,\n",
              "       array([19, 18, 16,  5, 11,  4,  9, 13,  2, 15, 11,  0,  4,  2, 19,  8, 15,\n",
              "               7, 10,  5])                                                       ,\n",
              "       array([13, 19,  3,  5, 15,  8, 14,  2,  9, 12, 19,  0, 12, 15,  9,  8, 14,\n",
              "               4, 17,  5])                                                       ,\n",
              "       array([16, 19,  2, 18, 12,  4,  1,  5,  8, 17,  1,  4, 12, 17,  8, 16,  2,\n",
              "               7, 13, 14])                                                       ,\n",
              "       array([ 3, 11, 19,  2, 12, 13, 16, 17,  6, 14, 15,  7,  2,  1, 17, 19,  3,\n",
              "               5, 11,  0])                                                       ,\n",
              "       array([15,  9,  6, 11, 12,  8,  5, 10, 19,  4, 13,  9, 17,  0,  8, 19, 12,\n",
              "               1,  5,  7])                                                       ,\n",
              "       array([ 5,  7, 17,  8,  4, 16, 10,  6,  2, 14, 13, 16,  3, 14,  8, 10,  7,\n",
              "              19, 15,  0])                                                       ,\n",
              "       array([11,  2,  8,  6, 16, 19, 18, 12,  1, 17, 11, 13, 10,  4, 14, 19,  8,\n",
              "               9,  6,  3])                                                       ,\n",
              "       array([15,  4, 18,  7, 16, 19, 11,  9,  8,  1, 14, 13, 12,  4,  0, 10,  8,\n",
              "               5, 16, 15])                                                       ,\n",
              "       array([ 6,  2,  1, 19, 18, 11,  3,  0,  7, 17, 18, 11,  7, 13,  3,  1,  9,\n",
              "               8, 15, 16])                                                       ,\n",
              "       array([12,  3, 18, 10,  0, 13,  9,  1,  4,  7, 17,  1,  0,  4,  5, 14,  8,\n",
              "               7, 10, 12])                                                       ,\n",
              "       array([ 4,  1, 12,  5,  9,  8, 19,  0, 17, 18, 15,  9,  1,  8,  4, 17,  6,\n",
              "              13, 16, 19])                                                       ,\n",
              "       array([ 6, 12,  7,  1, 17,  3, 13, 19, 10,  4, 10, 18,  8,  3, 16,  9,  0,\n",
              "              15,  7,  6])                                                       ,\n",
              "       array([ 1,  7, 19, 12,  3, 18, 17,  4, 16, 10, 16, 15,  3, 19,  5,  1, 12,\n",
              "              18,  0,  8])                                                       ,\n",
              "       array([18, 13,  9, 14,  0, 19,  6,  5, 12, 10,  9, 16,  7, 15, 18,  2,  8,\n",
              "               5,  1, 19])                                                       ,\n",
              "       array([ 5, 18, 14, 19,  0, 11,  8,  4,  3,  6,  8, 15,  7,  4,  0,  2, 18,\n",
              "              12, 19, 13])                                                       ,\n",
              "       array([ 6,  4, 12,  7, 18,  2, 14, 11, 16, 15, 16, 14,  7, 10,  5,  9,  2,\n",
              "              12,  1, 17])                                                       ,\n",
              "       array([ 9, 17,  1, 13,  4,  0,  7,  8, 16, 10,  1,  6, 11, 16,  4, 12,  2,\n",
              "               5, 15, 19])                                                       ,\n",
              "       array([ 4, 16, 10, 12,  5, 19,  7,  9,  1, 15,  5, 16, 19,  3, 14, 12,  6,\n",
              "               0,  2, 18])                                                       ,\n",
              "       array([16,  6, 14, 18,  7, 11, 19, 17,  0,  9,  6, 13, 14, 15, 17,  7,  4,\n",
              "               0, 19,  2])                                                       ,\n",
              "       array([13,  3, 15, 17, 10,  4, 12,  6, 19,  5,  9, 11, 16,  6,  4,  8,  2,\n",
              "               0,  1,  5])                                                       ,\n",
              "       array([ 0, 17, 19,  4, 14,  1, 12, 16,  2, 18, 19, 15,  0,  8, 16,  3,  4,\n",
              "              13,  9, 11])                                                       ,\n",
              "       array([12, 16, 14, 13,  1,  2,  5,  6,  0, 10, 17, 16,  2, 13, 12,  5, 11,\n",
              "              10,  1, 14])                                                       ,\n",
              "       array([ 6, 19, 18,  2, 11,  7, 14,  4, 15,  3, 11,  2, 15,  9, 17,  5, 14,\n",
              "              13, 12,  3])                                                       ,\n",
              "       array([ 7,  8, 18,  9,  4, 13, 19, 11, 12,  2, 10,  5,  7, 11, 19, 17, 13,\n",
              "               4, 15,  6])                                                       ,\n",
              "       array([ 3, 19,  1, 12,  8, 15, 10, 16,  5,  4,  3, 10,  1, 15,  8,  9,  2,\n",
              "               4,  5,  6])                                                       ,\n",
              "       array([11, 14,  1,  5, 15, 17,  3,  2,  8, 10, 11, 18, 13,  3,  9,  4, 16,\n",
              "              15, 14,  8])                                                       ,\n",
              "       array([15, 19, 12,  0,  5,  4, 16,  9,  7,  8, 12,  3,  2, 14,  0, 16, 11,\n",
              "              15,  8, 17])                                                       ,\n",
              "       array([ 4,  3, 15, 12,  7, 18,  1, 19,  5,  2,  8,  7,  9, 15,  3, 14, 18,\n",
              "              13, 11, 10])                                                       ,\n",
              "       array([ 1,  7, 11,  6, 13,  4, 12, 17,  9,  2, 17,  9, 15,  8,  7,  3,  1,\n",
              "              10,  4, 16])                                                       ,\n",
              "       array([ 8, 15, 10, 19,  0, 11, 14, 13,  5,  1, 19, 11,  8, 10, 18,  6,  7,\n",
              "               1,  4,  3])                                                       ,\n",
              "       array([ 9,  4, 10, 11,  3,  2,  0, 17, 12, 13,  2,  6, 11, 10, 16, 13,  3,\n",
              "               1,  9,  0])                                                       ,\n",
              "       array([ 6, 17, 13,  0,  7,  1, 14,  8, 19, 15, 16, 12, 17,  1,  3,  0,  8,\n",
              "               9, 10,  2])                                                       ,\n",
              "       array([ 5,  3,  1, 15,  9, 11, 14,  7, 12, 16,  7,  5, 11, 19, 15,  2,  6,\n",
              "               3,  1,  9])                                                       ,\n",
              "       array([11,  9,  6,  1,  3,  5, 13,  4, 15,  8,  9,  2,  5, 12,  3,  1,  4,\n",
              "              14,  6,  7])                                                       ,\n",
              "       array([ 8,  0, 12, 15,  3, 10,  4,  5, 17,  9,  8, 19, 14,  9,  3, 13, 15,\n",
              "              11,  2,  0])                                                       ,\n",
              "       array([13,  6,  2, 10, 11,  4,  3,  1, 16,  8, 10,  4,  5, 13, 16,  3,  7,\n",
              "               9, 15, 18])                                                       ,\n",
              "       array([10, 17,  8, 11,  6, 19, 14,  3, 15, 13, 15, 16,  3, 11,  5, 12, 17,\n",
              "               9,  1,  2])                                                       ,\n",
              "       array([16,  1, 17,  6, 18, 19,  2,  0, 13,  3, 18, 12,  4,  0, 15,  9, 17,\n",
              "               7,  2,  3])                                                       ,\n",
              "       array([ 6, 11, 18,  7,  1,  8,  2, 14,  5, 15,  6, 15,  2, 17, 19,  0,  8,\n",
              "              16,  4,  1])                                                       ,\n",
              "       array([19, 10,  5, 14,  7,  1,  0, 13,  8,  3,  7,  9, 10,  1, 11,  5, 19,\n",
              "               4, 18, 13])                                                       ,\n",
              "       array([ 6,  1, 10, 16, 19,  9, 14, 17, 11, 18,  1,  0, 14,  4, 18, 11,  2,\n",
              "              17,  9,  8])                                                       ,\n",
              "       array([ 0, 12, 19, 10,  8,  7,  2,  3,  5, 16, 10,  5, 15,  3,  8, 16, 19,\n",
              "               0,  2,  4])                                                       ,\n",
              "       array([ 1, 14,  6, 12, 15, 18, 13,  4, 11, 16,  3, 10, 17, 16, 12,  4,  9,\n",
              "               8,  6,  5])                                                       ,\n",
              "       array([ 8, 11, 14, 13, 12, 18, 17, 15, 16,  9,  8,  2, 10, 13,  0, 12, 17,\n",
              "              15,  4,  6])                                                       ,\n",
              "       array([ 7,  2, 13,  8, 12,  9, 18,  1,  4, 19, 19,  0,  3,  1, 11,  4,  8,\n",
              "              16, 18,  2])                                                       ,\n",
              "       array([12,  2,  5, 18, 14,  1,  6, 17, 13,  3,  7,  9, 19, 13,  2,  5, 11,\n",
              "              16, 12,  0])                                                       ,\n",
              "       array([ 0, 14,  6,  7, 16,  3,  9, 15,  2, 13,  3,  6, 17,  5,  0, 18, 12,\n",
              "              10, 11, 14])                                                       ,\n",
              "       array([ 6, 14,  4, 11,  9,  1,  7,  0, 19,  8,  0, 16, 14,  1, 15,  6, 10,\n",
              "               8,  5,  9])                                                       ,\n",
              "       array([10,  1, 17,  5,  9,  6, 19,  2,  8, 18,  5, 12, 17,  6,  7, 10,  8,\n",
              "               3,  4,  9])                                                       ,\n",
              "       array([16, 15, 14,  8, 18,  3,  1, 19,  4,  5,  0, 11,  8, 10, 13, 17,  9,\n",
              "               1, 12,  5])                                                       ,\n",
              "       array([15,  8, 17,  6, 16, 14,  0, 18, 19,  5,  4,  6, 18, 12,  9, 13, 10,\n",
              "              15, 11, 19])                                                       ,\n",
              "       array([ 1,  5, 15, 12, 19,  3,  0, 14,  6, 16,  2,  8,  5,  4, 11, 14, 10,\n",
              "               6, 15,  7])                                                       ,\n",
              "       array([ 5,  4,  3,  2, 12, 16, 11,  0, 18, 15, 15, 12,  0,  3, 17,  6, 16,\n",
              "              19, 13, 14])                                                       ,\n",
              "       array([ 0, 10, 15,  4,  3, 14,  6,  1,  9, 17, 13,  3, 11,  8,  6,  0, 16,\n",
              "              19, 15,  1])                                                       ,\n",
              "       array([18,  7, 10, 17,  4, 14, 19, 13,  8,  6,  6, 12, 19, 10, 17,  5, 13,\n",
              "               8,  9, 16])                                                       ,\n",
              "       array([ 3,  5,  6, 16,  7, 13,  4, 10, 15,  9, 16,  7,  9, 12,  0,  1, 15,\n",
              "              19, 10, 17])                                                       ,\n",
              "       array([10, 13, 11, 12, 17, 18, 15, 14,  3,  9, 14, 19, 17, 13, 18,  4,  5,\n",
              "              11, 16, 10])                                                       ,\n",
              "       array([12,  7, 17, 18, 16,  6,  2, 10, 14, 15,  3,  4, 12,  5,  8, 19, 10,\n",
              "              18,  2, 14])                                                       ,\n",
              "       array([ 5, 15, 16, 17, 11,  6, 12,  8,  7, 19, 13,  6,  8, 12, 19, 10,  3,\n",
              "               1,  7, 17])                                                       ,\n",
              "       array([17,  1, 15, 11,  6,  3, 10,  8, 13, 14,  9,  5, 13, 16,  0, 18,  7,\n",
              "               3, 19, 10])                                                       ,\n",
              "       array([19,  1, 10, 17,  3,  0,  5, 18,  6,  9, 10,  7, 17, 14,  6,  9, 19,\n",
              "              12,  2,  1])                                                       ,\n",
              "       array([15,  7, 12,  5,  9, 19, 17, 18, 11,  4,  7, 19,  6, 13,  4, 17,  2,\n",
              "              12, 16, 18])                                                       ,\n",
              "       array([11,  7,  8, 10, 15,  6,  1, 12,  4, 19,  2, 15, 18,  4, 12, 13, 11,\n",
              "              17,  7,  0])                                                       ,\n",
              "       array([11, 10, 17, 13, 19, 18,  3,  8,  6, 15, 11,  9,  7,  6, 14,  8, 10,\n",
              "              12,  5, 15])                                                       ,\n",
              "       array([ 9,  5, 16,  4, 18, 10,  8,  1, 17, 14,  0, 14, 16, 10,  6,  2,  5,\n",
              "              12, 11, 17])                                                       ,\n",
              "       array([12,  6,  2,  3,  0, 18, 16, 10,  5,  7,  5,  9, 19,  8, 13,  0, 15,\n",
              "               2, 17,  7])                                                       ,\n",
              "       array([12,  0, 16, 11, 15,  4, 17,  1, 14,  3, 15,  8,  7, 11, 19,  2, 12,\n",
              "              18,  0,  5])                                                       ,\n",
              "       array([13,  4,  8, 15,  5,  2, 18,  7, 10,  9, 14, 19, 10, 12,  4,  1,  9,\n",
              "               0, 13, 17])                                                       ,\n",
              "       array([ 4,  5,  8,  0, 15, 19, 16, 18,  1,  2,  2,  5, 10, 17, 18,  4,  8,\n",
              "               3, 13, 14])                                                       ,\n",
              "       array([11,  9, 17, 18,  0,  2, 14,  4,  5,  7,  1,  7,  3,  4,  0,  8, 13,\n",
              "              14, 19, 16])                                                       ,\n",
              "       array([ 9, 10,  1, 14, 17, 15, 13, 19,  0,  6,  3,  1, 13, 14, 18, 17, 19,\n",
              "              12,  2,  4])                                                       ,\n",
              "       array([ 7,  9,  6, 13,  2, 15,  5, 17,  3,  1,  8, 14,  0, 12,  5,  4, 11,\n",
              "              13,  1, 19])                                                       ,\n",
              "       array([ 4,  3, 17,  0, 11, 14, 12,  2,  5, 19, 12, 18, 19, 15, 14,  4,  6,\n",
              "               7, 17,  1])                                                       ,\n",
              "       array([15,  8,  4, 19, 18,  2, 16,  6, 13,  3,  3,  4,  9, 12,  8,  7, 14,\n",
              "              10,  0,  2])                                                       ,\n",
              "       array([ 4, 19, 14, 11, 13, 12,  1,  3, 10,  7,  9, 14, 10, 12, 15,  3, 19,\n",
              "               7, 18, 17])                                                       ,\n",
              "       array([12,  6, 15, 13, 19,  2,  8, 18, 17,  0,  9,  2, 19,  7,  5, 16, 15,\n",
              "               0,  1,  3])                                                       ,\n",
              "       array([ 7, 14, 17,  9,  4, 15,  1,  8, 10,  5,  4, 12,  1,  7, 16,  2, 19,\n",
              "               9,  0,  3])                                                       ,\n",
              "       array([11, 15, 14,  9,  7,  2, 12,  3,  5, 16, 15,  0, 17,  6,  1, 12,  9,\n",
              "               7,  8,  2])                                                       ,\n",
              "       array([ 4, 13, 10,  9,  5, 18,  7, 14,  1, 12,  6,  3, 19, 17,  8,  5,  2,\n",
              "              10, 14,  9])                                                       ,\n",
              "       array([11, 12, 19,  3,  6, 13, 14, 10,  5,  4,  9,  0, 16,  2,  8,  3,  5,\n",
              "              13, 15,  4])                                                       ,\n",
              "       array([ 4,  5,  6,  9,  8,  0, 12, 19, 16,  1, 14, 10, 15,  3,  6, 12, 19,\n",
              "              13,  7,  8])                                                       ,\n",
              "       array([ 8, 17,  2,  5,  1, 15, 18,  6, 12,  9,  5, 11,  0,  1,  7,  6, 13,\n",
              "              18, 15,  9])                                                       ,\n",
              "       array([13, 15,  7,  8,  3,  0, 11,  6, 18,  1,  0, 15, 18, 14,  8,  7,  3,\n",
              "               5,  9,  4])                                                       ,\n",
              "       array([12, 13, 16,  8,  0,  1,  9,  6, 15, 10, 16, 18, 13,  2, 14,  5, 15,\n",
              "              19, 12,  7])                                                       ,\n",
              "       array([16, 17,  3,  4,  1, 12,  9,  2, 19, 11,  5,  2,  1,  9,  4,  6, 11,\n",
              "              14, 15, 19])                                                       ,\n",
              "       array([ 9, 10, 15, 19, 12, 11, 14, 13, 17,  7, 17, 13,  8,  5,  7,  6,  3,\n",
              "              19, 12,  1])                                                       ,\n",
              "       array([ 5, 10,  1, 15, 16, 13, 17,  8,  9, 19, 14,  5,  0,  4, 12, 10,  2,\n",
              "              17, 13,  9])                                                       ,\n",
              "       array([13,  9,  4, 11, 12, 14, 15,  1, 10,  7,  0,  2, 10, 15, 19, 13,  3,\n",
              "               7, 12,  4])                                                       ,\n",
              "       array([18,  3, 19,  7,  1, 11, 12,  4, 17,  8, 17, 10,  8,  9,  5,  7, 14,\n",
              "              11, 12, 18])                                                       ,\n",
              "       array([ 6, 10,  2,  3, 11, 19, 13, 16,  4, 18,  9,  2, 12, 15, 16,  6,  8,\n",
              "               5, 18,  1])                                                       ,\n",
              "       array([ 2, 17,  6, 18, 15,  7,  1,  9, 12, 14,  2, 10, 19, 13,  4,  7,  8,\n",
              "               3, 15, 12])                                                       ,\n",
              "       array([ 3,  2,  5, 13, 12,  7, 17,  0, 16, 11, 10,  9, 14, 18, 16,  6,  1,\n",
              "               5,  7, 13])                                                       ,\n",
              "       array([10,  0,  9, 15, 18, 16,  8,  2, 12,  6, 14, 11,  2,  1, 13,  3, 16,\n",
              "               5,  4, 19])                                                       ,\n",
              "       array([ 8, 16,  1, 13, 12,  6, 14,  7, 15, 17,  1,  0,  5,  7, 18, 11,  3,\n",
              "              17,  9, 16])                                                       ,\n",
              "       array([16, 19, 14,  5, 11,  2, 12,  3, 17, 13, 17, 18,  9,  8, 15,  6, 14,\n",
              "               2, 19,  5])                                                       ,\n",
              "       array([ 6, 10, 14, 19, 12,  4,  3,  8, 11,  5, 16,  9, 11, 13,  2, 12,  1,\n",
              "               0,  4,  3])                                                       ,\n",
              "       array([15, 12, 18,  1, 17, 11,  6,  5,  8,  3, 16, 19,  9,  4, 15, 13,  7,\n",
              "               2,  5,  3])                                                       ,\n",
              "       array([17,  3,  6, 11,  0, 13, 12, 15,  8,  7, 19, 10,  7, 17,  2, 14, 11,\n",
              "               9, 12, 18])                                                       ,\n",
              "       array([ 4, 19, 17,  1, 13, 11, 15, 16,  0,  3, 18,  7, 17, 13, 14,  5,  2,\n",
              "               6, 11,  8])                                                       ,\n",
              "       array([ 5,  4, 12, 15, 17,  7, 19,  1, 10,  2, 14,  0,  8, 10, 11,  3, 12,\n",
              "               4, 17, 19])                                                       ,\n",
              "       array([ 6, 18,  3,  2, 11,  4,  7,  8,  5, 16, 10,  3,  6,  8, 13,  1,  7,\n",
              "              16, 18, 12])                                                       ,\n",
              "       array([12, 18,  1, 14, 11, 16, 19,  2,  7, 10, 19,  4, 14,  9,  8,  5, 12,\n",
              "              11, 10, 17])                                                       ,\n",
              "       array([ 8, 17, 16, 18,  3,  4, 11,  2,  7, 14,  6, 13,  4, 10,  8,  1,  7,\n",
              "              18,  9, 19])                                                       ,\n",
              "       array([ 9, 12,  2,  3,  5,  6, 16,  8, 13,  4, 14, 17, 10, 19, 15,  8,  0,\n",
              "               4, 11, 12])                                                       ,\n",
              "       array([ 9,  0,  5,  3,  1, 17, 14, 19,  4,  6, 18, 14, 15,  5, 12, 17,  8,\n",
              "               4,  6,  0])                                                       ,\n",
              "       array([ 5,  8, 16, 12,  7, 13, 19, 14,  6,  1,  5,  7, 19, 18, 16,  8,  4,\n",
              "              12,  1,  3])                                                       ,\n",
              "       array([18,  2, 19,  4, 11,  7, 15,  9,  1,  8,  7,  9, 10, 12,  6, 17,  2,\n",
              "               5,  3, 19])                                                       ,\n",
              "       array([17, 12, 19, 13,  3,  6,  5, 10, 14,  7,  7,  1, 19,  2, 14,  0,  3,\n",
              "               9, 15, 17])                                                       ,\n",
              "       array([ 7,  1, 14, 13,  6,  5,  9,  8, 19,  4,  6, 12, 17, 11, 16,  2, 13,\n",
              "               1,  4,  5])                                                       ,\n",
              "       array([ 9,  5, 13, 18,  0, 12,  4,  2, 10,  1, 18,  8, 16,  5,  9, 17,  6,\n",
              "               7, 11, 14])                                                       ,\n",
              "       array([ 9, 16,  2, 19,  3,  7,  0, 10,  4,  6, 16, 17, 14,  5, 18, 11,  3,\n",
              "              19,  1,  4])                                                       ,\n",
              "       array([ 1,  3, 12,  9, 17, 13, 18,  5, 15,  0, 12,  9,  5, 19,  4, 11,  3,\n",
              "              14, 18,  8])                                                       ,\n",
              "       array([ 5, 10, 17,  1,  7, 11,  6, 16, 14,  3,  3,  0, 14,  7,  6, 19,  1,\n",
              "               4,  5,  2])                                                       ,\n",
              "       array([ 4, 11, 12,  8,  6,  1,  3,  9,  2,  7, 16, 15,  1,  4, 17,  2, 19,\n",
              "               6, 18,  0])                                                       ,\n",
              "       array([ 6, 14,  5, 13, 16,  8,  3, 18,  9, 15, 11,  6,  9,  4, 12,  1, 19,\n",
              "               5, 18,  0])                                                       ,\n",
              "       array([ 4, 19, 17, 18, 15,  2,  9, 13,  8, 16, 18,  9, 14,  0,  5, 19,  3,\n",
              "              16,  4,  7])                                                       ,\n",
              "       array([ 0, 12,  1,  5,  7, 19, 10, 14,  2, 16,  5, 10, 14, 17,  1,  7, 12,\n",
              "               4,  9, 19])                                                       ,\n",
              "       array([ 2,  6,  1,  8,  0, 10,  9, 16,  5, 11, 11,  2,  0,  5,  9,  6, 16,\n",
              "              19, 14, 12])                                                       ,\n",
              "       array([11, 13,  0, 16, 18,  2,  7, 19, 15, 12,  3,  5,  7, 13,  1, 16,  2,\n",
              "              15, 18,  9])                                                       ,\n",
              "       array([ 9, 14,  6,  5,  2,  8, 10, 18,  1, 12,  0, 17,  5, 18, 13, 12,  2,\n",
              "               1,  3,  6])                                                       ,\n",
              "       array([11, 14, 17, 16, 12,  6, 10,  1,  5, 18,  0,  8,  2, 13,  7, 14, 15,\n",
              "              19, 17,  5])                                                       ,\n",
              "       array([ 9,  0, 15,  1,  2,  7,  3,  6, 12, 17, 16, 11, 14,  4, 17,  6, 12,\n",
              "              13, 10, 18])                                                       ,\n",
              "       array([ 0, 19,  5,  2, 14, 11,  1,  6, 17, 15,  1,  4,  9, 16, 13,  5,  6,\n",
              "               8, 14, 11])                                                       ,\n",
              "       array([ 5,  4, 12,  2,  3,  6,  0, 16,  1, 18,  3,  4,  5, 15, 13, 12,  2,\n",
              "              10,  0, 18])                                                       ,\n",
              "       array([ 3, 13, 18, 12, 17,  2,  1,  7, 11, 16,  5,  9,  1, 14,  3,  6,  4,\n",
              "              12, 10, 17])                                                       ,\n",
              "       array([15, 10, 19, 11, 12,  1, 13,  5, 16,  0, 11,  5,  3, 12, 10, 19, 16,\n",
              "               6, 14,  7])                                                       ,\n",
              "       array([16, 12,  5,  4, 10,  9,  6, 18, 13,  8, 10, 13, 15,  0,  8,  6, 11,\n",
              "               7, 12, 14])                                                       ,\n",
              "       array([13, 19,  1,  5, 12,  8, 18, 14,  4, 15, 17, 14, 11,  7, 19,  6, 10,\n",
              "               4,  3,  0])                                                       ,\n",
              "       array([ 9,  2, 13,  5, 14, 16,  3,  8, 15,  1, 19, 14, 18,  4, 13,  6, 12,\n",
              "               9,  3, 17])                                                       ,\n",
              "       array([ 2,  5, 16,  7,  4, 13, 10,  0, 18, 19, 19, 14, 10,  7,  5,  8, 13,\n",
              "               2,  9, 17])                                                       ,\n",
              "       array([ 0, 10,  6, 16,  7,  3, 18,  8,  1,  4, 11,  9,  5,  1, 14, 17, 18,\n",
              "              15, 12,  6])                                                       ,\n",
              "       array([ 2,  6,  7, 16,  5, 14,  9,  0, 18, 12,  6, 16, 11, 10, 18,  1, 17,\n",
              "               4,  3, 14])                                                       ,\n",
              "       array([ 5,  3, 10, 17, 18,  0, 14,  7,  9, 11,  7, 18, 17,  8, 10,  0,  6,\n",
              "              15, 12, 11])                                                       ,\n",
              "       array([ 3,  9,  1,  4, 15, 19, 11,  7, 13,  5, 12,  2, 15,  8, 13,  6,  7,\n",
              "               9,  5, 14])                                                       ,\n",
              "       array([10,  4, 11,  5, 17,  2, 12,  6,  9,  0,  3, 16, 11, 14, 10, 12,  4,\n",
              "               5, 18, 17])                                                       ,\n",
              "       array([10, 17, 11,  4, 18,  0,  9,  7,  2,  1,  9, 17,  5,  8,  1, 11,  6,\n",
              "              10, 15, 14])                                                       ,\n",
              "       array([ 6,  8, 13, 19, 17, 14, 16, 10, 18,  5, 19,  4,  5,  9,  8, 13, 12,\n",
              "               3,  0, 14])                                                       ,\n",
              "       array([ 5, 11,  6, 18, 19,  1,  9,  2, 16, 10,  9,  7,  1, 19,  4, 16,  0,\n",
              "              14, 11,  2])                                                       ,\n",
              "       array([ 7,  2,  1, 13, 17, 18, 12, 15,  9,  8,  5,  2,  0, 16,  8, 13, 14,\n",
              "               3,  7, 12])                                                       ,\n",
              "       array([ 0, 13,  2,  5,  3, 18,  1,  9,  8, 17,  7, 13, 12, 14, 10,  3,  0,\n",
              "               4, 19, 18])                                                       ,\n",
              "       array([ 8,  4,  7,  3,  2, 15, 12, 13, 11, 10, 16,  6, 19, 14,  8, 10,  1,\n",
              "               7, 15,  4])                                                       ,\n",
              "       array([12,  6,  3, 15,  9, 18, 16,  5, 19,  1, 17,  4,  0, 12,  9,  8, 13,\n",
              "              10,  3, 14])                                                       ,\n",
              "       array([ 4,  0, 19, 11, 14,  6,  8, 18, 16,  1, 11,  7,  5,  9, 10, 15, 19,\n",
              "              16, 17,  6])                                                       ,\n",
              "       array([ 3, 13,  0, 17,  8, 11, 12,  2,  9,  4, 13,  1,  7, 15,  6,  2, 11,\n",
              "               5, 12,  4])                                                       ,\n",
              "       array([ 7,  9, 10, 18, 13,  0, 17, 15, 16,  1,  1,  8, 17,  6,  2,  7,  4,\n",
              "              10, 14,  0])                                                       ,\n",
              "       array([ 3, 16, 10,  5,  0, 19,  4,  8, 17,  7, 14, 15,  8, 19, 18,  0,  7,\n",
              "               3,  2, 13])                                                       ,\n",
              "       array([ 3,  5,  8, 17, 12, 13,  0, 19,  7,  6, 13,  5, 10, 17,  6, 16, 11,\n",
              "               9,  4,  1])                                                       ,\n",
              "       array([ 8, 15, 19, 10,  2, 13,  9, 17,  7, 16, 18,  2,  5,  9, 12, 15, 11,\n",
              "              13,  6, 17])                                                       ,\n",
              "       array([17,  8,  1, 10, 18,  6,  9, 13,  4,  3,  0, 14, 19, 10, 18, 11, 12,\n",
              "               6,  2,  7])                                                       ,\n",
              "       array([ 3,  9, 11, 19, 14,  2, 13,  1, 17, 10, 11, 17, 12,  0, 16,  7,  2,\n",
              "               6,  5,  4])                                                       ,\n",
              "       array([16, 19,  9,  3,  8,  7,  5, 11, 13,  6, 17,  1,  8, 16,  6, 11, 18,\n",
              "               0, 12, 15])                                                       ,\n",
              "       array([11,  8, 18, 16,  9,  6, 17,  3,  1, 19, 18, 11,  7,  0,  4, 15, 10,\n",
              "              14, 13, 16])                                                       ,\n",
              "       array([14, 13,  8, 15, 10,  0, 11,  2, 12, 19,  0,  1,  9, 19,  4, 10, 15,\n",
              "               7, 18, 13])                                                       ,\n",
              "       array([15, 17,  1,  2,  3,  7, 16, 10,  5,  0,  5,  0, 11,  3,  2, 19,  6,\n",
              "              17, 15, 10])                                                       ,\n",
              "       array([ 3,  0, 10,  9, 14,  5, 19, 15, 17,  2,  2,  4,  1, 14, 18,  0,  9,\n",
              "              19, 10, 17])                                                       ,\n",
              "       array([ 9, 10, 19,  2, 11,  7,  5, 14, 12, 18,  7, 18,  3,  5,  1,  6, 19,\n",
              "              12, 13,  4])                                                       ,\n",
              "       array([ 7,  0, 11, 14, 17, 13,  1, 10,  3,  2, 17,  4, 12,  8,  9, 13,  5,\n",
              "              11,  6,  3])                                                       ,\n",
              "       array([ 3, 17,  9,  7, 14, 16,  8, 10, 19,  6,  2,  1, 15, 14,  4,  7,  5,\n",
              "              18, 19, 16])                                                       ,\n",
              "       array([ 9,  8, 13,  6, 16,  0,  7, 12, 15, 11,  5, 15, 12, 16,  7,  2,  0,\n",
              "               6, 14,  4])                                                       ,\n",
              "       array([ 7, 14,  1,  0,  9, 15, 17,  8, 10, 16, 11,  2,  1, 14,  5, 12,  3,\n",
              "               7,  8, 19])                                                       ,\n",
              "       array([ 4,  1, 12, 13,  6, 10, 18, 17, 19,  7,  9, 18,  1,  8, 13,  5,  0,\n",
              "               2, 14, 16])                                                       ,\n",
              "       array([ 7, 10,  0, 12,  1, 15, 11,  5, 13, 17,  3, 10, 12,  0, 13, 11,  6,\n",
              "               1,  2,  7])                                                       ,\n",
              "       array([ 4,  2,  9,  7,  5, 16,  1, 15, 17, 18,  3,  1,  8,  5, 19, 15,  2,\n",
              "              14,  0, 16])                                                       ,\n",
              "       array([16,  3,  4, 11,  8, 18, 14, 13,  1,  5,  0, 15,  3, 16,  6,  2,  8,\n",
              "              18, 11,  1])                                                       ,\n",
              "       array([ 3, 15,  8,  5, 16,  6, 17,  9, 14,  1, 15,  6, 11, 18,  1,  4, 10,\n",
              "               8,  0, 16])                                                       ,\n",
              "       array([12,  9, 17,  6, 11,  1, 19, 16,  8,  0,  5, 17,  7,  1,  3,  9,  0,\n",
              "               2, 16, 11])                                                       ,\n",
              "       array([ 3, 13,  1, 14, 19, 12,  5,  7,  8, 15,  9, 10, 15,  0,  1,  4,  8,\n",
              "               7,  3, 11])                                                       ,\n",
              "       array([10, 17, 14,  0, 15,  5,  8, 16, 12, 13, 19, 10, 18,  3, 14,  2,  0,\n",
              "              17,  6,  9])                                                       ,\n",
              "       array([ 3,  0, 19,  9, 11, 12, 17,  8, 16, 13, 18, 12,  5,  7, 10, 15,  3,\n",
              "              14,  8, 16])                                                       ,\n",
              "       array([18,  0,  3,  5, 11,  2,  9, 12,  4,  6, 10, 13,  7,  8,  9, 16,  4,\n",
              "               1,  6,  3])                                                       ,\n",
              "       array([11,  6, 17, 10, 13, 15, 18,  8,  5,  1,  6, 17, 11,  4, 16,  9,  1,\n",
              "               3,  0,  7])                                                       ,\n",
              "       array([ 3,  8, 17, 19, 15, 13,  5,  2, 14,  9,  2, 14,  6, 11,  7, 12, 19,\n",
              "               3, 17,  9])                                                       ,\n",
              "       array([12,  3, 11,  2,  6, 15,  1,  9, 14,  0, 17, 16,  3,  0, 18, 15, 14,\n",
              "              11, 19, 10])                                                       ,\n",
              "       array([ 3, 10,  0,  6, 16, 11,  5,  8, 15,  2, 16, 14,  5,  3,  8, 10, 12,\n",
              "               0,  7,  9])                                                       ,\n",
              "       array([10, 18, 17,  8,  5, 19,  3, 12,  0, 13,  3, 11, 17,  5,  9, 16,  0,\n",
              "               2, 14, 10])                                                       ,\n",
              "       array([12, 16, 14,  7,  1,  6, 13, 17,  8, 10, 12, 10, 18,  9,  8, 13, 11,\n",
              "               1, 19,  5])                                                       ,\n",
              "       array([ 3, 11, 14, 17,  4,  1, 13,  5,  6,  7, 15, 10,  1,  3, 17,  0, 14,\n",
              "               4,  6, 12])                                                       ,\n",
              "       array([16,  4, 13, 15,  3, 11, 12,  6, 14,  9,  8, 16, 11,  5,  0,  6, 19,\n",
              "              17, 18, 14])                                                       ,\n",
              "       array([ 9, 13,  1,  2, 10, 12, 15, 18,  0,  7, 19, 13,  0, 12,  8, 17,  7,\n",
              "               1,  5,  4])                                                       ,\n",
              "       array([ 4,  6, 10, 15,  0, 19, 17, 13,  3,  1,  3,  5,  4, 18, 10, 17, 12,\n",
              "              11,  2,  8])                                                       ,\n",
              "       array([ 3, 13,  2, 15, 10,  8, 11, 16,  7, 19, 18,  6, 19, 11, 17,  7,  1,\n",
              "               5, 14,  3])                                                       ,\n",
              "       array([ 9, 11, 16, 10, 17,  5,  7,  0,  6,  1, 18, 12,  3,  0, 16, 11, 19,\n",
              "               2,  9, 15])                                                       ,\n",
              "       array([12, 15,  2,  8,  7, 19,  6, 16, 14, 18,  2, 10,  9, 11,  5, 15,  0,\n",
              "               8,  3,  7])                                                       ,\n",
              "       array([ 4,  6,  7,  2, 13, 18, 16, 12, 17,  5, 10,  2,  1,  8, 13,  6, 19,\n",
              "              12,  0, 16])                                                       ,\n",
              "       array([11,  9, 10, 17,  1, 16,  3, 12, 13, 14,  6,  5, 18, 19,  9,  4,  0,\n",
              "               2,  1, 16])                                                       ,\n",
              "       array([ 9, 19,  2, 13,  5,  7, 14,  3, 16, 17,  0,  4,  7,  2, 12,  9,  1,\n",
              "              14, 17,  8])                                                       ,\n",
              "       array([ 0,  7, 13, 14,  6, 19,  3,  1,  2,  9, 11,  0,  5, 16, 15,  3,  4,\n",
              "               2, 10, 19])                                                       ,\n",
              "       array([ 5, 18, 11, 12, 14,  8, 16, 10, 19,  0,  9,  4, 15, 18,  3, 11, 12,\n",
              "              10,  6, 14])                                                       ,\n",
              "       array([ 7, 16, 18, 17, 15, 14,  3,  5, 19, 11, 13,  4,  7, 10, 12,  9,  3,\n",
              "              16, 19,  5])                                                       ,\n",
              "       array([12,  0,  8, 16, 17,  7,  5, 19,  4, 15, 19,  9,  3,  8, 15,  7, 13,\n",
              "              14, 12,  0])                                                       ,\n",
              "       array([ 4,  1, 12, 15, 19,  2,  7,  6,  3,  5, 14, 10,  6, 17,  0, 16, 18,\n",
              "              15,  8, 19])                                                       ,\n",
              "       array([ 8, 12,  9, 16,  1,  0, 10,  7, 19,  6,  0, 13,  2,  8, 12, 14,  4,\n",
              "               6,  9, 11])                                                       ,\n",
              "       array([ 1, 10, 19, 15,  3, 18, 11,  8,  5, 12,  6,  7, 15, 18,  3,  9, 10,\n",
              "               5,  4,  2])                                                       ,\n",
              "       array([15,  2,  8,  7, 14,  4,  9, 19, 17,  5,  8,  5, 16,  4, 15, 17, 11,\n",
              "              12, 13,  0])                                                       ,\n",
              "       array([ 3, 18,  7,  1, 14,  8, 12,  0,  5,  6,  1, 14,  3, 16,  2,  4, 17,\n",
              "              18,  5,  0])                                                       ,\n",
              "       array([12,  8, 17,  9, 16,  0, 15,  4, 18, 13, 13, 18,  4, 19,  1,  9, 11,\n",
              "               6, 12,  2])                                                       ,\n",
              "       array([ 9,  4, 17,  2, 16, 11,  8,  5, 18, 19, 12, 19, 10,  6,  7,  9,  2,\n",
              "              18, 15,  4])                                                       ,\n",
              "       array([ 4,  6, 10, 16, 14, 15, 18,  0, 11, 12,  6,  1, 19, 10,  3,  8,  4,\n",
              "              14, 18, 12])                                                       ,\n",
              "       array([11, 17,  2,  4, 14,  0, 10,  9,  7,  1, 15, 19, 12, 14, 13,  9,  2,\n",
              "              17,  8,  3])                                                       ,\n",
              "       array([10,  3, 18, 14, 11, 17,  4,  8,  0,  5,  2,  0, 10, 18, 19, 13,  5,\n",
              "              12, 15,  9])                                                       ,\n",
              "       array([13,  6, 10,  0, 17,  4,  3,  1,  2, 14,  8,  7,  2, 10, 15, 12,  6,\n",
              "              16, 11,  1])                                                       ,\n",
              "       array([18,  2, 15, 17, 12, 10,  5,  6, 13,  1, 12, 16,  3,  4, 18,  6, 10,\n",
              "               1,  5, 13])                                                       ,\n",
              "       array([14, 12, 16, 18,  0,  7,  2, 15, 17,  1, 12, 14, 19,  2,  5,  0, 11,\n",
              "               7,  3, 15])                                                       ,\n",
              "       array([ 4, 11,  0, 16,  1,  8,  7,  9, 19, 13,  8, 16, 11, 10,  4, 15,  5,\n",
              "              18, 14,  7])                                                       ,\n",
              "       array([ 4, 10, 19,  3, 16,  5,  1,  2, 12,  0, 17, 15, 18, 13,  1, 11,  6,\n",
              "               0,  7, 16])                                                       ,\n",
              "       array([18, 14, 13, 16,  2,  6, 10,  1,  9,  8,  3, 11,  4, 19,  9,  2, 16,\n",
              "              13, 17,  1])                                                       ,\n",
              "       array([ 6, 13, 16,  1,  5, 17, 18,  7,  3, 15, 18, 16,  5, 19,  3,  1,  6,\n",
              "               9,  0, 13])                                                       ,\n",
              "       array([19, 16, 12,  1,  2,  9, 11,  5,  0,  3, 17,  4,  8,  7,  0, 16,  5,\n",
              "              14,  1,  6])                                                       ,\n",
              "       array([ 0, 10,  9, 17, 13, 12,  8,  5, 11,  3, 18, 13, 10, 15, 16,  7, 12,\n",
              "               4,  3,  1])                                                       ,\n",
              "       array([11,  3, 10,  5,  0, 19, 16,  1, 12, 15, 15,  8, 19, 10,  4, 18,  2,\n",
              "              13, 12,  0])                                                       ,\n",
              "       array([ 1,  2, 11,  9, 17,  0,  8,  6, 18, 10,  9, 18,  1, 10, 15, 13,  0,\n",
              "               8,  7, 11])                                                       ,\n",
              "       array([ 5,  9, 16, 10,  7, 19,  0,  1, 14,  4,  3,  9,  2, 12,  4, 11, 10,\n",
              "              19,  8, 13])                                                       ,\n",
              "       array([18, 15,  6,  0,  9,  1,  5, 11, 19, 12, 16,  9,  0,  8,  4, 15,  2,\n",
              "               3,  1, 10])                                                       ,\n",
              "       array([ 8, 18, 13,  3,  2, 12,  4,  1,  5,  7, 12, 15, 16,  6,  7, 13,  4,\n",
              "               8,  3, 10])                                                       ,\n",
              "       array([ 3, 17,  9,  2,  0,  5,  1, 16,  7, 10, 16,  6,  5,  8, 10, 18,  4,\n",
              "              11, 19, 12])                                                       ,\n",
              "       array([ 6, 15, 13,  4,  0, 12,  1, 10, 11,  7,  1,  0, 18, 15,  2, 13, 16,\n",
              "              10,  7, 19])                                                       ,\n",
              "       array([15,  5, 10, 13,  2,  9, 19, 18,  4,  7,  6,  0, 14,  2,  4, 19, 13,\n",
              "               9, 18,  3])                                                       ,\n",
              "       array([ 4, 19,  9,  7,  5, 18, 10,  1, 15, 13, 11, 18, 10, 19, 13, 14,  4,\n",
              "               2,  3,  6])                                                       ,\n",
              "       array([ 2, 11,  0,  9, 12, 14, 19, 18, 17,  3,  7, 13,  8, 12, 16,  1, 14,\n",
              "              10,  2, 15])                                                       ,\n",
              "       array([ 8,  0, 10,  9,  5, 14, 11,  4, 16, 13,  3,  7, 14, 10,  9, 11,  2,\n",
              "               4, 12, 17])                                                       ,\n",
              "       array([ 0,  9, 15, 13, 10, 17, 19,  1,  2,  7,  4, 17,  9, 13,  8, 19, 12,\n",
              "               7, 18, 16])                                                       ,\n",
              "       array([18,  3, 14,  7,  8,  2,  1,  9, 10, 12, 17,  0,  7, 11, 13, 10, 15,\n",
              "               5,  8,  9])                                                       ,\n",
              "       array([ 8, 15,  9,  5,  4, 16, 10,  0,  6, 12, 15, 18,  0, 12, 10,  8,  7,\n",
              "              17, 13,  5])                                                       ,\n",
              "       array([15, 18,  9,  1,  3,  0,  5, 14, 13, 12,  3, 14,  5, 12, 15, 10, 17,\n",
              "               9,  2,  4])                                                       ,\n",
              "       array([ 5, 18, 11,  8, 14, 13, 19,  0, 12,  3,  7, 11,  8, 12, 17, 13, 19,\n",
              "              18, 15, 16])                                                       ,\n",
              "       array([ 7, 10,  3,  1, 14, 11, 17,  0, 18, 19,  1, 16,  5,  2,  4, 19, 14,\n",
              "               8, 13, 10])                                                       ,\n",
              "       array([16,  6,  9,  7, 12,  3, 18,  1, 11, 10,  1, 12, 13, 14,  5, 19, 11,\n",
              "              18,  3, 16])                                                       ,\n",
              "       array([19,  8, 17, 18,  6,  7, 10, 13, 12, 15, 10, 14, 16,  9, 17, 15, 12,\n",
              "              19, 11, 13])                                                       ,\n",
              "       array([14,  7,  1,  4, 16, 10,  0,  2, 11,  8, 15, 14,  5,  2,  1, 12, 19,\n",
              "               9,  7,  0])                                                       ,\n",
              "       array([16,  6, 15,  1,  0, 11,  2,  8, 13,  3,  7,  8,  5, 14,  9, 11, 13,\n",
              "               6,  2, 16])                                                       ,\n",
              "       array([ 5,  2,  1, 15, 16,  6,  3,  7, 18, 13,  1,  4,  7,  5,  9, 18,  6,\n",
              "              14,  2, 17])                                                       ,\n",
              "       array([16,  0,  4, 12,  2,  5, 17, 10, 13, 19, 14, 10,  9,  3,  2, 15, 13,\n",
              "               5,  7, 17])                                                       ,\n",
              "       array([12,  6, 16,  0, 18, 14, 17, 15, 19,  4, 17,  8,  4, 16, 18, 14, 10,\n",
              "               0, 19,  5])                                                       ,\n",
              "       array([14, 19,  5,  8,  4, 10, 11, 12, 18,  6,  9, 15,  2, 18,  6, 14,  1,\n",
              "              13, 19, 17])                                                       ,\n",
              "       array([ 3, 19,  6, 17, 12, 14,  7, 15, 16,  2, 16,  0,  5, 12, 18,  1,  2,\n",
              "               7, 10, 13])                                                       ,\n",
              "       array([ 2, 17, 10,  4, 13,  1,  5, 18, 15, 19,  0,  2,  9, 17,  7,  4, 18,\n",
              "              11, 19,  8])                                                       ,\n",
              "       array([15,  5, 18, 11,  3,  6,  7, 10,  1,  4, 14, 13,  7, 10,  2,  8,  3,\n",
              "               1, 19,  4])                                                       ,\n",
              "       array([17, 15, 11, 13,  6,  7,  4,  2,  1,  0,  8, 18, 13,  5, 10,  1,  3,\n",
              "               4, 19, 16])                                                       ,\n",
              "       array([ 8, 11, 17, 12,  0,  5,  6,  1,  4, 16, 19,  1,  5,  8, 13,  4, 10,\n",
              "              16, 17, 12])                                                       ,\n",
              "       array([ 5,  4, 19, 10,  2, 14,  3,  7,  9, 18, 17, 12,  0, 19, 18,  7, 14,\n",
              "              11,  3, 10])                                                       ,\n",
              "       array([16,  2, 14,  7, 15, 13,  0,  8, 12, 17,  7, 15,  9,  2,  0, 12, 10,\n",
              "               5,  4,  6])                                                       ,\n",
              "       array([ 8, 10,  0, 12, 17, 13,  4, 18,  1, 19,  9, 19, 11,  8, 15,  5, 16,\n",
              "               1,  4, 18])                                                       ,\n",
              "       array([12,  7, 18,  5, 16,  1,  6, 14,  2,  0,  8,  2, 14,  7,  0, 16, 11,\n",
              "              19, 18, 12])                                                       ,\n",
              "       array([ 7,  4, 18, 15,  0,  3, 12, 14, 16,  6, 18, 12, 13, 11, 14,  5,  4,\n",
              "               1,  7,  0])                                                       ,\n",
              "       array([ 8,  7,  5,  4, 14,  6,  3, 19,  0, 10, 15,  3,  2, 17, 14,  9,  6,\n",
              "              19,  0,  1])                                                       ,\n",
              "       array([16,  8, 13, 11, 15,  9,  6, 12,  1, 19,  6, 11, 17,  8,  5,  0,  7,\n",
              "              13, 18,  4])                                                       ,\n",
              "       array([18, 16, 14,  0, 15,  9, 13, 17,  8,  4,  1, 13,  5,  7, 19, 18,  4,\n",
              "              11, 14, 15])                                                       ,\n",
              "       array([16,  7,  0,  8, 19,  3,  9,  2, 13, 17, 15, 11,  5, 10, 14,  3, 16,\n",
              "               2, 12,  4])                                                       ,\n",
              "       array([16,  3, 19,  5,  0, 18, 15,  6,  7,  1,  8,  3,  7,  4,  5, 17, 16,\n",
              "              15, 18, 14])                                                       ],\n",
              "      dtype=object)"
            ]
          },
          "metadata": {},
          "execution_count": 26
        }
      ],
      "source": [
        "X"
      ]
    },
    {
      "cell_type": "code",
      "execution_count": null,
      "metadata": {
        "id": "XCD8HAnK9vEv",
        "colab": {
          "base_uri": "https://localhost:8080/"
        },
        "outputId": "5177b1e0-30e2-475d-a17c-06a42342d260"
      },
      "outputs": [
        {
          "output_type": "execute_result",
          "data": {
            "text/plain": [
              "array([16,  0,  7,  1, 19,  6,  2, 13, 15,  8, 19,  5,  6, 17, 15,  8, 10,\n",
              "        4, 18,  9])"
            ]
          },
          "metadata": {},
          "execution_count": 27
        }
      ],
      "source": [
        "X[0]"
      ]
    },
    {
      "cell_type": "code",
      "execution_count": null,
      "metadata": {
        "id": "-XTKIBu3_OkM"
      },
      "outputs": [],
      "source": [
        "X = np.array([np.array(xi) for xi in X])\n",
        "# prompt: convert X to a new shape of (1000,6)\n",
        "\n",
        "X = X.reshape(1000, 20)"
      ]
    },
    {
      "cell_type": "code",
      "execution_count": null,
      "metadata": {
        "id": "mL8nWEV__RgZ",
        "colab": {
          "base_uri": "https://localhost:8080/"
        },
        "outputId": "39d4aa0f-7ecc-41f2-9bd4-f74c4c034304"
      },
      "outputs": [
        {
          "output_type": "execute_result",
          "data": {
            "text/plain": [
              "(1000, 20)"
            ]
          },
          "metadata": {},
          "execution_count": 29
        }
      ],
      "source": [
        "X.shape"
      ]
    },
    {
      "cell_type": "code",
      "execution_count": null,
      "metadata": {
        "id": "4GprHvxv-s8u"
      },
      "outputs": [],
      "source": [
        "# prompt: load the df[\"outcome\"] into y\n",
        "\n",
        "y = df[\"outcome\"].values"
      ]
    },
    {
      "cell_type": "code",
      "execution_count": null,
      "metadata": {
        "id": "4x45XxV5-yMD",
        "colab": {
          "base_uri": "https://localhost:8080/"
        },
        "outputId": "575118b8-e961-4903-9a85-4f0995e38637"
      },
      "outputs": [
        {
          "output_type": "execute_result",
          "data": {
            "text/plain": [
              "array([1, 2, 2, 1, 2, 1, 2, 1, 2, 1, 2, 1, 1, 1, 2, 1, 2, 1, 2, 1, 1, 2,\n",
              "       1, 2, 1, 1, 1, 2, 2, 2, 1, 1, 2, 2, 1, 1, 1, 1, 2, 1, 2, 1, 2, 2,\n",
              "       1, 1, 1, 2, 1, 2, 1, 1, 1, 1, 2, 2, 1, 2, 1, 1, 1, 1, 1, 1, 1, 2,\n",
              "       2, 2, 2, 2, 2, 2, 1, 1, 1, 2, 1, 1, 1, 1, 1, 1, 1, 2, 2, 1, 2, 1,\n",
              "       1, 2, 1, 1, 2, 1, 1, 1, 2, 2, 1, 1, 2, 1, 2, 1, 2, 1, 2, 2, 2, 2,\n",
              "       2, 1, 1, 2, 1, 2, 1, 1, 1, 1, 1, 2, 1, 2, 2, 1, 1, 1, 2, 2, 2, 2,\n",
              "       2, 2, 1, 2, 1, 1, 1, 2, 2, 1, 2, 2, 2, 2, 2, 1, 1, 1, 1, 2, 2, 2,\n",
              "       2, 1, 2, 2, 2, 1, 1, 1, 1, 2, 1, 2, 2, 1, 1, 1, 1, 2, 2, 1, 2, 1,\n",
              "       1, 1, 2, 1, 2, 2, 1, 2, 1, 2, 1, 1, 1, 2, 1, 1, 1, 2, 1, 1, 1, 2,\n",
              "       1, 2, 2, 2, 2, 2, 1, 2, 2, 2, 2, 1, 1, 1, 1, 2, 1, 2, 1, 2, 2, 1,\n",
              "       2, 1, 1, 1, 2, 2, 2, 2, 2, 1, 2, 2, 2, 1, 2, 2, 1, 2, 2, 1, 1, 2,\n",
              "       1, 2, 1, 2, 1, 1, 2, 2, 1, 2, 1, 1, 2, 2, 1, 1, 2, 1, 2, 2, 2, 2,\n",
              "       1, 2, 1, 2, 2, 1, 1, 1, 2, 2, 2, 2, 1, 1, 2, 2, 2, 1, 2, 1, 2, 1,\n",
              "       1, 1, 1, 1, 2, 2, 1, 1, 1, 2, 2, 1, 2, 2, 1, 1, 1, 1, 1, 2, 2, 2,\n",
              "       1, 1, 1, 2, 1, 1, 1, 2, 2, 1, 2, 1, 2, 1, 1, 1, 1, 1, 1, 2, 2, 1,\n",
              "       1, 1, 1, 1, 1, 2, 1, 2, 1, 2, 1, 1, 1, 1, 2, 1, 2, 2, 1, 1, 2, 1,\n",
              "       2, 1, 2, 1, 2, 2, 1, 2, 1, 2, 1, 2, 2, 2, 1, 1, 2, 1, 1, 1, 1, 1,\n",
              "       1, 2, 2, 1, 1, 1, 1, 1, 1, 2, 1, 1, 1, 2, 1, 1, 1, 1, 1, 1, 1, 2,\n",
              "       2, 1, 2, 1, 2, 1, 2, 1, 2, 1, 1, 1, 2, 2, 1, 2, 2, 2, 1, 2, 2, 2,\n",
              "       2, 2, 1, 2, 1, 1, 2, 2, 1, 1, 2, 2, 2, 1, 1, 2, 2, 2, 2, 2, 2, 2,\n",
              "       1, 2, 1, 2, 2, 2, 1, 1, 2, 2, 1, 1, 2, 2, 1, 1, 1, 1, 1, 2, 2, 2,\n",
              "       2, 1, 2, 1, 2, 1, 2, 1, 2, 1, 1, 1, 1, 1, 2, 1, 2, 2, 2, 2, 2, 1,\n",
              "       1, 2, 1, 1, 1, 2, 2, 1, 2, 1, 1, 2, 1, 2, 1, 1, 1, 2, 2, 2, 1, 1,\n",
              "       1, 1, 1, 1, 1, 2, 2, 1, 1, 1, 1, 1, 2, 2, 2, 1, 1, 2, 2, 1, 2, 2,\n",
              "       1, 2, 2, 1, 1, 2, 1, 1, 2, 1, 2, 1, 1, 2, 1, 1, 1, 2, 2, 1, 2, 1,\n",
              "       2, 1, 1, 2, 2, 1, 2, 1, 1, 2, 1, 1, 2, 1, 2, 2, 1, 2, 1, 1, 1, 2,\n",
              "       1, 2, 2, 1, 2, 2, 1, 2, 2, 2, 2, 1, 2, 2, 1, 1, 2, 1, 2, 1, 1, 2,\n",
              "       1, 1, 1, 2, 2, 2, 2, 1, 2, 1, 2, 1, 2, 1, 2, 2, 2, 1, 2, 1, 2, 2,\n",
              "       1, 2, 2, 1, 2, 2, 1, 2, 2, 1, 2, 2, 2, 2, 1, 1, 2, 1, 2, 2, 2, 1,\n",
              "       1, 1, 2, 2, 1, 1, 1, 1, 1, 2, 1, 2, 2, 2, 2, 1, 2, 1, 2, 1, 2, 1,\n",
              "       1, 2, 1, 2, 1, 1, 1, 2, 1, 1, 2, 2, 2, 1, 1, 2, 2, 2, 1, 1, 2, 1,\n",
              "       1, 1, 1, 2, 2, 1, 1, 1, 1, 2, 2, 2, 2, 1, 2, 2, 1, 2, 1, 2, 2, 1,\n",
              "       1, 2, 2, 2, 1, 1, 1, 2, 2, 2, 2, 1, 2, 1, 2, 1, 1, 2, 1, 1, 1, 1,\n",
              "       1, 1, 2, 1, 1, 2, 1, 1, 1, 2, 1, 1, 2, 2, 2, 1, 1, 1, 2, 1, 2, 1,\n",
              "       1, 1, 2, 2, 1, 2, 2, 2, 2, 2, 1, 1, 1, 1, 1, 1, 1, 1, 1, 1, 2, 1,\n",
              "       2, 1, 1, 1, 2, 1, 2, 1, 2, 2, 2, 2, 1, 1, 2, 2, 2, 1, 1, 1, 1, 1,\n",
              "       1, 1, 2, 2, 1, 1, 1, 2, 1, 1, 1, 2, 2, 1, 1, 2, 1, 2, 2, 1, 2, 2,\n",
              "       1, 1, 1, 1, 1, 2, 2, 2, 1, 2, 1, 1, 2, 1, 2, 1, 1, 2, 2, 1, 2, 1,\n",
              "       2, 1, 2, 1, 1, 2, 2, 2, 2, 1, 2, 2, 1, 2, 1, 2, 1, 1, 1, 1, 2, 1,\n",
              "       1, 1, 2, 2, 1, 1, 2, 1, 2, 1, 1, 2, 2, 1, 2, 2, 1, 1, 2, 2, 2, 1,\n",
              "       1, 1, 2, 1, 1, 2, 1, 1, 2, 2, 2, 2, 2, 1, 2, 2, 2, 1, 1, 1, 1, 1,\n",
              "       2, 2, 1, 2, 2, 1, 2, 2, 1, 1, 2, 1, 1, 2, 2, 1, 2, 2, 2, 2, 2, 2,\n",
              "       2, 1, 1, 1, 2, 2, 1, 2, 1, 1, 1, 2, 1, 1, 1, 1, 1, 2, 1, 2, 2, 2,\n",
              "       2, 2, 2, 1, 1, 1, 2, 1, 2, 2, 1, 1, 2, 2, 1, 2, 1, 2, 1, 1, 2, 2,\n",
              "       1, 2, 2, 1, 1, 2, 1, 1, 1, 2, 1, 1, 1, 1, 2, 2, 2, 2, 1, 1, 2, 1,\n",
              "       2, 1, 1, 1, 2, 1, 2, 2, 1, 1])"
            ]
          },
          "metadata": {},
          "execution_count": 31
        }
      ],
      "source": [
        "y"
      ]
    },
    {
      "cell_type": "code",
      "execution_count": null,
      "metadata": {
        "id": "9mtULnKW-3a5"
      },
      "outputs": [],
      "source": [
        "y = y -1"
      ]
    },
    {
      "cell_type": "code",
      "execution_count": null,
      "metadata": {
        "id": "Tzho2gAi-5C8",
        "colab": {
          "base_uri": "https://localhost:8080/"
        },
        "outputId": "45c34e7e-f743-4981-97ee-603beb28ef05"
      },
      "outputs": [
        {
          "output_type": "execute_result",
          "data": {
            "text/plain": [
              "array([0, 1, 1, 0, 1, 0, 1, 0, 1, 0, 1, 0, 0, 0, 1, 0, 1, 0, 1, 0, 0, 1,\n",
              "       0, 1, 0, 0, 0, 1, 1, 1, 0, 0, 1, 1, 0, 0, 0, 0, 1, 0, 1, 0, 1, 1,\n",
              "       0, 0, 0, 1, 0, 1, 0, 0, 0, 0, 1, 1, 0, 1, 0, 0, 0, 0, 0, 0, 0, 1,\n",
              "       1, 1, 1, 1, 1, 1, 0, 0, 0, 1, 0, 0, 0, 0, 0, 0, 0, 1, 1, 0, 1, 0,\n",
              "       0, 1, 0, 0, 1, 0, 0, 0, 1, 1, 0, 0, 1, 0, 1, 0, 1, 0, 1, 1, 1, 1,\n",
              "       1, 0, 0, 1, 0, 1, 0, 0, 0, 0, 0, 1, 0, 1, 1, 0, 0, 0, 1, 1, 1, 1,\n",
              "       1, 1, 0, 1, 0, 0, 0, 1, 1, 0, 1, 1, 1, 1, 1, 0, 0, 0, 0, 1, 1, 1,\n",
              "       1, 0, 1, 1, 1, 0, 0, 0, 0, 1, 0, 1, 1, 0, 0, 0, 0, 1, 1, 0, 1, 0,\n",
              "       0, 0, 1, 0, 1, 1, 0, 1, 0, 1, 0, 0, 0, 1, 0, 0, 0, 1, 0, 0, 0, 1,\n",
              "       0, 1, 1, 1, 1, 1, 0, 1, 1, 1, 1, 0, 0, 0, 0, 1, 0, 1, 0, 1, 1, 0,\n",
              "       1, 0, 0, 0, 1, 1, 1, 1, 1, 0, 1, 1, 1, 0, 1, 1, 0, 1, 1, 0, 0, 1,\n",
              "       0, 1, 0, 1, 0, 0, 1, 1, 0, 1, 0, 0, 1, 1, 0, 0, 1, 0, 1, 1, 1, 1,\n",
              "       0, 1, 0, 1, 1, 0, 0, 0, 1, 1, 1, 1, 0, 0, 1, 1, 1, 0, 1, 0, 1, 0,\n",
              "       0, 0, 0, 0, 1, 1, 0, 0, 0, 1, 1, 0, 1, 1, 0, 0, 0, 0, 0, 1, 1, 1,\n",
              "       0, 0, 0, 1, 0, 0, 0, 1, 1, 0, 1, 0, 1, 0, 0, 0, 0, 0, 0, 1, 1, 0,\n",
              "       0, 0, 0, 0, 0, 1, 0, 1, 0, 1, 0, 0, 0, 0, 1, 0, 1, 1, 0, 0, 1, 0,\n",
              "       1, 0, 1, 0, 1, 1, 0, 1, 0, 1, 0, 1, 1, 1, 0, 0, 1, 0, 0, 0, 0, 0,\n",
              "       0, 1, 1, 0, 0, 0, 0, 0, 0, 1, 0, 0, 0, 1, 0, 0, 0, 0, 0, 0, 0, 1,\n",
              "       1, 0, 1, 0, 1, 0, 1, 0, 1, 0, 0, 0, 1, 1, 0, 1, 1, 1, 0, 1, 1, 1,\n",
              "       1, 1, 0, 1, 0, 0, 1, 1, 0, 0, 1, 1, 1, 0, 0, 1, 1, 1, 1, 1, 1, 1,\n",
              "       0, 1, 0, 1, 1, 1, 0, 0, 1, 1, 0, 0, 1, 1, 0, 0, 0, 0, 0, 1, 1, 1,\n",
              "       1, 0, 1, 0, 1, 0, 1, 0, 1, 0, 0, 0, 0, 0, 1, 0, 1, 1, 1, 1, 1, 0,\n",
              "       0, 1, 0, 0, 0, 1, 1, 0, 1, 0, 0, 1, 0, 1, 0, 0, 0, 1, 1, 1, 0, 0,\n",
              "       0, 0, 0, 0, 0, 1, 1, 0, 0, 0, 0, 0, 1, 1, 1, 0, 0, 1, 1, 0, 1, 1,\n",
              "       0, 1, 1, 0, 0, 1, 0, 0, 1, 0, 1, 0, 0, 1, 0, 0, 0, 1, 1, 0, 1, 0,\n",
              "       1, 0, 0, 1, 1, 0, 1, 0, 0, 1, 0, 0, 1, 0, 1, 1, 0, 1, 0, 0, 0, 1,\n",
              "       0, 1, 1, 0, 1, 1, 0, 1, 1, 1, 1, 0, 1, 1, 0, 0, 1, 0, 1, 0, 0, 1,\n",
              "       0, 0, 0, 1, 1, 1, 1, 0, 1, 0, 1, 0, 1, 0, 1, 1, 1, 0, 1, 0, 1, 1,\n",
              "       0, 1, 1, 0, 1, 1, 0, 1, 1, 0, 1, 1, 1, 1, 0, 0, 1, 0, 1, 1, 1, 0,\n",
              "       0, 0, 1, 1, 0, 0, 0, 0, 0, 1, 0, 1, 1, 1, 1, 0, 1, 0, 1, 0, 1, 0,\n",
              "       0, 1, 0, 1, 0, 0, 0, 1, 0, 0, 1, 1, 1, 0, 0, 1, 1, 1, 0, 0, 1, 0,\n",
              "       0, 0, 0, 1, 1, 0, 0, 0, 0, 1, 1, 1, 1, 0, 1, 1, 0, 1, 0, 1, 1, 0,\n",
              "       0, 1, 1, 1, 0, 0, 0, 1, 1, 1, 1, 0, 1, 0, 1, 0, 0, 1, 0, 0, 0, 0,\n",
              "       0, 0, 1, 0, 0, 1, 0, 0, 0, 1, 0, 0, 1, 1, 1, 0, 0, 0, 1, 0, 1, 0,\n",
              "       0, 0, 1, 1, 0, 1, 1, 1, 1, 1, 0, 0, 0, 0, 0, 0, 0, 0, 0, 0, 1, 0,\n",
              "       1, 0, 0, 0, 1, 0, 1, 0, 1, 1, 1, 1, 0, 0, 1, 1, 1, 0, 0, 0, 0, 0,\n",
              "       0, 0, 1, 1, 0, 0, 0, 1, 0, 0, 0, 1, 1, 0, 0, 1, 0, 1, 1, 0, 1, 1,\n",
              "       0, 0, 0, 0, 0, 1, 1, 1, 0, 1, 0, 0, 1, 0, 1, 0, 0, 1, 1, 0, 1, 0,\n",
              "       1, 0, 1, 0, 0, 1, 1, 1, 1, 0, 1, 1, 0, 1, 0, 1, 0, 0, 0, 0, 1, 0,\n",
              "       0, 0, 1, 1, 0, 0, 1, 0, 1, 0, 0, 1, 1, 0, 1, 1, 0, 0, 1, 1, 1, 0,\n",
              "       0, 0, 1, 0, 0, 1, 0, 0, 1, 1, 1, 1, 1, 0, 1, 1, 1, 0, 0, 0, 0, 0,\n",
              "       1, 1, 0, 1, 1, 0, 1, 1, 0, 0, 1, 0, 0, 1, 1, 0, 1, 1, 1, 1, 1, 1,\n",
              "       1, 0, 0, 0, 1, 1, 0, 1, 0, 0, 0, 1, 0, 0, 0, 0, 0, 1, 0, 1, 1, 1,\n",
              "       1, 1, 1, 0, 0, 0, 1, 0, 1, 1, 0, 0, 1, 1, 0, 1, 0, 1, 0, 0, 1, 1,\n",
              "       0, 1, 1, 0, 0, 1, 0, 0, 0, 1, 0, 0, 0, 0, 1, 1, 1, 1, 0, 0, 1, 0,\n",
              "       1, 0, 0, 0, 1, 0, 1, 1, 0, 0])"
            ]
          },
          "metadata": {},
          "execution_count": 33
        }
      ],
      "source": [
        "y"
      ]
    },
    {
      "cell_type": "code",
      "execution_count": null,
      "metadata": {
        "id": "nhBQQqW5Fuub",
        "colab": {
          "base_uri": "https://localhost:8080/"
        },
        "outputId": "fae952ea-10ea-4481-8467-25c5efab676b"
      },
      "outputs": [
        {
          "output_type": "execute_result",
          "data": {
            "text/plain": [
              "(1000,)"
            ]
          },
          "metadata": {},
          "execution_count": 34
        }
      ],
      "source": [
        "y.shape"
      ]
    },
    {
      "cell_type": "markdown",
      "metadata": {
        "id": "alES9fgYG0oi"
      },
      "source": [
        "#Preprocessing (SHARED)"
      ]
    },
    {
      "cell_type": "markdown",
      "metadata": {
        "id": "oEspMvNn0riM"
      },
      "source": [
        "##Downsampling"
      ]
    },
    {
      "cell_type": "code",
      "execution_count": 94,
      "metadata": {
        "colab": {
          "base_uri": "https://localhost:8080/"
        },
        "id": "nRF0PrtSjQPM",
        "outputId": "a61d0746-c045-4714-b48c-dd574fa7036e"
      },
      "outputs": [
        {
          "output_type": "stream",
          "name": "stdout",
          "text": [
            "Counter({1.0: 82890, 0.0: 78174})\n",
            "161064\n"
          ]
        }
      ],
      "source": [
        "# prompt: get the count of different y values\n",
        "\n",
        "import collections\n",
        "y = torch.tensor(y)\n",
        "y_values = y.flatten().tolist()\n",
        "counter = collections.Counter(y_values)\n",
        "\n",
        "print(counter)\n",
        "print(counter[1]+ counter[0])"
      ]
    },
    {
      "cell_type": "code",
      "execution_count": 95,
      "metadata": {
        "colab": {
          "base_uri": "https://localhost:8080/"
        },
        "collapsed": true,
        "id": "ya2mjJA1aOpK",
        "outputId": "6fdd5531-930e-4ea1-bef1-8f2a8cbb8626"
      },
      "outputs": [
        {
          "output_type": "execute_result",
          "data": {
            "text/plain": [
              "array([[ 19., 267., 119., ..., 103., 222., 161.],\n",
              "       [115.,  69., 157., ..., 134.,  43.,  19.],\n",
              "       [119.,  40.,  99., ...,  51., 267.,  29.],\n",
              "       ...,\n",
              "       [ 35.,  67., 163., ...,  81.,  37.,  28.],\n",
              "       [103.,  40., 126., ...,   4., 202., 412.],\n",
              "       [114., 202., 432., ...,  57.,  32.,  37.]])"
            ]
          },
          "metadata": {},
          "execution_count": 95
        }
      ],
      "source": [
        "X"
      ]
    },
    {
      "cell_type": "code",
      "execution_count": 96,
      "metadata": {
        "colab": {
          "base_uri": "https://localhost:8080/"
        },
        "id": "kcaJH5yZjkK1",
        "outputId": "33c4553b-2b17-4101-8d30-784f7787060c"
      },
      "outputs": [
        {
          "output_type": "stream",
          "name": "stdout",
          "text": [
            "Counter({0.0: 78174, 1.0: 78174})\n"
          ]
        }
      ],
      "source": [
        "# prompt: downsample y so the labels are the same amount\n",
        "\n",
        "from imblearn.under_sampling import RandomUnderSampler\n",
        "##TODO:: is this a valid thing to do?\n",
        "rus = RandomUnderSampler(sampling_strategy='majority')\n",
        "\n",
        "X_train_resampled, y_train_resampled = rus.fit_resample(X, y_values)\n",
        "\n",
        "y_values = y_train_resampled\n",
        "counter = collections.Counter(y_values)\n",
        "X = X_train_resampled\n",
        "print(counter)\n"
      ]
    },
    {
      "cell_type": "code",
      "execution_count": null,
      "metadata": {
        "id": "b9JdC7FnyrPH"
      },
      "outputs": [],
      "source": [
        "# from collections import Counter\n",
        "# from imblearn.over_sampling import RandomOverSampler\n",
        "# over_sampler = RandomOverSampler(random_state=42)\n",
        "# X_res, y_res = over_sampler.fit_resample(X, true_y)\n",
        "# print(f\"Training target statistics: {Counter(y_res)}\")\n",
        "# print(f\"Testing target statistics: {Counter(true_y)}\")"
      ]
    },
    {
      "cell_type": "markdown",
      "metadata": {
        "id": "z6cX7IS3dWSN"
      },
      "source": [
        "## Label Encoding X"
      ]
    },
    {
      "cell_type": "code",
      "execution_count": 97,
      "metadata": {
        "id": "_kqqn6UxdU5P"
      },
      "outputs": [],
      "source": [
        "# Import LabelEncoder\n",
        "from sklearn.preprocessing import LabelEncoder\n",
        "\n",
        "# Flatten the X to fit LabelEncoder\n",
        "flattened_data = [item for sublist in X for item in sublist]\n",
        "# Convert string categories to integer indices\n",
        "encoder = LabelEncoder()\n",
        "integer_encoded = encoder.fit_transform(flattened_data)\n",
        "\n",
        "# Reshape back to the original structure\n",
        "num_rows = len(X)\n",
        "num_columns = len(X[0])\n",
        "integer_encoded = np.array(integer_encoded).reshape(num_rows, num_columns)\n",
        "\n",
        "X = integer_encoded\n",
        "true_y = np.array(y_values)"
      ]
    },
    {
      "cell_type": "code",
      "execution_count": 98,
      "metadata": {
        "colab": {
          "base_uri": "https://localhost:8080/"
        },
        "id": "WTwYtxMBTlWz",
        "outputId": "7bdbd219-e8a2-4983-f041-bb95a8bbe111"
      },
      "outputs": [
        {
          "output_type": "execute_result",
          "data": {
            "text/plain": [
              "array([ 18, 126,  98,  95,  93,  63,   2,  86, 118, 112])"
            ]
          },
          "metadata": {},
          "execution_count": 98
        }
      ],
      "source": [
        "X[0]"
      ]
    },
    {
      "cell_type": "code",
      "execution_count": 99,
      "metadata": {
        "colab": {
          "base_uri": "https://localhost:8080/"
        },
        "id": "lraVPndqY2X3",
        "outputId": "53323159-f845-4780-fccb-c32835a1afc8"
      },
      "outputs": [
        {
          "output_type": "execute_result",
          "data": {
            "text/plain": [
              "array([ 96,  62, 111,   3,  27,  47,  57, 106,  42,  18])"
            ]
          },
          "metadata": {},
          "execution_count": 99
        }
      ],
      "source": [
        "X[1]"
      ]
    },
    {
      "cell_type": "code",
      "execution_count": 100,
      "metadata": {
        "colab": {
          "base_uri": "https://localhost:8080/"
        },
        "id": "fVYtsODHWQ-v",
        "outputId": "4a34a88e-fdc0-4b88-c784-110dde4d8376"
      },
      "outputs": [
        {
          "output_type": "execute_result",
          "data": {
            "text/plain": [
              "array([ 19., 267., 119., 114., 112.,  72.,   3., 103., 222., 161.])"
            ]
          },
          "metadata": {},
          "execution_count": 100
        }
      ],
      "source": [
        "encoder.inverse_transform(X[0])"
      ]
    },
    {
      "cell_type": "code",
      "execution_count": 101,
      "metadata": {
        "colab": {
          "base_uri": "https://localhost:8080/"
        },
        "id": "gPI0ZUhVY7c3",
        "outputId": "b9075035-5cbf-47ab-d944-3fa362bb82fd"
      },
      "outputs": [
        {
          "output_type": "execute_result",
          "data": {
            "text/plain": [
              "array([115.,  69., 157.,   4.,  28.,  51.,  62., 134.,  43.,  19.])"
            ]
          },
          "metadata": {},
          "execution_count": 101
        }
      ],
      "source": [
        "encoder.inverse_transform(X[1])"
      ]
    },
    {
      "cell_type": "code",
      "execution_count": 102,
      "metadata": {
        "colab": {
          "base_uri": "https://localhost:8080/"
        },
        "id": "iq9wGSgKf370",
        "outputId": "cd7ab8b0-7d91-4790-95c2-e41e34029443"
      },
      "outputs": [
        {
          "output_type": "stream",
          "name": "stdout",
          "text": [
            "[  0   1   2   3   4   5   6   7   8   9  10  11  12  13  14  15  16  17\n",
            "  18  19  20  21  22  23  24  25  26  27  28  29  30  31  32  33  34  35\n",
            "  36  37  38  39  40  41  42  43  44  45  46  47  48  49  50  51  52  53\n",
            "  54  55  56  57  58  59  60  61  62  63  64  65  66  67  68  69  70  71\n",
            "  72  73  74  75  76  77  78  79  80  81  82  83  84  85  86  87  88  89\n",
            "  90  91  92  93  94  95  96  97  98  99 100 101 102 103 104 105 106 107\n",
            " 108 109 110 111 112 113 114 115 116 117 118 119 120 121 122 123 124 125\n",
            " 126 127 128 129 130 131 132 133 134 135]\n"
          ]
        }
      ],
      "source": [
        "# prompt: get unique values of X\n",
        "\n",
        "unique_values_in_X = np.unique(X)\n",
        "print(unique_values_in_X)\n"
      ]
    },
    {
      "cell_type": "code",
      "execution_count": 103,
      "metadata": {
        "colab": {
          "base_uri": "https://localhost:8080/"
        },
        "id": "0gAttjduheYR",
        "outputId": "8c7a0509-fd56-459f-ec3c-69f50b09bfc5"
      },
      "outputs": [
        {
          "output_type": "stream",
          "name": "stdout",
          "text": [
            "136\n"
          ]
        }
      ],
      "source": [
        "print(len(unique_values_in_X))"
      ]
    },
    {
      "cell_type": "code",
      "execution_count": 104,
      "metadata": {
        "id": "AVy5Rz4j3UMu"
      },
      "outputs": [],
      "source": [
        "# prompt: convert X_res to tensor\n",
        "\n",
        "X_res = torch.tensor(X)\n",
        "y_res = torch.tensor(true_y, dtype=torch.float32)"
      ]
    },
    {
      "cell_type": "code",
      "execution_count": 105,
      "metadata": {
        "id": "LHJBrj9i3cfU"
      },
      "outputs": [],
      "source": [
        "X = X_res\n",
        "y = y_res"
      ]
    },
    {
      "cell_type": "code",
      "execution_count": 106,
      "metadata": {
        "colab": {
          "base_uri": "https://localhost:8080/"
        },
        "id": "LqwECmjWqpyC",
        "outputId": "6bc2b5e2-0568-4922-ed85-50e6f81b6702"
      },
      "outputs": [
        {
          "output_type": "execute_result",
          "data": {
            "text/plain": [
              "torch.Size([156348, 10])"
            ]
          },
          "metadata": {},
          "execution_count": 106
        }
      ],
      "source": [
        "X.shape"
      ]
    },
    {
      "cell_type": "code",
      "execution_count": 107,
      "metadata": {
        "colab": {
          "base_uri": "https://localhost:8080/"
        },
        "id": "OqtT4dUNqq9Q",
        "outputId": "6ac993ae-0160-4e34-bec2-b62dd54cb2cf"
      },
      "outputs": [
        {
          "output_type": "execute_result",
          "data": {
            "text/plain": [
              "torch.Size([156348])"
            ]
          },
          "metadata": {},
          "execution_count": 107
        }
      ],
      "source": [
        "y.shape"
      ]
    },
    {
      "cell_type": "markdown",
      "metadata": {
        "id": "O5Brvnqd2RT1"
      },
      "source": [
        "If oversampling, we have 18072 samples in total\n",
        "If undersampling, we have 10360 samples in total\n",
        "\n",
        "Here for better reliability in data, we chose undersampling."
      ]
    },
    {
      "cell_type": "code",
      "execution_count": 108,
      "metadata": {
        "id": "biMR8NfpgqrP"
      },
      "outputs": [],
      "source": [
        "# prompt: A function that checks whether two rows of X share the same values, but maybe in different order\n",
        "\n",
        "def rows_have_same_elements_unordered(row1, row2):\n",
        "  \"\"\"Checks if two rows have the same two teams, regardless of order.\n",
        "\n",
        "  Args:\n",
        "    row1: The first row (list or array).\n",
        "    row2: The second row (list or array).\n",
        "\n",
        "  Returns:\n",
        "    True if the rows have the same two teams, False otherwise.\n",
        "  \"\"\"\n",
        "  return  sorted(row1[0:6]) == sorted(row2[0:6]) and sorted(row1[6:]) == sorted(row2[6:])\n"
      ]
    },
    {
      "cell_type": "code",
      "execution_count": null,
      "metadata": {
        "id": "5lk1tKWTerbX"
      },
      "outputs": [],
      "source": [
        "# prompt: check on rows in X with identical values\n",
        "\n",
        "# import numpy as np\n",
        "\n",
        "# # Find rows with x where rows_have_same_elements_unordered is true\n",
        "# matching_rows = []\n",
        "# for i in range(len(X)):\n",
        "#   for j in range(i+1, len(X)):\n",
        "#     if rows_have_same_elements_unordered(X[i], X[j]):\n",
        "#       matching_rows.append((i, j))\n",
        "\n",
        "# # Print the matching rows\n",
        "# for row in matching_rows:\n",
        "#   print(row)\n"
      ]
    },
    {
      "cell_type": "code",
      "execution_count": null,
      "metadata": {
        "id": "f3FmLB4JkELO"
      },
      "outputs": [],
      "source": [
        "# matching_rows"
      ]
    },
    {
      "cell_type": "markdown",
      "metadata": {
        "id": "qfa3ElBgdm9n"
      },
      "source": [
        "## Inspection"
      ]
    },
    {
      "cell_type": "code",
      "execution_count": 109,
      "metadata": {
        "colab": {
          "base_uri": "https://localhost:8080/"
        },
        "id": "q-xiniCQkFGN",
        "outputId": "c4d3341d-bcfa-45e9-92e1-dd8e0eb76037"
      },
      "outputs": [
        {
          "output_type": "execute_result",
          "data": {
            "text/plain": [
              "tensor([  6, 118,  18,  68, 121,  17,  69,  10, 134, 103])"
            ]
          },
          "metadata": {},
          "execution_count": 109
        }
      ],
      "source": [
        "X[3]"
      ]
    },
    {
      "cell_type": "code",
      "execution_count": 110,
      "metadata": {
        "colab": {
          "base_uri": "https://localhost:8080/"
        },
        "id": "qis5sXAakGfO",
        "outputId": "30f23ae8-0275-412a-bf2c-df8685e08350"
      },
      "outputs": [
        {
          "output_type": "execute_result",
          "data": {
            "text/plain": [
              "tensor([112,   3, 105, 101,  47,  86,  60, 128, 100,  80])"
            ]
          },
          "metadata": {},
          "execution_count": 110
        }
      ],
      "source": [
        "X[167]"
      ]
    },
    {
      "cell_type": "code",
      "execution_count": null,
      "metadata": {
        "id": "oHJYVMnck2jV"
      },
      "outputs": [],
      "source": [
        "##TODO\n",
        "## take out those rows, sum them up in y"
      ]
    },
    {
      "cell_type": "code",
      "execution_count": 111,
      "metadata": {
        "id": "31UaxDbakrqd"
      },
      "outputs": [],
      "source": [
        "\n",
        "# save the X so we don't have to recompute it every time\n",
        "torch.save(X, colab_folder_path + data_file_name_X)\n",
        "# save the y so we don't have to recompute it every time\n",
        "torch.save(y, colab_folder_path + data_file_name_y)"
      ]
    },
    {
      "cell_type": "code",
      "execution_count": 112,
      "metadata": {
        "colab": {
          "base_uri": "https://localhost:8080/"
        },
        "id": "IrdxEY6Q7UL1",
        "outputId": "bc072696-894a-4bad-9bc2-bb41ec5d7e3d"
      },
      "outputs": [
        {
          "output_type": "execute_result",
          "data": {
            "text/plain": [
              "['/content/gdrive/MyDrive/NBAlol_encoder.joblib']"
            ]
          },
          "metadata": {},
          "execution_count": 112
        }
      ],
      "source": [
        "# prompt: save the encoder\n",
        "\n",
        "import joblib\n",
        "\n",
        "# Assuming 'encoder' is your LabelEncoder object\n",
        "joblib.dump(encoder, colab_folder_path + encoder_name)"
      ]
    },
    {
      "cell_type": "markdown",
      "metadata": {
        "id": "wqEzrDf7Pln7"
      },
      "source": [
        "#Model"
      ]
    },
    {
      "cell_type": "code",
      "execution_count": 113,
      "metadata": {
        "id": "q1VS8BucXHpW"
      },
      "outputs": [],
      "source": [
        "from sklearn.model_selection import cross_val_score\n",
        "from sklearn.model_selection import train_test_split\n",
        "\n",
        "import torch\n",
        "import torch.nn as nn\n",
        "\n",
        "from sklearn.tree import DecisionTreeClassifier\n",
        "from sklearn.neural_network import MLPClassifier\n",
        "from sklearn.neighbors import KNeighborsClassifier\n",
        "from sklearn.metrics import precision_score, recall_score, f1_score, accuracy_score"
      ]
    },
    {
      "cell_type": "code",
      "execution_count": 114,
      "metadata": {
        "id": "Ydmuw01wd5yv"
      },
      "outputs": [],
      "source": [
        "X_train, X_test, y_train, y_test = train_test_split(X, y, test_size=0.1, random_state=42, shuffle=True)"
      ]
    },
    {
      "cell_type": "code",
      "execution_count": 115,
      "metadata": {
        "id": "0rUJqIwcgfv7"
      },
      "outputs": [],
      "source": [
        "models = {\n",
        "    'Decision Tree' : DecisionTreeClassifier(),\n",
        "    'Neural Network' : MLPClassifier(solver='adam', alpha=1e-5, hidden_layer_sizes=(8, 8), random_state=1),\n",
        "    'KNN' : KNeighborsClassifier(n_neighbors=3)\n",
        "}\n",
        "\n",
        "# results = {}\n",
        "\n",
        "def evaluate_model(model, X_train, y_train, X_test, y_test):\n",
        "    # Train the model\n",
        "    model.fit(X_train, y_train)\n",
        "\n",
        "    # Make predictions\n",
        "    y_pred = model.predict(X_test)\n",
        "\n",
        "    # Calculate evaluation metrics\n",
        "    recall = recall_score(y_test, y_pred)\n",
        "    precision = precision_score(y_test, y_pred)\n",
        "    f1 = f1_score(y_test, y_pred)\n",
        "    accuracy = accuracy_score(y_test, y_pred)\n",
        "    win_per = percent_wins(y_pred)\n",
        "    print(y_pred)\n",
        "\n",
        "    return recall, precision, f1, accuracy, win_per\n",
        "\n",
        "# iterate through all models\n",
        "for name, model in models.items():\n",
        "    #DEBUG ONLY comment out this below to run the baselines\n",
        "    break\n",
        "    # Evaluate model, calculate metrics and store them\n",
        "    recall, precision, f1, accuracy, win_per = evaluate_model(model, X_train, y_train, X_test, y_test)\n",
        "\n",
        "    print(name)\n",
        "    print(f\"Recall: {recall}\")\n",
        "    print(f\"Precision: {precision}\")\n",
        "    print(f\"F1-Score: {f1}\")\n",
        "    print(f\"Accuracy: {accuracy}\")\n",
        "    print(f\"Percentage of tensors with value 1: {win_per:.2f}%\")\n",
        "    print()\n",
        "\n"
      ]
    },
    {
      "cell_type": "markdown",
      "metadata": {
        "id": "PFc7KPxSN-YS"
      },
      "source": [
        "## pass hidden size as arg? (see linked stackoverflow in issue w/ loss)"
      ]
    },
    {
      "cell_type": "code",
      "execution_count": 116,
      "metadata": {
        "colab": {
          "base_uri": "https://localhost:8080/"
        },
        "id": "k4MdNtRjAW5C",
        "outputId": "2db5bbbb-d066-4791-a2de-c5257b0f26fb"
      },
      "outputs": [
        {
          "output_type": "stream",
          "name": "stdout",
          "text": [
            "136\n"
          ]
        }
      ],
      "source": [
        "vocab_size = len(np.unique(X))\n",
        "print(vocab_size)"
      ]
    },
    {
      "cell_type": "markdown",
      "metadata": {
        "id": "71ODExJpcHHH"
      },
      "source": [
        "### Baseline NN"
      ]
    },
    {
      "cell_type": "code",
      "execution_count": 117,
      "metadata": {
        "id": "X4vftxuzOtFp"
      },
      "outputs": [],
      "source": [
        "import torch\n",
        "import torch.nn as nn\n",
        "import torch.nn.functional as F\n",
        "\n",
        "class Net(nn.Module):\n",
        "    def __init__(self, embedding_dim):\n",
        "        super(Net, self).__init__()\n",
        "        self.embedding = nn.Embedding(vocab_size, embedding_dim) # Assuming vocab size is 200000\n",
        "        self.ln1 = nn.Linear(embedding_dim * num_players_per_team * 2, 16)  # Changed in_features to embedding_dim * 10 = 80\n",
        "        self.ln2 = nn.Linear(16, 8)\n",
        "        self.ln3 = nn.Linear(8, 1)\n",
        "\n",
        "\n",
        "    def forward(self, x):\n",
        "        x = self.embedding(x)\n",
        "        x = x.view(x.size(0), -1) # Flatten the embedding output\n",
        "\n",
        "        x = self.ln1(x)\n",
        "        x = F.relu(x)\n",
        "        x = self.ln2(x)\n",
        "        x = F.relu(x)\n",
        "        x = self.ln3(x)\n",
        "        x = torch.sigmoid(x) # Applying sigmoid for binary classification\n",
        "        return x"
      ]
    },
    {
      "cell_type": "markdown",
      "metadata": {
        "id": "GRVabyu1uwEG"
      },
      "source": [
        "\n",
        "\n",
        "```\n",
        "# This is formatted as code\n",
        "```\n",
        "\n",
        "### Siamese Network"
      ]
    },
    {
      "cell_type": "code",
      "execution_count": 118,
      "metadata": {
        "id": "OPZNmKSAuDcs"
      },
      "outputs": [],
      "source": [
        "# prompt: use the above model to create a siamese network\n",
        "\n",
        "class SiameseNetwork(nn.Module):\n",
        "  def __init__(self, embedding_dim):\n",
        "    super(SiameseNetwork, self).__init__()\n",
        "    self.embedding = nn.Embedding(num_embeddings= vocab_size, embedding_dim=embedding_dim)\n",
        "    self.ln1 = nn.Linear(embedding_dim * num_players_per_team, 16)\n",
        "    self.ln2 = nn.Linear(16, 16)\n",
        "    self.ln3 = nn.Linear(16, 1)\n",
        "    ##TODO:: dropout layers, maybe\n",
        "\n",
        "  def forward(self, x):\n",
        "    # split x into x1 and x2\n",
        "    x1, x2 = x[:, :(len(X[0])//2)], x[:, (len(X[0])//2):]\n",
        "    # Pass the input through the embedding layer\n",
        "    x1 = self.embedding(x1)\n",
        "    x2 = self.embedding(x2)\n",
        "    # Reshape the output of the embedding layer to a 2D tensor\n",
        "    x1 = x1.view(x1.size(0), -1)\n",
        "    x2 = x2.view(x2.size(0), -1)\n",
        "    x1 = self.ln1(x1)\n",
        "    x1 = F.relu(x1)\n",
        "    x2 = self.ln1(x2)\n",
        "    x2 = F.relu(x2)\n",
        "    x1 = self.ln2(x1)\n",
        "    x1 = F.relu(x1)\n",
        "    x2 = self.ln2(x2)\n",
        "    x2 = F.relu(x2)\n",
        "    x1 = self.ln3(x1)\n",
        "    x1 = F.relu(x1)\n",
        "    x2 = self.ln3(x2)\n",
        "    x2 = F.relu(x2)\n",
        "    # ##0 for left side win, 1 for right side win\n",
        "    output1 = torch.sigmoid(x1)\n",
        "    output2 = torch.sigmoid(x2)\n",
        "    # IMPORTANT:: right now output win/lose ratio, can be any fraction between 0 and 1, not necessarily 1/0 win/lose.\n",
        "    output1 = x1\n",
        "    output2 = x2\n",
        "    output = torch.sigmoid(output1 - output2)\n",
        "\n",
        "    return output\n"
      ]
    },
    {
      "cell_type": "markdown",
      "metadata": {
        "id": "pWYRMzhzcbp0"
      },
      "source": [
        "### Transformer\n",
        "\n"
      ]
    },
    {
      "cell_type": "code",
      "execution_count": 119,
      "metadata": {
        "id": "kU23rsAVEIjT"
      },
      "outputs": [],
      "source": [
        "# prompt: A transformer that treats each value in every row of X as a token, outputs a single value\n",
        "# a standard transformer\n",
        "class TransformerModel(nn.Module):\n",
        "    def __init__(self, embedding_dim, input_dim = vocab_size,\n",
        "                 num_heads = 2, num_layers = 1, hidden_dim = 64, output_dim = 1):\n",
        "        super(TransformerModel, self).__init__()\n",
        "        self.embedding = nn.Embedding(input_dim, embedding_dim)\n",
        "        #encoder layer but no masking applied\n",
        "        encoder_layer = nn.TransformerEncoderLayer(d_model=embedding_dim,\n",
        "                                                   nhead=num_heads,\n",
        "                                                   dim_feedforward=hidden_dim,\n",
        "                                                   batch_first=True)\n",
        "        self.transformer_encoder = nn.TransformerEncoder(encoder_layer, num_layers=num_layers)\n",
        "        self.fc = nn.Linear(embedding_dim, output_dim)\n",
        "\n",
        "    def forward(self, x):\n",
        "        # x begins with shape (batch_size, seq_len)\n",
        "        x = self.embedding(x)\n",
        "        # x  with shape (batch_size, seq_len, embedding_dim)\n",
        "        x = x.permute(1, 0, 2)  # Reshape for Transformer input (seq_len, batch_size, embedding_dim)\n",
        "        x = self.transformer_encoder(x)\n",
        "        x = x.mean(dim=0)  # Average the embeddings across the sequence\n",
        "        x = self.fc(x)\n",
        "        return torch.sigmoid(x)\n",
        "\n",
        "    def get_embedding(self, x):\n",
        "        return self.embedding(x)\n",
        "\n",
        "# Example usage:\n",
        "# input_dim = len(unique_values_in_X)  # Number of unique tokens in X\n",
        "# embedding_dim = 16\n",
        "# num_heads = 2\n",
        "# num_layers = 2\n",
        "# hidden_dim = 32\n",
        "# output_dim = 1\n",
        "\n",
        "# model = TransformerModel(input_dim, embedding_dim, num_heads, num_layers, hidden_dim, output_dim)\n",
        "\n",
        "# Assuming X_train is a tensor of shape (batch_size, seq_len)\n",
        "# output = model(X_train)\n"
      ]
    },
    {
      "cell_type": "markdown",
      "source": [
        "### Auxillary MLP (multilayer perceptron)"
      ],
      "metadata": {
        "id": "E00OsL764boY"
      }
    },
    {
      "cell_type": "code",
      "source": [
        "# prompt: A secondary neural network that take in a feature\n",
        "\n",
        "class Aux_MLP(nn.Module):\n",
        "    def __init__(self, input_dim=2, hidden_dim=64, embedding_dim=64, dropout=0.2):\n",
        "        super(Aux_MLP, self).__init__()\n",
        "        self.fc1 = nn.Linear(input_dim, hidden_dim)\n",
        "        self.dropout = nn.Dropout(dropout)\n",
        "        self.fc2 = nn.Linear(hidden_dim, embedding_dim)\n",
        "\n",
        "    def forward(self, x):\n",
        "        x = F.relu(self.fc1(x))\n",
        "        x = self.dropout(x)\n",
        "        x = self.fc2(x)\n",
        "        x = torch.sigmoid(x)\n",
        "        return x"
      ],
      "metadata": {
        "id": "ilxZwgL54bMR"
      },
      "execution_count": 120,
      "outputs": []
    },
    {
      "cell_type": "markdown",
      "source": [
        "### Siamese + Auxillary MLP"
      ],
      "metadata": {
        "id": "Jrm6vFRn_t5C"
      }
    },
    {
      "cell_type": "code",
      "source": [
        "# prompt: a siamese auxillary MLP\n",
        "\n",
        "class ModelB(nn.Module):\n",
        "  def __init__(self, input_dim, hidden_dim, output_dim):\n",
        "    super(ModelB, self).__init__()\n",
        "    self.fc1 = nn.Linear(input_dim, hidden_dim*4 )\n",
        "    self.fc2 = nn.Linear(hidden_dim*4 , hidden_dim)\n",
        "    self.fc3 = nn.Linear(hidden_dim, output_dim)\n",
        "    self.relu = nn.ReLU()\n",
        "    self.sigmoid = nn.Sigmoid()\n",
        "\n",
        "  def forward(self, x):\n",
        "    ## note: this x input here will be auxillary information only, no team comp info\n",
        "    # split x into x1 and x2\n",
        "    x1, x2 = x[:, :(len(X[0])//2)], x[:, (len(X[0])//2):]\n",
        "\n",
        "    x1 = self.fc1(x1)\n",
        "    x1 = self.relu(x1)\n",
        "    x1 = self.fc2(x1)\n",
        "    x1 = self.relu(x1)\n",
        "    x1 = self.fc3(x1)\n",
        "    x1 = self.sigmoid(x1)\n",
        "\n",
        "    x2 = self.fc1(x2)\n",
        "    x2 = self.relu(x2)\n",
        "    x2 = self.fc2(x2)\n",
        "    x2 = self.relu(x2)\n",
        "    x2 = self.fc3(x2)\n",
        "    x2 = self.sigmoid(x2)\n",
        "\n",
        "    output = torch.sigmoid(x1 - x2)\n",
        "    return output\n"
      ],
      "metadata": {
        "id": "qwE7QHHq3-tY"
      },
      "execution_count": 121,
      "outputs": []
    },
    {
      "cell_type": "markdown",
      "metadata": {
        "id": "mnRCCHcqtfJH"
      },
      "source": [
        "### Siamese + Transformer"
      ]
    },
    {
      "cell_type": "code",
      "execution_count": 122,
      "metadata": {
        "id": "i16pgxRoterY"
      },
      "outputs": [],
      "source": [
        "# prompt: A transformer that treats each value in every row of X as a token, outputs a single value\n",
        "\n",
        "class SiamTransformerModel(nn.Module):\n",
        "    def __init__(self, embedding_dim, input_dim = vocab_size,\n",
        "                 num_heads = 2, num_layers = 1, hidden_dim = 64, output_dim = 1):\n",
        "        super(SiamTransformerModel, self).__init__()\n",
        "        self.embedding = nn.Embedding(input_dim, embedding_dim)\n",
        "        #encoder layer but no masking applied\n",
        "        encoder_layer = nn.TransformerEncoderLayer(d_model=embedding_dim, nhead=num_heads, dim_feedforward=hidden_dim)\n",
        "        self.transformer_encoder = nn.TransformerEncoder(encoder_layer, num_layers=num_layers)\n",
        "        self.fc = nn.Linear(embedding_dim, output_dim)\n",
        "\n",
        "    def forward(self, x):\n",
        "        # split x into x1 and x2\n",
        "        x1, x2 = x[:, :(len(X[0])//2)], x[:, (len(X[0])//2):]\n",
        "\n",
        "        x1 = self.embedding(x1)\n",
        "        x1 = x1.permute(1, 0, 2)  # Reshape for Transformer input (seq_len, batch_size, embedding_dim)\n",
        "        x1 = self.transformer_encoder(x1)\n",
        "        x1 = x1.mean(dim=0)  # Average the embeddings across the sequence\n",
        "        x1 = self.fc(x1)\n",
        "        x1 = torch.sigmoid(x1)\n",
        "\n",
        "        x2 = self.embedding(x2)\n",
        "        x2 = x2.permute(1, 0, 2)  # Reshape for Transformer input (seq_len, batch_size, embedding_dim)\n",
        "        x2 = self.transformer_encoder(x2)\n",
        "        x2 = x2.mean(dim=0)  # Average the embeddings across the sequence\n",
        "        x2 = self.fc(x2)\n",
        "        x2 = torch.sigmoid(x2)\n",
        "\n",
        "        output = torch.sigmoid(x1 - x2)\n",
        "        return output\n",
        "\n",
        "    def get_embedding(self, x):\n",
        "        return self.embedding(x)"
      ]
    },
    {
      "cell_type": "markdown",
      "source": [
        "###Combine A+B"
      ],
      "metadata": {
        "id": "1o2M8DGm6o0H"
      }
    },
    {
      "cell_type": "markdown",
      "source": [
        "We treat the siamese transformer as model A and the Siamese Aux MLP as model B"
      ],
      "metadata": {
        "id": "iEh9pAJ86u7e"
      }
    },
    {
      "cell_type": "code",
      "source": [
        "# prompt: the combined models of model A (Siamese Transformer) and model B (Siamese Auxillary MLP)\n",
        "class ModelAnB(nn.Module):\n",
        "  def __init__(self, transformer_model, aux_model, transformer_output_dim=1):\n",
        "        super(ModelAnB, self).__init__()\n",
        "        # include models\n",
        "        self.transformer = transformer_model\n",
        "        self.aux_model = aux_model\n",
        "        # Combine both outputs\n",
        "        self.final_fc = nn.Linear(transformer_output_dim, 1)\n",
        "        #self.aux_weight = nn.Parameter(torch.tensor(0.5))\n",
        "        #force the weight to be 1 or 0 to turn on/off model A or B.\n",
        "        #self.aux_weight = nn.Tensor([1])\n",
        "        self.aux_weight = nn.Tensor([0])\n",
        "\n",
        "\n",
        "##TODO must be passed team_comp and aux_info somehow before we can test\n",
        "  def forward(self, team_comp, aux_info):\n",
        "        # Transformer processes team comp\n",
        "        comp_output = self.transformer(team_comp)\n",
        "        # ModelB processes aux features\n",
        "        aux_output = self.aux_model(aux_info)\n",
        "\n",
        "        # idea1: Combine via addition maybe add weight to outputs for better results\n",
        "        combined = (1 - self.aux_weight) * comp_output + self.aux_weight * aux_output\n",
        "\n",
        "        # idea2: Combine via concat and pass through a final linear layer idk which would be best\n",
        "        # combined = torch.cat([comp_output, aux_output], dim=1)  # shape: (batch_size, 2)\n",
        "\n",
        "        combined = self.final_fc(combined)\n",
        "        return torch.sigmoid(combined)\n"
      ],
      "metadata": {
        "id": "Ug4-AS0I6tsv"
      },
      "execution_count": 129,
      "outputs": []
    },
    {
      "cell_type": "markdown",
      "metadata": {
        "id": "RRjz-HfNMfgH"
      },
      "source": [
        "### issue with loss? (fixed in oversampling)\n",
        "https://stackoverflow.com/questions/65219569/pytorch-gives-incorrect-results-due-to-broadcasting"
      ]
    },
    {
      "cell_type": "markdown",
      "metadata": {
        "id": "XiP28pCtgfR6"
      },
      "source": [
        "Code example\n",
        "\n",
        "```\n",
        "# Define the model\n",
        "model = NeuralNetwork()\n",
        "\n",
        "# Define the loss function\n",
        "loss_function = CrossEntropyLoss()\n",
        "\n",
        "# Define the optimizer\n",
        "optimizer = GradientDescentOptimizer()\n",
        "\n",
        "# Train the model\n",
        "for epoch in range(200):\n",
        "    # Get the data\n",
        "    data = get_data()\n",
        "\n",
        "    # Calculate the loss\n",
        "    loss = loss_function(model(data), labels)\n",
        "\n",
        "    # X and true_y\n",
        "\n",
        "    # Backpropagate the loss\n",
        "    gradient = loss_function.backward()\n",
        "\n",
        "    # Update the parameters\n",
        "    optimizer.update(parameters, gradient)\n",
        "\n",
        "    print(\"loss: \"+ str(loss))\n",
        "# Evaluate the model\n",
        "accuracy = model.evaluate(data, labels)\n",
        "```"
      ]
    },
    {
      "cell_type": "markdown",
      "metadata": {
        "id": "Ht1SIq1_3_OW"
      },
      "source": [
        "#Split Training and Testing"
      ]
    },
    {
      "cell_type": "markdown",
      "metadata": {
        "id": "emALQye_I63f"
      },
      "source": [
        "Can we split based on season? (season feature in the dataset)"
      ]
    },
    {
      "cell_type": "code",
      "execution_count": 123,
      "metadata": {
        "id": "pSGielkT2tlY",
        "colab": {
          "base_uri": "https://localhost:8080/"
        },
        "outputId": "8e1b055e-c732-4a53-b856-fa6dca9a3b07"
      },
      "outputs": [
        {
          "output_type": "stream",
          "name": "stderr",
          "text": [
            "/usr/local/lib/python3.11/dist-packages/torch/nn/modules/transformer.py:385: UserWarning: enable_nested_tensor is True, but self.use_nested_tensor is False because encoder_layer.self_attn.batch_first was not True(use batch_first for better inference performance)\n",
            "  warnings.warn(\n"
          ]
        }
      ],
      "source": [
        "embedding_dim = 8\n",
        "\n",
        "# model = Net\n",
        "# model_name += \"NN.pth\"\n",
        "\n",
        "# model = SiameseNetwork\n",
        "# model_name += \"SiameseNetwork.pth\"\n",
        "\n",
        "# model = TransformerModel\n",
        "# model_name += \"TransformerModel.pth\"\n",
        "\n",
        "# model = Aux_MLP\n",
        "# model_name += \"Aux_MLP.pth\"\n",
        "\n",
        "# model = SiamTransformerModel\n",
        "# model_name += \"SiamTransformerModel.pth\"\n",
        "\n",
        "# Instantiate your base models\n",
        "siamese_transformer = SiamTransformerModel(embedding_dim=embedding_dim)\n",
        "aux_mlp = Aux_MLP(hidden_dim=64, embedding_dim=embedding_dim)\n",
        "\n",
        "# Instantiate the combined model\n",
        "model = ModelAnB(transformer_model=siamese_transformer, aux_model=aux_mlp)\n"
      ]
    },
    {
      "cell_type": "code",
      "execution_count": 124,
      "metadata": {
        "colab": {
          "base_uri": "https://localhost:8080/",
          "height": 35
        },
        "id": "fjOhHkCOG4QS",
        "outputId": "1dad206b-7c49-456a-d367-efedc6d6608a"
      },
      "outputs": [
        {
          "output_type": "execute_result",
          "data": {
            "text/plain": [
              "'lol_model'"
            ],
            "application/vnd.google.colaboratory.intrinsic+json": {
              "type": "string"
            }
          },
          "metadata": {},
          "execution_count": 124
        }
      ],
      "source": [
        "model_name"
      ]
    },
    {
      "cell_type": "code",
      "execution_count": 126,
      "metadata": {
        "colab": {
          "base_uri": "https://localhost:8080/"
        },
        "id": "hhjTKzZ_7Ap-",
        "outputId": "2c94b319-d39a-4735-97ad-3ec345c4e00c"
      },
      "outputs": [
        {
          "output_type": "stream",
          "name": "stdout",
          "text": [
            "model: ModelAnB(\n",
            "  (transformer): SiamTransformerModel(\n",
            "    (embedding): Embedding(136, 8)\n",
            "    (transformer_encoder): TransformerEncoder(\n",
            "      (layers): ModuleList(\n",
            "        (0): TransformerEncoderLayer(\n",
            "          (self_attn): MultiheadAttention(\n",
            "            (out_proj): NonDynamicallyQuantizableLinear(in_features=8, out_features=8, bias=True)\n",
            "          )\n",
            "          (linear1): Linear(in_features=8, out_features=64, bias=True)\n",
            "          (dropout): Dropout(p=0.1, inplace=False)\n",
            "          (linear2): Linear(in_features=64, out_features=8, bias=True)\n",
            "          (norm1): LayerNorm((8,), eps=1e-05, elementwise_affine=True)\n",
            "          (norm2): LayerNorm((8,), eps=1e-05, elementwise_affine=True)\n",
            "          (dropout1): Dropout(p=0.1, inplace=False)\n",
            "          (dropout2): Dropout(p=0.1, inplace=False)\n",
            "        )\n",
            "      )\n",
            "    )\n",
            "    (fc): Linear(in_features=8, out_features=1, bias=True)\n",
            "  )\n",
            "  (aux_model): Aux_MLP(\n",
            "    (fc1): Linear(in_features=1, out_features=64, bias=True)\n",
            "    (dropout): Dropout(p=0.2, inplace=False)\n",
            "    (fc2): Linear(in_features=64, out_features=8, bias=True)\n",
            "  )\n",
            "  (final_fc): Linear(in_features=1, out_features=1, bias=True)\n",
            ")\n",
            "type(model): <class '__main__.ModelAnB'>\n",
            "embedding_dim: 8\n",
            "type(embedding_dim): <class 'int'>\n",
            "True\n"
          ]
        }
      ],
      "source": [
        "print(\"model:\", model)\n",
        "print(\"type(model):\", type(model))\n",
        "print(\"embedding_dim:\", embedding_dim)\n",
        "print(\"type(embedding_dim):\", type(embedding_dim))\n",
        "\n",
        "if(load_saved_data):\n",
        "  net = model(embedding_dim).to(device)\n",
        "  # net = torch.load(colab_folder_path + model_name)\n",
        "  #net.load_state_dict(torch.load(colab_folder_path + model_name))\n",
        "  #net.eval()\n",
        "print(torch.cuda.is_available())\n",
        "  #encoder = joblib.load(colab_folder_path + encoder_name)"
      ]
    },
    {
      "cell_type": "markdown",
      "metadata": {
        "id": "4R1yoa5DtGq8"
      },
      "source": [
        "##Testing code here\n",
        "\n",
        "So I can debug the code and inspect the values"
      ]
    },
    {
      "cell_type": "code",
      "execution_count": 127,
      "metadata": {
        "id": "we16VTVkzk74"
      },
      "outputs": [],
      "source": [
        "report_cycle = 10"
      ]
    },
    {
      "cell_type": "code",
      "execution_count": 130,
      "metadata": {
        "colab": {
          "base_uri": "https://localhost:8080/",
          "height": 367
        },
        "id": "wqKsRmP8Zuc5",
        "outputId": "a34bcbe3-92b3-40aa-fea1-43cad3f8bfcf"
      },
      "outputs": [
        {
          "output_type": "stream",
          "name": "stdout",
          "text": [
            "Using device: cuda\n"
          ]
        },
        {
          "output_type": "error",
          "ename": "TypeError",
          "evalue": "ModelAnB.forward() missing 1 required positional argument: 'aux_info'",
          "traceback": [
            "\u001b[0;31m---------------------------------------------------------------------------\u001b[0m",
            "\u001b[0;31mTypeError\u001b[0m                                 Traceback (most recent call last)",
            "\u001b[0;32m<ipython-input-130-49618f708720>\u001b[0m in \u001b[0;36m<cell line: 0>\u001b[0;34m()\u001b[0m\n\u001b[1;32m     22\u001b[0m     \u001b[0mval_loader\u001b[0m \u001b[0;34m=\u001b[0m \u001b[0mDataLoader\u001b[0m\u001b[0;34m(\u001b[0m\u001b[0mval_dataset\u001b[0m\u001b[0;34m,\u001b[0m \u001b[0mbatch_size\u001b[0m\u001b[0;34m=\u001b[0m\u001b[0;36m32\u001b[0m\u001b[0;34m,\u001b[0m \u001b[0mshuffle\u001b[0m\u001b[0;34m=\u001b[0m\u001b[0;32mFalse\u001b[0m\u001b[0;34m)\u001b[0m\u001b[0;34m\u001b[0m\u001b[0;34m\u001b[0m\u001b[0m\n\u001b[1;32m     23\u001b[0m \u001b[0;34m\u001b[0m\u001b[0m\n\u001b[0;32m---> 24\u001b[0;31m     \u001b[0mnet\u001b[0m \u001b[0;34m=\u001b[0m \u001b[0mmodel\u001b[0m\u001b[0;34m(\u001b[0m\u001b[0membedding_dim\u001b[0m\u001b[0;34m)\u001b[0m\u001b[0;34m.\u001b[0m\u001b[0mto\u001b[0m\u001b[0;34m(\u001b[0m\u001b[0mdevice\u001b[0m\u001b[0;34m)\u001b[0m\u001b[0;34m\u001b[0m\u001b[0;34m\u001b[0m\u001b[0m\n\u001b[0m\u001b[1;32m     25\u001b[0m     \u001b[0moptimizer\u001b[0m \u001b[0;34m=\u001b[0m \u001b[0moptim\u001b[0m\u001b[0;34m.\u001b[0m\u001b[0mAdam\u001b[0m\u001b[0;34m(\u001b[0m\u001b[0mnet\u001b[0m\u001b[0;34m.\u001b[0m\u001b[0mparameters\u001b[0m\u001b[0;34m(\u001b[0m\u001b[0;34m)\u001b[0m\u001b[0;34m,\u001b[0m \u001b[0mlr\u001b[0m\u001b[0;34m=\u001b[0m\u001b[0;36m0.00001\u001b[0m\u001b[0;34m)\u001b[0m\u001b[0;34m\u001b[0m\u001b[0;34m\u001b[0m\u001b[0m\n\u001b[1;32m     26\u001b[0m     \u001b[0mpatience\u001b[0m \u001b[0;34m=\u001b[0m \u001b[0;36m100\u001b[0m\u001b[0;34m\u001b[0m\u001b[0;34m\u001b[0m\u001b[0m\n",
            "\u001b[0;32m/usr/local/lib/python3.11/dist-packages/torch/nn/modules/module.py\u001b[0m in \u001b[0;36m_wrapped_call_impl\u001b[0;34m(self, *args, **kwargs)\u001b[0m\n\u001b[1;32m   1737\u001b[0m             \u001b[0;32mreturn\u001b[0m \u001b[0mself\u001b[0m\u001b[0;34m.\u001b[0m\u001b[0m_compiled_call_impl\u001b[0m\u001b[0;34m(\u001b[0m\u001b[0;34m*\u001b[0m\u001b[0margs\u001b[0m\u001b[0;34m,\u001b[0m \u001b[0;34m**\u001b[0m\u001b[0mkwargs\u001b[0m\u001b[0;34m)\u001b[0m  \u001b[0;31m# type: ignore[misc]\u001b[0m\u001b[0;34m\u001b[0m\u001b[0;34m\u001b[0m\u001b[0m\n\u001b[1;32m   1738\u001b[0m         \u001b[0;32melse\u001b[0m\u001b[0;34m:\u001b[0m\u001b[0;34m\u001b[0m\u001b[0;34m\u001b[0m\u001b[0m\n\u001b[0;32m-> 1739\u001b[0;31m             \u001b[0;32mreturn\u001b[0m \u001b[0mself\u001b[0m\u001b[0;34m.\u001b[0m\u001b[0m_call_impl\u001b[0m\u001b[0;34m(\u001b[0m\u001b[0;34m*\u001b[0m\u001b[0margs\u001b[0m\u001b[0;34m,\u001b[0m \u001b[0;34m**\u001b[0m\u001b[0mkwargs\u001b[0m\u001b[0;34m)\u001b[0m\u001b[0;34m\u001b[0m\u001b[0;34m\u001b[0m\u001b[0m\n\u001b[0m\u001b[1;32m   1740\u001b[0m \u001b[0;34m\u001b[0m\u001b[0m\n\u001b[1;32m   1741\u001b[0m     \u001b[0;31m# torchrec tests the code consistency with the following code\u001b[0m\u001b[0;34m\u001b[0m\u001b[0;34m\u001b[0m\u001b[0m\n",
            "\u001b[0;32m/usr/local/lib/python3.11/dist-packages/torch/nn/modules/module.py\u001b[0m in \u001b[0;36m_call_impl\u001b[0;34m(self, *args, **kwargs)\u001b[0m\n\u001b[1;32m   1748\u001b[0m                 \u001b[0;32mor\u001b[0m \u001b[0m_global_backward_pre_hooks\u001b[0m \u001b[0;32mor\u001b[0m \u001b[0m_global_backward_hooks\u001b[0m\u001b[0;34m\u001b[0m\u001b[0;34m\u001b[0m\u001b[0m\n\u001b[1;32m   1749\u001b[0m                 or _global_forward_hooks or _global_forward_pre_hooks):\n\u001b[0;32m-> 1750\u001b[0;31m             \u001b[0;32mreturn\u001b[0m \u001b[0mforward_call\u001b[0m\u001b[0;34m(\u001b[0m\u001b[0;34m*\u001b[0m\u001b[0margs\u001b[0m\u001b[0;34m,\u001b[0m \u001b[0;34m**\u001b[0m\u001b[0mkwargs\u001b[0m\u001b[0;34m)\u001b[0m\u001b[0;34m\u001b[0m\u001b[0;34m\u001b[0m\u001b[0m\n\u001b[0m\u001b[1;32m   1751\u001b[0m \u001b[0;34m\u001b[0m\u001b[0m\n\u001b[1;32m   1752\u001b[0m         \u001b[0mresult\u001b[0m \u001b[0;34m=\u001b[0m \u001b[0;32mNone\u001b[0m\u001b[0;34m\u001b[0m\u001b[0;34m\u001b[0m\u001b[0m\n",
            "\u001b[0;31mTypeError\u001b[0m: ModelAnB.forward() missing 1 required positional argument: 'aux_info'"
          ]
        }
      ],
      "source": [
        "from torch.utils.data import DataLoader, TensorDataset\n",
        "\n",
        "# Check if GPU is available\n",
        "device = torch.device(\"cuda\" if torch.cuda.is_available() else \"cpu\")\n",
        "print(f\"Using device: {device}\")\n",
        "\n",
        "k_fold = KFold(n_splits=10, shuffle=True, random_state=123)\n",
        "accuracy_scores = []\n",
        "precision_scores = []\n",
        "recall_scores = []\n",
        "f1_scores = []\n",
        "criterion = torch.nn.BCELoss()\n",
        "\n",
        "for train_index, test_index in k_fold.split(X):\n",
        "    X_train, X_test = X[train_index], X[test_index]\n",
        "    y_train, y_test = y[train_index], y[test_index]\n",
        "    X_train, X_val, y_train, y_val = train_test_split(X_train, y_train, test_size=0.1, random_state=42, shuffle=True)\n",
        "\n",
        "    train_dataset = TensorDataset(X_train, y_train)\n",
        "    val_dataset = TensorDataset(X_val, y_val)\n",
        "    train_loader = DataLoader(train_dataset, batch_size=32, shuffle=True)\n",
        "    val_loader = DataLoader(val_dataset, batch_size=32, shuffle=False)\n",
        "\n",
        "    net = model(embedding_dim).to(device)\n",
        "    optimizer = optim.Adam(net.parameters(), lr=0.00001)\n",
        "    patience = 100\n",
        "    best_loss = float('inf')\n",
        "    counter = 0\n",
        "\n",
        "    best_model_path = \"best_model.pt\"\n",
        "\n",
        "    for epoch in range(10000):\n",
        "        net.train()\n",
        "        for X_batch, y_batch in train_loader:\n",
        "            # Move data to GPU\n",
        "            X_batch, y_batch = X_batch.to(device), y_batch.to(device)\n",
        "\n",
        "            pred_y = net(X_batch)\n",
        "            loss = criterion(pred_y.flatten(), y_batch.float())\n",
        "            optimizer.zero_grad()\n",
        "            loss.backward()\n",
        "            optimizer.step()\n",
        "\n",
        "        if epoch % report_cycle == 0:\n",
        "            print(f\"Epoch {epoch} training loss: {loss.item()}\")\n",
        "\n",
        "        net.eval()\n",
        "        val_loss = 0\n",
        "        with torch.no_grad():\n",
        "            for X_batch, y_batch in val_loader:\n",
        "                # Move data to GPU\n",
        "                X_batch, y_batch = X_batch.to(device), y_batch.to(device)\n",
        "\n",
        "                val_pred_y = net(X_batch)\n",
        "                val_loss += criterion(val_pred_y.flatten(), y_batch.float()).item()\n",
        "        val_loss /= len(val_loader)\n",
        "\n",
        "        if epoch % report_cycle == 0:\n",
        "            print(f\"Validation loss: {val_loss}\")\n",
        "\n",
        "        if val_loss < best_loss:\n",
        "            best_loss = val_loss\n",
        "            counter = 0\n",
        "            torch.save(net.state_dict(), best_model_path)\n",
        "        else:\n",
        "            counter += 1\n",
        "            if counter >= patience:\n",
        "                print(f\"Early stopping on epoch: {epoch}\")\n",
        "                break\n",
        "    # Load the best model for evaluation\n",
        "    net.load_state_dict(torch.load(best_model_path))\n",
        "    net.eval()\n",
        "    with torch.no_grad():\n",
        "        # Move test data to GPU\n",
        "        X_test, y_test = X_test.to(device), y_test.to(device)\n",
        "\n",
        "        pred_y = net(X_test)\n",
        "        pred_y[pred_y > 0.5] = 1\n",
        "        pred_y[pred_y <= 0.5] = 0\n",
        "        acc = torch.sum(pred_y.flatten() == y_test) / len(y_test)\n",
        "        # print(f\"Accuracy: {acc}\")\n",
        "        accuracy_scores.append(acc)\n",
        "\n",
        "        # Convert to numpy arrays for metric calculations\n",
        "        y_test_np = y_test.cpu().numpy()\n",
        "        pred_y_np = pred_y.flatten().cpu().numpy()\n",
        "\n",
        "        precision = precision_score(y_test_np, pred_y_np)\n",
        "        recall = recall_score(y_test_np, pred_y_np)\n",
        "        f1 = f1_score(y_test_np, pred_y_np)\n",
        "\n",
        "        precision_scores.append(precision)\n",
        "        recall_scores.append(recall)\n",
        "        f1_scores.append(f1)\n",
        "\n",
        "        print(f\"Accuracy: {acc}\")\n",
        "        print(f\"Precision: {precision}\")\n",
        "        print(f\"Recall: {recall}\")\n",
        "        print(f\"F1-score: {f1}\")\n",
        "\n",
        "    #right now only running one 10-fold, comment to run ten 10-folds.\n",
        "    # break\n",
        "\n",
        "# avg_accuracy = np.mean(accuracy_scores.cpu())\n",
        "# avg_precision = np.mean(precision_scores.cpu())\n",
        "# avg_recall = np.mean(recall_scores.cpu())\n",
        "# avg_f1 = np.mean(f1_scores.cpu())\n",
        "\n",
        "# print(\"\\n--- Average Metrics Across Folds ---\")\n",
        "# print(f\"Average Accuracy: {avg_accuracy}\")\n",
        "# print(f\"Average Precision: {avg_precision}\")\n",
        "# print(f\"Average Recall: {avg_recall}\")\n",
        "# print(f\"Average F1-score: {avg_f1}\")"
      ]
    },
    {
      "cell_type": "code",
      "execution_count": 131,
      "metadata": {
        "colab": {
          "base_uri": "https://localhost:8080/",
          "height": 207
        },
        "id": "wuSy440wpCm5",
        "outputId": "13bb7f3b-528f-49b5-ab54-65bad1e97f00"
      },
      "outputs": [
        {
          "output_type": "error",
          "ename": "NameError",
          "evalue": "name 'pred_y' is not defined",
          "traceback": [
            "\u001b[0;31m---------------------------------------------------------------------------\u001b[0m",
            "\u001b[0;31mNameError\u001b[0m                                 Traceback (most recent call last)",
            "\u001b[0;32m<ipython-input-131-6683f96f4bd5>\u001b[0m in \u001b[0;36m<cell line: 0>\u001b[0;34m()\u001b[0m\n\u001b[1;32m      1\u001b[0m \u001b[0;31m# prompt: count how many pred_y are 1 or 0\u001b[0m\u001b[0;34m\u001b[0m\u001b[0;34m\u001b[0m\u001b[0m\n\u001b[1;32m      2\u001b[0m \u001b[0;34m\u001b[0m\u001b[0m\n\u001b[0;32m----> 3\u001b[0;31m \u001b[0mcount_ones\u001b[0m \u001b[0;34m=\u001b[0m \u001b[0;34m(\u001b[0m\u001b[0mpred_y\u001b[0m \u001b[0;34m==\u001b[0m \u001b[0;36m1\u001b[0m\u001b[0;34m)\u001b[0m\u001b[0;34m.\u001b[0m\u001b[0msum\u001b[0m\u001b[0;34m(\u001b[0m\u001b[0;34m)\u001b[0m\u001b[0;34m.\u001b[0m\u001b[0mitem\u001b[0m\u001b[0;34m(\u001b[0m\u001b[0;34m)\u001b[0m\u001b[0;34m\u001b[0m\u001b[0;34m\u001b[0m\u001b[0m\n\u001b[0m\u001b[1;32m      4\u001b[0m \u001b[0mcount_zeros\u001b[0m \u001b[0;34m=\u001b[0m \u001b[0;34m(\u001b[0m\u001b[0mpred_y\u001b[0m \u001b[0;34m==\u001b[0m \u001b[0;36m0\u001b[0m\u001b[0;34m)\u001b[0m\u001b[0;34m.\u001b[0m\u001b[0msum\u001b[0m\u001b[0;34m(\u001b[0m\u001b[0;34m)\u001b[0m\u001b[0;34m.\u001b[0m\u001b[0mitem\u001b[0m\u001b[0;34m(\u001b[0m\u001b[0;34m)\u001b[0m\u001b[0;34m\u001b[0m\u001b[0;34m\u001b[0m\u001b[0m\n\u001b[1;32m      5\u001b[0m \u001b[0;34m\u001b[0m\u001b[0m\n",
            "\u001b[0;31mNameError\u001b[0m: name 'pred_y' is not defined"
          ]
        }
      ],
      "source": [
        "# prompt: count how many pred_y are 1 or 0\n",
        "\n",
        "count_ones = (pred_y == 1).sum().item()\n",
        "count_zeros = (pred_y == 0).sum().item()\n",
        "\n",
        "print(f\"Number of 1s in pred_y: {count_ones}\")\n",
        "print(f\"Number of 0s in pred_y: {count_zeros}\")\n"
      ]
    },
    {
      "cell_type": "code",
      "execution_count": null,
      "metadata": {
        "colab": {
          "base_uri": "https://localhost:8080/"
        },
        "id": "wFC-Mbn_0XTt",
        "outputId": "9f7f4883-9faa-442c-f7f8-313c866015af"
      },
      "outputs": [
        {
          "output_type": "stream",
          "name": "stdout",
          "text": [
            "Number of 1s in y_test: 40\n",
            "Number of 0s in y_test: 55\n"
          ]
        }
      ],
      "source": [
        "# prompt: count how many pred_y are 1 or 0\n",
        "\n",
        "count_ones = (y_test == 1).sum().item()\n",
        "count_zeros = (y_test == 0).sum().item()\n",
        "\n",
        "print(f\"Number of 1s in y_test: {count_ones}\")\n",
        "print(f\"Number of 0s in y_test: {count_zeros}\")\n"
      ]
    },
    {
      "cell_type": "code",
      "execution_count": null,
      "metadata": {
        "colab": {
          "base_uri": "https://localhost:8080/"
        },
        "id": "uhlzkO8u0LG9",
        "outputId": "6c2d554d-1d76-41d6-8d37-ee1a5e7f8e6d"
      },
      "outputs": [
        {
          "output_type": "stream",
          "name": "stdout",
          "text": [
            "      pred_y  y_test\n",
            "0   0.500582     0.0\n",
            "1   0.491270     0.0\n",
            "2   0.522304     0.0\n",
            "3   0.483105     0.0\n",
            "4   0.483382     0.0\n",
            "5   0.514840     0.0\n",
            "6   0.538636     0.0\n",
            "7   0.513737     0.0\n",
            "8   0.484987     0.0\n",
            "9   0.486364     0.0\n",
            "10  0.519036     0.0\n",
            "11  0.492561     0.0\n",
            "12  0.495548     0.0\n",
            "13  0.523847     0.0\n",
            "14  0.478033     0.0\n",
            "15  0.480926     0.0\n",
            "16  0.525774     0.0\n",
            "17  0.498437     0.0\n",
            "18  0.507686     0.0\n",
            "19  0.506999     0.0\n",
            "20  0.508821     0.0\n",
            "21  0.500972     0.0\n",
            "22  0.497374     0.0\n",
            "23  0.491954     0.0\n",
            "24  0.461200     0.0\n",
            "25  0.494932     0.0\n",
            "26  0.487836     0.0\n",
            "27  0.490095     0.0\n",
            "28  0.491961     0.0\n",
            "29  0.494598     0.0\n",
            "30  0.518208     0.0\n",
            "31  0.525704     0.0\n"
          ]
        }
      ],
      "source": [
        "import pandas as pd\n",
        "\n",
        "# Convert tensors to numpy arrays (detach from computation graph first)\n",
        "pred_y_np = pred_y.detach().cpu().numpy().flatten()\n",
        "y_test_np = y_test.detach().cpu().numpy().flatten()\n",
        "\n",
        "# Align lengths to the smaller of the two\n",
        "min_len = min(len(pred_y_np), len(y_test_np))\n",
        "pred_y_np = pred_y_np[:min_len]\n",
        "y_test_np = y_test_np[:min_len]\n",
        "\n",
        "# Create a DataFrame for comparison\n",
        "comparison_df = pd.DataFrame({\n",
        "    'pred_y': pred_y_np,\n",
        "    'y_test': y_test_np\n",
        "})\n",
        "\n",
        "# Display the DataFrame\n",
        "print(comparison_df)"
      ]
    },
    {
      "cell_type": "code",
      "execution_count": null,
      "metadata": {
        "colab": {
          "base_uri": "https://localhost:8080/",
          "height": 350
        },
        "id": "U2euXZNO0pOS",
        "outputId": "458b4c78-7e63-4ab4-d977-695335e4cb2f"
      },
      "outputs": [
        {
          "output_type": "error",
          "ename": "ValueError",
          "evalue": "All arrays must be of the same length",
          "traceback": [
            "\u001b[0;31m---------------------------------------------------------------------------\u001b[0m",
            "\u001b[0;31mValueError\u001b[0m                                Traceback (most recent call last)",
            "\u001b[0;32m<ipython-input-72-e11fe93b16eb>\u001b[0m in \u001b[0;36m<cell line: 0>\u001b[0;34m()\u001b[0m\n\u001b[1;32m      6\u001b[0m \u001b[0;34m\u001b[0m\u001b[0m\n\u001b[1;32m      7\u001b[0m \u001b[0;31m# Create a DataFrame for side-by-side comparison\u001b[0m\u001b[0;34m\u001b[0m\u001b[0;34m\u001b[0m\u001b[0m\n\u001b[0;32m----> 8\u001b[0;31m \u001b[0mcomparison_df\u001b[0m \u001b[0;34m=\u001b[0m \u001b[0mpd\u001b[0m\u001b[0;34m.\u001b[0m\u001b[0mDataFrame\u001b[0m\u001b[0;34m(\u001b[0m\u001b[0;34m{\u001b[0m\u001b[0;34m'pred_y'\u001b[0m\u001b[0;34m:\u001b[0m \u001b[0mpred_y_np\u001b[0m\u001b[0;34m,\u001b[0m \u001b[0;34m'y_test'\u001b[0m\u001b[0;34m:\u001b[0m \u001b[0my_test_np\u001b[0m\u001b[0;34m}\u001b[0m\u001b[0;34m)\u001b[0m\u001b[0;34m\u001b[0m\u001b[0;34m\u001b[0m\u001b[0m\n\u001b[0m\u001b[1;32m      9\u001b[0m \u001b[0;34m\u001b[0m\u001b[0m\n\u001b[1;32m     10\u001b[0m \u001b[0;31m# Display the first and last 40 rows (if available)\u001b[0m\u001b[0;34m\u001b[0m\u001b[0;34m\u001b[0m\u001b[0m\n",
            "\u001b[0;32m/usr/local/lib/python3.11/dist-packages/pandas/core/frame.py\u001b[0m in \u001b[0;36m__init__\u001b[0;34m(self, data, index, columns, dtype, copy)\u001b[0m\n\u001b[1;32m    776\u001b[0m         \u001b[0;32melif\u001b[0m \u001b[0misinstance\u001b[0m\u001b[0;34m(\u001b[0m\u001b[0mdata\u001b[0m\u001b[0;34m,\u001b[0m \u001b[0mdict\u001b[0m\u001b[0;34m)\u001b[0m\u001b[0;34m:\u001b[0m\u001b[0;34m\u001b[0m\u001b[0;34m\u001b[0m\u001b[0m\n\u001b[1;32m    777\u001b[0m             \u001b[0;31m# GH#38939 de facto copy defaults to False only in non-dict cases\u001b[0m\u001b[0;34m\u001b[0m\u001b[0;34m\u001b[0m\u001b[0m\n\u001b[0;32m--> 778\u001b[0;31m             \u001b[0mmgr\u001b[0m \u001b[0;34m=\u001b[0m \u001b[0mdict_to_mgr\u001b[0m\u001b[0;34m(\u001b[0m\u001b[0mdata\u001b[0m\u001b[0;34m,\u001b[0m \u001b[0mindex\u001b[0m\u001b[0;34m,\u001b[0m \u001b[0mcolumns\u001b[0m\u001b[0;34m,\u001b[0m \u001b[0mdtype\u001b[0m\u001b[0;34m=\u001b[0m\u001b[0mdtype\u001b[0m\u001b[0;34m,\u001b[0m \u001b[0mcopy\u001b[0m\u001b[0;34m=\u001b[0m\u001b[0mcopy\u001b[0m\u001b[0;34m,\u001b[0m \u001b[0mtyp\u001b[0m\u001b[0;34m=\u001b[0m\u001b[0mmanager\u001b[0m\u001b[0;34m)\u001b[0m\u001b[0;34m\u001b[0m\u001b[0;34m\u001b[0m\u001b[0m\n\u001b[0m\u001b[1;32m    779\u001b[0m         \u001b[0;32melif\u001b[0m \u001b[0misinstance\u001b[0m\u001b[0;34m(\u001b[0m\u001b[0mdata\u001b[0m\u001b[0;34m,\u001b[0m \u001b[0mma\u001b[0m\u001b[0;34m.\u001b[0m\u001b[0mMaskedArray\u001b[0m\u001b[0;34m)\u001b[0m\u001b[0;34m:\u001b[0m\u001b[0;34m\u001b[0m\u001b[0;34m\u001b[0m\u001b[0m\n\u001b[1;32m    780\u001b[0m             \u001b[0;32mfrom\u001b[0m \u001b[0mnumpy\u001b[0m\u001b[0;34m.\u001b[0m\u001b[0mma\u001b[0m \u001b[0;32mimport\u001b[0m \u001b[0mmrecords\u001b[0m\u001b[0;34m\u001b[0m\u001b[0;34m\u001b[0m\u001b[0m\n",
            "\u001b[0;32m/usr/local/lib/python3.11/dist-packages/pandas/core/internals/construction.py\u001b[0m in \u001b[0;36mdict_to_mgr\u001b[0;34m(data, index, columns, dtype, typ, copy)\u001b[0m\n\u001b[1;32m    501\u001b[0m             \u001b[0marrays\u001b[0m \u001b[0;34m=\u001b[0m \u001b[0;34m[\u001b[0m\u001b[0mx\u001b[0m\u001b[0;34m.\u001b[0m\u001b[0mcopy\u001b[0m\u001b[0;34m(\u001b[0m\u001b[0;34m)\u001b[0m \u001b[0;32mif\u001b[0m \u001b[0mhasattr\u001b[0m\u001b[0;34m(\u001b[0m\u001b[0mx\u001b[0m\u001b[0;34m,\u001b[0m \u001b[0;34m\"dtype\"\u001b[0m\u001b[0;34m)\u001b[0m \u001b[0;32melse\u001b[0m \u001b[0mx\u001b[0m \u001b[0;32mfor\u001b[0m \u001b[0mx\u001b[0m \u001b[0;32min\u001b[0m \u001b[0marrays\u001b[0m\u001b[0;34m]\u001b[0m\u001b[0;34m\u001b[0m\u001b[0;34m\u001b[0m\u001b[0m\n\u001b[1;32m    502\u001b[0m \u001b[0;34m\u001b[0m\u001b[0m\n\u001b[0;32m--> 503\u001b[0;31m     \u001b[0;32mreturn\u001b[0m \u001b[0marrays_to_mgr\u001b[0m\u001b[0;34m(\u001b[0m\u001b[0marrays\u001b[0m\u001b[0;34m,\u001b[0m \u001b[0mcolumns\u001b[0m\u001b[0;34m,\u001b[0m \u001b[0mindex\u001b[0m\u001b[0;34m,\u001b[0m \u001b[0mdtype\u001b[0m\u001b[0;34m=\u001b[0m\u001b[0mdtype\u001b[0m\u001b[0;34m,\u001b[0m \u001b[0mtyp\u001b[0m\u001b[0;34m=\u001b[0m\u001b[0mtyp\u001b[0m\u001b[0;34m,\u001b[0m \u001b[0mconsolidate\u001b[0m\u001b[0;34m=\u001b[0m\u001b[0mcopy\u001b[0m\u001b[0;34m)\u001b[0m\u001b[0;34m\u001b[0m\u001b[0;34m\u001b[0m\u001b[0m\n\u001b[0m\u001b[1;32m    504\u001b[0m \u001b[0;34m\u001b[0m\u001b[0m\n\u001b[1;32m    505\u001b[0m \u001b[0;34m\u001b[0m\u001b[0m\n",
            "\u001b[0;32m/usr/local/lib/python3.11/dist-packages/pandas/core/internals/construction.py\u001b[0m in \u001b[0;36marrays_to_mgr\u001b[0;34m(arrays, columns, index, dtype, verify_integrity, typ, consolidate)\u001b[0m\n\u001b[1;32m    112\u001b[0m         \u001b[0;31m# figure out the index, if necessary\u001b[0m\u001b[0;34m\u001b[0m\u001b[0;34m\u001b[0m\u001b[0m\n\u001b[1;32m    113\u001b[0m         \u001b[0;32mif\u001b[0m \u001b[0mindex\u001b[0m \u001b[0;32mis\u001b[0m \u001b[0;32mNone\u001b[0m\u001b[0;34m:\u001b[0m\u001b[0;34m\u001b[0m\u001b[0;34m\u001b[0m\u001b[0m\n\u001b[0;32m--> 114\u001b[0;31m             \u001b[0mindex\u001b[0m \u001b[0;34m=\u001b[0m \u001b[0m_extract_index\u001b[0m\u001b[0;34m(\u001b[0m\u001b[0marrays\u001b[0m\u001b[0;34m)\u001b[0m\u001b[0;34m\u001b[0m\u001b[0;34m\u001b[0m\u001b[0m\n\u001b[0m\u001b[1;32m    115\u001b[0m         \u001b[0;32melse\u001b[0m\u001b[0;34m:\u001b[0m\u001b[0;34m\u001b[0m\u001b[0;34m\u001b[0m\u001b[0m\n\u001b[1;32m    116\u001b[0m             \u001b[0mindex\u001b[0m \u001b[0;34m=\u001b[0m \u001b[0mensure_index\u001b[0m\u001b[0;34m(\u001b[0m\u001b[0mindex\u001b[0m\u001b[0;34m)\u001b[0m\u001b[0;34m\u001b[0m\u001b[0;34m\u001b[0m\u001b[0m\n",
            "\u001b[0;32m/usr/local/lib/python3.11/dist-packages/pandas/core/internals/construction.py\u001b[0m in \u001b[0;36m_extract_index\u001b[0;34m(data)\u001b[0m\n\u001b[1;32m    675\u001b[0m         \u001b[0mlengths\u001b[0m \u001b[0;34m=\u001b[0m \u001b[0mlist\u001b[0m\u001b[0;34m(\u001b[0m\u001b[0mset\u001b[0m\u001b[0;34m(\u001b[0m\u001b[0mraw_lengths\u001b[0m\u001b[0;34m)\u001b[0m\u001b[0;34m)\u001b[0m\u001b[0;34m\u001b[0m\u001b[0;34m\u001b[0m\u001b[0m\n\u001b[1;32m    676\u001b[0m         \u001b[0;32mif\u001b[0m \u001b[0mlen\u001b[0m\u001b[0;34m(\u001b[0m\u001b[0mlengths\u001b[0m\u001b[0;34m)\u001b[0m \u001b[0;34m>\u001b[0m \u001b[0;36m1\u001b[0m\u001b[0;34m:\u001b[0m\u001b[0;34m\u001b[0m\u001b[0;34m\u001b[0m\u001b[0m\n\u001b[0;32m--> 677\u001b[0;31m             \u001b[0;32mraise\u001b[0m \u001b[0mValueError\u001b[0m\u001b[0;34m(\u001b[0m\u001b[0;34m\"All arrays must be of the same length\"\u001b[0m\u001b[0;34m)\u001b[0m\u001b[0;34m\u001b[0m\u001b[0;34m\u001b[0m\u001b[0m\n\u001b[0m\u001b[1;32m    678\u001b[0m \u001b[0;34m\u001b[0m\u001b[0m\n\u001b[1;32m    679\u001b[0m         \u001b[0;32mif\u001b[0m \u001b[0mhave_dicts\u001b[0m\u001b[0;34m:\u001b[0m\u001b[0;34m\u001b[0m\u001b[0;34m\u001b[0m\u001b[0m\n",
            "\u001b[0;31mValueError\u001b[0m: All arrays must be of the same length"
          ]
        }
      ],
      "source": [
        "import pandas as pd\n",
        "\n",
        "# Detach and convert tensors to NumPy arrays\n",
        "pred_y_np = pred_y.detach().cpu().numpy().flatten()\n",
        "y_test_np = y_test.detach().cpu().numpy().flatten()\n",
        "\n",
        "# Create a DataFrame for side-by-side comparison\n",
        "comparison_df = pd.DataFrame({'pred_y': pred_y_np, 'y_test': y_test_np})\n",
        "\n",
        "# Display the first and last 40 rows (if available)\n",
        "n = 40\n",
        "if len(comparison_df) > 2 * n:\n",
        "    display_df = pd.concat([comparison_df.head(n), comparison_df.tail(n)])\n",
        "else:\n",
        "    display_df = comparison_df  # show entire DataFrame if too small\n",
        "\n",
        "print(display_df)\n"
      ]
    },
    {
      "cell_type": "code",
      "execution_count": null,
      "metadata": {
        "colab": {
          "base_uri": "https://localhost:8080/"
        },
        "id": "RJ5EnuuCuPD5",
        "outputId": "652e3172-9556-46bf-ef89-c759a8c5e8f0"
      },
      "outputs": [
        {
          "output_type": "execute_result",
          "data": {
            "text/plain": [
              "Aux_MLP(\n",
              "  (fc1): Linear(in_features=8, out_features=64, bias=True)\n",
              "  (dropout): Dropout(p=0.2, inplace=False)\n",
              "  (fc2): Linear(in_features=64, out_features=64, bias=True)\n",
              ")"
            ]
          },
          "metadata": {},
          "execution_count": 155
        }
      ],
      "source": [
        "net"
      ]
    },
    {
      "cell_type": "code",
      "execution_count": null,
      "metadata": {
        "id": "K0zvGnyvu6xS",
        "colab": {
          "base_uri": "https://localhost:8080/"
        },
        "outputId": "4a00ede3-78ef-4b3c-a171-aec4b3266695"
      },
      "outputs": [
        {
          "output_type": "execute_result",
          "data": {
            "text/plain": [
              "array([ 0,  1,  2,  3,  4,  5,  6,  7,  8,  9, 10, 11, 12, 13, 14, 15, 16,\n",
              "       17, 18, 19])"
            ]
          },
          "metadata": {},
          "execution_count": 74
        }
      ],
      "source": [
        "unique_values_in_X"
      ]
    },
    {
      "cell_type": "code",
      "execution_count": null,
      "metadata": {
        "id": "easxxqNesGPS",
        "colab": {
          "base_uri": "https://localhost:8080/"
        },
        "outputId": "9b9c0058-44bd-4b2e-9c5a-93890d671300"
      },
      "outputs": [
        {
          "output_type": "execute_result",
          "data": {
            "text/plain": [
              "tensor([[13,  7, 17,  ...,  0, 12, 18],\n",
              "        [16,  8, 13,  ..., 13, 18,  4],\n",
              "        [15, 16,  6,  ...,  8,  4, 19],\n",
              "        ...,\n",
              "        [ 4,  1, 12,  ..., 13, 16, 19],\n",
              "        [ 5, 14, 10,  ...,  9, 15, 18],\n",
              "        [15, 14,  7,  ...,  7, 13, 18]])"
            ]
          },
          "metadata": {},
          "execution_count": 75
        }
      ],
      "source": [
        "X_train"
      ]
    },
    {
      "cell_type": "code",
      "execution_count": null,
      "metadata": {
        "id": "RZQOUFYqczPg",
        "colab": {
          "base_uri": "https://localhost:8080/"
        },
        "outputId": "9f7503b4-c4d4-475b-970d-b75dfa50f53a"
      },
      "outputs": [
        {
          "output_type": "execute_result",
          "data": {
            "text/plain": [
              "[tensor(0.8421)]"
            ]
          },
          "metadata": {},
          "execution_count": 76
        }
      ],
      "source": [
        "accuracy_scores"
      ]
    },
    {
      "cell_type": "code",
      "execution_count": null,
      "metadata": {
        "id": "OlseuBN5_uvR",
        "colab": {
          "base_uri": "https://localhost:8080/"
        },
        "outputId": "213c14fa-77c0-437d-85e6-07e3b1b8d719"
      },
      "outputs": [
        {
          "output_type": "execute_result",
          "data": {
            "text/plain": [
              "[0.8636363636363636]"
            ]
          },
          "metadata": {},
          "execution_count": 77
        }
      ],
      "source": [
        "recall_scores"
      ]
    },
    {
      "cell_type": "code",
      "execution_count": null,
      "metadata": {
        "colab": {
          "base_uri": "https://localhost:8080/"
        },
        "id": "KKVv5P4A_tjx",
        "outputId": "96524c31-c609-489d-dbcf-6c1b52f1d802"
      },
      "outputs": [
        {
          "output_type": "stream",
          "name": "stdout",
          "text": [
            "\n",
            "--- Average Metrics Across Folds ---\n",
            "Average Accuracy: 0.8421052694320679\n",
            "Average Precision: 0.8085106382978723\n",
            "Average Recall: 0.8636363636363636\n",
            "Average F1-score: 0.8351648351648352\n"
          ]
        }
      ],
      "source": [
        "# Convert PyTorch tensors in the lists to Python floats\n",
        "accuracy_scores = [score.item() if isinstance(score, torch.Tensor) else score for score in accuracy_scores]\n",
        "precision_scores = [score.item() if isinstance(score, torch.Tensor) else score for score in precision_scores]\n",
        "recall_scores = [score.item() if isinstance(score, torch.Tensor) else score for score in recall_scores]\n",
        "f1_scores = [score.item() if isinstance(score, torch.Tensor) else score for score in f1_scores]\n",
        "\n",
        "# Calculate averages using NumPy\n",
        "avg_accuracy = np.mean(accuracy_scores)\n",
        "avg_precision = np.mean(precision_scores)\n",
        "avg_recall = np.mean(recall_scores)\n",
        "avg_f1 = np.mean(f1_scores)\n",
        "\n",
        "# Print average metrics\n",
        "print(\"\\n--- Average Metrics Across Folds ---\")\n",
        "print(f\"Average Accuracy: {avg_accuracy}\")\n",
        "print(f\"Average Precision: {avg_precision}\")\n",
        "print(f\"Average Recall: {avg_recall}\")\n",
        "print(f\"Average F1-score: {avg_f1}\")"
      ]
    },
    {
      "cell_type": "code",
      "execution_count": null,
      "metadata": {
        "colab": {
          "base_uri": "https://localhost:8080/"
        },
        "id": "SDTpJpJpF_nv",
        "outputId": "7814fe83-3851-4d69-adab-2df2a32b8d36"
      },
      "outputs": [
        {
          "output_type": "stream",
          "name": "stdout",
          "text": [
            "\n",
            "--- Average Metrics Across Folds (excluding zero values)---\n",
            "Average Accuracy: 0.8421052694320679\n",
            "Average Precision: 0.8085106382978723\n",
            "Average Recall: 0.8636363636363636\n",
            "Average F1-score: 0.8351648351648352\n"
          ]
        }
      ],
      "source": [
        "# prompt: same as above but taking out 0 values and corresponding values from the lists accuracy_scores precision_scores recall_scores f1_scores\n",
        "\n",
        "import numpy as np\n",
        "\n",
        "# Assuming accuracy_scores, precision_scores, recall_scores, and f1_scores are lists of numerical values\n",
        "\n",
        "# Find indices where any of the scores is 0\n",
        "zero_indices = [i for i, (acc, prec, rec, f1) in enumerate(zip(accuracy_scores, precision_scores, recall_scores, f1_scores)) if acc == 0 or prec == 0 or rec == 0 or f1 == 0]\n",
        "\n",
        "\n",
        "# Remove elements at zero_indices from all lists\n",
        "accuracy_scores = [score for i, score in enumerate(accuracy_scores) if i not in zero_indices]\n",
        "precision_scores = [score for i, score in enumerate(precision_scores) if i not in zero_indices]\n",
        "recall_scores = [score for i, score in enumerate(recall_scores) if i not in zero_indices]\n",
        "f1_scores = [score for i, score in enumerate(f1_scores) if i not in zero_indices]\n",
        "\n",
        "# Convert lists to numpy arrays for easier calculations (if necessary)\n",
        "accuracy_scores = np.array(accuracy_scores)\n",
        "precision_scores = np.array(precision_scores)\n",
        "recall_scores = np.array(recall_scores)\n",
        "f1_scores = np.array(f1_scores)\n",
        "\n",
        "\n",
        "# Calculate and print averages\n",
        "avg_accuracy = np.mean(accuracy_scores) if len(accuracy_scores)>0 else 0\n",
        "avg_precision = np.mean(precision_scores) if len(precision_scores)>0 else 0\n",
        "avg_recall = np.mean(recall_scores) if len(recall_scores)>0 else 0\n",
        "avg_f1 = np.mean(f1_scores) if len(f1_scores)>0 else 0\n",
        "\n",
        "print(\"\\n--- Average Metrics Across Folds (excluding zero values)---\")\n",
        "print(f\"Average Accuracy: {avg_accuracy}\")\n",
        "print(f\"Average Precision: {avg_precision}\")\n",
        "print(f\"Average Recall: {avg_recall}\")\n",
        "print(f\"Average F1-score: {avg_f1}\")"
      ]
    },
    {
      "cell_type": "markdown",
      "metadata": {
        "id": "Ln5s6Cxh6Rgu"
      },
      "source": [
        "### Save the model\n",
        "\n",
        "You don't need to save the encoder here. The label encoder is set up early on, never trained, so it is saved early too."
      ]
    },
    {
      "cell_type": "code",
      "execution_count": null,
      "metadata": {
        "id": "D35B93qsIAJm"
      },
      "outputs": [],
      "source": [
        "torch.save(net.state_dict(), colab_folder_path + model_name)"
      ]
    },
    {
      "cell_type": "markdown",
      "metadata": {
        "id": "5arbW0Trh7wO"
      },
      "source": [
        "## Embedding inspection"
      ]
    },
    {
      "cell_type": "code",
      "execution_count": null,
      "metadata": {
        "id": "B9eISzCQiJzu",
        "colab": {
          "base_uri": "https://localhost:8080/"
        },
        "outputId": "c0477fd9-79d4-44f9-a880-2d26c04af2d3"
      },
      "outputs": [
        {
          "output_type": "execute_result",
          "data": {
            "text/plain": [
              "Embedding(20, 8)"
            ]
          },
          "metadata": {},
          "execution_count": 81
        }
      ],
      "source": [
        "net.embedding"
      ]
    },
    {
      "cell_type": "code",
      "execution_count": null,
      "metadata": {
        "id": "31796_2Bh9gl",
        "colab": {
          "base_uri": "https://localhost:8080/"
        },
        "outputId": "9cab727b-372a-4b58-8530-3f0ed3b0ed7b"
      },
      "outputs": [
        {
          "output_type": "stream",
          "name": "stdout",
          "text": [
            "[ 8  7  5  4 14  6  3 19  0 10 15  3  2 17 14  9  6 19  0  1]\n"
          ]
        },
        {
          "output_type": "stream",
          "name": "stderr",
          "text": [
            "<ipython-input-82-b5010c4fb0f6>:4: UserWarning: To copy construct from a tensor, it is recommended to use sourceTensor.clone().detach() or sourceTensor.clone().detach().requires_grad_(True), rather than torch.tensor(sourceTensor).\n",
            "  embedding = net.embedding(torch.tensor(X[0]).to(device))\n"
          ]
        },
        {
          "output_type": "execute_result",
          "data": {
            "text/plain": [
              "tensor([[-0.0074, -0.7047,  0.8624,  2.4348,  0.3178,  3.7762,  0.6283,  0.8018],\n",
              "        [-1.9350,  1.0974, -1.0789, -0.5513,  0.4804, -0.2421, -0.8965,  1.9435],\n",
              "        [-0.9595, -0.9219, -1.0653, -0.8168, -0.3605, -0.1400, -0.2840,  1.1575],\n",
              "        [ 0.4398, -0.5294, -1.1961,  0.0926,  0.1025, -0.4355, -0.3560,  0.8012],\n",
              "        [-0.3059,  1.3865,  1.5282,  0.1190, -1.4767, -0.0671, -0.4755,  0.6376],\n",
              "        [-1.5113,  0.8695, -0.0570, -0.1340, -0.5749,  2.0666,  0.0700, -1.5822],\n",
              "        [ 1.2280,  1.0378,  0.7247, -0.7896,  0.5633,  1.2793, -0.3448,  0.3526],\n",
              "        [ 0.5201,  1.2816,  0.0234,  0.2582, -2.1164,  1.7342, -0.7888,  1.1597],\n",
              "        [ 1.3020, -0.2660,  0.5155, -0.5791,  1.2082,  0.2068, -0.3337, -0.6095],\n",
              "        [-1.4330, -0.4111, -1.0544, -0.5251, -0.0776,  1.1126, -1.8244,  2.7839],\n",
              "        [ 0.3273,  0.6566, -0.7577,  0.5030, -0.4067,  0.2204,  0.7338,  1.0099],\n",
              "        [ 1.2280,  1.0378,  0.7247, -0.7896,  0.5633,  1.2793, -0.3448,  0.3526],\n",
              "        [ 0.6251, -0.8881, -0.4095, -0.4030, -1.2283, -0.7616, -0.7756, -0.0054],\n",
              "        [-0.6302,  1.0367, -1.1518, -0.8465, -0.6990, -0.0641, -1.8948, -0.4279],\n",
              "        [-0.3059,  1.3865,  1.5282,  0.1190, -1.4767, -0.0671, -0.4755,  0.6376],\n",
              "        [-0.8317, -0.3720,  0.7502,  0.9989, -0.6321, -1.0339, -0.4005,  0.5920],\n",
              "        [-1.5113,  0.8695, -0.0570, -0.1340, -0.5749,  2.0666,  0.0700, -1.5822],\n",
              "        [ 0.5201,  1.2816,  0.0234,  0.2582, -2.1164,  1.7342, -0.7888,  1.1597],\n",
              "        [ 1.3020, -0.2660,  0.5155, -0.5791,  1.2082,  0.2068, -0.3337, -0.6095],\n",
              "        [-1.2169,  0.9630,  0.2599, -1.0199, -0.0987, -0.9060,  1.3007,  1.5454]],\n",
              "       grad_fn=<EmbeddingBackward0>)"
            ]
          },
          "metadata": {},
          "execution_count": 82
        }
      ],
      "source": [
        "# prompt: use net's embedding layer to extract the embedding of X[0]\n",
        "\n",
        "# Assuming 'net' is your trained model and 'X' is your data\n",
        "embedding = net.embedding(torch.tensor(X[0]).to(device))\n",
        "print(encoder.inverse_transform(X[0]))\n",
        "embedding"
      ]
    },
    {
      "cell_type": "code",
      "execution_count": null,
      "metadata": {
        "id": "j3Ep7LMEJzpP",
        "colab": {
          "base_uri": "https://localhost:8080/"
        },
        "outputId": "9e1849ff-797a-4b44-95be-2e19b00af5a9"
      },
      "outputs": [
        {
          "output_type": "stream",
          "name": "stdout",
          "text": [
            "[14 17  6 11  8  5  0 10  2  3 11 10  2  7 16  9  0  6 13 12]\n"
          ]
        },
        {
          "output_type": "stream",
          "name": "stderr",
          "text": [
            "<ipython-input-83-628bd971fdbf>:1: UserWarning: To copy construct from a tensor, it is recommended to use sourceTensor.clone().detach() or sourceTensor.clone().detach().requires_grad_(True), rather than torch.tensor(sourceTensor).\n",
            "  embedding = net.embedding(torch.tensor(X[1]).to(device))\n"
          ]
        },
        {
          "output_type": "execute_result",
          "data": {
            "text/plain": [
              "tensor([[-3.0588e-01,  1.3865e+00,  1.5282e+00,  1.1905e-01, -1.4767e+00,\n",
              "         -6.7067e-02, -4.7554e-01,  6.3764e-01],\n",
              "        [-6.3020e-01,  1.0367e+00, -1.1518e+00, -8.4653e-01, -6.9898e-01,\n",
              "         -6.4084e-02, -1.8948e+00, -4.2788e-01],\n",
              "        [-1.5113e+00,  8.6950e-01, -5.6973e-02, -1.3397e-01, -5.7486e-01,\n",
              "          2.0666e+00,  6.9987e-02, -1.5822e+00],\n",
              "        [-6.7509e-02,  1.3965e+00,  4.6839e-01,  2.0231e+00,  1.6004e+00,\n",
              "          1.9013e-01,  2.4007e+00, -1.3505e-01],\n",
              "        [-7.3722e-03, -7.0466e-01,  8.6242e-01,  2.4348e+00,  3.1781e-01,\n",
              "          3.7762e+00,  6.2828e-01,  8.0180e-01],\n",
              "        [-9.5945e-01, -9.2188e-01, -1.0653e+00, -8.1679e-01, -3.6046e-01,\n",
              "         -1.4000e-01, -2.8399e-01,  1.1575e+00],\n",
              "        [ 1.3020e+00, -2.6605e-01,  5.1549e-01, -5.7915e-01,  1.2082e+00,\n",
              "          2.0682e-01, -3.3370e-01, -6.0947e-01],\n",
              "        [-1.4330e+00, -4.1107e-01, -1.0544e+00, -5.2513e-01, -7.7584e-02,\n",
              "          1.1126e+00, -1.8244e+00,  2.7839e+00],\n",
              "        [ 6.2512e-01, -8.8814e-01, -4.0954e-01, -4.0299e-01, -1.2283e+00,\n",
              "         -7.6158e-01, -7.7560e-01, -5.3605e-03],\n",
              "        [ 1.2280e+00,  1.0378e+00,  7.2474e-01, -7.8956e-01,  5.6329e-01,\n",
              "          1.2793e+00, -3.4485e-01,  3.5259e-01],\n",
              "        [-6.7509e-02,  1.3965e+00,  4.6839e-01,  2.0231e+00,  1.6004e+00,\n",
              "          1.9013e-01,  2.4007e+00, -1.3505e-01],\n",
              "        [-1.4330e+00, -4.1107e-01, -1.0544e+00, -5.2513e-01, -7.7584e-02,\n",
              "          1.1126e+00, -1.8244e+00,  2.7839e+00],\n",
              "        [ 6.2512e-01, -8.8814e-01, -4.0954e-01, -4.0299e-01, -1.2283e+00,\n",
              "         -7.6158e-01, -7.7560e-01, -5.3605e-03],\n",
              "        [-1.9350e+00,  1.0974e+00, -1.0789e+00, -5.5126e-01,  4.8037e-01,\n",
              "         -2.4213e-01, -8.9650e-01,  1.9435e+00],\n",
              "        [ 1.7693e+00, -4.9026e-01, -1.7919e-03,  2.0456e-01, -7.2932e-01,\n",
              "         -5.1393e-02,  1.7094e+00,  8.2092e-01],\n",
              "        [-8.3169e-01, -3.7201e-01,  7.5018e-01,  9.9895e-01, -6.3206e-01,\n",
              "         -1.0339e+00, -4.0046e-01,  5.9199e-01],\n",
              "        [ 1.3020e+00, -2.6605e-01,  5.1549e-01, -5.7915e-01,  1.2082e+00,\n",
              "          2.0682e-01, -3.3370e-01, -6.0947e-01],\n",
              "        [-1.5113e+00,  8.6950e-01, -5.6973e-02, -1.3397e-01, -5.7486e-01,\n",
              "          2.0666e+00,  6.9987e-02, -1.5822e+00],\n",
              "        [ 5.8028e-01, -4.4707e-01, -2.2549e-01,  6.4081e-01,  8.4767e-01,\n",
              "          4.6404e-01,  6.9960e-01, -2.7759e-01],\n",
              "        [-4.2468e-01, -8.4588e-01,  8.5670e-01, -8.7226e-01,  1.0560e+00,\n",
              "         -1.8805e+00, -6.3842e-01,  7.3317e-01]], grad_fn=<EmbeddingBackward0>)"
            ]
          },
          "metadata": {},
          "execution_count": 83
        }
      ],
      "source": [
        "embedding = net.embedding(torch.tensor(X[1]).to(device))\n",
        "print(encoder.inverse_transform(X[1]))\n",
        "embedding"
      ]
    },
    {
      "cell_type": "code",
      "execution_count": null,
      "metadata": {
        "id": "0H0iGIhfQesr"
      },
      "outputs": [],
      "source": [
        "name_to_embedding = {}\n",
        "for unique_X in unique_values_in_X:\n",
        "  embedding = net.embedding(torch.tensor(unique_X).to(device))\n",
        "  name_to_embedding[encoder.inverse_transform([unique_X])[0]] = embedding"
      ]
    },
    {
      "cell_type": "code",
      "execution_count": null,
      "metadata": {
        "id": "Qo5HFeVtYokq",
        "colab": {
          "base_uri": "https://localhost:8080/"
        },
        "outputId": "e230e948-f993-4391-a4d7-d0b33629895e"
      },
      "outputs": [
        {
          "output_type": "execute_result",
          "data": {
            "text/plain": [
              "array([ 0,  1,  2,  3,  4,  5,  6,  7,  8,  9, 10, 11, 12, 13, 14, 15, 16,\n",
              "       17, 18, 19])"
            ]
          },
          "metadata": {},
          "execution_count": 85
        }
      ],
      "source": [
        "unique_values_in_X"
      ]
    },
    {
      "cell_type": "code",
      "execution_count": null,
      "metadata": {
        "id": "uL9VwGI4Y85g",
        "colab": {
          "base_uri": "https://localhost:8080/"
        },
        "outputId": "51a648d7-7a69-487d-f92d-db63fbdda633"
      },
      "outputs": [
        {
          "output_type": "execute_result",
          "data": {
            "text/plain": [
              "{np.int64(0): tensor([ 1.3020, -0.2660,  0.5155, -0.5791,  1.2082,  0.2068, -0.3337, -0.6095],\n",
              "        grad_fn=<EmbeddingBackward0>),\n",
              " np.int64(1): tensor([-1.2169,  0.9630,  0.2599, -1.0199, -0.0987, -0.9060,  1.3007,  1.5454],\n",
              "        grad_fn=<EmbeddingBackward0>),\n",
              " np.int64(2): tensor([ 0.6251, -0.8881, -0.4095, -0.4030, -1.2283, -0.7616, -0.7756, -0.0054],\n",
              "        grad_fn=<EmbeddingBackward0>),\n",
              " np.int64(3): tensor([ 1.2280,  1.0378,  0.7247, -0.7896,  0.5633,  1.2793, -0.3448,  0.3526],\n",
              "        grad_fn=<EmbeddingBackward0>),\n",
              " np.int64(4): tensor([ 0.4398, -0.5294, -1.1961,  0.0926,  0.1025, -0.4355, -0.3560,  0.8012],\n",
              "        grad_fn=<EmbeddingBackward0>),\n",
              " np.int64(5): tensor([-0.9595, -0.9219, -1.0653, -0.8168, -0.3605, -0.1400, -0.2840,  1.1575],\n",
              "        grad_fn=<EmbeddingBackward0>),\n",
              " np.int64(6): tensor([-1.5113,  0.8695, -0.0570, -0.1340, -0.5749,  2.0666,  0.0700, -1.5822],\n",
              "        grad_fn=<EmbeddingBackward0>),\n",
              " np.int64(7): tensor([-1.9350,  1.0974, -1.0789, -0.5513,  0.4804, -0.2421, -0.8965,  1.9435],\n",
              "        grad_fn=<EmbeddingBackward0>),\n",
              " np.int64(8): tensor([-0.0074, -0.7047,  0.8624,  2.4348,  0.3178,  3.7762,  0.6283,  0.8018],\n",
              "        grad_fn=<EmbeddingBackward0>),\n",
              " np.int64(9): tensor([-0.8317, -0.3720,  0.7502,  0.9989, -0.6321, -1.0339, -0.4005,  0.5920],\n",
              "        grad_fn=<EmbeddingBackward0>),\n",
              " np.int64(10): tensor([-1.4330, -0.4111, -1.0544, -0.5251, -0.0776,  1.1126, -1.8244,  2.7839],\n",
              "        grad_fn=<EmbeddingBackward0>),\n",
              " np.int64(11): tensor([-0.0675,  1.3965,  0.4684,  2.0231,  1.6004,  0.1901,  2.4007, -0.1351],\n",
              "        grad_fn=<EmbeddingBackward0>),\n",
              " np.int64(12): tensor([-0.4247, -0.8459,  0.8567, -0.8723,  1.0560, -1.8805, -0.6384,  0.7332],\n",
              "        grad_fn=<EmbeddingBackward0>),\n",
              " np.int64(13): tensor([ 0.5803, -0.4471, -0.2255,  0.6408,  0.8477,  0.4640,  0.6996, -0.2776],\n",
              "        grad_fn=<EmbeddingBackward0>),\n",
              " np.int64(14): tensor([-0.3059,  1.3865,  1.5282,  0.1190, -1.4767, -0.0671, -0.4755,  0.6376],\n",
              "        grad_fn=<EmbeddingBackward0>),\n",
              " np.int64(15): tensor([ 0.3273,  0.6566, -0.7577,  0.5030, -0.4067,  0.2204,  0.7338,  1.0099],\n",
              "        grad_fn=<EmbeddingBackward0>),\n",
              " np.int64(16): tensor([ 1.7693, -0.4903, -0.0018,  0.2046, -0.7293, -0.0514,  1.7094,  0.8209],\n",
              "        grad_fn=<EmbeddingBackward0>),\n",
              " np.int64(17): tensor([-0.6302,  1.0367, -1.1518, -0.8465, -0.6990, -0.0641, -1.8948, -0.4279],\n",
              "        grad_fn=<EmbeddingBackward0>),\n",
              " np.int64(18): tensor([ 0.9336,  0.6516, -2.0515,  0.9323, -0.2121,  0.2137, -0.5607,  0.1470],\n",
              "        grad_fn=<EmbeddingBackward0>),\n",
              " np.int64(19): tensor([ 0.5201,  1.2816,  0.0234,  0.2582, -2.1164,  1.7342, -0.7888,  1.1597],\n",
              "        grad_fn=<EmbeddingBackward0>)}"
            ]
          },
          "metadata": {},
          "execution_count": 86
        }
      ],
      "source": [
        "name_to_embedding"
      ]
    },
    {
      "cell_type": "code",
      "execution_count": null,
      "metadata": {
        "collapsed": true,
        "id": "rvVJr-hJioHP"
      },
      "outputs": [],
      "source": [
        "# Joey's spaghetti code\n",
        "# get embeddings for all NBA players\n",
        "# name_to_embedding = {}\n",
        "# for game in X:\n",
        "#   embeds = net.embedding(torch.tensor(game).to(device))\n",
        "#   names = encoder.inverse_transform(game)\n",
        "#   for i in range(len(names)):\n",
        "#     name_to_embedding[names[i]] = embeds[i]"
      ]
    },
    {
      "cell_type": "code",
      "execution_count": null,
      "metadata": {
        "id": "YylUWLRxOJ3n",
        "colab": {
          "base_uri": "https://localhost:8080/"
        },
        "outputId": "e86c6192-18b6-4abd-8a4b-0aa4e075f738"
      },
      "outputs": [
        {
          "output_type": "stream",
          "name": "stdout",
          "text": [
            "20\n"
          ]
        }
      ],
      "source": [
        "print(len(name_to_embedding))"
      ]
    },
    {
      "cell_type": "code",
      "execution_count": null,
      "metadata": {
        "id": "bHUtRhq_N-mM",
        "colab": {
          "base_uri": "https://localhost:8080/",
          "height": 139
        },
        "outputId": "6b0499b3-0324-4641-df1a-2434cf35ed44"
      },
      "outputs": [
        {
          "output_type": "error",
          "ename": "KeyError",
          "evalue": "135",
          "traceback": [
            "\u001b[0;31m---------------------------------------------------------------------------\u001b[0m",
            "\u001b[0;31mKeyError\u001b[0m                                  Traceback (most recent call last)",
            "\u001b[0;32m<ipython-input-88-c5bc8aa9833c>\u001b[0m in \u001b[0;36m<cell line: 0>\u001b[0;34m()\u001b[0m\n\u001b[0;32m----> 1\u001b[0;31m \u001b[0mname_to_embedding\u001b[0m\u001b[0;34m[\u001b[0m\u001b[0;36m135\u001b[0m\u001b[0;34m]\u001b[0m\u001b[0;34m\u001b[0m\u001b[0;34m\u001b[0m\u001b[0m\n\u001b[0m",
            "\u001b[0;31mKeyError\u001b[0m: 135"
          ]
        }
      ],
      "source": [
        "name_to_embedding[135]"
      ]
    },
    {
      "cell_type": "code",
      "execution_count": null,
      "metadata": {
        "id": "tCeGm_huMbQ3"
      },
      "outputs": [],
      "source": [
        "## takes two n-dimensional vectors, and calculates the manhattan distance between the two vectors\n",
        "def manhattan_distance(x1, x2):\n",
        "    if(len(x1) != len(x2)):\n",
        "        print(\"Error: x1 and x2 must be the same length\")\n",
        "    dist = 0\n",
        "    for i in range(len(x1)):\n",
        "        diff = x1[i] - x2[i]\n",
        "        dist += abs(diff)\n",
        "    return dist"
      ]
    },
    {
      "cell_type": "code",
      "execution_count": null,
      "metadata": {
        "id": "vUR0_P0HOr2_"
      },
      "outputs": [],
      "source": [
        "def nearest_embeddings(name):\n",
        "  if name not in name_to_embedding:\n",
        "    print(\"Error: name not in name_to_embedding\")\n",
        "    return\n",
        "  closest = []\n",
        "  name_embedding = name_to_embedding[name]\n",
        "  for name, embedding in name_to_embedding.items():\n",
        "    #print(name, manhattan_distance(name_embedding, embedding))\n",
        "    closest.append((name, manhattan_distance(name_embedding, embedding)))\n",
        "  closest.sort(key=lambda x: x[1])\n",
        "  return closest[:10]"
      ]
    },
    {
      "cell_type": "code",
      "execution_count": null,
      "metadata": {
        "id": "YxT9qDRz-0zl",
        "colab": {
          "base_uri": "https://localhost:8080/"
        },
        "outputId": "29764df5-8d3a-4950-e830-f2d1dcb398ff"
      },
      "outputs": [
        {
          "output_type": "stream",
          "name": "stdout",
          "text": [
            "Error: name not in name_to_embedding\n"
          ]
        }
      ],
      "source": [
        "nearest_embeddings(99)"
      ]
    },
    {
      "cell_type": "code",
      "execution_count": null,
      "metadata": {
        "id": "8BTDo9uiPFvp",
        "colab": {
          "base_uri": "https://localhost:8080/"
        },
        "outputId": "66e23679-75ac-4044-bbc7-a31ab02b838d"
      },
      "outputs": [
        {
          "output_type": "stream",
          "name": "stdout",
          "text": [
            "Error: name not in name_to_embedding\n"
          ]
        }
      ],
      "source": [
        "nearest_embeddings(44)"
      ]
    },
    {
      "cell_type": "code",
      "execution_count": null,
      "metadata": {
        "id": "71wVsRzthOFy",
        "colab": {
          "base_uri": "https://localhost:8080/"
        },
        "outputId": "f22dd884-9d56-4b7a-c0cf-5829bab6e86b"
      },
      "outputs": [
        {
          "output_type": "stream",
          "name": "stdout",
          "text": [
            "Error: name not in name_to_embedding\n"
          ]
        }
      ],
      "source": [
        "nearest_embeddings(37)"
      ]
    },
    {
      "cell_type": "code",
      "execution_count": null,
      "metadata": {
        "id": "etCzkTrl-8bM",
        "colab": {
          "base_uri": "https://localhost:8080/"
        },
        "outputId": "666be598-cf27-4753-f346-bad444b924e9"
      },
      "outputs": [
        {
          "output_type": "stream",
          "name": "stdout",
          "text": [
            "Error: name not in name_to_embedding\n"
          ]
        }
      ],
      "source": [
        "nearest_embeddings(\"Yao Ming\")"
      ]
    },
    {
      "cell_type": "code",
      "execution_count": null,
      "metadata": {
        "id": "3or9QN8j_P08",
        "colab": {
          "base_uri": "https://localhost:8080/"
        },
        "outputId": "ccd604b9-ce63-4f2c-d4ed-aa80f0a110bb"
      },
      "outputs": [
        {
          "output_type": "stream",
          "name": "stdout",
          "text": [
            "Error: name not in name_to_embedding\n"
          ]
        }
      ],
      "source": [
        "nearest_embeddings(\"Kobe Bryant\")"
      ]
    },
    {
      "cell_type": "code",
      "execution_count": null,
      "metadata": {
        "id": "-LSD6dGH_SX0",
        "colab": {
          "base_uri": "https://localhost:8080/"
        },
        "outputId": "c312f8d7-ddb8-4609-b932-5e59f1107371"
      },
      "outputs": [
        {
          "output_type": "stream",
          "name": "stdout",
          "text": [
            "Error: name not in name_to_embedding\n"
          ]
        }
      ],
      "source": [
        "nearest_embeddings(\"Shaquille O'Neal\")"
      ]
    },
    {
      "cell_type": "code",
      "execution_count": null,
      "metadata": {
        "id": "XqEgz8c__bKr",
        "colab": {
          "base_uri": "https://localhost:8080/"
        },
        "outputId": "533ed152-1c30-48b0-b42c-16dc8141b17a"
      },
      "outputs": [
        {
          "output_type": "stream",
          "name": "stdout",
          "text": [
            "Error: name not in name_to_embedding\n"
          ]
        }
      ],
      "source": [
        "nearest_embeddings(\"Paul George\")"
      ]
    },
    {
      "cell_type": "code",
      "execution_count": null,
      "metadata": {
        "id": "rFtliaZ9_7hN",
        "colab": {
          "base_uri": "https://localhost:8080/"
        },
        "outputId": "6c812c3e-cc18-4343-ba66-92819092f896"
      },
      "outputs": [
        {
          "output_type": "stream",
          "name": "stdout",
          "text": [
            "Error: name not in name_to_embedding\n"
          ]
        }
      ],
      "source": [
        "nearest_embeddings(\"Calbert Cheaney\")"
      ]
    },
    {
      "cell_type": "markdown",
      "metadata": {
        "id": "2yOCgsxyEBdW"
      },
      "source": [
        "A even better idea is to analysis their key, query, value separately. However, this is not easy in the current implementation. You will need to have custom transformer encoder to do that."
      ]
    },
    {
      "cell_type": "markdown",
      "metadata": {
        "id": "91RfXZJrt1og"
      },
      "source": [
        "#Real Train Test Experiments"
      ]
    },
    {
      "cell_type": "code",
      "execution_count": null,
      "metadata": {
        "id": "5xp-w3XV2G6M"
      },
      "outputs": [],
      "source": [
        "def run_model(model, X, y, embedding_dim):\n",
        "  #X = torch.tensor(X, dtype=torch.long)  # Use torch.long for indices\n",
        "  #y = torch.tensor(y, dtype=torch.float) # Use torch.float for labels\n",
        "  k_fold = KFold(n_splits=10, shuffle=True, random_state=123)\n",
        "  # Create a list to store the accuracy scores for each fold\n",
        "  accuracy_scores = []\n",
        "  # criterion = torch.nn.MSELoss()\n",
        "  criterion = torch.nn.BCELoss()\n",
        "  for train_index, test_index in k_fold.split(X):\n",
        "\n",
        "    X_train, X_test = X[train_index], X[test_index]\n",
        "    y_train, y_test = y[train_index], y[test_index]\n",
        "    #split training data for validation\n",
        "    X_train, X_val, y_train, y_val = train_test_split(X_train, y_train, test_size=0.1, random_state=42, shuffle=True)\n",
        "\n",
        "    # initialize the net\n",
        "    net = model(embedding_dim)  # Training\n",
        "    # net = SiameseNetwork(embedding_dim) # Siamese\n",
        "\n",
        "    optimizer = optim.Adam(net.parameters(), lr= 0.0001)\n",
        "    patience= 100\n",
        "    best_loss = float('inf')\n",
        "    counter = 0\n",
        "    for epoch in range(1000):\n",
        "        ##batch training\n",
        "        #TODO try minibatch\n",
        "        #pred_y = net(X_train.long())\n",
        "        pred_y = net(X_train)\n",
        "\n",
        "        # Calculate the loss\n",
        "        loss = criterion(pred_y.flatten(), y_train.float())\n",
        "\n",
        "        # Zero the gradients\n",
        "        optimizer.zero_grad()\n",
        "\n",
        "        # Backpropagate the loss\n",
        "        loss.backward()\n",
        "\n",
        "        # Update the parameters\n",
        "        optimizer.step()\n",
        "\n",
        "        if(epoch%100 == 0):\n",
        "          print(\"Epoch \"+ str(epoch) +\" training loss: \"+ str(loss.item()))\n",
        "        #comment out the two lines below to make the task more difficult\n",
        "        #X_val = X_test\n",
        "        #y_val = y_test\n",
        "\n",
        "        val_pred_y = net(X_val) # Changed val_pred_y to val_pred_y_1, val_pred_y_2\n",
        "        val_loss = criterion(val_pred_y.flatten(), y_val.float()) # Changed val_pred_y to val_pred_y_1 and val_loss to val_loss_1\n",
        "\n",
        "        if(epoch%100 == 0):\n",
        "          print(\"validation loss: \"+ str(val_loss.item()))\n",
        "\n",
        "        if val_loss.item() < best_loss:\n",
        "            best_loss = val_loss.item()\n",
        "            counter = 0\n",
        "        else:\n",
        "            counter += 1\n",
        "            if counter >= patience:\n",
        "                print(\"Early stopping on epoch: \" + str(epoch))\n",
        "                break\n",
        "\n",
        "\n",
        "\n",
        "\n",
        "\n",
        "    # testing\n",
        "    pred_y = net(X_test)\n",
        "    #convert all pred_y value more than 0.5 to 1,\n",
        "    #and the rest to 0\n",
        "    pred_y[pred_y>0.5] = 1\n",
        "    pred_y[pred_y<=0.5] = 0\n",
        "    # Accuracy on the training set.\n",
        "\n",
        "    acc = torch.sum(pred_y.flatten() == y_test) / len(y_test)\n",
        "    print(\"Accuracy:\", acc)\n",
        "    # Add the accuracy score to the list\n",
        "    accuracy_scores.append(acc)\n",
        "\n",
        "  print(\"Average accuracy:\", np.mean(accuracy_scores))"
      ]
    },
    {
      "cell_type": "code",
      "execution_count": null,
      "metadata": {
        "id": "In5nmn84sye6"
      },
      "outputs": [],
      "source": []
    },
    {
      "cell_type": "markdown",
      "metadata": {
        "id": "julJoUj97ukz"
      },
      "source": [
        "I tried the following combinations of learning parameters\n",
        "\n"
      ]
    },
    {
      "cell_type": "code",
      "execution_count": null,
      "metadata": {
        "id": "eZupn_jBcZc8"
      },
      "outputs": [],
      "source": [
        "class SiameseNetwork(nn.Module):\n",
        "    def __init__(self, embedding_dim):\n",
        "        super(SiameseNetwork, self).__init__()\n",
        "        self.embedding = nn.Embedding(200000, embedding_dim)\n",
        "\n",
        "        # The input to the linear layer is the embedding dimension (embedding_dim)\n",
        "        # multiplied by the length of the input sequence. Assuming the input\n",
        "        # sequence has 5 words, and embedding_dim is 8, the input size would be 40 (8*5).\n",
        "        # Change `in_features` to reflect the actual size of the input to the linear layer.\n",
        "        self.ln1 = nn.Linear(embedding_dim * 5, 16)  # Adjust in_features to match embedding_dim * sequence_length\n",
        "        self.ln2 = nn.Linear(16, 8)\n",
        "        self.ln3 = nn.Linear(8, 1)\n",
        "\n",
        "    def forward(self, x):\n",
        "        x1 = x[:5]\n",
        "        x2 = x[5:]\n",
        "        x1 = self.embedding(x1)\n",
        "        x2 = self.embedding(x2)\n",
        "\n",
        "        # Reshape to (batch_size, embedding_dim * sequence_length)\n",
        "        x1 = x1.view(x1.size(0), -1)\n",
        "        x2 = x2.view(x2.size(0), -1)\n",
        "\n",
        "        x1 = self.ln1(x1)\n",
        "        x1 = F.relu(x1)\n",
        "        x2 = self.ln1(x2)\n",
        "        x2 = F.relu(x2)\n",
        "        x = torch.abs(x1 - x2)\n",
        "        x = self.ln2(x)\n",
        "        x = F.relu(x)\n",
        "        x = self.ln3(x)\n",
        "        x = torch.sigmoid(x)\n",
        "        return x"
      ]
    },
    {
      "cell_type": "code",
      "execution_count": null,
      "metadata": {
        "id": "LtFlzpPR316G",
        "colab": {
          "base_uri": "https://localhost:8080/",
          "height": 139
        },
        "outputId": "444207f0-e688-4441-e737-3ed1a6a15dfe"
      },
      "outputs": [
        {
          "output_type": "error",
          "ename": "NameError",
          "evalue": "name 'lolX' is not defined",
          "traceback": [
            "\u001b[0;31m---------------------------------------------------------------------------\u001b[0m",
            "\u001b[0;31mNameError\u001b[0m                                 Traceback (most recent call last)",
            "\u001b[0;32m<ipython-input-101-3afec35ccb4d>\u001b[0m in \u001b[0;36m<cell line: 0>\u001b[0;34m()\u001b[0m\n\u001b[0;32m----> 1\u001b[0;31m \u001b[0mrun_model\u001b[0m\u001b[0;34m(\u001b[0m\u001b[0mNet\u001b[0m\u001b[0;34m,\u001b[0m \u001b[0mlolX\u001b[0m\u001b[0;34m,\u001b[0m \u001b[0mloly\u001b[0m\u001b[0;34m,\u001b[0m \u001b[0;36m8\u001b[0m\u001b[0;34m)\u001b[0m\u001b[0;34m\u001b[0m\u001b[0;34m\u001b[0m\u001b[0m\n\u001b[0m",
            "\u001b[0;31mNameError\u001b[0m: name 'lolX' is not defined"
          ]
        }
      ],
      "source": [
        "run_model(Net, lolX, loly, 8)"
      ]
    },
    {
      "cell_type": "code",
      "execution_count": null,
      "metadata": {
        "id": "E-FuNi9_4swk",
        "colab": {
          "base_uri": "https://localhost:8080/",
          "height": 282
        },
        "outputId": "b8d343a0-ee5b-42b4-f856-35655e62d02a"
      },
      "outputs": [
        {
          "output_type": "error",
          "ename": "RuntimeError",
          "evalue": "mat1 and mat2 shapes cannot be multiplied (5x160 and 40x16)",
          "traceback": [
            "\u001b[0;31m---------------------------------------------------------------------------\u001b[0m",
            "\u001b[0;31mRuntimeError\u001b[0m                              Traceback (most recent call last)",
            "\u001b[0;32m<ipython-input-102-b033caac0017>\u001b[0m in \u001b[0;36m<cell line: 0>\u001b[0;34m()\u001b[0m\n\u001b[0;32m----> 1\u001b[0;31m \u001b[0mrun_model\u001b[0m\u001b[0;34m(\u001b[0m\u001b[0mSiameseNetwork\u001b[0m\u001b[0;34m,\u001b[0m \u001b[0mX\u001b[0m\u001b[0;34m,\u001b[0m \u001b[0my\u001b[0m\u001b[0;34m,\u001b[0m \u001b[0;36m8\u001b[0m\u001b[0;34m)\u001b[0m\u001b[0;34m\u001b[0m\u001b[0;34m\u001b[0m\u001b[0m\n\u001b[0m",
            "\u001b[0;32m<ipython-input-99-0d75395bad74>\u001b[0m in \u001b[0;36mrun_model\u001b[0;34m(model, X, y, embedding_dim)\u001b[0m\n\u001b[1;32m     26\u001b[0m         \u001b[0;31m#TODO try minibatch\u001b[0m\u001b[0;34m\u001b[0m\u001b[0;34m\u001b[0m\u001b[0m\n\u001b[1;32m     27\u001b[0m         \u001b[0;31m#pred_y = net(X_train.long())\u001b[0m\u001b[0;34m\u001b[0m\u001b[0;34m\u001b[0m\u001b[0m\n\u001b[0;32m---> 28\u001b[0;31m         \u001b[0mpred_y\u001b[0m \u001b[0;34m=\u001b[0m \u001b[0mnet\u001b[0m\u001b[0;34m(\u001b[0m\u001b[0mX_train\u001b[0m\u001b[0;34m)\u001b[0m\u001b[0;34m\u001b[0m\u001b[0;34m\u001b[0m\u001b[0m\n\u001b[0m\u001b[1;32m     29\u001b[0m \u001b[0;34m\u001b[0m\u001b[0m\n\u001b[1;32m     30\u001b[0m         \u001b[0;31m# Calculate the loss\u001b[0m\u001b[0;34m\u001b[0m\u001b[0;34m\u001b[0m\u001b[0m\n",
            "\u001b[0;32m/usr/local/lib/python3.11/dist-packages/torch/nn/modules/module.py\u001b[0m in \u001b[0;36m_wrapped_call_impl\u001b[0;34m(self, *args, **kwargs)\u001b[0m\n\u001b[1;32m   1737\u001b[0m             \u001b[0;32mreturn\u001b[0m \u001b[0mself\u001b[0m\u001b[0;34m.\u001b[0m\u001b[0m_compiled_call_impl\u001b[0m\u001b[0;34m(\u001b[0m\u001b[0;34m*\u001b[0m\u001b[0margs\u001b[0m\u001b[0;34m,\u001b[0m \u001b[0;34m**\u001b[0m\u001b[0mkwargs\u001b[0m\u001b[0;34m)\u001b[0m  \u001b[0;31m# type: ignore[misc]\u001b[0m\u001b[0;34m\u001b[0m\u001b[0;34m\u001b[0m\u001b[0m\n\u001b[1;32m   1738\u001b[0m         \u001b[0;32melse\u001b[0m\u001b[0;34m:\u001b[0m\u001b[0;34m\u001b[0m\u001b[0;34m\u001b[0m\u001b[0m\n\u001b[0;32m-> 1739\u001b[0;31m             \u001b[0;32mreturn\u001b[0m \u001b[0mself\u001b[0m\u001b[0;34m.\u001b[0m\u001b[0m_call_impl\u001b[0m\u001b[0;34m(\u001b[0m\u001b[0;34m*\u001b[0m\u001b[0margs\u001b[0m\u001b[0;34m,\u001b[0m \u001b[0;34m**\u001b[0m\u001b[0mkwargs\u001b[0m\u001b[0;34m)\u001b[0m\u001b[0;34m\u001b[0m\u001b[0;34m\u001b[0m\u001b[0m\n\u001b[0m\u001b[1;32m   1740\u001b[0m \u001b[0;34m\u001b[0m\u001b[0m\n\u001b[1;32m   1741\u001b[0m     \u001b[0;31m# torchrec tests the code consistency with the following code\u001b[0m\u001b[0;34m\u001b[0m\u001b[0;34m\u001b[0m\u001b[0m\n",
            "\u001b[0;32m/usr/local/lib/python3.11/dist-packages/torch/nn/modules/module.py\u001b[0m in \u001b[0;36m_call_impl\u001b[0;34m(self, *args, **kwargs)\u001b[0m\n\u001b[1;32m   1748\u001b[0m                 \u001b[0;32mor\u001b[0m \u001b[0m_global_backward_pre_hooks\u001b[0m \u001b[0;32mor\u001b[0m \u001b[0m_global_backward_hooks\u001b[0m\u001b[0;34m\u001b[0m\u001b[0;34m\u001b[0m\u001b[0m\n\u001b[1;32m   1749\u001b[0m                 or _global_forward_hooks or _global_forward_pre_hooks):\n\u001b[0;32m-> 1750\u001b[0;31m             \u001b[0;32mreturn\u001b[0m \u001b[0mforward_call\u001b[0m\u001b[0;34m(\u001b[0m\u001b[0;34m*\u001b[0m\u001b[0margs\u001b[0m\u001b[0;34m,\u001b[0m \u001b[0;34m**\u001b[0m\u001b[0mkwargs\u001b[0m\u001b[0;34m)\u001b[0m\u001b[0;34m\u001b[0m\u001b[0;34m\u001b[0m\u001b[0m\n\u001b[0m\u001b[1;32m   1751\u001b[0m \u001b[0;34m\u001b[0m\u001b[0m\n\u001b[1;32m   1752\u001b[0m         \u001b[0mresult\u001b[0m \u001b[0;34m=\u001b[0m \u001b[0;32mNone\u001b[0m\u001b[0;34m\u001b[0m\u001b[0;34m\u001b[0m\u001b[0m\n",
            "\u001b[0;32m<ipython-input-100-4c851cfa0596>\u001b[0m in \u001b[0;36mforward\u001b[0;34m(self, x)\u001b[0m\n\u001b[1;32m     22\u001b[0m         \u001b[0mx2\u001b[0m \u001b[0;34m=\u001b[0m \u001b[0mx2\u001b[0m\u001b[0;34m.\u001b[0m\u001b[0mview\u001b[0m\u001b[0;34m(\u001b[0m\u001b[0mx2\u001b[0m\u001b[0;34m.\u001b[0m\u001b[0msize\u001b[0m\u001b[0;34m(\u001b[0m\u001b[0;36m0\u001b[0m\u001b[0;34m)\u001b[0m\u001b[0;34m,\u001b[0m \u001b[0;34m-\u001b[0m\u001b[0;36m1\u001b[0m\u001b[0;34m)\u001b[0m\u001b[0;34m\u001b[0m\u001b[0;34m\u001b[0m\u001b[0m\n\u001b[1;32m     23\u001b[0m \u001b[0;34m\u001b[0m\u001b[0m\n\u001b[0;32m---> 24\u001b[0;31m         \u001b[0mx1\u001b[0m \u001b[0;34m=\u001b[0m \u001b[0mself\u001b[0m\u001b[0;34m.\u001b[0m\u001b[0mln1\u001b[0m\u001b[0;34m(\u001b[0m\u001b[0mx1\u001b[0m\u001b[0;34m)\u001b[0m\u001b[0;34m\u001b[0m\u001b[0;34m\u001b[0m\u001b[0m\n\u001b[0m\u001b[1;32m     25\u001b[0m         \u001b[0mx1\u001b[0m \u001b[0;34m=\u001b[0m \u001b[0mF\u001b[0m\u001b[0;34m.\u001b[0m\u001b[0mrelu\u001b[0m\u001b[0;34m(\u001b[0m\u001b[0mx1\u001b[0m\u001b[0;34m)\u001b[0m\u001b[0;34m\u001b[0m\u001b[0;34m\u001b[0m\u001b[0m\n\u001b[1;32m     26\u001b[0m         \u001b[0mx2\u001b[0m \u001b[0;34m=\u001b[0m \u001b[0mself\u001b[0m\u001b[0;34m.\u001b[0m\u001b[0mln1\u001b[0m\u001b[0;34m(\u001b[0m\u001b[0mx2\u001b[0m\u001b[0;34m)\u001b[0m\u001b[0;34m\u001b[0m\u001b[0;34m\u001b[0m\u001b[0m\n",
            "\u001b[0;32m/usr/local/lib/python3.11/dist-packages/torch/nn/modules/module.py\u001b[0m in \u001b[0;36m_wrapped_call_impl\u001b[0;34m(self, *args, **kwargs)\u001b[0m\n\u001b[1;32m   1737\u001b[0m             \u001b[0;32mreturn\u001b[0m \u001b[0mself\u001b[0m\u001b[0;34m.\u001b[0m\u001b[0m_compiled_call_impl\u001b[0m\u001b[0;34m(\u001b[0m\u001b[0;34m*\u001b[0m\u001b[0margs\u001b[0m\u001b[0;34m,\u001b[0m \u001b[0;34m**\u001b[0m\u001b[0mkwargs\u001b[0m\u001b[0;34m)\u001b[0m  \u001b[0;31m# type: ignore[misc]\u001b[0m\u001b[0;34m\u001b[0m\u001b[0;34m\u001b[0m\u001b[0m\n\u001b[1;32m   1738\u001b[0m         \u001b[0;32melse\u001b[0m\u001b[0;34m:\u001b[0m\u001b[0;34m\u001b[0m\u001b[0;34m\u001b[0m\u001b[0m\n\u001b[0;32m-> 1739\u001b[0;31m             \u001b[0;32mreturn\u001b[0m \u001b[0mself\u001b[0m\u001b[0;34m.\u001b[0m\u001b[0m_call_impl\u001b[0m\u001b[0;34m(\u001b[0m\u001b[0;34m*\u001b[0m\u001b[0margs\u001b[0m\u001b[0;34m,\u001b[0m \u001b[0;34m**\u001b[0m\u001b[0mkwargs\u001b[0m\u001b[0;34m)\u001b[0m\u001b[0;34m\u001b[0m\u001b[0;34m\u001b[0m\u001b[0m\n\u001b[0m\u001b[1;32m   1740\u001b[0m \u001b[0;34m\u001b[0m\u001b[0m\n\u001b[1;32m   1741\u001b[0m     \u001b[0;31m# torchrec tests the code consistency with the following code\u001b[0m\u001b[0;34m\u001b[0m\u001b[0;34m\u001b[0m\u001b[0m\n",
            "\u001b[0;32m/usr/local/lib/python3.11/dist-packages/torch/nn/modules/module.py\u001b[0m in \u001b[0;36m_call_impl\u001b[0;34m(self, *args, **kwargs)\u001b[0m\n\u001b[1;32m   1748\u001b[0m                 \u001b[0;32mor\u001b[0m \u001b[0m_global_backward_pre_hooks\u001b[0m \u001b[0;32mor\u001b[0m \u001b[0m_global_backward_hooks\u001b[0m\u001b[0;34m\u001b[0m\u001b[0;34m\u001b[0m\u001b[0m\n\u001b[1;32m   1749\u001b[0m                 or _global_forward_hooks or _global_forward_pre_hooks):\n\u001b[0;32m-> 1750\u001b[0;31m             \u001b[0;32mreturn\u001b[0m \u001b[0mforward_call\u001b[0m\u001b[0;34m(\u001b[0m\u001b[0;34m*\u001b[0m\u001b[0margs\u001b[0m\u001b[0;34m,\u001b[0m \u001b[0;34m**\u001b[0m\u001b[0mkwargs\u001b[0m\u001b[0;34m)\u001b[0m\u001b[0;34m\u001b[0m\u001b[0;34m\u001b[0m\u001b[0m\n\u001b[0m\u001b[1;32m   1751\u001b[0m \u001b[0;34m\u001b[0m\u001b[0m\n\u001b[1;32m   1752\u001b[0m         \u001b[0mresult\u001b[0m \u001b[0;34m=\u001b[0m \u001b[0;32mNone\u001b[0m\u001b[0;34m\u001b[0m\u001b[0;34m\u001b[0m\u001b[0m\n",
            "\u001b[0;32m/usr/local/lib/python3.11/dist-packages/torch/nn/modules/linear.py\u001b[0m in \u001b[0;36mforward\u001b[0;34m(self, input)\u001b[0m\n\u001b[1;32m    123\u001b[0m \u001b[0;34m\u001b[0m\u001b[0m\n\u001b[1;32m    124\u001b[0m     \u001b[0;32mdef\u001b[0m \u001b[0mforward\u001b[0m\u001b[0;34m(\u001b[0m\u001b[0mself\u001b[0m\u001b[0;34m,\u001b[0m \u001b[0minput\u001b[0m\u001b[0;34m:\u001b[0m \u001b[0mTensor\u001b[0m\u001b[0;34m)\u001b[0m \u001b[0;34m->\u001b[0m \u001b[0mTensor\u001b[0m\u001b[0;34m:\u001b[0m\u001b[0;34m\u001b[0m\u001b[0;34m\u001b[0m\u001b[0m\n\u001b[0;32m--> 125\u001b[0;31m         \u001b[0;32mreturn\u001b[0m \u001b[0mF\u001b[0m\u001b[0;34m.\u001b[0m\u001b[0mlinear\u001b[0m\u001b[0;34m(\u001b[0m\u001b[0minput\u001b[0m\u001b[0;34m,\u001b[0m \u001b[0mself\u001b[0m\u001b[0;34m.\u001b[0m\u001b[0mweight\u001b[0m\u001b[0;34m,\u001b[0m \u001b[0mself\u001b[0m\u001b[0;34m.\u001b[0m\u001b[0mbias\u001b[0m\u001b[0;34m)\u001b[0m\u001b[0;34m\u001b[0m\u001b[0;34m\u001b[0m\u001b[0m\n\u001b[0m\u001b[1;32m    126\u001b[0m \u001b[0;34m\u001b[0m\u001b[0m\n\u001b[1;32m    127\u001b[0m     \u001b[0;32mdef\u001b[0m \u001b[0mextra_repr\u001b[0m\u001b[0;34m(\u001b[0m\u001b[0mself\u001b[0m\u001b[0;34m)\u001b[0m \u001b[0;34m->\u001b[0m \u001b[0mstr\u001b[0m\u001b[0;34m:\u001b[0m\u001b[0;34m\u001b[0m\u001b[0;34m\u001b[0m\u001b[0m\n",
            "\u001b[0;31mRuntimeError\u001b[0m: mat1 and mat2 shapes cannot be multiplied (5x160 and 40x16)"
          ]
        }
      ],
      "source": [
        "run_model(SiameseNetwork, X, y, 8)"
      ]
    },
    {
      "cell_type": "code",
      "execution_count": null,
      "metadata": {
        "id": "-aVaDLL3y2SX",
        "colab": {
          "base_uri": "https://localhost:8080/",
          "height": 139
        },
        "outputId": "a7e342eb-bbec-45ee-ecfd-ab9b192c0056"
      },
      "outputs": [
        {
          "output_type": "error",
          "ename": "NameError",
          "evalue": "name 'lolX' is not defined",
          "traceback": [
            "\u001b[0;31m---------------------------------------------------------------------------\u001b[0m",
            "\u001b[0;31mNameError\u001b[0m                                 Traceback (most recent call last)",
            "\u001b[0;32m<ipython-input-103-615ffd341664>\u001b[0m in \u001b[0;36m<cell line: 0>\u001b[0;34m()\u001b[0m\n\u001b[0;32m----> 1\u001b[0;31m \u001b[0mrun_model\u001b[0m\u001b[0;34m(\u001b[0m\u001b[0mTransformerModel\u001b[0m\u001b[0;34m,\u001b[0m \u001b[0mlolX\u001b[0m\u001b[0;34m,\u001b[0m \u001b[0mloly\u001b[0m\u001b[0;34m,\u001b[0m \u001b[0;36m8\u001b[0m\u001b[0;34m)\u001b[0m\u001b[0;34m\u001b[0m\u001b[0;34m\u001b[0m\u001b[0m\n\u001b[0m",
            "\u001b[0;31mNameError\u001b[0m: name 'lolX' is not defined"
          ]
        }
      ],
      "source": [
        "run_model(TransformerModel, lolX, loly, 8)"
      ]
    },
    {
      "cell_type": "markdown",
      "metadata": {
        "id": "LCgCumv5AGfa"
      },
      "source": [
        "#END OF FILE"
      ]
    },
    {
      "cell_type": "markdown",
      "metadata": {
        "id": "ZOLuoLaXYN8C"
      },
      "source": [
        "Use the following code to salvage on the output if google disconnects you when your colab takes too long."
      ]
    },
    {
      "cell_type": "code",
      "execution_count": null,
      "metadata": {
        "id": "-874VWm_fEhO",
        "colab": {
          "base_uri": "https://localhost:8080/",
          "height": 207
        },
        "outputId": "6e4a2f86-9acd-4105-faa8-ba4405bb8ce9"
      },
      "outputs": [
        {
          "output_type": "error",
          "ename": "FileNotFoundError",
          "evalue": "[Errno 2] No such file or directory: '2.txt'",
          "traceback": [
            "\u001b[0;31m---------------------------------------------------------------------------\u001b[0m",
            "\u001b[0;31mFileNotFoundError\u001b[0m                         Traceback (most recent call last)",
            "\u001b[0;32m<ipython-input-104-309a89c91f59>\u001b[0m in \u001b[0;36m<cell line: 0>\u001b[0;34m()\u001b[0m\n\u001b[1;32m      2\u001b[0m \u001b[0;34m\u001b[0m\u001b[0m\n\u001b[1;32m      3\u001b[0m \u001b[0mlog_output\u001b[0m \u001b[0;34m=\u001b[0m \u001b[0;34m\"\"\u001b[0m\u001b[0;34m\u001b[0m\u001b[0;34m\u001b[0m\u001b[0m\n\u001b[0;32m----> 4\u001b[0;31m \u001b[0;32mwith\u001b[0m \u001b[0mopen\u001b[0m\u001b[0;34m(\u001b[0m\u001b[0;34m\"2.txt\"\u001b[0m\u001b[0;34m,\u001b[0m \u001b[0;34m\"r\"\u001b[0m\u001b[0;34m)\u001b[0m \u001b[0;32mas\u001b[0m \u001b[0mfile\u001b[0m\u001b[0;34m:\u001b[0m\u001b[0;34m\u001b[0m\u001b[0;34m\u001b[0m\u001b[0m\n\u001b[0m\u001b[1;32m      5\u001b[0m     \u001b[0mlog_output\u001b[0m \u001b[0;34m=\u001b[0m \u001b[0mfile\u001b[0m\u001b[0;34m.\u001b[0m\u001b[0mread\u001b[0m\u001b[0;34m(\u001b[0m\u001b[0;34m)\u001b[0m\u001b[0;34m\u001b[0m\u001b[0;34m\u001b[0m\u001b[0m\n\u001b[1;32m      6\u001b[0m \u001b[0mlog_output\u001b[0m\u001b[0;34m\u001b[0m\u001b[0;34m\u001b[0m\u001b[0m\n",
            "\u001b[0;31mFileNotFoundError\u001b[0m: [Errno 2] No such file or directory: '2.txt'"
          ]
        }
      ],
      "source": [
        "# prompt: read the new 2.txt file into log_output\n",
        "\n",
        "log_output = \"\"\n",
        "with open(\"2.txt\", \"r\") as file:\n",
        "    log_output = file.read()\n",
        "log_output"
      ]
    },
    {
      "cell_type": "code",
      "execution_count": null,
      "metadata": {
        "id": "ApBJ-Ep2ew21",
        "colab": {
          "base_uri": "https://localhost:8080/"
        },
        "outputId": "c3884a49-9306-464e-cc8b-383db20c1056"
      },
      "outputs": [
        {
          "output_type": "stream",
          "name": "stdout",
          "text": [
            "Average Accuracy: {np.float64(nan)}\n",
            "Average Precision: {np.float64(nan)}\n",
            "Average Recall: {np.float64(nan)}\n",
            "Average F1-score: {np.float64(nan)}\n"
          ]
        },
        {
          "output_type": "stream",
          "name": "stderr",
          "text": [
            "/usr/local/lib/python3.11/dist-packages/numpy/_core/fromnumeric.py:3596: RuntimeWarning: Mean of empty slice.\n",
            "  return _methods._mean(a, axis=axis, dtype=dtype,\n",
            "/usr/local/lib/python3.11/dist-packages/numpy/_core/_methods.py:138: RuntimeWarning: invalid value encountered in scalar divide\n",
            "  ret = ret.dtype.type(ret / rcount)\n"
          ]
        }
      ],
      "source": [
        "import re\n",
        "import numpy as np\n",
        "\n",
        "\n",
        "\n",
        "# Regular expressions to capture the scores\n",
        "accuracy_pattern = re.compile(r\"Accuracy: ([\\d.]+)\")\n",
        "precision_pattern = re.compile(r\"Precision: ([\\d.]+)\")\n",
        "recall_pattern = re.compile(r\"Recall: ([\\d.]+)\")\n",
        "f1_score_pattern = re.compile(r\"F1-score: ([\\d.]+)\")\n",
        "\n",
        "# Extract scores\n",
        "accuracies = accuracy_pattern.findall(log_output)\n",
        "precisions = precision_pattern.findall(log_output)\n",
        "recalls = recall_pattern.findall(log_output)\n",
        "f1_scores = f1_score_pattern.findall(log_output)\n",
        "\n",
        "# Print the results\n",
        "for i in range(len(accuracies)):\n",
        "    print(f\"Run {i+1}:\")\n",
        "    print(f\"  Accuracy: {accuracies[i]}\")\n",
        "    print(f\"  Precision: {precisions[i]}\")\n",
        "    print(f\"  Recall: {recalls[i]}\")\n",
        "    print(f\"  F1-score: {f1_scores[i]}\")\n",
        "\n",
        "#convert accuracies to list of number\n",
        "accuracies = [float(acc) for acc in accuracies]\n",
        "precisions = [float(prec) for prec in precisions]\n",
        "recalls = [float(rec) for rec in recalls]\n",
        "f1_scores = [float(f1) for f1 in f1_scores]\n",
        "\n",
        "print( \"Average Accuracy:\", {np.mean(accuracies)})\n",
        "print( \"Average Precision:\", {np.mean(precisions)})\n",
        "print( \"Average Recall:\", {np.mean(recalls)})\n",
        "print( \"Average F1-score:\", {np.mean(f1_scores)})"
      ]
    }
  ],
  "metadata": {
    "accelerator": "GPU",
    "colab": {
      "gpuType": "T4",
      "provenance": [],
      "include_colab_link": true
    },
    "kernelspec": {
      "display_name": "Python 3",
      "name": "python3"
    },
    "language_info": {
      "name": "python"
    }
  },
  "nbformat": 4,
  "nbformat_minor": 0
}